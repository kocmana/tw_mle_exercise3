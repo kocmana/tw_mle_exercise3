{
 "cells": [
  {
   "cell_type": "markdown",
   "source": [
    "# MLE - Exercise 3 - Kaggle Competition\n",
    "## Andreas Kocman (se19m024)\n",
    "\n",
    "\n",
    "This exercise is in the form of a Kaggle competition. A few quick details on Kaggle & the competition format:\n",
    "\n",
    "## Kaggle\n",
    "* Kaggle (https://en.wikipedia.org/wiki/Kaggle) is a platform that allows a competition for a certain data set. Participants submit their prediction on a test set, and will get automated scoring on their results, and will enter the leaderboard.\n",
    "* From Kaggle, you will be able to obtain a labelled training set, and an unlabelled test set.\n",
    "* You can submit multiple entries to Kaggle; for each entry, you need to provide details on how you achieved the results - which software and which version of the software, which operating system, which algorithms, and which parameter settings for these algorithms; further, any processing applied to the data before training/predicting. There is a specific \"description\" field when submitting, you should fill in this information there, and you also need to include this description and the actual submission file in your final submission to Moodle.\n",
    "* To submit to Kaggle, you need to create a specific submission file, which contains the predictions you obtain on the test set. Computing an aggregated evaluation criterion is done automatically by Kaggle\n",
    "* The format of your submission is rather simple - it is a comma-separated file, where the first column is the identifier of the item that you are predicting, and the second column is the class you are predicting for that item. The first line should include a header, and is should use the names provided in the training set. An example is below:\n",
    "```\n",
    "ID,class\n",
    "911366,B\n",
    "852781,B\n",
    "89524,B\n",
    "857438,B\n",
    "905686,B\n",
    "```\n",
    "* There is a limit of 7 submissions per day; finally, you also need to select your top 7 submissions to be counted in the competition\n",
    "* Before you submit, you should evaluate the classifiers \"locally\" on your training set, i.e. by splitting that again in a training & test set (or using cross validation), to select a number of fitting algorithms & parameters. Then re-train your best models on the full local training set, and generate the predictions for the test set.\n",
    "* Evaluation in Kaggle is split in two types of leaderboards - the private and public one. Here, the data is split into 50% / 50%, and as soon as you upload, you will know your results on one of these splits.\n",
    "* The final results will only be visible once the competition closes, and as it is computed on a different split, might be slightly different than what you see initially (e.g. this is similar to a training/test/validation split)\n",
    "* As it is a competition, there will be bonus points for the top 3 submissions.\n",
    "* As reproducible science is great, there will be additional bonus points for submissions that use a notebook within the Kaggle competition (note: this was / partially still is called a \"kernel\" inside the Kaggle competition; Kernel obviously was a confusing term here, as it basically refers to code being executed in the environment of Kaggle itself (e.g. a jupyter notebook, or also a python or R script), and they seem to have realized that, and renamed it). see https://www.kaggle.com/notebooks or https://www.kaggle.com/getting-started/44939. You can first work locally, and then port your code to the notebook version. In Kaggle, your notebook will initially be private. Please share it with me (mayer@ifs.tuwien.ac.at), at least, though. You can also make it public at the end of the competition, to show off :-)\n",
    "\n",
    "## Datasets\n",
    "We will use the following datasets:\n",
    "* Congressional Voting: a small dataset, a good entry point for your experiments (435 instances, 16 features)\n",
    "  * Kaggle page: https://www.kaggle.com/t/c04c953c596e48099d857129f53fcbdb\n",
    "* Amazon reviews: a dataset with many features (10k, extracted from text), but not that many instances (~800)\n",
    "  * Kaggle page: https://www.kaggle.com/t/0bd2ac297dc242478b5979d5ee772136\n",
    "\n",
    "## Submission\n",
    "The Kaggle competition will close on the day displayed in Kaggle. After that, you still have time to submit to Moodle. Your submission to Moodle shall contain:\n",
    "\n",
    "* A brief report, containing\n",
    "  * A description of the datasets, including a short analysis of the features.\n",
    "  * Details on the software you used for creating your solution\n",
    "  * The algorithms and parameters you tried\n",
    "  * The results you obtained on the locally split training/test set\n",
    "    * And a comparison to the results that you received on Kaggle - how large was the difference, did the rank of the classifiers change (i.e. the first on your training set, was it still the best on the test set on Kaggle?)\n",
    "* All the code needed to obtain your results\n",
    "* The solution files that you uploaded to Kaggle"
   ],
   "metadata": {
    "collapsed": false
   }
  },
  {
   "cell_type": "markdown",
   "source": [
    "# Solution\n",
    "\n",
    "## Helper Functions for Solution and Data Analysis"
   ],
   "metadata": {
    "collapsed": false,
    "pycharm": {
     "name": "#%% md\n"
    }
   }
  },
  {
   "cell_type": "code",
   "execution_count": 1,
   "metadata": {
    "pycharm": {
     "name": "#%%\n"
    }
   },
   "outputs": [],
   "source": [
    "# global Imports\n",
    "import pandas as pd\n",
    "import numpy as np\n",
    "\n",
    "#sk learn imports\n",
    "from sklearn.model_selection import train_test_split\n",
    "from sklearn.experimental import enable_iterative_imputer\n",
    "from sklearn.impute import IterativeImputer\n",
    "from sklearn import metrics\n",
    "from sklearn.model_selection import cross_validate\n",
    "from sklearn.metrics import accuracy_score\n",
    "from sklearn.metrics import precision_score\n",
    "from sklearn.metrics import recall_score\n",
    "from sklearn.metrics import make_scorer\n",
    "\n",
    "#Data reporting\n",
    "from IPython.display import display\n",
    "\n",
    "# Global definitions:\n",
    "overall_results_vote = []\n",
    "overall_results_amazon = []\n",
    "averaging_approach = 'macro'\n",
    "zero_division_approach = 0\n",
    "number_of_folds = 2\n",
    "scoring = {'Accuracy': make_scorer(accuracy_score),\n",
    "            'Precision': make_scorer(precision_score, average=averaging_approach, zero_division=zero_division_approach),\n",
    "            'Recall': make_scorer(recall_score, average=averaging_approach, zero_division=zero_division_approach)}\n",
    "\n",
    "# Helper functions\n",
    "def parse_k_fold_results(results):\n",
    "    return \"m: \" + str(np.average(results)) + \" std: \" + str(np.std(results))\n",
    "\n",
    "def parse_argument_tuple_as_string(argumentsTuple):\n",
    "    return \"max Depth: \" + str(argumentsTuple[0])  + \\\n",
    "           \", min Samples: \" + str(argumentsTuple[1])\n",
    "\n",
    "def calculate_results_holdout(classifier_used, X_train, X_test, y_train, y_test):\n",
    "    classifier_used.fit(X_train, y_train)\n",
    "\n",
    "    # predict the test set on our trained classifier\n",
    "    y_test_predicted = classifier_used.predict(X_test)\n",
    "\n",
    "    acc = metrics.accuracy_score(y_test, y_test_predicted)\n",
    "    recall=metrics.recall_score(y_test, y_test_predicted)\n",
    "    precision = metrics.precision_score(y_test, y_test_predicted)\n",
    "\n",
    "    return pd.Series({\n",
    "            'classifier': str(classifier_used),\n",
    "            'arguments': \"\",\n",
    "            'accuracy':acc,\n",
    "            'precision':precision,\n",
    "            'recall':recall\n",
    "        })\n",
    "\n",
    "def calculate_results_cross_validate(classifier_used, description_used, data, target):\n",
    "   scores = cross_validate(classifier_used, data, target,\n",
    "                                scoring = scoring,\n",
    "                                cv = number_of_folds,\n",
    "                                error_score = 0)\n",
    "\n",
    "   return pd.Series({\n",
    "            'classifier': str(classifier_used),\n",
    "            'arguments': description_used,\n",
    "            'mean_accuracy': np.average(scores.get('test_Accuracy')),\n",
    "            'mean_precision': np.average(scores.get('test_Precision')),\n",
    "            'mean_recall': np.average(scores.get('test_Recall')),\n",
    "            'accuracy': parse_k_fold_results(scores.get('test_Accuracy')),\n",
    "            'precision': parse_k_fold_results(scores.get('test_Precision')),\n",
    "            'recall':parse_k_fold_results(scores.get('test_Recall'))\n",
    "        })\n",
    "\n",
    "def print_results(array, column_for_max, ascending=False):\n",
    "    df = pd.DataFrame(array)\n",
    "    df = df.sort_values(by=[column_for_max], ascending=False)\n",
    "    display('Results', df)\n",
    "\n",
    "    best = df.iloc[df[column_for_max].argmax()]\n",
    "    display(best)"
   ]
  },
  {
   "cell_type": "markdown",
   "source": [
    "### Calculation Functions\n"
   ],
   "metadata": {
    "collapsed": false,
    "pycharm": {
     "name": "#%% md\n"
    }
   }
  },
  {
   "cell_type": "markdown",
   "source": [
    "#### k-NN Calculation"
   ],
   "metadata": {
    "collapsed": false
   }
  },
  {
   "cell_type": "code",
   "execution_count": 2,
   "outputs": [],
   "source": [
    "from sklearn import neighbors\n",
    "\n",
    "def calculate_knn(data, target):\n",
    "    knn_results = []\n",
    "\n",
    "    n_neighbors = range(1,10,1)\n",
    "\n",
    "    for n in n_neighbors:\n",
    "        knn_classifier = neighbors.KNeighborsClassifier(n)\n",
    "        description = \"N = \" + str(n)\n",
    "        result = calculate_results_cross_validate(knn_classifier,\n",
    "                                                  description,\n",
    "                                                  data,\n",
    "                                                  target)\n",
    "        knn_results.append(result)\n",
    "    return knn_results\n"
   ],
   "metadata": {
    "collapsed": false,
    "pycharm": {
     "name": "#%%\n"
    }
   }
  },
  {
   "cell_type": "markdown",
   "source": [
    "#### Bayes Calculation"
   ],
   "metadata": {
    "collapsed": false
   }
  },
  {
   "cell_type": "code",
   "execution_count": 3,
   "outputs": [],
   "source": [
    "from sklearn import naive_bayes\n",
    "\n",
    "def calculate_bayes(data, target):\n",
    "    bayes_results = []\n",
    "\n",
    "    alphas = np.arange(0.1,5,1)\n",
    "\n",
    "    for alpha in alphas:\n",
    "        classifier = naive_bayes.CategoricalNB(alpha = alpha)\n",
    "        description = \"Alpha = \" + str(alpha)\n",
    "        result = calculate_results_cross_validate(classifier,\n",
    "                                                  description,\n",
    "                                                  data,\n",
    "                                                  target)\n",
    "        bayes_results.append(result)\n",
    "\n",
    "    return bayes_results"
   ],
   "metadata": {
    "collapsed": false,
    "pycharm": {
     "name": "#%%\n"
    }
   }
  },
  {
   "cell_type": "markdown",
   "source": [
    "#### Perceptron Calculation"
   ],
   "metadata": {
    "collapsed": false,
    "pycharm": {
     "name": "#%% md\n",
     "is_executing": true
    }
   }
  },
  {
   "cell_type": "code",
   "execution_count": 4,
   "outputs": [],
   "source": [
    "from sklearn import linear_model\n",
    "\n",
    "def calculate_perceptron(data, target):\n",
    "    perceptron_results=[]\n",
    "    classifier = linear_model.Perceptron()\n",
    "    description = \"No additional args.\"\n",
    "    result = calculate_results_cross_validate(classifier,\n",
    "                                              description,\n",
    "                                              data,\n",
    "                                              target)\n",
    "    perceptron_results.append(result)\n",
    "    return perceptron_results"
   ],
   "metadata": {
    "collapsed": false,
    "pycharm": {
     "name": "#%%\n"
    }
   }
  },
  {
   "cell_type": "markdown",
   "source": [
    "#### Decision Tree Calculation"
   ],
   "metadata": {
    "collapsed": false
   }
  },
  {
   "cell_type": "code",
   "execution_count": 5,
   "outputs": [],
   "source": [
    "from sklearn import tree\n",
    "import itertools\n",
    "\n",
    "def calculate_decision_tree(data, target):\n",
    "    # Parameters for the decision tree\n",
    "    max_depth_arguments = range(1, 10, 2)\n",
    "    min_samples_leaf_arguments = [2,20,50,100]\n",
    "    argumentTuples = list(itertools.product(max_depth_arguments,\n",
    "                                            min_samples_leaf_arguments))\n",
    "    decision_tree_results = []\n",
    "\n",
    "    for argumentTuple in argumentTuples:\n",
    "        max_depth = argumentTuple[0]\n",
    "        min_samples_leaf = argumentTuple[1]\n",
    "\n",
    "        classifier = tree.DecisionTreeClassifier(criterion = 'gini',\n",
    "                                                 max_depth = max_depth,\n",
    "                                                 min_samples_leaf = min_samples_leaf,\n",
    "                                                 splitter = 'best')\n",
    "        #result = calculate_results_holdout(classifier, X_train, X_test, y_train, y_test)\n",
    "        result = calculate_results_cross_validate(classifier,\n",
    "                                                  parse_argument_tuple_as_string(argumentTuple),\n",
    "                                                  data,\n",
    "                                                  target)\n",
    "        decision_tree_results.append(result)\n",
    "    return decision_tree_results"
   ],
   "metadata": {
    "collapsed": false,
    "pycharm": {
     "name": "#%%\n"
    }
   }
  },
  {
   "cell_type": "markdown",
   "source": [
    "#### SVM Calculation"
   ],
   "metadata": {
    "collapsed": false
   }
  },
  {
   "cell_type": "code",
   "execution_count": 6,
   "outputs": [],
   "source": [
    "from sklearn import svm\n",
    "import itertools\n",
    "\n",
    "def calculate_svm(data, target):\n",
    "    kernels = {\"linear\", \"poly\", \"sigmoid\", \"rbf\"}\n",
    "    gamma = [0.001] #numpy.arange(0.001, 1., 0.1)\n",
    "    gamma.append (\"scale\")\n",
    "    gamma.append (\"auto\")\n",
    "    c = range(1, 302, 100)\n",
    "    argumentTuples = list(itertools.product(kernels,\n",
    "                                            gamma,\n",
    "                                            c))\n",
    "    svm_results = []\n",
    "\n",
    "    for argumentTuple in argumentTuples:\n",
    "        kernel = argumentTuple[0]\n",
    "        gamma = argumentTuple[1]\n",
    "        c = argumentTuple[2]\n",
    "\n",
    "        classifier = svm.SVC(kernel = kernel, gamma=gamma, C=c)\n",
    "\n",
    "        #result = calculate_results_holdout(classifier, X_train, X_test, y_train, y_test)\n",
    "        result = calculate_results_cross_validate(classifier,\n",
    "                                                  \"Kernel: \" + kernel,\n",
    "                                                  data,\n",
    "                                                  target)\n",
    "        svm_results.append(result)\n",
    "    return svm_results"
   ],
   "metadata": {
    "collapsed": false,
    "pycharm": {
     "name": "#%%\n"
    }
   }
  },
  {
   "cell_type": "markdown",
   "metadata": {},
   "source": [
    "## Congressional Voting"
   ]
  },
  {
   "cell_type": "code",
   "execution_count": 7,
   "metadata": {
    "pycharm": {
     "name": "#%%\n"
    }
   },
   "outputs": [
    {
     "data": {
      "text/plain": "'Original Data'"
     },
     "metadata": {},
     "output_type": "display_data"
    },
    {
     "data": {
      "text/plain": "      ID       class handicapped-infants water-project-cost-sharing  \\\n0    213    democrat                   n                          n   \n1     94    democrat                   y                          n   \n2    188    democrat                   y                          n   \n3     61    democrat                   y                          y   \n4    184    democrat                 NaN                        NaN   \n..   ...         ...                 ...                        ...   \n213  250    democrat                   y                          n   \n214   26    democrat                   y                          n   \n215  110    democrat                   y                        NaN   \n216   34  republican                   n                          y   \n217  314  republican                   n                          y   \n\n    adoption-of-the-budget-resolution physician-fee-freeze el-salvador-aid  \\\n0                                   y                    n               n   \n1                                   y                    n               n   \n2                                   y                    n               n   \n3                                   y                    n               n   \n4                                 NaN                  NaN             NaN   \n..                                ...                  ...             ...   \n213                                 y                    n               n   \n214                                 y                    n               n   \n215                                 y                    n               n   \n216                                 n                    y               y   \n217                                 y                    y               y   \n\n    religious-groups-in-schools anti-satellite-test-ban  \\\n0                             n                       y   \n1                             n                       y   \n2                             n                       y   \n3                           NaN                       y   \n4                           NaN                     NaN   \n..                          ...                     ...   \n213                           n                       y   \n214                           n                       y   \n215                           n                       y   \n216                           y                       n   \n217                           y                       n   \n\n    aid-to-nicaraguan-contras mx-missile immigration  \\\n0                           y          y           n   \n1                           n          y           y   \n2                           y          y           n   \n3                           y          y           y   \n4                         NaN          y         NaN   \n..                        ...        ...         ...   \n213                         y        NaN           n   \n214                         y          y           y   \n215                         y          y           n   \n216                         n          n           n   \n217                         n          n           y   \n\n    synfuels-crporation-cutback education-spending superfund-right-to-sue  \\\n0                             y                  n                      n   \n1                             y                  n                      n   \n2                             n                  n                      n   \n3                             n                  n                      n   \n4                           NaN                NaN                    NaN   \n..                          ...                ...                    ...   \n213                           y                  n                      n   \n214                           n                  n                      n   \n215                           n                  n                      n   \n216                           n                  y                      y   \n217                           n                  y                      y   \n\n    crime duty-free-exports export-administration-act-south-africa  \n0       n                 y                                      y  \n1       n                 y                                      y  \n2       n                 y                                    NaN  \n3       n                 y                                    NaN  \n4     NaN               NaN                                    NaN  \n..    ...               ...                                    ...  \n213     n                 y                                      y  \n214     n                 y                                      y  \n215     n                 y                                    NaN  \n216     y                 n                                      y  \n217     y                 n                                      y  \n\n[218 rows x 18 columns]",
      "text/html": "<div>\n<style scoped>\n    .dataframe tbody tr th:only-of-type {\n        vertical-align: middle;\n    }\n\n    .dataframe tbody tr th {\n        vertical-align: top;\n    }\n\n    .dataframe thead th {\n        text-align: right;\n    }\n</style>\n<table border=\"1\" class=\"dataframe\">\n  <thead>\n    <tr style=\"text-align: right;\">\n      <th></th>\n      <th>ID</th>\n      <th>class</th>\n      <th>handicapped-infants</th>\n      <th>water-project-cost-sharing</th>\n      <th>adoption-of-the-budget-resolution</th>\n      <th>physician-fee-freeze</th>\n      <th>el-salvador-aid</th>\n      <th>religious-groups-in-schools</th>\n      <th>anti-satellite-test-ban</th>\n      <th>aid-to-nicaraguan-contras</th>\n      <th>mx-missile</th>\n      <th>immigration</th>\n      <th>synfuels-crporation-cutback</th>\n      <th>education-spending</th>\n      <th>superfund-right-to-sue</th>\n      <th>crime</th>\n      <th>duty-free-exports</th>\n      <th>export-administration-act-south-africa</th>\n    </tr>\n  </thead>\n  <tbody>\n    <tr>\n      <th>0</th>\n      <td>213</td>\n      <td>democrat</td>\n      <td>n</td>\n      <td>n</td>\n      <td>y</td>\n      <td>n</td>\n      <td>n</td>\n      <td>n</td>\n      <td>y</td>\n      <td>y</td>\n      <td>y</td>\n      <td>n</td>\n      <td>y</td>\n      <td>n</td>\n      <td>n</td>\n      <td>n</td>\n      <td>y</td>\n      <td>y</td>\n    </tr>\n    <tr>\n      <th>1</th>\n      <td>94</td>\n      <td>democrat</td>\n      <td>y</td>\n      <td>n</td>\n      <td>y</td>\n      <td>n</td>\n      <td>n</td>\n      <td>n</td>\n      <td>y</td>\n      <td>n</td>\n      <td>y</td>\n      <td>y</td>\n      <td>y</td>\n      <td>n</td>\n      <td>n</td>\n      <td>n</td>\n      <td>y</td>\n      <td>y</td>\n    </tr>\n    <tr>\n      <th>2</th>\n      <td>188</td>\n      <td>democrat</td>\n      <td>y</td>\n      <td>n</td>\n      <td>y</td>\n      <td>n</td>\n      <td>n</td>\n      <td>n</td>\n      <td>y</td>\n      <td>y</td>\n      <td>y</td>\n      <td>n</td>\n      <td>n</td>\n      <td>n</td>\n      <td>n</td>\n      <td>n</td>\n      <td>y</td>\n      <td>NaN</td>\n    </tr>\n    <tr>\n      <th>3</th>\n      <td>61</td>\n      <td>democrat</td>\n      <td>y</td>\n      <td>y</td>\n      <td>y</td>\n      <td>n</td>\n      <td>n</td>\n      <td>NaN</td>\n      <td>y</td>\n      <td>y</td>\n      <td>y</td>\n      <td>y</td>\n      <td>n</td>\n      <td>n</td>\n      <td>n</td>\n      <td>n</td>\n      <td>y</td>\n      <td>NaN</td>\n    </tr>\n    <tr>\n      <th>4</th>\n      <td>184</td>\n      <td>democrat</td>\n      <td>NaN</td>\n      <td>NaN</td>\n      <td>NaN</td>\n      <td>NaN</td>\n      <td>NaN</td>\n      <td>NaN</td>\n      <td>NaN</td>\n      <td>NaN</td>\n      <td>y</td>\n      <td>NaN</td>\n      <td>NaN</td>\n      <td>NaN</td>\n      <td>NaN</td>\n      <td>NaN</td>\n      <td>NaN</td>\n      <td>NaN</td>\n    </tr>\n    <tr>\n      <th>...</th>\n      <td>...</td>\n      <td>...</td>\n      <td>...</td>\n      <td>...</td>\n      <td>...</td>\n      <td>...</td>\n      <td>...</td>\n      <td>...</td>\n      <td>...</td>\n      <td>...</td>\n      <td>...</td>\n      <td>...</td>\n      <td>...</td>\n      <td>...</td>\n      <td>...</td>\n      <td>...</td>\n      <td>...</td>\n      <td>...</td>\n    </tr>\n    <tr>\n      <th>213</th>\n      <td>250</td>\n      <td>democrat</td>\n      <td>y</td>\n      <td>n</td>\n      <td>y</td>\n      <td>n</td>\n      <td>n</td>\n      <td>n</td>\n      <td>y</td>\n      <td>y</td>\n      <td>NaN</td>\n      <td>n</td>\n      <td>y</td>\n      <td>n</td>\n      <td>n</td>\n      <td>n</td>\n      <td>y</td>\n      <td>y</td>\n    </tr>\n    <tr>\n      <th>214</th>\n      <td>26</td>\n      <td>democrat</td>\n      <td>y</td>\n      <td>n</td>\n      <td>y</td>\n      <td>n</td>\n      <td>n</td>\n      <td>n</td>\n      <td>y</td>\n      <td>y</td>\n      <td>y</td>\n      <td>y</td>\n      <td>n</td>\n      <td>n</td>\n      <td>n</td>\n      <td>n</td>\n      <td>y</td>\n      <td>y</td>\n    </tr>\n    <tr>\n      <th>215</th>\n      <td>110</td>\n      <td>democrat</td>\n      <td>y</td>\n      <td>NaN</td>\n      <td>y</td>\n      <td>n</td>\n      <td>n</td>\n      <td>n</td>\n      <td>y</td>\n      <td>y</td>\n      <td>y</td>\n      <td>n</td>\n      <td>n</td>\n      <td>n</td>\n      <td>n</td>\n      <td>n</td>\n      <td>y</td>\n      <td>NaN</td>\n    </tr>\n    <tr>\n      <th>216</th>\n      <td>34</td>\n      <td>republican</td>\n      <td>n</td>\n      <td>y</td>\n      <td>n</td>\n      <td>y</td>\n      <td>y</td>\n      <td>y</td>\n      <td>n</td>\n      <td>n</td>\n      <td>n</td>\n      <td>n</td>\n      <td>n</td>\n      <td>y</td>\n      <td>y</td>\n      <td>y</td>\n      <td>n</td>\n      <td>y</td>\n    </tr>\n    <tr>\n      <th>217</th>\n      <td>314</td>\n      <td>republican</td>\n      <td>n</td>\n      <td>y</td>\n      <td>y</td>\n      <td>y</td>\n      <td>y</td>\n      <td>y</td>\n      <td>n</td>\n      <td>n</td>\n      <td>n</td>\n      <td>y</td>\n      <td>n</td>\n      <td>y</td>\n      <td>y</td>\n      <td>y</td>\n      <td>n</td>\n      <td>y</td>\n    </tr>\n  </tbody>\n</table>\n<p>218 rows × 18 columns</p>\n</div>"
     },
     "metadata": {},
     "output_type": "display_data"
    },
    {
     "name": "stderr",
     "output_type": "stream",
     "text": [
      "f:\\informatik\\tw_mle_exercise3\\venv\\lib\\site-packages\\sklearn\\impute\\_iterative.py:670: ConvergenceWarning: [IterativeImputer] Early stopping criterion not reached.\n",
      "  \" reached.\", ConvergenceWarning)\n"
     ]
    },
    {
     "data": {
      "text/plain": "'Recoded Data'"
     },
     "metadata": {},
     "output_type": "display_data"
    },
    {
     "data": {
      "text/plain": "      ID class handicapped-infants water-project-cost-sharing  \\\n0    213     2                   0                          0   \n1     94     2                   1                          0   \n2    188     2                   1                          0   \n3     61     2                   1                          1   \n4    184     2                   1                          0   \n..   ...   ...                 ...                        ...   \n213  250     2                   1                          0   \n214   26     2                   1                          0   \n215  110     2                   1                          0   \n216   34     3                   0                          1   \n217  314     3                   0                          1   \n\n    adoption-of-the-budget-resolution physician-fee-freeze el-salvador-aid  \\\n0                                   1                    0               0   \n1                                   1                    0               0   \n2                                   1                    0               0   \n3                                   1                    0               0   \n4                                   1                    0               0   \n..                                ...                  ...             ...   \n213                                 1                    0               0   \n214                                 1                    0               0   \n215                                 1                    0               0   \n216                                 0                    1               1   \n217                                 1                    1               1   \n\n    religious-groups-in-schools anti-satellite-test-ban  \\\n0                             0                       1   \n1                             0                       1   \n2                             0                       1   \n3                             0                       1   \n4                             0                       1   \n..                          ...                     ...   \n213                           0                       1   \n214                           0                       1   \n215                           0                       1   \n216                           1                       0   \n217                           1                       0   \n\n    aid-to-nicaraguan-contras mx-missile immigration  \\\n0                           1          1           0   \n1                           0          1           1   \n2                           1          1           0   \n3                           1          1           1   \n4                           1          1           1   \n..                        ...        ...         ...   \n213                         1          1           0   \n214                         1          1           1   \n215                         1          1           0   \n216                         0          0           0   \n217                         0          0           1   \n\n    synfuels-crporation-cutback education-spending superfund-right-to-sue  \\\n0                             1                  0                      0   \n1                             1                  0                      0   \n2                             0                  0                      0   \n3                             0                  0                      0   \n4                             0                  0                      0   \n..                          ...                ...                    ...   \n213                           1                  0                      0   \n214                           0                  0                      0   \n215                           0                  0                      0   \n216                           0                  1                      1   \n217                           0                  1                      1   \n\n    crime duty-free-exports export-administration-act-south-africa  \n0       0                 1                                      1  \n1       0                 1                                      1  \n2       0                 1                                      1  \n3       0                 1                                      1  \n4       0                 1                                      1  \n..    ...               ...                                    ...  \n213     0                 1                                      1  \n214     0                 1                                      1  \n215     0                 1                                      1  \n216     1                 0                                      1  \n217     1                 0                                      1  \n\n[218 rows x 18 columns]",
      "text/html": "<div>\n<style scoped>\n    .dataframe tbody tr th:only-of-type {\n        vertical-align: middle;\n    }\n\n    .dataframe tbody tr th {\n        vertical-align: top;\n    }\n\n    .dataframe thead th {\n        text-align: right;\n    }\n</style>\n<table border=\"1\" class=\"dataframe\">\n  <thead>\n    <tr style=\"text-align: right;\">\n      <th></th>\n      <th>ID</th>\n      <th>class</th>\n      <th>handicapped-infants</th>\n      <th>water-project-cost-sharing</th>\n      <th>adoption-of-the-budget-resolution</th>\n      <th>physician-fee-freeze</th>\n      <th>el-salvador-aid</th>\n      <th>religious-groups-in-schools</th>\n      <th>anti-satellite-test-ban</th>\n      <th>aid-to-nicaraguan-contras</th>\n      <th>mx-missile</th>\n      <th>immigration</th>\n      <th>synfuels-crporation-cutback</th>\n      <th>education-spending</th>\n      <th>superfund-right-to-sue</th>\n      <th>crime</th>\n      <th>duty-free-exports</th>\n      <th>export-administration-act-south-africa</th>\n    </tr>\n  </thead>\n  <tbody>\n    <tr>\n      <th>0</th>\n      <td>213</td>\n      <td>2</td>\n      <td>0</td>\n      <td>0</td>\n      <td>1</td>\n      <td>0</td>\n      <td>0</td>\n      <td>0</td>\n      <td>1</td>\n      <td>1</td>\n      <td>1</td>\n      <td>0</td>\n      <td>1</td>\n      <td>0</td>\n      <td>0</td>\n      <td>0</td>\n      <td>1</td>\n      <td>1</td>\n    </tr>\n    <tr>\n      <th>1</th>\n      <td>94</td>\n      <td>2</td>\n      <td>1</td>\n      <td>0</td>\n      <td>1</td>\n      <td>0</td>\n      <td>0</td>\n      <td>0</td>\n      <td>1</td>\n      <td>0</td>\n      <td>1</td>\n      <td>1</td>\n      <td>1</td>\n      <td>0</td>\n      <td>0</td>\n      <td>0</td>\n      <td>1</td>\n      <td>1</td>\n    </tr>\n    <tr>\n      <th>2</th>\n      <td>188</td>\n      <td>2</td>\n      <td>1</td>\n      <td>0</td>\n      <td>1</td>\n      <td>0</td>\n      <td>0</td>\n      <td>0</td>\n      <td>1</td>\n      <td>1</td>\n      <td>1</td>\n      <td>0</td>\n      <td>0</td>\n      <td>0</td>\n      <td>0</td>\n      <td>0</td>\n      <td>1</td>\n      <td>1</td>\n    </tr>\n    <tr>\n      <th>3</th>\n      <td>61</td>\n      <td>2</td>\n      <td>1</td>\n      <td>1</td>\n      <td>1</td>\n      <td>0</td>\n      <td>0</td>\n      <td>0</td>\n      <td>1</td>\n      <td>1</td>\n      <td>1</td>\n      <td>1</td>\n      <td>0</td>\n      <td>0</td>\n      <td>0</td>\n      <td>0</td>\n      <td>1</td>\n      <td>1</td>\n    </tr>\n    <tr>\n      <th>4</th>\n      <td>184</td>\n      <td>2</td>\n      <td>1</td>\n      <td>0</td>\n      <td>1</td>\n      <td>0</td>\n      <td>0</td>\n      <td>0</td>\n      <td>1</td>\n      <td>1</td>\n      <td>1</td>\n      <td>1</td>\n      <td>0</td>\n      <td>0</td>\n      <td>0</td>\n      <td>0</td>\n      <td>1</td>\n      <td>1</td>\n    </tr>\n    <tr>\n      <th>...</th>\n      <td>...</td>\n      <td>...</td>\n      <td>...</td>\n      <td>...</td>\n      <td>...</td>\n      <td>...</td>\n      <td>...</td>\n      <td>...</td>\n      <td>...</td>\n      <td>...</td>\n      <td>...</td>\n      <td>...</td>\n      <td>...</td>\n      <td>...</td>\n      <td>...</td>\n      <td>...</td>\n      <td>...</td>\n      <td>...</td>\n    </tr>\n    <tr>\n      <th>213</th>\n      <td>250</td>\n      <td>2</td>\n      <td>1</td>\n      <td>0</td>\n      <td>1</td>\n      <td>0</td>\n      <td>0</td>\n      <td>0</td>\n      <td>1</td>\n      <td>1</td>\n      <td>1</td>\n      <td>0</td>\n      <td>1</td>\n      <td>0</td>\n      <td>0</td>\n      <td>0</td>\n      <td>1</td>\n      <td>1</td>\n    </tr>\n    <tr>\n      <th>214</th>\n      <td>26</td>\n      <td>2</td>\n      <td>1</td>\n      <td>0</td>\n      <td>1</td>\n      <td>0</td>\n      <td>0</td>\n      <td>0</td>\n      <td>1</td>\n      <td>1</td>\n      <td>1</td>\n      <td>1</td>\n      <td>0</td>\n      <td>0</td>\n      <td>0</td>\n      <td>0</td>\n      <td>1</td>\n      <td>1</td>\n    </tr>\n    <tr>\n      <th>215</th>\n      <td>110</td>\n      <td>2</td>\n      <td>1</td>\n      <td>0</td>\n      <td>1</td>\n      <td>0</td>\n      <td>0</td>\n      <td>0</td>\n      <td>1</td>\n      <td>1</td>\n      <td>1</td>\n      <td>0</td>\n      <td>0</td>\n      <td>0</td>\n      <td>0</td>\n      <td>0</td>\n      <td>1</td>\n      <td>1</td>\n    </tr>\n    <tr>\n      <th>216</th>\n      <td>34</td>\n      <td>3</td>\n      <td>0</td>\n      <td>1</td>\n      <td>0</td>\n      <td>1</td>\n      <td>1</td>\n      <td>1</td>\n      <td>0</td>\n      <td>0</td>\n      <td>0</td>\n      <td>0</td>\n      <td>0</td>\n      <td>1</td>\n      <td>1</td>\n      <td>1</td>\n      <td>0</td>\n      <td>1</td>\n    </tr>\n    <tr>\n      <th>217</th>\n      <td>314</td>\n      <td>3</td>\n      <td>0</td>\n      <td>1</td>\n      <td>1</td>\n      <td>1</td>\n      <td>1</td>\n      <td>1</td>\n      <td>0</td>\n      <td>0</td>\n      <td>0</td>\n      <td>1</td>\n      <td>0</td>\n      <td>1</td>\n      <td>1</td>\n      <td>1</td>\n      <td>0</td>\n      <td>1</td>\n    </tr>\n  </tbody>\n</table>\n<p>218 rows × 18 columns</p>\n</div>"
     },
     "metadata": {},
     "output_type": "display_data"
    },
    {
     "data": {
      "text/plain": "'Data: '"
     },
     "metadata": {},
     "output_type": "display_data"
    },
    {
     "data": {
      "text/plain": "    handicapped-infants water-project-cost-sharing  \\\n0                     0                          0   \n1                     1                          0   \n2                     1                          0   \n3                     1                          1   \n4                     1                          0   \n..                  ...                        ...   \n213                   1                          0   \n214                   1                          0   \n215                   1                          0   \n216                   0                          1   \n217                   0                          1   \n\n    adoption-of-the-budget-resolution physician-fee-freeze el-salvador-aid  \\\n0                                   1                    0               0   \n1                                   1                    0               0   \n2                                   1                    0               0   \n3                                   1                    0               0   \n4                                   1                    0               0   \n..                                ...                  ...             ...   \n213                                 1                    0               0   \n214                                 1                    0               0   \n215                                 1                    0               0   \n216                                 0                    1               1   \n217                                 1                    1               1   \n\n    religious-groups-in-schools anti-satellite-test-ban  \\\n0                             0                       1   \n1                             0                       1   \n2                             0                       1   \n3                             0                       1   \n4                             0                       1   \n..                          ...                     ...   \n213                           0                       1   \n214                           0                       1   \n215                           0                       1   \n216                           1                       0   \n217                           1                       0   \n\n    aid-to-nicaraguan-contras mx-missile immigration  \\\n0                           1          1           0   \n1                           0          1           1   \n2                           1          1           0   \n3                           1          1           1   \n4                           1          1           1   \n..                        ...        ...         ...   \n213                         1          1           0   \n214                         1          1           1   \n215                         1          1           0   \n216                         0          0           0   \n217                         0          0           1   \n\n    synfuels-crporation-cutback education-spending superfund-right-to-sue  \\\n0                             1                  0                      0   \n1                             1                  0                      0   \n2                             0                  0                      0   \n3                             0                  0                      0   \n4                             0                  0                      0   \n..                          ...                ...                    ...   \n213                           1                  0                      0   \n214                           0                  0                      0   \n215                           0                  0                      0   \n216                           0                  1                      1   \n217                           0                  1                      1   \n\n    crime duty-free-exports export-administration-act-south-africa  \n0       0                 1                                      1  \n1       0                 1                                      1  \n2       0                 1                                      1  \n3       0                 1                                      1  \n4       0                 1                                      1  \n..    ...               ...                                    ...  \n213     0                 1                                      1  \n214     0                 1                                      1  \n215     0                 1                                      1  \n216     1                 0                                      1  \n217     1                 0                                      1  \n\n[218 rows x 16 columns]",
      "text/html": "<div>\n<style scoped>\n    .dataframe tbody tr th:only-of-type {\n        vertical-align: middle;\n    }\n\n    .dataframe tbody tr th {\n        vertical-align: top;\n    }\n\n    .dataframe thead th {\n        text-align: right;\n    }\n</style>\n<table border=\"1\" class=\"dataframe\">\n  <thead>\n    <tr style=\"text-align: right;\">\n      <th></th>\n      <th>handicapped-infants</th>\n      <th>water-project-cost-sharing</th>\n      <th>adoption-of-the-budget-resolution</th>\n      <th>physician-fee-freeze</th>\n      <th>el-salvador-aid</th>\n      <th>religious-groups-in-schools</th>\n      <th>anti-satellite-test-ban</th>\n      <th>aid-to-nicaraguan-contras</th>\n      <th>mx-missile</th>\n      <th>immigration</th>\n      <th>synfuels-crporation-cutback</th>\n      <th>education-spending</th>\n      <th>superfund-right-to-sue</th>\n      <th>crime</th>\n      <th>duty-free-exports</th>\n      <th>export-administration-act-south-africa</th>\n    </tr>\n  </thead>\n  <tbody>\n    <tr>\n      <th>0</th>\n      <td>0</td>\n      <td>0</td>\n      <td>1</td>\n      <td>0</td>\n      <td>0</td>\n      <td>0</td>\n      <td>1</td>\n      <td>1</td>\n      <td>1</td>\n      <td>0</td>\n      <td>1</td>\n      <td>0</td>\n      <td>0</td>\n      <td>0</td>\n      <td>1</td>\n      <td>1</td>\n    </tr>\n    <tr>\n      <th>1</th>\n      <td>1</td>\n      <td>0</td>\n      <td>1</td>\n      <td>0</td>\n      <td>0</td>\n      <td>0</td>\n      <td>1</td>\n      <td>0</td>\n      <td>1</td>\n      <td>1</td>\n      <td>1</td>\n      <td>0</td>\n      <td>0</td>\n      <td>0</td>\n      <td>1</td>\n      <td>1</td>\n    </tr>\n    <tr>\n      <th>2</th>\n      <td>1</td>\n      <td>0</td>\n      <td>1</td>\n      <td>0</td>\n      <td>0</td>\n      <td>0</td>\n      <td>1</td>\n      <td>1</td>\n      <td>1</td>\n      <td>0</td>\n      <td>0</td>\n      <td>0</td>\n      <td>0</td>\n      <td>0</td>\n      <td>1</td>\n      <td>1</td>\n    </tr>\n    <tr>\n      <th>3</th>\n      <td>1</td>\n      <td>1</td>\n      <td>1</td>\n      <td>0</td>\n      <td>0</td>\n      <td>0</td>\n      <td>1</td>\n      <td>1</td>\n      <td>1</td>\n      <td>1</td>\n      <td>0</td>\n      <td>0</td>\n      <td>0</td>\n      <td>0</td>\n      <td>1</td>\n      <td>1</td>\n    </tr>\n    <tr>\n      <th>4</th>\n      <td>1</td>\n      <td>0</td>\n      <td>1</td>\n      <td>0</td>\n      <td>0</td>\n      <td>0</td>\n      <td>1</td>\n      <td>1</td>\n      <td>1</td>\n      <td>1</td>\n      <td>0</td>\n      <td>0</td>\n      <td>0</td>\n      <td>0</td>\n      <td>1</td>\n      <td>1</td>\n    </tr>\n    <tr>\n      <th>...</th>\n      <td>...</td>\n      <td>...</td>\n      <td>...</td>\n      <td>...</td>\n      <td>...</td>\n      <td>...</td>\n      <td>...</td>\n      <td>...</td>\n      <td>...</td>\n      <td>...</td>\n      <td>...</td>\n      <td>...</td>\n      <td>...</td>\n      <td>...</td>\n      <td>...</td>\n      <td>...</td>\n    </tr>\n    <tr>\n      <th>213</th>\n      <td>1</td>\n      <td>0</td>\n      <td>1</td>\n      <td>0</td>\n      <td>0</td>\n      <td>0</td>\n      <td>1</td>\n      <td>1</td>\n      <td>1</td>\n      <td>0</td>\n      <td>1</td>\n      <td>0</td>\n      <td>0</td>\n      <td>0</td>\n      <td>1</td>\n      <td>1</td>\n    </tr>\n    <tr>\n      <th>214</th>\n      <td>1</td>\n      <td>0</td>\n      <td>1</td>\n      <td>0</td>\n      <td>0</td>\n      <td>0</td>\n      <td>1</td>\n      <td>1</td>\n      <td>1</td>\n      <td>1</td>\n      <td>0</td>\n      <td>0</td>\n      <td>0</td>\n      <td>0</td>\n      <td>1</td>\n      <td>1</td>\n    </tr>\n    <tr>\n      <th>215</th>\n      <td>1</td>\n      <td>0</td>\n      <td>1</td>\n      <td>0</td>\n      <td>0</td>\n      <td>0</td>\n      <td>1</td>\n      <td>1</td>\n      <td>1</td>\n      <td>0</td>\n      <td>0</td>\n      <td>0</td>\n      <td>0</td>\n      <td>0</td>\n      <td>1</td>\n      <td>1</td>\n    </tr>\n    <tr>\n      <th>216</th>\n      <td>0</td>\n      <td>1</td>\n      <td>0</td>\n      <td>1</td>\n      <td>1</td>\n      <td>1</td>\n      <td>0</td>\n      <td>0</td>\n      <td>0</td>\n      <td>0</td>\n      <td>0</td>\n      <td>1</td>\n      <td>1</td>\n      <td>1</td>\n      <td>0</td>\n      <td>1</td>\n    </tr>\n    <tr>\n      <th>217</th>\n      <td>0</td>\n      <td>1</td>\n      <td>1</td>\n      <td>1</td>\n      <td>1</td>\n      <td>1</td>\n      <td>0</td>\n      <td>0</td>\n      <td>0</td>\n      <td>1</td>\n      <td>0</td>\n      <td>1</td>\n      <td>1</td>\n      <td>1</td>\n      <td>0</td>\n      <td>1</td>\n    </tr>\n  </tbody>\n</table>\n<p>218 rows × 16 columns</p>\n</div>"
     },
     "metadata": {},
     "output_type": "display_data"
    },
    {
     "data": {
      "text/plain": "'Target: '"
     },
     "metadata": {},
     "output_type": "display_data"
    },
    {
     "data": {
      "text/plain": "0      2\n1      2\n2      2\n3      2\n4      2\n      ..\n213    2\n214    2\n215    2\n216    3\n217    3\nName: class, Length: 218, dtype: category\nCategories (2, int64): [2, 3]"
     },
     "metadata": {},
     "output_type": "display_data"
    }
   ],
   "source": [
    "#Recode values for predicting variables\n",
    "def recode_voting_data(dataset):\n",
    "    dataset = dataset.replace('y', 1)\\\n",
    "        .replace('n', 0)\\\n",
    "        .replace('democrat', 2)\\\n",
    "        .replace('republican', 3)\n",
    "    dataset.loc[:, dataset.columns != \"ID\"] = dataset.loc[:, dataset.columns != \"ID\"].astype('category')\n",
    "    return pd.DataFrame(dataset, columns=dataset.columns)\n",
    "\n",
    "#Imput missing values\n",
    "def input_missing_values(data):\n",
    "    columns = data.columns\n",
    "    imp = IterativeImputer(max_iter=10, random_state=0)\n",
    "    imp.fit(data.loc[:, data.columns != \"ID\"])\n",
    "    data.loc[:, data.columns != \"ID\"] = np.round(imp.transform(data.loc[:, data.columns != \"ID\"]))\n",
    "    data.loc[:, data.columns != \"ID\"] = data.loc[:, data.columns != \"ID\"].apply(lambda x: x.astype('int'))\n",
    "    data.loc[:, data.columns != \"ID\"] = data.loc[:, data.columns != \"ID\"].astype('category')\n",
    "    return pd.DataFrame(data, columns=columns)\n",
    "\n",
    "#Read Data\n",
    "votingDataLearn = pd.read_csv(\"data/voting/CongressionalVotingID.shuf.lrn.csv\", na_values='unknown')\n",
    "votingDataSolutionExample = pd.read_csv(\"data/voting/CongressionalVotingID.shuf.sol.ex.csv\", na_values='unknown')\n",
    "votingDataTest = pd.read_csv(\"data/voting/CongressionalVotingID.shuf.tes.csv\", na_values='unknown')\n",
    "display(\"Original Data\", votingDataLearn)\n",
    "\n",
    "#Recode values\n",
    "votingDataLearn = recode_voting_data(votingDataLearn)\n",
    "votingDataLearn = input_missing_values(votingDataLearn)\n",
    "\n",
    "display(\"Recoded Data\", votingDataLearn)\n",
    "\n",
    "display(\"Data: \", votingDataLearn[votingDataLearn.columns[2:18]])\n",
    "display(\"Target: \", votingDataLearn[\"class\"])"
   ]
  },
  {
   "cell_type": "markdown",
   "source": [
    "### k-NN - Congressional Vote"
   ],
   "metadata": {
    "collapsed": false
   }
  },
  {
   "cell_type": "code",
   "execution_count": 8,
   "outputs": [
    {
     "data": {
      "text/plain": "'Results'"
     },
     "metadata": {},
     "output_type": "display_data"
    },
    {
     "data": {
      "text/plain": "                            classifier arguments  mean_accuracy  \\\n1  KNeighborsClassifier(n_neighbors=2)     N = 2       0.958716   \n6  KNeighborsClassifier(n_neighbors=7)     N = 7       0.949541   \n8  KNeighborsClassifier(n_neighbors=9)     N = 9       0.944954   \n0  KNeighborsClassifier(n_neighbors=1)     N = 1       0.944954   \n3  KNeighborsClassifier(n_neighbors=4)     N = 4       0.944954   \n2  KNeighborsClassifier(n_neighbors=3)     N = 3       0.940367   \n4               KNeighborsClassifier()     N = 5       0.940367   \n5  KNeighborsClassifier(n_neighbors=6)     N = 6       0.940367   \n7  KNeighborsClassifier(n_neighbors=8)     N = 8       0.940367   \n\n   mean_precision  mean_recall  \\\n1        0.955407     0.959755   \n6        0.943333     0.958955   \n8        0.939216     0.955224   \n0        0.940633     0.950782   \n3        0.940076     0.948561   \n2        0.934982     0.947050   \n4        0.935650     0.944829   \n5        0.935650     0.944829   \n7        0.934982     0.947050   \n\n                                          accuracy  \\\n1  m: 0.9587155963302753 std: 0.013761467889908285   \n6   m: 0.9495412844036697 std: 0.02293577981651379   \n8  m: 0.9449541284403671 std: 0.027522935779816515   \n0    m: 0.944954128440367 std: 0.01834862385321101   \n3    m: 0.944954128440367 std: 0.01834862385321101   \n2  m: 0.9403669724770642 std: 0.013761467889908285   \n4  m: 0.9403669724770642 std: 0.022935779816513735   \n5  m: 0.9403669724770642 std: 0.022935779816513735   \n7  m: 0.9403669724770642 std: 0.013761467889908285   \n\n                                         precision  \\\n1    m: 0.9554073308361875 std: 0.0176916648596519   \n6  m: 0.9433333333333334 std: 0.023333333333333373   \n8  m: 0.9392156862745098 std: 0.027450980392156876   \n0  m: 0.9406325515280739 std: 0.020632551528073972   \n3   m: 0.9400758575390029 std: 0.02118924551714496   \n2  m: 0.9349823819591261 std: 0.014982381959126156   \n4    m: 0.935649558330795 std: 0.02561554472535288   \n5    m: 0.935649558330795 std: 0.02561554472535288   \n7  m: 0.9349823819591261 std: 0.014982381959126156   \n\n                                            recall  \n1  m: 0.9597547974413646 std: 0.008972992181947359  \n6  m: 0.9589552238805971 std: 0.018656716417910446  \n8  m: 0.9552238805970149 std: 0.022388059701492602  \n0  m: 0.9507818052594172 std: 0.010483297796730628  \n3  m: 0.9485607675906184 std: 0.012704335465529515  \n2  m: 0.9470504619758351 std: 0.006751954513148473  \n4  m: 0.9448294243070363 std: 0.016435678749111615  \n5  m: 0.9448294243070363 std: 0.016435678749111615  \n7  m: 0.9470504619758351 std: 0.006751954513148473  ",
      "text/html": "<div>\n<style scoped>\n    .dataframe tbody tr th:only-of-type {\n        vertical-align: middle;\n    }\n\n    .dataframe tbody tr th {\n        vertical-align: top;\n    }\n\n    .dataframe thead th {\n        text-align: right;\n    }\n</style>\n<table border=\"1\" class=\"dataframe\">\n  <thead>\n    <tr style=\"text-align: right;\">\n      <th></th>\n      <th>classifier</th>\n      <th>arguments</th>\n      <th>mean_accuracy</th>\n      <th>mean_precision</th>\n      <th>mean_recall</th>\n      <th>accuracy</th>\n      <th>precision</th>\n      <th>recall</th>\n    </tr>\n  </thead>\n  <tbody>\n    <tr>\n      <th>1</th>\n      <td>KNeighborsClassifier(n_neighbors=2)</td>\n      <td>N = 2</td>\n      <td>0.958716</td>\n      <td>0.955407</td>\n      <td>0.959755</td>\n      <td>m: 0.9587155963302753 std: 0.013761467889908285</td>\n      <td>m: 0.9554073308361875 std: 0.0176916648596519</td>\n      <td>m: 0.9597547974413646 std: 0.008972992181947359</td>\n    </tr>\n    <tr>\n      <th>6</th>\n      <td>KNeighborsClassifier(n_neighbors=7)</td>\n      <td>N = 7</td>\n      <td>0.949541</td>\n      <td>0.943333</td>\n      <td>0.958955</td>\n      <td>m: 0.9495412844036697 std: 0.02293577981651379</td>\n      <td>m: 0.9433333333333334 std: 0.023333333333333373</td>\n      <td>m: 0.9589552238805971 std: 0.018656716417910446</td>\n    </tr>\n    <tr>\n      <th>8</th>\n      <td>KNeighborsClassifier(n_neighbors=9)</td>\n      <td>N = 9</td>\n      <td>0.944954</td>\n      <td>0.939216</td>\n      <td>0.955224</td>\n      <td>m: 0.9449541284403671 std: 0.027522935779816515</td>\n      <td>m: 0.9392156862745098 std: 0.027450980392156876</td>\n      <td>m: 0.9552238805970149 std: 0.022388059701492602</td>\n    </tr>\n    <tr>\n      <th>0</th>\n      <td>KNeighborsClassifier(n_neighbors=1)</td>\n      <td>N = 1</td>\n      <td>0.944954</td>\n      <td>0.940633</td>\n      <td>0.950782</td>\n      <td>m: 0.944954128440367 std: 0.01834862385321101</td>\n      <td>m: 0.9406325515280739 std: 0.020632551528073972</td>\n      <td>m: 0.9507818052594172 std: 0.010483297796730628</td>\n    </tr>\n    <tr>\n      <th>3</th>\n      <td>KNeighborsClassifier(n_neighbors=4)</td>\n      <td>N = 4</td>\n      <td>0.944954</td>\n      <td>0.940076</td>\n      <td>0.948561</td>\n      <td>m: 0.944954128440367 std: 0.01834862385321101</td>\n      <td>m: 0.9400758575390029 std: 0.02118924551714496</td>\n      <td>m: 0.9485607675906184 std: 0.012704335465529515</td>\n    </tr>\n    <tr>\n      <th>2</th>\n      <td>KNeighborsClassifier(n_neighbors=3)</td>\n      <td>N = 3</td>\n      <td>0.940367</td>\n      <td>0.934982</td>\n      <td>0.947050</td>\n      <td>m: 0.9403669724770642 std: 0.013761467889908285</td>\n      <td>m: 0.9349823819591261 std: 0.014982381959126156</td>\n      <td>m: 0.9470504619758351 std: 0.006751954513148473</td>\n    </tr>\n    <tr>\n      <th>4</th>\n      <td>KNeighborsClassifier()</td>\n      <td>N = 5</td>\n      <td>0.940367</td>\n      <td>0.935650</td>\n      <td>0.944829</td>\n      <td>m: 0.9403669724770642 std: 0.022935779816513735</td>\n      <td>m: 0.935649558330795 std: 0.02561554472535288</td>\n      <td>m: 0.9448294243070363 std: 0.016435678749111615</td>\n    </tr>\n    <tr>\n      <th>5</th>\n      <td>KNeighborsClassifier(n_neighbors=6)</td>\n      <td>N = 6</td>\n      <td>0.940367</td>\n      <td>0.935650</td>\n      <td>0.944829</td>\n      <td>m: 0.9403669724770642 std: 0.022935779816513735</td>\n      <td>m: 0.935649558330795 std: 0.02561554472535288</td>\n      <td>m: 0.9448294243070363 std: 0.016435678749111615</td>\n    </tr>\n    <tr>\n      <th>7</th>\n      <td>KNeighborsClassifier(n_neighbors=8)</td>\n      <td>N = 8</td>\n      <td>0.940367</td>\n      <td>0.934982</td>\n      <td>0.947050</td>\n      <td>m: 0.9403669724770642 std: 0.013761467889908285</td>\n      <td>m: 0.9349823819591261 std: 0.014982381959126156</td>\n      <td>m: 0.9470504619758351 std: 0.006751954513148473</td>\n    </tr>\n  </tbody>\n</table>\n</div>"
     },
     "metadata": {},
     "output_type": "display_data"
    },
    {
     "data": {
      "text/plain": "classifier                    KNeighborsClassifier(n_neighbors=2)\narguments                                                   N = 2\nmean_accuracy                                            0.958716\nmean_precision                                           0.955407\nmean_recall                                              0.959755\naccuracy          m: 0.9587155963302753 std: 0.013761467889908285\nprecision           m: 0.9554073308361875 std: 0.0176916648596519\nrecall            m: 0.9597547974413646 std: 0.008972992181947359\nName: 1, dtype: object"
     },
     "metadata": {},
     "output_type": "display_data"
    }
   ],
   "source": [
    "knn_results_vote = calculate_knn(votingDataLearn[votingDataLearn.columns[2:18]],\n",
    "                                 votingDataLearn[\"class\"])\n",
    "overall_results_vote.extend(knn_results_vote)\n",
    "\n",
    "print_results(knn_results_vote, \"mean_accuracy\")"
   ],
   "metadata": {
    "collapsed": false,
    "pycharm": {
     "name": "#%%\n"
    }
   }
  },
  {
   "cell_type": "markdown",
   "source": [
    "### Bayes - Congressional Vote"
   ],
   "metadata": {
    "collapsed": false
   }
  },
  {
   "cell_type": "code",
   "execution_count": 9,
   "outputs": [
    {
     "data": {
      "text/plain": "'Results'"
     },
     "metadata": {},
     "output_type": "display_data"
    },
    {
     "data": {
      "text/plain": "                 classifier    arguments  mean_accuracy  mean_precision  \\\n1  CategoricalNB(alpha=1.1)  Alpha = 1.1       0.922018        0.917619   \n2  CategoricalNB(alpha=2.1)  Alpha = 2.1       0.922018        0.916250   \n3  CategoricalNB(alpha=3.1)  Alpha = 3.1       0.922018        0.916250   \n4  CategoricalNB(alpha=4.1)  Alpha = 4.1       0.922018        0.916250   \n0  CategoricalNB(alpha=0.1)  Alpha = 0.1       0.912844        0.908527   \n\n   mean_recall                                         accuracy  \\\n1     0.927683  m: 0.9220183486238532 std: 0.022935779816513735   \n2     0.929904  m: 0.9220183486238532 std: 0.022935779816513735   \n3     0.929904  m: 0.9220183486238532 std: 0.022935779816513735   \n4     0.929904  m: 0.9220183486238532 std: 0.022935779816513735   \n0     0.915778   m: 0.9128440366972477 std: 0.02293577981651379   \n\n                                         precision  \\\n1   m: 0.9176188746213874 std: 0.02427877996283434   \n2   m: 0.916250466909696 std: 0.022910372251143063   \n3   m: 0.916250466909696 std: 0.022910372251143063   \n4   m: 0.916250466909696 std: 0.022910372251143063   \n0  m: 0.9085268584490431 std: 0.025476010991416054   \n\n                                           recall  \n1  m: 0.927683013503909 std: 0.014214641080312673  \n2  m: 0.9299040511727079 std: 0.01643567874911156  \n3  m: 0.9299040511727079 std: 0.01643567874911156  \n4  m: 0.9299040511727079 std: 0.01643567874911156  \n0  m: 0.915778251599147 std: 0.014214641080312729  ",
      "text/html": "<div>\n<style scoped>\n    .dataframe tbody tr th:only-of-type {\n        vertical-align: middle;\n    }\n\n    .dataframe tbody tr th {\n        vertical-align: top;\n    }\n\n    .dataframe thead th {\n        text-align: right;\n    }\n</style>\n<table border=\"1\" class=\"dataframe\">\n  <thead>\n    <tr style=\"text-align: right;\">\n      <th></th>\n      <th>classifier</th>\n      <th>arguments</th>\n      <th>mean_accuracy</th>\n      <th>mean_precision</th>\n      <th>mean_recall</th>\n      <th>accuracy</th>\n      <th>precision</th>\n      <th>recall</th>\n    </tr>\n  </thead>\n  <tbody>\n    <tr>\n      <th>1</th>\n      <td>CategoricalNB(alpha=1.1)</td>\n      <td>Alpha = 1.1</td>\n      <td>0.922018</td>\n      <td>0.917619</td>\n      <td>0.927683</td>\n      <td>m: 0.9220183486238532 std: 0.022935779816513735</td>\n      <td>m: 0.9176188746213874 std: 0.02427877996283434</td>\n      <td>m: 0.927683013503909 std: 0.014214641080312673</td>\n    </tr>\n    <tr>\n      <th>2</th>\n      <td>CategoricalNB(alpha=2.1)</td>\n      <td>Alpha = 2.1</td>\n      <td>0.922018</td>\n      <td>0.916250</td>\n      <td>0.929904</td>\n      <td>m: 0.9220183486238532 std: 0.022935779816513735</td>\n      <td>m: 0.916250466909696 std: 0.022910372251143063</td>\n      <td>m: 0.9299040511727079 std: 0.01643567874911156</td>\n    </tr>\n    <tr>\n      <th>3</th>\n      <td>CategoricalNB(alpha=3.1)</td>\n      <td>Alpha = 3.1</td>\n      <td>0.922018</td>\n      <td>0.916250</td>\n      <td>0.929904</td>\n      <td>m: 0.9220183486238532 std: 0.022935779816513735</td>\n      <td>m: 0.916250466909696 std: 0.022910372251143063</td>\n      <td>m: 0.9299040511727079 std: 0.01643567874911156</td>\n    </tr>\n    <tr>\n      <th>4</th>\n      <td>CategoricalNB(alpha=4.1)</td>\n      <td>Alpha = 4.1</td>\n      <td>0.922018</td>\n      <td>0.916250</td>\n      <td>0.929904</td>\n      <td>m: 0.9220183486238532 std: 0.022935779816513735</td>\n      <td>m: 0.916250466909696 std: 0.022910372251143063</td>\n      <td>m: 0.9299040511727079 std: 0.01643567874911156</td>\n    </tr>\n    <tr>\n      <th>0</th>\n      <td>CategoricalNB(alpha=0.1)</td>\n      <td>Alpha = 0.1</td>\n      <td>0.912844</td>\n      <td>0.908527</td>\n      <td>0.915778</td>\n      <td>m: 0.9128440366972477 std: 0.02293577981651379</td>\n      <td>m: 0.9085268584490431 std: 0.025476010991416054</td>\n      <td>m: 0.915778251599147 std: 0.014214641080312729</td>\n    </tr>\n  </tbody>\n</table>\n</div>"
     },
     "metadata": {},
     "output_type": "display_data"
    },
    {
     "data": {
      "text/plain": "classifier                               CategoricalNB(alpha=1.1)\narguments                                             Alpha = 1.1\nmean_accuracy                                            0.922018\nmean_precision                                           0.917619\nmean_recall                                              0.927683\naccuracy          m: 0.9220183486238532 std: 0.022935779816513735\nprecision          m: 0.9176188746213874 std: 0.02427877996283434\nrecall             m: 0.927683013503909 std: 0.014214641080312673\nName: 1, dtype: object"
     },
     "metadata": {},
     "output_type": "display_data"
    }
   ],
   "source": [
    "bayes_results_vote = calculate_bayes(votingDataLearn[votingDataLearn.columns[2:18]],\n",
    "                                     votingDataLearn[\"class\"])\n",
    "overall_results_vote.extend(bayes_results_vote)\n",
    "\n",
    "print_results(bayes_results_vote, \"mean_accuracy\")"
   ],
   "metadata": {
    "collapsed": false,
    "pycharm": {
     "name": "#%%\n"
    }
   }
  },
  {
   "cell_type": "markdown",
   "source": [
    "### Perceptron - Congressional Vote"
   ],
   "metadata": {
    "collapsed": false
   }
  },
  {
   "cell_type": "code",
   "execution_count": 10,
   "outputs": [
    {
     "data": {
      "text/plain": "'Results'"
     },
     "metadata": {},
     "output_type": "display_data"
    },
    {
     "data": {
      "text/plain": "     classifier            arguments  mean_accuracy  mean_precision  \\\n0  Perceptron()  No additional args.       0.926606        0.928189   \n\n   mean_recall                                        accuracy  \\\n0     0.918088  m: 0.926605504587156 std: 0.009174311926605505   \n\n                                        precision  \\\n0  m: 0.9281886273165343 std: 0.01663119250328554   \n\n                                            recall  \n0  m: 0.9180881307746979 std: 0.003020611229566428  ",
      "text/html": "<div>\n<style scoped>\n    .dataframe tbody tr th:only-of-type {\n        vertical-align: middle;\n    }\n\n    .dataframe tbody tr th {\n        vertical-align: top;\n    }\n\n    .dataframe thead th {\n        text-align: right;\n    }\n</style>\n<table border=\"1\" class=\"dataframe\">\n  <thead>\n    <tr style=\"text-align: right;\">\n      <th></th>\n      <th>classifier</th>\n      <th>arguments</th>\n      <th>mean_accuracy</th>\n      <th>mean_precision</th>\n      <th>mean_recall</th>\n      <th>accuracy</th>\n      <th>precision</th>\n      <th>recall</th>\n    </tr>\n  </thead>\n  <tbody>\n    <tr>\n      <th>0</th>\n      <td>Perceptron()</td>\n      <td>No additional args.</td>\n      <td>0.926606</td>\n      <td>0.928189</td>\n      <td>0.918088</td>\n      <td>m: 0.926605504587156 std: 0.009174311926605505</td>\n      <td>m: 0.9281886273165343 std: 0.01663119250328554</td>\n      <td>m: 0.9180881307746979 std: 0.003020611229566428</td>\n    </tr>\n  </tbody>\n</table>\n</div>"
     },
     "metadata": {},
     "output_type": "display_data"
    },
    {
     "data": {
      "text/plain": "classifier                                           Perceptron()\narguments                                     No additional args.\nmean_accuracy                                            0.926606\nmean_precision                                           0.928189\nmean_recall                                              0.918088\naccuracy           m: 0.926605504587156 std: 0.009174311926605505\nprecision          m: 0.9281886273165343 std: 0.01663119250328554\nrecall            m: 0.9180881307746979 std: 0.003020611229566428\nName: 0, dtype: object"
     },
     "metadata": {},
     "output_type": "display_data"
    }
   ],
   "source": [
    "perceptron_results_vote = calculate_perceptron(votingDataLearn[votingDataLearn.columns[2:18]],\n",
    "                                               votingDataLearn[\"class\"])\n",
    "overall_results_vote.extend(perceptron_results_vote)\n",
    "\n",
    "print_results(perceptron_results_vote, \"mean_accuracy\")"
   ],
   "metadata": {
    "collapsed": false,
    "pycharm": {
     "name": "#%%\n"
    }
   }
  },
  {
   "cell_type": "markdown",
   "source": [
    "### Decision Tree - Congressional Vote"
   ],
   "metadata": {
    "collapsed": false,
    "pycharm": {
     "name": "#%% md\n"
    }
   }
  },
  {
   "cell_type": "code",
   "execution_count": 11,
   "metadata": {
    "pycharm": {
     "name": "#%%\n"
    }
   },
   "outputs": [
    {
     "data": {
      "text/plain": "'Results'"
     },
     "metadata": {},
     "output_type": "display_data"
    },
    {
     "data": {
      "text/plain": "                                           classifier  \\\n0   DecisionTreeClassifier(max_depth=1, min_sample...   \n17  DecisionTreeClassifier(max_depth=9, min_sample...   \n5   DecisionTreeClassifier(max_depth=3, min_sample...   \n9   DecisionTreeClassifier(max_depth=5, min_sample...   \n1   DecisionTreeClassifier(max_depth=1, min_sample...   \n13  DecisionTreeClassifier(max_depth=7, min_sample...   \n12  DecisionTreeClassifier(max_depth=7, min_sample...   \n16  DecisionTreeClassifier(max_depth=9, min_sample...   \n8   DecisionTreeClassifier(max_depth=5, min_sample...   \n4   DecisionTreeClassifier(max_depth=3, min_sample...   \n18  DecisionTreeClassifier(max_depth=9, min_sample...   \n14  DecisionTreeClassifier(max_depth=7, min_sample...   \n10  DecisionTreeClassifier(max_depth=5, min_sample...   \n6   DecisionTreeClassifier(max_depth=3, min_sample...   \n2   DecisionTreeClassifier(max_depth=1, min_sample...   \n11  DecisionTreeClassifier(max_depth=5, min_sample...   \n7   DecisionTreeClassifier(max_depth=3, min_sample...   \n15  DecisionTreeClassifier(max_depth=7, min_sample...   \n3   DecisionTreeClassifier(max_depth=1, min_sample...   \n19  DecisionTreeClassifier(max_depth=9, min_sample...   \n\n                         arguments  mean_accuracy  mean_precision  \\\n0     max Depth: 1, min Samples: 2       0.967890        0.962041   \n17   max Depth: 9, min Samples: 20       0.967890        0.962041   \n5    max Depth: 3, min Samples: 20       0.967890        0.962041   \n9    max Depth: 5, min Samples: 20       0.967890        0.962041   \n1    max Depth: 1, min Samples: 20       0.967890        0.962041   \n13   max Depth: 7, min Samples: 20       0.967890        0.962041   \n12    max Depth: 7, min Samples: 2       0.958716        0.955036   \n16    max Depth: 9, min Samples: 2       0.958716        0.955036   \n8     max Depth: 5, min Samples: 2       0.958716        0.955036   \n4     max Depth: 3, min Samples: 2       0.954128        0.950180   \n18   max Depth: 9, min Samples: 50       0.834862        0.837574   \n14   max Depth: 7, min Samples: 50       0.834862        0.837574   \n10   max Depth: 5, min Samples: 50       0.834862        0.837574   \n6    max Depth: 3, min Samples: 50       0.834862        0.837574   \n2    max Depth: 1, min Samples: 50       0.834862        0.837574   \n11  max Depth: 5, min Samples: 100       0.614679        0.307339   \n7   max Depth: 3, min Samples: 100       0.614679        0.307339   \n15  max Depth: 7, min Samples: 100       0.614679        0.307339   \n3   max Depth: 1, min Samples: 100       0.614679        0.307339   \n19  max Depth: 9, min Samples: 100       0.614679        0.307339   \n\n    mean_recall                                         accuracy  \\\n0      0.973881   m: 0.9678899082568808 std: 0.01376146788990823   \n17     0.973881   m: 0.9678899082568808 std: 0.01376146788990823   \n5      0.973881   m: 0.9678899082568808 std: 0.01376146788990823   \n9      0.973881   m: 0.9678899082568808 std: 0.01376146788990823   \n1      0.973881   m: 0.9678899082568808 std: 0.01376146788990823   \n13     0.973881   m: 0.9678899082568808 std: 0.01376146788990823   \n12     0.959755  m: 0.9587155963302753 std: 0.004587155963302725   \n16     0.959755  m: 0.9587155963302753 std: 0.004587155963302725   \n8      0.959755  m: 0.9587155963302753 std: 0.004587155963302725   \n4      0.956023                   m: 0.9541284403669725 std: 0.0   \n18     0.850124   m: 0.8348623853211009 std: 0.01834862385321101   \n14     0.850124   m: 0.8348623853211009 std: 0.01834862385321101   \n10     0.850124   m: 0.8348623853211009 std: 0.01834862385321101   \n6      0.850124   m: 0.8348623853211009 std: 0.01834862385321101   \n2      0.850124   m: 0.8348623853211009 std: 0.01834862385321101   \n11     0.500000                   m: 0.6146788990825688 std: 0.0   \n7      0.500000                   m: 0.6146788990825688 std: 0.0   \n15     0.500000                   m: 0.6146788990825688 std: 0.0   \n3      0.500000                   m: 0.6146788990825688 std: 0.0   \n19     0.500000                   m: 0.6146788990825688 std: 0.0   \n\n                                           precision  \\\n0    m: 0.9620406189555126 std: 0.015232108317214721   \n17   m: 0.9620406189555126 std: 0.015232108317214721   \n5    m: 0.9620406189555126 std: 0.015232108317214721   \n9    m: 0.9620406189555126 std: 0.015232108317214721   \n1    m: 0.9620406189555126 std: 0.015232108317214721   \n13   m: 0.9620406189555126 std: 0.015232108317214721   \n12    m: 0.955036335849292 std: 0.001485403281142772   \n16    m: 0.955036335849292 std: 0.001485403281142772   \n8     m: 0.955036335849292 std: 0.001485403281142772   \n4   m: 0.9501797216032235 std: 0.0033712109649257083   \n18   m: 0.8375739426205264 std: 0.006111357586512878   \n14   m: 0.8375739426205264 std: 0.006111357586512878   \n10   m: 0.8375739426205264 std: 0.006111357586512878   \n6    m: 0.8375739426205264 std: 0.006111357586512878   \n2    m: 0.8375739426205264 std: 0.006111357586512878   \n11                    m: 0.3073394495412844 std: 0.0   \n7                     m: 0.3073394495412844 std: 0.0   \n15                    m: 0.3073394495412844 std: 0.0   \n3                     m: 0.3073394495412844 std: 0.0   \n19                    m: 0.3073394495412844 std: 0.0   \n\n                                             recall  \n0   m: 0.9738805970149254 std: 0.011194029850746245  \n17  m: 0.9738805970149254 std: 0.011194029850746245  \n5   m: 0.9738805970149254 std: 0.011194029850746245  \n9   m: 0.9738805970149254 std: 0.011194029850746245  \n1   m: 0.9738805970149254 std: 0.011194029850746245  \n13  m: 0.9738805970149254 std: 0.011194029850746245  \n12  m: 0.9597547974413647 std: 0.010394456289978649  \n16  m: 0.9597547974413647 std: 0.010394456289978649  \n8   m: 0.9597547974413647 std: 0.010394456289978649  \n4   m: 0.9560234541577826 std: 0.006663113006396548  \n18   m: 0.8501243781094527 std: 0.00382018479033408  \n14   m: 0.8501243781094527 std: 0.00382018479033408  \n10   m: 0.8501243781094527 std: 0.00382018479033408  \n6    m: 0.8501243781094527 std: 0.00382018479033408  \n2    m: 0.8501243781094527 std: 0.00382018479033408  \n11                                  m: 0.5 std: 0.0  \n7                                   m: 0.5 std: 0.0  \n15                                  m: 0.5 std: 0.0  \n3                                   m: 0.5 std: 0.0  \n19                                  m: 0.5 std: 0.0  ",
      "text/html": "<div>\n<style scoped>\n    .dataframe tbody tr th:only-of-type {\n        vertical-align: middle;\n    }\n\n    .dataframe tbody tr th {\n        vertical-align: top;\n    }\n\n    .dataframe thead th {\n        text-align: right;\n    }\n</style>\n<table border=\"1\" class=\"dataframe\">\n  <thead>\n    <tr style=\"text-align: right;\">\n      <th></th>\n      <th>classifier</th>\n      <th>arguments</th>\n      <th>mean_accuracy</th>\n      <th>mean_precision</th>\n      <th>mean_recall</th>\n      <th>accuracy</th>\n      <th>precision</th>\n      <th>recall</th>\n    </tr>\n  </thead>\n  <tbody>\n    <tr>\n      <th>0</th>\n      <td>DecisionTreeClassifier(max_depth=1, min_sample...</td>\n      <td>max Depth: 1, min Samples: 2</td>\n      <td>0.967890</td>\n      <td>0.962041</td>\n      <td>0.973881</td>\n      <td>m: 0.9678899082568808 std: 0.01376146788990823</td>\n      <td>m: 0.9620406189555126 std: 0.015232108317214721</td>\n      <td>m: 0.9738805970149254 std: 0.011194029850746245</td>\n    </tr>\n    <tr>\n      <th>17</th>\n      <td>DecisionTreeClassifier(max_depth=9, min_sample...</td>\n      <td>max Depth: 9, min Samples: 20</td>\n      <td>0.967890</td>\n      <td>0.962041</td>\n      <td>0.973881</td>\n      <td>m: 0.9678899082568808 std: 0.01376146788990823</td>\n      <td>m: 0.9620406189555126 std: 0.015232108317214721</td>\n      <td>m: 0.9738805970149254 std: 0.011194029850746245</td>\n    </tr>\n    <tr>\n      <th>5</th>\n      <td>DecisionTreeClassifier(max_depth=3, min_sample...</td>\n      <td>max Depth: 3, min Samples: 20</td>\n      <td>0.967890</td>\n      <td>0.962041</td>\n      <td>0.973881</td>\n      <td>m: 0.9678899082568808 std: 0.01376146788990823</td>\n      <td>m: 0.9620406189555126 std: 0.015232108317214721</td>\n      <td>m: 0.9738805970149254 std: 0.011194029850746245</td>\n    </tr>\n    <tr>\n      <th>9</th>\n      <td>DecisionTreeClassifier(max_depth=5, min_sample...</td>\n      <td>max Depth: 5, min Samples: 20</td>\n      <td>0.967890</td>\n      <td>0.962041</td>\n      <td>0.973881</td>\n      <td>m: 0.9678899082568808 std: 0.01376146788990823</td>\n      <td>m: 0.9620406189555126 std: 0.015232108317214721</td>\n      <td>m: 0.9738805970149254 std: 0.011194029850746245</td>\n    </tr>\n    <tr>\n      <th>1</th>\n      <td>DecisionTreeClassifier(max_depth=1, min_sample...</td>\n      <td>max Depth: 1, min Samples: 20</td>\n      <td>0.967890</td>\n      <td>0.962041</td>\n      <td>0.973881</td>\n      <td>m: 0.9678899082568808 std: 0.01376146788990823</td>\n      <td>m: 0.9620406189555126 std: 0.015232108317214721</td>\n      <td>m: 0.9738805970149254 std: 0.011194029850746245</td>\n    </tr>\n    <tr>\n      <th>13</th>\n      <td>DecisionTreeClassifier(max_depth=7, min_sample...</td>\n      <td>max Depth: 7, min Samples: 20</td>\n      <td>0.967890</td>\n      <td>0.962041</td>\n      <td>0.973881</td>\n      <td>m: 0.9678899082568808 std: 0.01376146788990823</td>\n      <td>m: 0.9620406189555126 std: 0.015232108317214721</td>\n      <td>m: 0.9738805970149254 std: 0.011194029850746245</td>\n    </tr>\n    <tr>\n      <th>12</th>\n      <td>DecisionTreeClassifier(max_depth=7, min_sample...</td>\n      <td>max Depth: 7, min Samples: 2</td>\n      <td>0.958716</td>\n      <td>0.955036</td>\n      <td>0.959755</td>\n      <td>m: 0.9587155963302753 std: 0.004587155963302725</td>\n      <td>m: 0.955036335849292 std: 0.001485403281142772</td>\n      <td>m: 0.9597547974413647 std: 0.010394456289978649</td>\n    </tr>\n    <tr>\n      <th>16</th>\n      <td>DecisionTreeClassifier(max_depth=9, min_sample...</td>\n      <td>max Depth: 9, min Samples: 2</td>\n      <td>0.958716</td>\n      <td>0.955036</td>\n      <td>0.959755</td>\n      <td>m: 0.9587155963302753 std: 0.004587155963302725</td>\n      <td>m: 0.955036335849292 std: 0.001485403281142772</td>\n      <td>m: 0.9597547974413647 std: 0.010394456289978649</td>\n    </tr>\n    <tr>\n      <th>8</th>\n      <td>DecisionTreeClassifier(max_depth=5, min_sample...</td>\n      <td>max Depth: 5, min Samples: 2</td>\n      <td>0.958716</td>\n      <td>0.955036</td>\n      <td>0.959755</td>\n      <td>m: 0.9587155963302753 std: 0.004587155963302725</td>\n      <td>m: 0.955036335849292 std: 0.001485403281142772</td>\n      <td>m: 0.9597547974413647 std: 0.010394456289978649</td>\n    </tr>\n    <tr>\n      <th>4</th>\n      <td>DecisionTreeClassifier(max_depth=3, min_sample...</td>\n      <td>max Depth: 3, min Samples: 2</td>\n      <td>0.954128</td>\n      <td>0.950180</td>\n      <td>0.956023</td>\n      <td>m: 0.9541284403669725 std: 0.0</td>\n      <td>m: 0.9501797216032235 std: 0.0033712109649257083</td>\n      <td>m: 0.9560234541577826 std: 0.006663113006396548</td>\n    </tr>\n    <tr>\n      <th>18</th>\n      <td>DecisionTreeClassifier(max_depth=9, min_sample...</td>\n      <td>max Depth: 9, min Samples: 50</td>\n      <td>0.834862</td>\n      <td>0.837574</td>\n      <td>0.850124</td>\n      <td>m: 0.8348623853211009 std: 0.01834862385321101</td>\n      <td>m: 0.8375739426205264 std: 0.006111357586512878</td>\n      <td>m: 0.8501243781094527 std: 0.00382018479033408</td>\n    </tr>\n    <tr>\n      <th>14</th>\n      <td>DecisionTreeClassifier(max_depth=7, min_sample...</td>\n      <td>max Depth: 7, min Samples: 50</td>\n      <td>0.834862</td>\n      <td>0.837574</td>\n      <td>0.850124</td>\n      <td>m: 0.8348623853211009 std: 0.01834862385321101</td>\n      <td>m: 0.8375739426205264 std: 0.006111357586512878</td>\n      <td>m: 0.8501243781094527 std: 0.00382018479033408</td>\n    </tr>\n    <tr>\n      <th>10</th>\n      <td>DecisionTreeClassifier(max_depth=5, min_sample...</td>\n      <td>max Depth: 5, min Samples: 50</td>\n      <td>0.834862</td>\n      <td>0.837574</td>\n      <td>0.850124</td>\n      <td>m: 0.8348623853211009 std: 0.01834862385321101</td>\n      <td>m: 0.8375739426205264 std: 0.006111357586512878</td>\n      <td>m: 0.8501243781094527 std: 0.00382018479033408</td>\n    </tr>\n    <tr>\n      <th>6</th>\n      <td>DecisionTreeClassifier(max_depth=3, min_sample...</td>\n      <td>max Depth: 3, min Samples: 50</td>\n      <td>0.834862</td>\n      <td>0.837574</td>\n      <td>0.850124</td>\n      <td>m: 0.8348623853211009 std: 0.01834862385321101</td>\n      <td>m: 0.8375739426205264 std: 0.006111357586512878</td>\n      <td>m: 0.8501243781094527 std: 0.00382018479033408</td>\n    </tr>\n    <tr>\n      <th>2</th>\n      <td>DecisionTreeClassifier(max_depth=1, min_sample...</td>\n      <td>max Depth: 1, min Samples: 50</td>\n      <td>0.834862</td>\n      <td>0.837574</td>\n      <td>0.850124</td>\n      <td>m: 0.8348623853211009 std: 0.01834862385321101</td>\n      <td>m: 0.8375739426205264 std: 0.006111357586512878</td>\n      <td>m: 0.8501243781094527 std: 0.00382018479033408</td>\n    </tr>\n    <tr>\n      <th>11</th>\n      <td>DecisionTreeClassifier(max_depth=5, min_sample...</td>\n      <td>max Depth: 5, min Samples: 100</td>\n      <td>0.614679</td>\n      <td>0.307339</td>\n      <td>0.500000</td>\n      <td>m: 0.6146788990825688 std: 0.0</td>\n      <td>m: 0.3073394495412844 std: 0.0</td>\n      <td>m: 0.5 std: 0.0</td>\n    </tr>\n    <tr>\n      <th>7</th>\n      <td>DecisionTreeClassifier(max_depth=3, min_sample...</td>\n      <td>max Depth: 3, min Samples: 100</td>\n      <td>0.614679</td>\n      <td>0.307339</td>\n      <td>0.500000</td>\n      <td>m: 0.6146788990825688 std: 0.0</td>\n      <td>m: 0.3073394495412844 std: 0.0</td>\n      <td>m: 0.5 std: 0.0</td>\n    </tr>\n    <tr>\n      <th>15</th>\n      <td>DecisionTreeClassifier(max_depth=7, min_sample...</td>\n      <td>max Depth: 7, min Samples: 100</td>\n      <td>0.614679</td>\n      <td>0.307339</td>\n      <td>0.500000</td>\n      <td>m: 0.6146788990825688 std: 0.0</td>\n      <td>m: 0.3073394495412844 std: 0.0</td>\n      <td>m: 0.5 std: 0.0</td>\n    </tr>\n    <tr>\n      <th>3</th>\n      <td>DecisionTreeClassifier(max_depth=1, min_sample...</td>\n      <td>max Depth: 1, min Samples: 100</td>\n      <td>0.614679</td>\n      <td>0.307339</td>\n      <td>0.500000</td>\n      <td>m: 0.6146788990825688 std: 0.0</td>\n      <td>m: 0.3073394495412844 std: 0.0</td>\n      <td>m: 0.5 std: 0.0</td>\n    </tr>\n    <tr>\n      <th>19</th>\n      <td>DecisionTreeClassifier(max_depth=9, min_sample...</td>\n      <td>max Depth: 9, min Samples: 100</td>\n      <td>0.614679</td>\n      <td>0.307339</td>\n      <td>0.500000</td>\n      <td>m: 0.6146788990825688 std: 0.0</td>\n      <td>m: 0.3073394495412844 std: 0.0</td>\n      <td>m: 0.5 std: 0.0</td>\n    </tr>\n  </tbody>\n</table>\n</div>"
     },
     "metadata": {},
     "output_type": "display_data"
    },
    {
     "data": {
      "text/plain": "classifier        DecisionTreeClassifier(max_depth=1, min_sample...\narguments                              max Depth: 1, min Samples: 2\nmean_accuracy                                               0.96789\nmean_precision                                             0.962041\nmean_recall                                                0.973881\naccuracy             m: 0.9678899082568808 std: 0.01376146788990823\nprecision           m: 0.9620406189555126 std: 0.015232108317214721\nrecall              m: 0.9738805970149254 std: 0.011194029850746245\nName: 0, dtype: object"
     },
     "metadata": {},
     "output_type": "display_data"
    }
   ],
   "source": [
    "decision_tree_results_vote = calculate_decision_tree(votingDataLearn[votingDataLearn.columns[2:18]],\n",
    "                                                     votingDataLearn[\"class\"])\n",
    "overall_results_vote.extend(decision_tree_results_vote)\n",
    "\n",
    "print_results(decision_tree_results_vote, \"mean_accuracy\")"
   ]
  },
  {
   "cell_type": "markdown",
   "source": [
    "### SVM - Congressional Vote"
   ],
   "metadata": {
    "collapsed": false
   }
  },
  {
   "cell_type": "code",
   "execution_count": 12,
   "outputs": [
    {
     "data": {
      "text/plain": "'Results'"
     },
     "metadata": {},
     "output_type": "display_data"
    },
    {
     "data": {
      "text/plain": "                                    classifier        arguments  \\\n2    SVC(C=201, gamma=0.001, kernel='sigmoid')  Kernel: sigmoid   \n3    SVC(C=301, gamma=0.001, kernel='sigmoid')  Kernel: sigmoid   \n25                     SVC(C=101, gamma=0.001)      Kernel: rbf   \n1    SVC(C=101, gamma=0.001, kernel='sigmoid')  Kernel: sigmoid   \n32                      SVC(C=1, gamma='auto')      Kernel: rbf   \n28                                    SVC(C=1)      Kernel: rbf   \n8     SVC(C=1, gamma='auto', kernel='sigmoid')  Kernel: sigmoid   \n26                     SVC(C=201, gamma=0.001)      Kernel: rbf   \n30                                  SVC(C=201)      Kernel: rbf   \n31                                  SVC(C=301)      Kernel: rbf   \n29                                  SVC(C=101)      Kernel: rbf   \n17                   SVC(C=101, kernel='poly')     Kernel: poly   \n23     SVC(C=301, gamma='auto', kernel='poly')     Kernel: poly   \n22     SVC(C=201, gamma='auto', kernel='poly')     Kernel: poly   \n19                   SVC(C=301, kernel='poly')     Kernel: poly   \n18                   SVC(C=201, kernel='poly')     Kernel: poly   \n21     SVC(C=101, gamma='auto', kernel='poly')     Kernel: poly   \n16                     SVC(C=1, kernel='poly')     Kernel: poly   \n33                    SVC(C=101, gamma='auto')      Kernel: rbf   \n34                    SVC(C=201, gamma='auto')      Kernel: rbf   \n35                    SVC(C=301, gamma='auto')      Kernel: rbf   \n36      SVC(C=1, gamma=0.001, kernel='linear')   Kernel: linear   \n40                   SVC(C=1, kernel='linear')   Kernel: linear   \n27                     SVC(C=301, gamma=0.001)      Kernel: rbf   \n44     SVC(C=1, gamma='auto', kernel='linear')   Kernel: linear   \n11  SVC(C=301, gamma='auto', kernel='sigmoid')  Kernel: sigmoid   \n37    SVC(C=101, gamma=0.001, kernel='linear')   Kernel: linear   \n38    SVC(C=201, gamma=0.001, kernel='linear')   Kernel: linear   \n39    SVC(C=301, gamma=0.001, kernel='linear')   Kernel: linear   \n47   SVC(C=301, gamma='auto', kernel='linear')   Kernel: linear   \n42                 SVC(C=201, kernel='linear')   Kernel: linear   \n43                 SVC(C=301, kernel='linear')   Kernel: linear   \n45   SVC(C=101, gamma='auto', kernel='linear')   Kernel: linear   \n46   SVC(C=201, gamma='auto', kernel='linear')   Kernel: linear   \n10  SVC(C=201, gamma='auto', kernel='sigmoid')  Kernel: sigmoid   \n9   SVC(C=101, gamma='auto', kernel='sigmoid')  Kernel: sigmoid   \n41                 SVC(C=101, kernel='linear')   Kernel: linear   \n20       SVC(C=1, gamma='auto', kernel='poly')     Kernel: poly   \n4                   SVC(C=1, kernel='sigmoid')  Kernel: sigmoid   \n7                 SVC(C=301, kernel='sigmoid')  Kernel: sigmoid   \n6                 SVC(C=201, kernel='sigmoid')  Kernel: sigmoid   \n5                 SVC(C=101, kernel='sigmoid')  Kernel: sigmoid   \n0      SVC(C=1, gamma=0.001, kernel='sigmoid')  Kernel: sigmoid   \n15      SVC(C=301, gamma=0.001, kernel='poly')     Kernel: poly   \n14      SVC(C=201, gamma=0.001, kernel='poly')     Kernel: poly   \n13      SVC(C=101, gamma=0.001, kernel='poly')     Kernel: poly   \n12        SVC(C=1, gamma=0.001, kernel='poly')     Kernel: poly   \n24                       SVC(C=1, gamma=0.001)      Kernel: rbf   \n\n    mean_accuracy  mean_precision  mean_recall  \\\n2        0.967890        0.962041     0.973881   \n3        0.967890        0.962041     0.973881   \n25       0.967890        0.962041     0.973881   \n1        0.967890        0.962041     0.973881   \n32       0.967890        0.962041     0.973881   \n28       0.963303        0.958893     0.965707   \n8        0.963303        0.957386     0.970149   \n26       0.958716        0.952513     0.964197   \n30       0.958716        0.955036     0.959755   \n31       0.958716        0.955036     0.959755   \n29       0.958716        0.955036     0.959755   \n17       0.954128        0.950647     0.953802   \n23       0.954128        0.950647     0.953802   \n22       0.954128        0.950647     0.953802   \n19       0.954128        0.950647     0.953802   \n18       0.954128        0.950647     0.953802   \n21       0.954128        0.950647     0.953802   \n16       0.954128        0.950647     0.953802   \n33       0.954128        0.950180     0.956023   \n34       0.954128        0.950180     0.956023   \n35       0.954128        0.950180     0.956023   \n36       0.949541        0.944353     0.952292   \n40       0.949541        0.944353     0.952292   \n27       0.949541        0.944353     0.952292   \n44       0.949541        0.944353     0.952292   \n11       0.944954        0.943777     0.939677   \n37       0.940367        0.936230     0.940387   \n38       0.940367        0.936230     0.940387   \n39       0.940367        0.936230     0.940387   \n47       0.940367        0.936230     0.940387   \n42       0.940367        0.936230     0.940387   \n43       0.940367        0.936230     0.940387   \n45       0.940367        0.936230     0.940387   \n46       0.940367        0.936230     0.940387   \n10       0.940367        0.938041     0.935945   \n9        0.940367        0.936828     0.938166   \n41       0.940367        0.936230     0.940387   \n20       0.935780        0.930769     0.938877   \n4        0.889908        0.892791     0.881574   \n7        0.811927        0.805461     0.800373   \n6        0.811927        0.805461     0.800373   \n5        0.811927        0.805461     0.800373   \n0        0.614679        0.307339     0.500000   \n15       0.614679        0.307339     0.500000   \n14       0.614679        0.307339     0.500000   \n13       0.614679        0.307339     0.500000   \n12       0.614679        0.307339     0.500000   \n24       0.614679        0.307339     0.500000   \n\n                                           accuracy  \\\n2    m: 0.9678899082568808 std: 0.01376146788990823   \n3    m: 0.9678899082568808 std: 0.01376146788990823   \n25   m: 0.9678899082568808 std: 0.01376146788990823   \n1    m: 0.9678899082568808 std: 0.01376146788990823   \n32   m: 0.9678899082568808 std: 0.01376146788990823   \n28                    m: 0.963302752293578 std: 0.0   \n8     m: 0.963302752293578 std: 0.01834862385321101   \n26  m: 0.9587155963302753 std: 0.004587155963302725   \n30  m: 0.9587155963302753 std: 0.004587155963302725   \n31  m: 0.9587155963302753 std: 0.004587155963302725   \n29  m: 0.9587155963302753 std: 0.004587155963302725   \n17                   m: 0.9541284403669725 std: 0.0   \n23                   m: 0.9541284403669725 std: 0.0   \n22                   m: 0.9541284403669725 std: 0.0   \n19                   m: 0.9541284403669725 std: 0.0   \n18                   m: 0.9541284403669725 std: 0.0   \n21                   m: 0.9541284403669725 std: 0.0   \n16                   m: 0.9541284403669725 std: 0.0   \n33                   m: 0.9541284403669725 std: 0.0   \n34                   m: 0.9541284403669725 std: 0.0   \n35                   m: 0.9541284403669725 std: 0.0   \n36   m: 0.9495412844036697 std: 0.00458715596330278   \n40   m: 0.9495412844036697 std: 0.00458715596330278   \n27   m: 0.9495412844036697 std: 0.00458715596330278   \n44   m: 0.9495412844036697 std: 0.00458715596330278   \n11  m: 0.9449541284403671 std: 0.009174311926605505   \n37  m: 0.9403669724770642 std: 0.013761467889908285   \n38  m: 0.9403669724770642 std: 0.013761467889908285   \n39  m: 0.9403669724770642 std: 0.013761467889908285   \n47  m: 0.9403669724770642 std: 0.013761467889908285   \n42  m: 0.9403669724770642 std: 0.013761467889908285   \n43  m: 0.9403669724770642 std: 0.013761467889908285   \n45  m: 0.9403669724770642 std: 0.013761467889908285   \n46  m: 0.9403669724770642 std: 0.013761467889908285   \n10  m: 0.9403669724770642 std: 0.013761467889908285   \n9   m: 0.9403669724770642 std: 0.013761467889908285   \n41  m: 0.9403669724770642 std: 0.013761467889908285   \n20  m: 0.9357798165137614 std: 0.027522935779816515   \n4                    m: 0.8899082568807339 std: 0.0   \n7   m: 0.8119266055045872 std: 0.004587155963302725   \n6   m: 0.8119266055045872 std: 0.004587155963302725   \n5   m: 0.8119266055045872 std: 0.004587155963302725   \n0                    m: 0.6146788990825688 std: 0.0   \n15                   m: 0.6146788990825688 std: 0.0   \n14                   m: 0.6146788990825688 std: 0.0   \n13                   m: 0.6146788990825688 std: 0.0   \n12                   m: 0.6146788990825688 std: 0.0   \n24                   m: 0.6146788990825688 std: 0.0   \n\n                                           precision  \\\n2    m: 0.9620406189555126 std: 0.015232108317214721   \n3    m: 0.9620406189555126 std: 0.015232108317214721   \n25   m: 0.9620406189555126 std: 0.015232108317214721   \n1    m: 0.9620406189555126 std: 0.015232108317214721   \n32   m: 0.9620406189555126 std: 0.015232108317214721   \n28   m: 0.9588934210932913 std: 0.002371681962856531   \n8    m: 0.9573863636363636 std: 0.019886363636363646   \n26   m: 0.9525126469275405 std: 0.005704136289242656   \n30    m: 0.955036335849292 std: 0.001485403281142772   \n31    m: 0.955036335849292 std: 0.001485403281142772   \n29    m: 0.955036335849292 std: 0.001485403281142772   \n17   m: 0.9506469940618524 std: 0.002903938506296888   \n23   m: 0.9506469940618524 std: 0.002903938506296888   \n22   m: 0.9506469940618524 std: 0.002903938506296888   \n19   m: 0.9506469940618524 std: 0.002903938506296888   \n18   m: 0.9506469940618524 std: 0.002903938506296888   \n21   m: 0.9506469940618524 std: 0.002903938506296888   \n16   m: 0.9506469940618524 std: 0.002903938506296888   \n33  m: 0.9501797216032235 std: 0.0033712109649257083   \n34  m: 0.9501797216032235 std: 0.0033712109649257083   \n35  m: 0.9501797216032235 std: 0.0033712109649257083   \n36  m: 0.9443530826112598 std: 0.0024554280270380757   \n40  m: 0.9443530826112598 std: 0.0024554280270380757   \n27  m: 0.9443530826112598 std: 0.0024554280270380757   \n44  m: 0.9443530826112598 std: 0.0024554280270380757   \n11   m: 0.9437769010043042 std: 0.009774031563845043   \n37    m: 0.9362302626953928 std: 0.01732066987275649   \n38    m: 0.9362302626953928 std: 0.01732066987275649   \n39    m: 0.9362302626953928 std: 0.01732066987275649   \n47    m: 0.9362302626953928 std: 0.01732066987275649   \n42    m: 0.9362302626953928 std: 0.01732066987275649   \n43    m: 0.9362302626953928 std: 0.01732066987275649   \n45    m: 0.9362302626953928 std: 0.01732066987275649   \n46    m: 0.9362302626953928 std: 0.01732066987275649   \n10    m: 0.9380405693402225 std: 0.01551036322792676   \n9     m: 0.9368279138365222 std: 0.01672301873162707   \n41    m: 0.9362302626953928 std: 0.01732066987275649   \n20   m: 0.9307691635499319 std: 0.030495939506215985   \n4    m: 0.8927907023465124 std: 0.011130866280938623   \n7     m: 0.8054613402573416 std: 0.00827534163002519   \n6     m: 0.8054613402573416 std: 0.00827534163002519   \n5     m: 0.8054613402573416 std: 0.00827534163002519   \n0                     m: 0.3073394495412844 std: 0.0   \n15                    m: 0.3073394495412844 std: 0.0   \n14                    m: 0.3073394495412844 std: 0.0   \n13                    m: 0.3073394495412844 std: 0.0   \n12                    m: 0.3073394495412844 std: 0.0   \n24                    m: 0.3073394495412844 std: 0.0   \n\n                                             recall  \n2   m: 0.9738805970149254 std: 0.011194029850746245  \n3   m: 0.9738805970149254 std: 0.011194029850746245  \n25  m: 0.9738805970149254 std: 0.011194029850746245  \n1   m: 0.9738805970149254 std: 0.011194029850746245  \n32  m: 0.9738805970149254 std: 0.011194029850746245  \n28  m: 0.9657071783937456 std: 0.004442075337597717  \n8   m: 0.9701492537313432 std: 0.014925373134328346  \n26  m: 0.9641968727789623 std: 0.001510305614783214  \n30  m: 0.9597547974413647 std: 0.010394456289978649  \n31  m: 0.9597547974413647 std: 0.010394456289978649  \n29  m: 0.9597547974413647 std: 0.010394456289978649  \n17  m: 0.9538024164889837 std: 0.004442075337597662  \n23  m: 0.9538024164889837 std: 0.004442075337597662  \n22  m: 0.9538024164889837 std: 0.004442075337597662  \n19  m: 0.9538024164889837 std: 0.004442075337597662  \n18  m: 0.9538024164889837 std: 0.004442075337597662  \n21  m: 0.9538024164889837 std: 0.004442075337597662  \n16  m: 0.9538024164889837 std: 0.004442075337597662  \n33  m: 0.9560234541577826 std: 0.006663113006396548  \n34  m: 0.9560234541577826 std: 0.006663113006396548  \n35  m: 0.9560234541577826 std: 0.006663113006396548  \n36  m: 0.9522921108742004 std: 0.010394456289978704  \n40  m: 0.9522921108742004 std: 0.010394456289978704  \n27  m: 0.9522921108742004 std: 0.010394456289978704  \n44  m: 0.9522921108742004 std: 0.010394456289978704  \n11  m: 0.9396766169154229 std: 0.009683724235963087  \n37   m: 0.9403873489694385 std: 0.00897299218194747  \n38   m: 0.9403873489694385 std: 0.00897299218194747  \n39   m: 0.9403873489694385 std: 0.00897299218194747  \n47   m: 0.9403873489694385 std: 0.00897299218194747  \n42   m: 0.9403873489694385 std: 0.00897299218194747  \n43   m: 0.9403873489694385 std: 0.00897299218194747  \n45   m: 0.9403873489694385 std: 0.00897299218194747  \n46   m: 0.9403873489694385 std: 0.00897299218194747  \n10  m: 0.9359452736318409 std: 0.013415067519545132  \n9   m: 0.9381663113006398 std: 0.011194029850746301  \n41   m: 0.9403873489694385 std: 0.00897299218194747  \n20  m: 0.9388770433546553 std: 0.022388059701492602  \n4   m: 0.8815742714996446 std: 0.015547263681592094  \n7   m: 0.8003731343283582 std: 0.007373845060412165  \n6   m: 0.8003731343283582 std: 0.007373845060412165  \n5   m: 0.8003731343283582 std: 0.007373845060412165  \n0                                   m: 0.5 std: 0.0  \n15                                  m: 0.5 std: 0.0  \n14                                  m: 0.5 std: 0.0  \n13                                  m: 0.5 std: 0.0  \n12                                  m: 0.5 std: 0.0  \n24                                  m: 0.5 std: 0.0  ",
      "text/html": "<div>\n<style scoped>\n    .dataframe tbody tr th:only-of-type {\n        vertical-align: middle;\n    }\n\n    .dataframe tbody tr th {\n        vertical-align: top;\n    }\n\n    .dataframe thead th {\n        text-align: right;\n    }\n</style>\n<table border=\"1\" class=\"dataframe\">\n  <thead>\n    <tr style=\"text-align: right;\">\n      <th></th>\n      <th>classifier</th>\n      <th>arguments</th>\n      <th>mean_accuracy</th>\n      <th>mean_precision</th>\n      <th>mean_recall</th>\n      <th>accuracy</th>\n      <th>precision</th>\n      <th>recall</th>\n    </tr>\n  </thead>\n  <tbody>\n    <tr>\n      <th>2</th>\n      <td>SVC(C=201, gamma=0.001, kernel='sigmoid')</td>\n      <td>Kernel: sigmoid</td>\n      <td>0.967890</td>\n      <td>0.962041</td>\n      <td>0.973881</td>\n      <td>m: 0.9678899082568808 std: 0.01376146788990823</td>\n      <td>m: 0.9620406189555126 std: 0.015232108317214721</td>\n      <td>m: 0.9738805970149254 std: 0.011194029850746245</td>\n    </tr>\n    <tr>\n      <th>3</th>\n      <td>SVC(C=301, gamma=0.001, kernel='sigmoid')</td>\n      <td>Kernel: sigmoid</td>\n      <td>0.967890</td>\n      <td>0.962041</td>\n      <td>0.973881</td>\n      <td>m: 0.9678899082568808 std: 0.01376146788990823</td>\n      <td>m: 0.9620406189555126 std: 0.015232108317214721</td>\n      <td>m: 0.9738805970149254 std: 0.011194029850746245</td>\n    </tr>\n    <tr>\n      <th>25</th>\n      <td>SVC(C=101, gamma=0.001)</td>\n      <td>Kernel: rbf</td>\n      <td>0.967890</td>\n      <td>0.962041</td>\n      <td>0.973881</td>\n      <td>m: 0.9678899082568808 std: 0.01376146788990823</td>\n      <td>m: 0.9620406189555126 std: 0.015232108317214721</td>\n      <td>m: 0.9738805970149254 std: 0.011194029850746245</td>\n    </tr>\n    <tr>\n      <th>1</th>\n      <td>SVC(C=101, gamma=0.001, kernel='sigmoid')</td>\n      <td>Kernel: sigmoid</td>\n      <td>0.967890</td>\n      <td>0.962041</td>\n      <td>0.973881</td>\n      <td>m: 0.9678899082568808 std: 0.01376146788990823</td>\n      <td>m: 0.9620406189555126 std: 0.015232108317214721</td>\n      <td>m: 0.9738805970149254 std: 0.011194029850746245</td>\n    </tr>\n    <tr>\n      <th>32</th>\n      <td>SVC(C=1, gamma='auto')</td>\n      <td>Kernel: rbf</td>\n      <td>0.967890</td>\n      <td>0.962041</td>\n      <td>0.973881</td>\n      <td>m: 0.9678899082568808 std: 0.01376146788990823</td>\n      <td>m: 0.9620406189555126 std: 0.015232108317214721</td>\n      <td>m: 0.9738805970149254 std: 0.011194029850746245</td>\n    </tr>\n    <tr>\n      <th>28</th>\n      <td>SVC(C=1)</td>\n      <td>Kernel: rbf</td>\n      <td>0.963303</td>\n      <td>0.958893</td>\n      <td>0.965707</td>\n      <td>m: 0.963302752293578 std: 0.0</td>\n      <td>m: 0.9588934210932913 std: 0.002371681962856531</td>\n      <td>m: 0.9657071783937456 std: 0.004442075337597717</td>\n    </tr>\n    <tr>\n      <th>8</th>\n      <td>SVC(C=1, gamma='auto', kernel='sigmoid')</td>\n      <td>Kernel: sigmoid</td>\n      <td>0.963303</td>\n      <td>0.957386</td>\n      <td>0.970149</td>\n      <td>m: 0.963302752293578 std: 0.01834862385321101</td>\n      <td>m: 0.9573863636363636 std: 0.019886363636363646</td>\n      <td>m: 0.9701492537313432 std: 0.014925373134328346</td>\n    </tr>\n    <tr>\n      <th>26</th>\n      <td>SVC(C=201, gamma=0.001)</td>\n      <td>Kernel: rbf</td>\n      <td>0.958716</td>\n      <td>0.952513</td>\n      <td>0.964197</td>\n      <td>m: 0.9587155963302753 std: 0.004587155963302725</td>\n      <td>m: 0.9525126469275405 std: 0.005704136289242656</td>\n      <td>m: 0.9641968727789623 std: 0.001510305614783214</td>\n    </tr>\n    <tr>\n      <th>30</th>\n      <td>SVC(C=201)</td>\n      <td>Kernel: rbf</td>\n      <td>0.958716</td>\n      <td>0.955036</td>\n      <td>0.959755</td>\n      <td>m: 0.9587155963302753 std: 0.004587155963302725</td>\n      <td>m: 0.955036335849292 std: 0.001485403281142772</td>\n      <td>m: 0.9597547974413647 std: 0.010394456289978649</td>\n    </tr>\n    <tr>\n      <th>31</th>\n      <td>SVC(C=301)</td>\n      <td>Kernel: rbf</td>\n      <td>0.958716</td>\n      <td>0.955036</td>\n      <td>0.959755</td>\n      <td>m: 0.9587155963302753 std: 0.004587155963302725</td>\n      <td>m: 0.955036335849292 std: 0.001485403281142772</td>\n      <td>m: 0.9597547974413647 std: 0.010394456289978649</td>\n    </tr>\n    <tr>\n      <th>29</th>\n      <td>SVC(C=101)</td>\n      <td>Kernel: rbf</td>\n      <td>0.958716</td>\n      <td>0.955036</td>\n      <td>0.959755</td>\n      <td>m: 0.9587155963302753 std: 0.004587155963302725</td>\n      <td>m: 0.955036335849292 std: 0.001485403281142772</td>\n      <td>m: 0.9597547974413647 std: 0.010394456289978649</td>\n    </tr>\n    <tr>\n      <th>17</th>\n      <td>SVC(C=101, kernel='poly')</td>\n      <td>Kernel: poly</td>\n      <td>0.954128</td>\n      <td>0.950647</td>\n      <td>0.953802</td>\n      <td>m: 0.9541284403669725 std: 0.0</td>\n      <td>m: 0.9506469940618524 std: 0.002903938506296888</td>\n      <td>m: 0.9538024164889837 std: 0.004442075337597662</td>\n    </tr>\n    <tr>\n      <th>23</th>\n      <td>SVC(C=301, gamma='auto', kernel='poly')</td>\n      <td>Kernel: poly</td>\n      <td>0.954128</td>\n      <td>0.950647</td>\n      <td>0.953802</td>\n      <td>m: 0.9541284403669725 std: 0.0</td>\n      <td>m: 0.9506469940618524 std: 0.002903938506296888</td>\n      <td>m: 0.9538024164889837 std: 0.004442075337597662</td>\n    </tr>\n    <tr>\n      <th>22</th>\n      <td>SVC(C=201, gamma='auto', kernel='poly')</td>\n      <td>Kernel: poly</td>\n      <td>0.954128</td>\n      <td>0.950647</td>\n      <td>0.953802</td>\n      <td>m: 0.9541284403669725 std: 0.0</td>\n      <td>m: 0.9506469940618524 std: 0.002903938506296888</td>\n      <td>m: 0.9538024164889837 std: 0.004442075337597662</td>\n    </tr>\n    <tr>\n      <th>19</th>\n      <td>SVC(C=301, kernel='poly')</td>\n      <td>Kernel: poly</td>\n      <td>0.954128</td>\n      <td>0.950647</td>\n      <td>0.953802</td>\n      <td>m: 0.9541284403669725 std: 0.0</td>\n      <td>m: 0.9506469940618524 std: 0.002903938506296888</td>\n      <td>m: 0.9538024164889837 std: 0.004442075337597662</td>\n    </tr>\n    <tr>\n      <th>18</th>\n      <td>SVC(C=201, kernel='poly')</td>\n      <td>Kernel: poly</td>\n      <td>0.954128</td>\n      <td>0.950647</td>\n      <td>0.953802</td>\n      <td>m: 0.9541284403669725 std: 0.0</td>\n      <td>m: 0.9506469940618524 std: 0.002903938506296888</td>\n      <td>m: 0.9538024164889837 std: 0.004442075337597662</td>\n    </tr>\n    <tr>\n      <th>21</th>\n      <td>SVC(C=101, gamma='auto', kernel='poly')</td>\n      <td>Kernel: poly</td>\n      <td>0.954128</td>\n      <td>0.950647</td>\n      <td>0.953802</td>\n      <td>m: 0.9541284403669725 std: 0.0</td>\n      <td>m: 0.9506469940618524 std: 0.002903938506296888</td>\n      <td>m: 0.9538024164889837 std: 0.004442075337597662</td>\n    </tr>\n    <tr>\n      <th>16</th>\n      <td>SVC(C=1, kernel='poly')</td>\n      <td>Kernel: poly</td>\n      <td>0.954128</td>\n      <td>0.950647</td>\n      <td>0.953802</td>\n      <td>m: 0.9541284403669725 std: 0.0</td>\n      <td>m: 0.9506469940618524 std: 0.002903938506296888</td>\n      <td>m: 0.9538024164889837 std: 0.004442075337597662</td>\n    </tr>\n    <tr>\n      <th>33</th>\n      <td>SVC(C=101, gamma='auto')</td>\n      <td>Kernel: rbf</td>\n      <td>0.954128</td>\n      <td>0.950180</td>\n      <td>0.956023</td>\n      <td>m: 0.9541284403669725 std: 0.0</td>\n      <td>m: 0.9501797216032235 std: 0.0033712109649257083</td>\n      <td>m: 0.9560234541577826 std: 0.006663113006396548</td>\n    </tr>\n    <tr>\n      <th>34</th>\n      <td>SVC(C=201, gamma='auto')</td>\n      <td>Kernel: rbf</td>\n      <td>0.954128</td>\n      <td>0.950180</td>\n      <td>0.956023</td>\n      <td>m: 0.9541284403669725 std: 0.0</td>\n      <td>m: 0.9501797216032235 std: 0.0033712109649257083</td>\n      <td>m: 0.9560234541577826 std: 0.006663113006396548</td>\n    </tr>\n    <tr>\n      <th>35</th>\n      <td>SVC(C=301, gamma='auto')</td>\n      <td>Kernel: rbf</td>\n      <td>0.954128</td>\n      <td>0.950180</td>\n      <td>0.956023</td>\n      <td>m: 0.9541284403669725 std: 0.0</td>\n      <td>m: 0.9501797216032235 std: 0.0033712109649257083</td>\n      <td>m: 0.9560234541577826 std: 0.006663113006396548</td>\n    </tr>\n    <tr>\n      <th>36</th>\n      <td>SVC(C=1, gamma=0.001, kernel='linear')</td>\n      <td>Kernel: linear</td>\n      <td>0.949541</td>\n      <td>0.944353</td>\n      <td>0.952292</td>\n      <td>m: 0.9495412844036697 std: 0.00458715596330278</td>\n      <td>m: 0.9443530826112598 std: 0.0024554280270380757</td>\n      <td>m: 0.9522921108742004 std: 0.010394456289978704</td>\n    </tr>\n    <tr>\n      <th>40</th>\n      <td>SVC(C=1, kernel='linear')</td>\n      <td>Kernel: linear</td>\n      <td>0.949541</td>\n      <td>0.944353</td>\n      <td>0.952292</td>\n      <td>m: 0.9495412844036697 std: 0.00458715596330278</td>\n      <td>m: 0.9443530826112598 std: 0.0024554280270380757</td>\n      <td>m: 0.9522921108742004 std: 0.010394456289978704</td>\n    </tr>\n    <tr>\n      <th>27</th>\n      <td>SVC(C=301, gamma=0.001)</td>\n      <td>Kernel: rbf</td>\n      <td>0.949541</td>\n      <td>0.944353</td>\n      <td>0.952292</td>\n      <td>m: 0.9495412844036697 std: 0.00458715596330278</td>\n      <td>m: 0.9443530826112598 std: 0.0024554280270380757</td>\n      <td>m: 0.9522921108742004 std: 0.010394456289978704</td>\n    </tr>\n    <tr>\n      <th>44</th>\n      <td>SVC(C=1, gamma='auto', kernel='linear')</td>\n      <td>Kernel: linear</td>\n      <td>0.949541</td>\n      <td>0.944353</td>\n      <td>0.952292</td>\n      <td>m: 0.9495412844036697 std: 0.00458715596330278</td>\n      <td>m: 0.9443530826112598 std: 0.0024554280270380757</td>\n      <td>m: 0.9522921108742004 std: 0.010394456289978704</td>\n    </tr>\n    <tr>\n      <th>11</th>\n      <td>SVC(C=301, gamma='auto', kernel='sigmoid')</td>\n      <td>Kernel: sigmoid</td>\n      <td>0.944954</td>\n      <td>0.943777</td>\n      <td>0.939677</td>\n      <td>m: 0.9449541284403671 std: 0.009174311926605505</td>\n      <td>m: 0.9437769010043042 std: 0.009774031563845043</td>\n      <td>m: 0.9396766169154229 std: 0.009683724235963087</td>\n    </tr>\n    <tr>\n      <th>37</th>\n      <td>SVC(C=101, gamma=0.001, kernel='linear')</td>\n      <td>Kernel: linear</td>\n      <td>0.940367</td>\n      <td>0.936230</td>\n      <td>0.940387</td>\n      <td>m: 0.9403669724770642 std: 0.013761467889908285</td>\n      <td>m: 0.9362302626953928 std: 0.01732066987275649</td>\n      <td>m: 0.9403873489694385 std: 0.00897299218194747</td>\n    </tr>\n    <tr>\n      <th>38</th>\n      <td>SVC(C=201, gamma=0.001, kernel='linear')</td>\n      <td>Kernel: linear</td>\n      <td>0.940367</td>\n      <td>0.936230</td>\n      <td>0.940387</td>\n      <td>m: 0.9403669724770642 std: 0.013761467889908285</td>\n      <td>m: 0.9362302626953928 std: 0.01732066987275649</td>\n      <td>m: 0.9403873489694385 std: 0.00897299218194747</td>\n    </tr>\n    <tr>\n      <th>39</th>\n      <td>SVC(C=301, gamma=0.001, kernel='linear')</td>\n      <td>Kernel: linear</td>\n      <td>0.940367</td>\n      <td>0.936230</td>\n      <td>0.940387</td>\n      <td>m: 0.9403669724770642 std: 0.013761467889908285</td>\n      <td>m: 0.9362302626953928 std: 0.01732066987275649</td>\n      <td>m: 0.9403873489694385 std: 0.00897299218194747</td>\n    </tr>\n    <tr>\n      <th>47</th>\n      <td>SVC(C=301, gamma='auto', kernel='linear')</td>\n      <td>Kernel: linear</td>\n      <td>0.940367</td>\n      <td>0.936230</td>\n      <td>0.940387</td>\n      <td>m: 0.9403669724770642 std: 0.013761467889908285</td>\n      <td>m: 0.9362302626953928 std: 0.01732066987275649</td>\n      <td>m: 0.9403873489694385 std: 0.00897299218194747</td>\n    </tr>\n    <tr>\n      <th>42</th>\n      <td>SVC(C=201, kernel='linear')</td>\n      <td>Kernel: linear</td>\n      <td>0.940367</td>\n      <td>0.936230</td>\n      <td>0.940387</td>\n      <td>m: 0.9403669724770642 std: 0.013761467889908285</td>\n      <td>m: 0.9362302626953928 std: 0.01732066987275649</td>\n      <td>m: 0.9403873489694385 std: 0.00897299218194747</td>\n    </tr>\n    <tr>\n      <th>43</th>\n      <td>SVC(C=301, kernel='linear')</td>\n      <td>Kernel: linear</td>\n      <td>0.940367</td>\n      <td>0.936230</td>\n      <td>0.940387</td>\n      <td>m: 0.9403669724770642 std: 0.013761467889908285</td>\n      <td>m: 0.9362302626953928 std: 0.01732066987275649</td>\n      <td>m: 0.9403873489694385 std: 0.00897299218194747</td>\n    </tr>\n    <tr>\n      <th>45</th>\n      <td>SVC(C=101, gamma='auto', kernel='linear')</td>\n      <td>Kernel: linear</td>\n      <td>0.940367</td>\n      <td>0.936230</td>\n      <td>0.940387</td>\n      <td>m: 0.9403669724770642 std: 0.013761467889908285</td>\n      <td>m: 0.9362302626953928 std: 0.01732066987275649</td>\n      <td>m: 0.9403873489694385 std: 0.00897299218194747</td>\n    </tr>\n    <tr>\n      <th>46</th>\n      <td>SVC(C=201, gamma='auto', kernel='linear')</td>\n      <td>Kernel: linear</td>\n      <td>0.940367</td>\n      <td>0.936230</td>\n      <td>0.940387</td>\n      <td>m: 0.9403669724770642 std: 0.013761467889908285</td>\n      <td>m: 0.9362302626953928 std: 0.01732066987275649</td>\n      <td>m: 0.9403873489694385 std: 0.00897299218194747</td>\n    </tr>\n    <tr>\n      <th>10</th>\n      <td>SVC(C=201, gamma='auto', kernel='sigmoid')</td>\n      <td>Kernel: sigmoid</td>\n      <td>0.940367</td>\n      <td>0.938041</td>\n      <td>0.935945</td>\n      <td>m: 0.9403669724770642 std: 0.013761467889908285</td>\n      <td>m: 0.9380405693402225 std: 0.01551036322792676</td>\n      <td>m: 0.9359452736318409 std: 0.013415067519545132</td>\n    </tr>\n    <tr>\n      <th>9</th>\n      <td>SVC(C=101, gamma='auto', kernel='sigmoid')</td>\n      <td>Kernel: sigmoid</td>\n      <td>0.940367</td>\n      <td>0.936828</td>\n      <td>0.938166</td>\n      <td>m: 0.9403669724770642 std: 0.013761467889908285</td>\n      <td>m: 0.9368279138365222 std: 0.01672301873162707</td>\n      <td>m: 0.9381663113006398 std: 0.011194029850746301</td>\n    </tr>\n    <tr>\n      <th>41</th>\n      <td>SVC(C=101, kernel='linear')</td>\n      <td>Kernel: linear</td>\n      <td>0.940367</td>\n      <td>0.936230</td>\n      <td>0.940387</td>\n      <td>m: 0.9403669724770642 std: 0.013761467889908285</td>\n      <td>m: 0.9362302626953928 std: 0.01732066987275649</td>\n      <td>m: 0.9403873489694385 std: 0.00897299218194747</td>\n    </tr>\n    <tr>\n      <th>20</th>\n      <td>SVC(C=1, gamma='auto', kernel='poly')</td>\n      <td>Kernel: poly</td>\n      <td>0.935780</td>\n      <td>0.930769</td>\n      <td>0.938877</td>\n      <td>m: 0.9357798165137614 std: 0.027522935779816515</td>\n      <td>m: 0.9307691635499319 std: 0.030495939506215985</td>\n      <td>m: 0.9388770433546553 std: 0.022388059701492602</td>\n    </tr>\n    <tr>\n      <th>4</th>\n      <td>SVC(C=1, kernel='sigmoid')</td>\n      <td>Kernel: sigmoid</td>\n      <td>0.889908</td>\n      <td>0.892791</td>\n      <td>0.881574</td>\n      <td>m: 0.8899082568807339 std: 0.0</td>\n      <td>m: 0.8927907023465124 std: 0.011130866280938623</td>\n      <td>m: 0.8815742714996446 std: 0.015547263681592094</td>\n    </tr>\n    <tr>\n      <th>7</th>\n      <td>SVC(C=301, kernel='sigmoid')</td>\n      <td>Kernel: sigmoid</td>\n      <td>0.811927</td>\n      <td>0.805461</td>\n      <td>0.800373</td>\n      <td>m: 0.8119266055045872 std: 0.004587155963302725</td>\n      <td>m: 0.8054613402573416 std: 0.00827534163002519</td>\n      <td>m: 0.8003731343283582 std: 0.007373845060412165</td>\n    </tr>\n    <tr>\n      <th>6</th>\n      <td>SVC(C=201, kernel='sigmoid')</td>\n      <td>Kernel: sigmoid</td>\n      <td>0.811927</td>\n      <td>0.805461</td>\n      <td>0.800373</td>\n      <td>m: 0.8119266055045872 std: 0.004587155963302725</td>\n      <td>m: 0.8054613402573416 std: 0.00827534163002519</td>\n      <td>m: 0.8003731343283582 std: 0.007373845060412165</td>\n    </tr>\n    <tr>\n      <th>5</th>\n      <td>SVC(C=101, kernel='sigmoid')</td>\n      <td>Kernel: sigmoid</td>\n      <td>0.811927</td>\n      <td>0.805461</td>\n      <td>0.800373</td>\n      <td>m: 0.8119266055045872 std: 0.004587155963302725</td>\n      <td>m: 0.8054613402573416 std: 0.00827534163002519</td>\n      <td>m: 0.8003731343283582 std: 0.007373845060412165</td>\n    </tr>\n    <tr>\n      <th>0</th>\n      <td>SVC(C=1, gamma=0.001, kernel='sigmoid')</td>\n      <td>Kernel: sigmoid</td>\n      <td>0.614679</td>\n      <td>0.307339</td>\n      <td>0.500000</td>\n      <td>m: 0.6146788990825688 std: 0.0</td>\n      <td>m: 0.3073394495412844 std: 0.0</td>\n      <td>m: 0.5 std: 0.0</td>\n    </tr>\n    <tr>\n      <th>15</th>\n      <td>SVC(C=301, gamma=0.001, kernel='poly')</td>\n      <td>Kernel: poly</td>\n      <td>0.614679</td>\n      <td>0.307339</td>\n      <td>0.500000</td>\n      <td>m: 0.6146788990825688 std: 0.0</td>\n      <td>m: 0.3073394495412844 std: 0.0</td>\n      <td>m: 0.5 std: 0.0</td>\n    </tr>\n    <tr>\n      <th>14</th>\n      <td>SVC(C=201, gamma=0.001, kernel='poly')</td>\n      <td>Kernel: poly</td>\n      <td>0.614679</td>\n      <td>0.307339</td>\n      <td>0.500000</td>\n      <td>m: 0.6146788990825688 std: 0.0</td>\n      <td>m: 0.3073394495412844 std: 0.0</td>\n      <td>m: 0.5 std: 0.0</td>\n    </tr>\n    <tr>\n      <th>13</th>\n      <td>SVC(C=101, gamma=0.001, kernel='poly')</td>\n      <td>Kernel: poly</td>\n      <td>0.614679</td>\n      <td>0.307339</td>\n      <td>0.500000</td>\n      <td>m: 0.6146788990825688 std: 0.0</td>\n      <td>m: 0.3073394495412844 std: 0.0</td>\n      <td>m: 0.5 std: 0.0</td>\n    </tr>\n    <tr>\n      <th>12</th>\n      <td>SVC(C=1, gamma=0.001, kernel='poly')</td>\n      <td>Kernel: poly</td>\n      <td>0.614679</td>\n      <td>0.307339</td>\n      <td>0.500000</td>\n      <td>m: 0.6146788990825688 std: 0.0</td>\n      <td>m: 0.3073394495412844 std: 0.0</td>\n      <td>m: 0.5 std: 0.0</td>\n    </tr>\n    <tr>\n      <th>24</th>\n      <td>SVC(C=1, gamma=0.001)</td>\n      <td>Kernel: rbf</td>\n      <td>0.614679</td>\n      <td>0.307339</td>\n      <td>0.500000</td>\n      <td>m: 0.6146788990825688 std: 0.0</td>\n      <td>m: 0.3073394495412844 std: 0.0</td>\n      <td>m: 0.5 std: 0.0</td>\n    </tr>\n  </tbody>\n</table>\n</div>"
     },
     "metadata": {},
     "output_type": "display_data"
    },
    {
     "data": {
      "text/plain": "classifier              SVC(C=201, gamma=0.001, kernel='sigmoid')\narguments                                         Kernel: sigmoid\nmean_accuracy                                             0.96789\nmean_precision                                           0.962041\nmean_recall                                              0.973881\naccuracy           m: 0.9678899082568808 std: 0.01376146788990823\nprecision         m: 0.9620406189555126 std: 0.015232108317214721\nrecall            m: 0.9738805970149254 std: 0.011194029850746245\nName: 2, dtype: object"
     },
     "metadata": {},
     "output_type": "display_data"
    }
   ],
   "source": [
    "svm_results_vote = calculate_svm(votingDataLearn[votingDataLearn.columns[2:18]],\n",
    "                                 votingDataLearn[\"class\"])\n",
    "overall_results_vote.extend(svm_results_vote)\n",
    "\n",
    "print_results(svm_results_vote, \"mean_accuracy\")"
   ],
   "metadata": {
    "collapsed": false,
    "pycharm": {
     "name": "#%%\n"
    }
   }
  },
  {
   "cell_type": "markdown",
   "source": [
    "### Overall Results for Congressional Vote"
   ],
   "metadata": {
    "collapsed": false
   }
  },
  {
   "cell_type": "code",
   "execution_count": 13,
   "outputs": [
    {
     "data": {
      "text/plain": "'Results'"
     },
     "metadata": {},
     "output_type": "display_data"
    },
    {
     "data": {
      "text/plain": "                                           classifier  \\\n24  DecisionTreeClassifier(max_depth=5, min_sample...   \n38          SVC(C=301, gamma=0.001, kernel='sigmoid')   \n28  DecisionTreeClassifier(max_depth=7, min_sample...   \n20  DecisionTreeClassifier(max_depth=3, min_sample...   \n32  DecisionTreeClassifier(max_depth=9, min_sample...   \n..                                                ...   \n35            SVC(C=1, gamma=0.001, kernel='sigmoid')   \n59                              SVC(C=1, gamma=0.001)   \n47               SVC(C=1, gamma=0.001, kernel='poly')   \n48             SVC(C=101, gamma=0.001, kernel='poly')   \n26  DecisionTreeClassifier(max_depth=5, min_sample...   \n\n                         arguments  mean_accuracy  mean_precision  \\\n24   max Depth: 5, min Samples: 20       0.967890        0.962041   \n38                 Kernel: sigmoid       0.967890        0.962041   \n28   max Depth: 7, min Samples: 20       0.967890        0.962041   \n20   max Depth: 3, min Samples: 20       0.967890        0.962041   \n32   max Depth: 9, min Samples: 20       0.967890        0.962041   \n..                             ...            ...             ...   \n35                 Kernel: sigmoid       0.614679        0.307339   \n59                     Kernel: rbf       0.614679        0.307339   \n47                    Kernel: poly       0.614679        0.307339   \n48                    Kernel: poly       0.614679        0.307339   \n26  max Depth: 5, min Samples: 100       0.614679        0.307339   \n\n    mean_recall                                        accuracy  \\\n24     0.973881  m: 0.9678899082568808 std: 0.01376146788990823   \n38     0.973881  m: 0.9678899082568808 std: 0.01376146788990823   \n28     0.973881  m: 0.9678899082568808 std: 0.01376146788990823   \n20     0.973881  m: 0.9678899082568808 std: 0.01376146788990823   \n32     0.973881  m: 0.9678899082568808 std: 0.01376146788990823   \n..          ...                                             ...   \n35     0.500000                  m: 0.6146788990825688 std: 0.0   \n59     0.500000                  m: 0.6146788990825688 std: 0.0   \n47     0.500000                  m: 0.6146788990825688 std: 0.0   \n48     0.500000                  m: 0.6146788990825688 std: 0.0   \n26     0.500000                  m: 0.6146788990825688 std: 0.0   \n\n                                          precision  \\\n24  m: 0.9620406189555126 std: 0.015232108317214721   \n38  m: 0.9620406189555126 std: 0.015232108317214721   \n28  m: 0.9620406189555126 std: 0.015232108317214721   \n20  m: 0.9620406189555126 std: 0.015232108317214721   \n32  m: 0.9620406189555126 std: 0.015232108317214721   \n..                                              ...   \n35                   m: 0.3073394495412844 std: 0.0   \n59                   m: 0.3073394495412844 std: 0.0   \n47                   m: 0.3073394495412844 std: 0.0   \n48                   m: 0.3073394495412844 std: 0.0   \n26                   m: 0.3073394495412844 std: 0.0   \n\n                                             recall  \n24  m: 0.9738805970149254 std: 0.011194029850746245  \n38  m: 0.9738805970149254 std: 0.011194029850746245  \n28  m: 0.9738805970149254 std: 0.011194029850746245  \n20  m: 0.9738805970149254 std: 0.011194029850746245  \n32  m: 0.9738805970149254 std: 0.011194029850746245  \n..                                              ...  \n35                                  m: 0.5 std: 0.0  \n59                                  m: 0.5 std: 0.0  \n47                                  m: 0.5 std: 0.0  \n48                                  m: 0.5 std: 0.0  \n26                                  m: 0.5 std: 0.0  \n\n[83 rows x 8 columns]",
      "text/html": "<div>\n<style scoped>\n    .dataframe tbody tr th:only-of-type {\n        vertical-align: middle;\n    }\n\n    .dataframe tbody tr th {\n        vertical-align: top;\n    }\n\n    .dataframe thead th {\n        text-align: right;\n    }\n</style>\n<table border=\"1\" class=\"dataframe\">\n  <thead>\n    <tr style=\"text-align: right;\">\n      <th></th>\n      <th>classifier</th>\n      <th>arguments</th>\n      <th>mean_accuracy</th>\n      <th>mean_precision</th>\n      <th>mean_recall</th>\n      <th>accuracy</th>\n      <th>precision</th>\n      <th>recall</th>\n    </tr>\n  </thead>\n  <tbody>\n    <tr>\n      <th>24</th>\n      <td>DecisionTreeClassifier(max_depth=5, min_sample...</td>\n      <td>max Depth: 5, min Samples: 20</td>\n      <td>0.967890</td>\n      <td>0.962041</td>\n      <td>0.973881</td>\n      <td>m: 0.9678899082568808 std: 0.01376146788990823</td>\n      <td>m: 0.9620406189555126 std: 0.015232108317214721</td>\n      <td>m: 0.9738805970149254 std: 0.011194029850746245</td>\n    </tr>\n    <tr>\n      <th>38</th>\n      <td>SVC(C=301, gamma=0.001, kernel='sigmoid')</td>\n      <td>Kernel: sigmoid</td>\n      <td>0.967890</td>\n      <td>0.962041</td>\n      <td>0.973881</td>\n      <td>m: 0.9678899082568808 std: 0.01376146788990823</td>\n      <td>m: 0.9620406189555126 std: 0.015232108317214721</td>\n      <td>m: 0.9738805970149254 std: 0.011194029850746245</td>\n    </tr>\n    <tr>\n      <th>28</th>\n      <td>DecisionTreeClassifier(max_depth=7, min_sample...</td>\n      <td>max Depth: 7, min Samples: 20</td>\n      <td>0.967890</td>\n      <td>0.962041</td>\n      <td>0.973881</td>\n      <td>m: 0.9678899082568808 std: 0.01376146788990823</td>\n      <td>m: 0.9620406189555126 std: 0.015232108317214721</td>\n      <td>m: 0.9738805970149254 std: 0.011194029850746245</td>\n    </tr>\n    <tr>\n      <th>20</th>\n      <td>DecisionTreeClassifier(max_depth=3, min_sample...</td>\n      <td>max Depth: 3, min Samples: 20</td>\n      <td>0.967890</td>\n      <td>0.962041</td>\n      <td>0.973881</td>\n      <td>m: 0.9678899082568808 std: 0.01376146788990823</td>\n      <td>m: 0.9620406189555126 std: 0.015232108317214721</td>\n      <td>m: 0.9738805970149254 std: 0.011194029850746245</td>\n    </tr>\n    <tr>\n      <th>32</th>\n      <td>DecisionTreeClassifier(max_depth=9, min_sample...</td>\n      <td>max Depth: 9, min Samples: 20</td>\n      <td>0.967890</td>\n      <td>0.962041</td>\n      <td>0.973881</td>\n      <td>m: 0.9678899082568808 std: 0.01376146788990823</td>\n      <td>m: 0.9620406189555126 std: 0.015232108317214721</td>\n      <td>m: 0.9738805970149254 std: 0.011194029850746245</td>\n    </tr>\n    <tr>\n      <th>...</th>\n      <td>...</td>\n      <td>...</td>\n      <td>...</td>\n      <td>...</td>\n      <td>...</td>\n      <td>...</td>\n      <td>...</td>\n      <td>...</td>\n    </tr>\n    <tr>\n      <th>35</th>\n      <td>SVC(C=1, gamma=0.001, kernel='sigmoid')</td>\n      <td>Kernel: sigmoid</td>\n      <td>0.614679</td>\n      <td>0.307339</td>\n      <td>0.500000</td>\n      <td>m: 0.6146788990825688 std: 0.0</td>\n      <td>m: 0.3073394495412844 std: 0.0</td>\n      <td>m: 0.5 std: 0.0</td>\n    </tr>\n    <tr>\n      <th>59</th>\n      <td>SVC(C=1, gamma=0.001)</td>\n      <td>Kernel: rbf</td>\n      <td>0.614679</td>\n      <td>0.307339</td>\n      <td>0.500000</td>\n      <td>m: 0.6146788990825688 std: 0.0</td>\n      <td>m: 0.3073394495412844 std: 0.0</td>\n      <td>m: 0.5 std: 0.0</td>\n    </tr>\n    <tr>\n      <th>47</th>\n      <td>SVC(C=1, gamma=0.001, kernel='poly')</td>\n      <td>Kernel: poly</td>\n      <td>0.614679</td>\n      <td>0.307339</td>\n      <td>0.500000</td>\n      <td>m: 0.6146788990825688 std: 0.0</td>\n      <td>m: 0.3073394495412844 std: 0.0</td>\n      <td>m: 0.5 std: 0.0</td>\n    </tr>\n    <tr>\n      <th>48</th>\n      <td>SVC(C=101, gamma=0.001, kernel='poly')</td>\n      <td>Kernel: poly</td>\n      <td>0.614679</td>\n      <td>0.307339</td>\n      <td>0.500000</td>\n      <td>m: 0.6146788990825688 std: 0.0</td>\n      <td>m: 0.3073394495412844 std: 0.0</td>\n      <td>m: 0.5 std: 0.0</td>\n    </tr>\n    <tr>\n      <th>26</th>\n      <td>DecisionTreeClassifier(max_depth=5, min_sample...</td>\n      <td>max Depth: 5, min Samples: 100</td>\n      <td>0.614679</td>\n      <td>0.307339</td>\n      <td>0.500000</td>\n      <td>m: 0.6146788990825688 std: 0.0</td>\n      <td>m: 0.3073394495412844 std: 0.0</td>\n      <td>m: 0.5 std: 0.0</td>\n    </tr>\n  </tbody>\n</table>\n<p>83 rows × 8 columns</p>\n</div>"
     },
     "metadata": {},
     "output_type": "display_data"
    },
    {
     "data": {
      "text/plain": "classifier        DecisionTreeClassifier(max_depth=5, min_sample...\narguments                             max Depth: 5, min Samples: 20\nmean_accuracy                                               0.96789\nmean_precision                                             0.962041\nmean_recall                                                0.973881\naccuracy             m: 0.9678899082568808 std: 0.01376146788990823\nprecision           m: 0.9620406189555126 std: 0.015232108317214721\nrecall              m: 0.9738805970149254 std: 0.011194029850746245\nName: 24, dtype: object"
     },
     "metadata": {},
     "output_type": "display_data"
    }
   ],
   "source": [
    "print_results(overall_results_vote, \"mean_accuracy\")\n"
   ],
   "metadata": {
    "collapsed": false,
    "pycharm": {
     "name": "#%%\n"
    }
   }
  },
  {
   "cell_type": "markdown",
   "source": [
    "### Train submission file"
   ],
   "metadata": {
    "collapsed": false,
    "pycharm": {
     "name": "#%% md\n"
    }
   }
  },
  {
   "cell_type": "code",
   "execution_count": 14,
   "outputs": [
    {
     "name": "stderr",
     "output_type": "stream",
     "text": [
      "f:\\informatik\\tw_mle_exercise3\\venv\\lib\\site-packages\\sklearn\\impute\\_iterative.py:670: ConvergenceWarning: [IterativeImputer] Early stopping criterion not reached.\n",
      "  \" reached.\", ConvergenceWarning)\n"
     ]
    },
    {
     "data": {
      "text/plain": "'Finally recoded: '"
     },
     "metadata": {},
     "output_type": "display_data"
    },
    {
     "data": {
      "text/plain": "      ID       class\n0     13    democrat\n1    393  republican\n2    163    democrat\n3     57  republican\n4    148    democrat\n..   ...         ...\n212  359    democrat\n213  128    democrat\n214   27    democrat\n215  119    democrat\n216  133  republican\n\n[217 rows x 2 columns]",
      "text/html": "<div>\n<style scoped>\n    .dataframe tbody tr th:only-of-type {\n        vertical-align: middle;\n    }\n\n    .dataframe tbody tr th {\n        vertical-align: top;\n    }\n\n    .dataframe thead th {\n        text-align: right;\n    }\n</style>\n<table border=\"1\" class=\"dataframe\">\n  <thead>\n    <tr style=\"text-align: right;\">\n      <th></th>\n      <th>ID</th>\n      <th>class</th>\n    </tr>\n  </thead>\n  <tbody>\n    <tr>\n      <th>0</th>\n      <td>13</td>\n      <td>democrat</td>\n    </tr>\n    <tr>\n      <th>1</th>\n      <td>393</td>\n      <td>republican</td>\n    </tr>\n    <tr>\n      <th>2</th>\n      <td>163</td>\n      <td>democrat</td>\n    </tr>\n    <tr>\n      <th>3</th>\n      <td>57</td>\n      <td>republican</td>\n    </tr>\n    <tr>\n      <th>4</th>\n      <td>148</td>\n      <td>democrat</td>\n    </tr>\n    <tr>\n      <th>...</th>\n      <td>...</td>\n      <td>...</td>\n    </tr>\n    <tr>\n      <th>212</th>\n      <td>359</td>\n      <td>democrat</td>\n    </tr>\n    <tr>\n      <th>213</th>\n      <td>128</td>\n      <td>democrat</td>\n    </tr>\n    <tr>\n      <th>214</th>\n      <td>27</td>\n      <td>democrat</td>\n    </tr>\n    <tr>\n      <th>215</th>\n      <td>119</td>\n      <td>democrat</td>\n    </tr>\n    <tr>\n      <th>216</th>\n      <td>133</td>\n      <td>republican</td>\n    </tr>\n  </tbody>\n</table>\n<p>217 rows × 2 columns</p>\n</div>"
     },
     "metadata": {},
     "output_type": "display_data"
    }
   ],
   "source": [
    "#Required Imports\n",
    "from sklearn import svm\n",
    "from sklearn.experimental import enable_iterative_imputer\n",
    "from sklearn.impute import IterativeImputer\n",
    "import pandas as pd\n",
    "import numpy as np\n",
    "\n",
    "#Recode values for predicting variables\n",
    "def recode_voting_data(dataset):\n",
    "    dataset = dataset.replace('y', 1)\\\n",
    "        .replace('n', 0)\n",
    "    dataset[dataset.columns[1:18]] = dataset[dataset.columns[1:18]].astype('category')\n",
    "    return pd.DataFrame(dataset, columns=dataset.columns)\n",
    "\n",
    "#Imput missing values\n",
    "def input_missing_values(data):\n",
    "    columns = data.columns\n",
    "    imp = IterativeImputer(max_iter=10, random_state=0)\n",
    "    imp.fit(data.loc[:, data.columns != \"ID\"])\n",
    "    data.loc[:, data.columns != \"ID\"] = np.round(imp.transform(data.loc[:, data.columns != \"ID\"]))\n",
    "    data.loc[:, data.columns != \"ID\"] = data.loc[:, data.columns != \"ID\"].apply(lambda x: x.astype('int'))\n",
    "    return pd.DataFrame(data, columns=columns)\n",
    "\n",
    "#Read Data\n",
    "votingDataLearn = pd.read_csv(\"data/voting/CongressionalVotingID.shuf.lrn.csv\", na_values='unknown')\n",
    "votingDataTest = pd.read_csv(\"data/voting/CongressionalVotingID.shuf.tes.csv\", na_values='unknown')\n",
    "\n",
    "#Extract target variable\n",
    "votingDataLearn = votingDataLearn.replace('democrat', 2)\\\n",
    "    .replace('republican', 3)\n",
    "\n",
    "y = votingDataLearn[\"class\"]\n",
    "X = pd.DataFrame(votingDataLearn.drop([\"ID\", \"class\"], axis=1))\n",
    "\n",
    "X = recode_voting_data(X)\n",
    "X = input_missing_values(X)\n",
    "votingDataTest = recode_voting_data(votingDataTest)\n",
    "votingDataTest = input_missing_values(votingDataTest)\n",
    "\n",
    "#Calculate Model\n",
    "classifier = svm.SVC(kernel = \"rbf\", gamma=0.001, C=100)\n",
    "classifier.fit(X, y)\n",
    "\n",
    "#Predict the Test Data\n",
    "votingDataTest[\"class\"] = classifier.predict(votingDataTest[votingDataTest.columns[1:18]])\n",
    "\n",
    "#Recode to required output\n",
    "votingDataTest[\"class\"].replace({2: \"democrat\", 3: \"republican\"}, inplace=True)\n",
    "display(\"Finally recoded: \", votingDataTest[[\"ID\", \"class\"]])\n",
    "votingDataTest[[\"ID\", \"class\"]].to_csv(\"solution_voting.csv\", index = False)"
   ],
   "metadata": {
    "collapsed": false,
    "pycharm": {
     "name": "#%%\n"
    }
   }
  },
  {
   "cell_type": "code",
   "execution_count": 14,
   "outputs": [],
   "source": [],
   "metadata": {
    "collapsed": false,
    "pycharm": {
     "name": "#%%\n"
    }
   }
  },
  {
   "cell_type": "markdown",
   "metadata": {
    "collapsed": true,
    "pycharm": {
     "name": "#%% md\n"
    }
   },
   "source": [
    "## Amazon"
   ]
  },
  {
   "cell_type": "code",
   "execution_count": 15,
   "outputs": [
    {
     "data": {
      "text/plain": "'Original Data'"
     },
     "metadata": {},
     "output_type": "display_data"
    },
    {
     "data": {
      "text/plain": "      ID  V1  V2  V3  V4  V5  V6  V7  V8  V9  ...  V9992  V9993  V9994  V9995  \\\n0      0   9   5   5   9   7   0   8   7   1  ...      0      1      0      1   \n1      1  11   9  15  15   5  11  10   1   5  ...      0      0      0      0   \n2      2  11  10  13  12   6   5   0   3   1  ...      0      0      0      0   \n3      3  18   9   7   8   8   7  12   6   7  ...      0      1      0      0   \n4      4  11   7  10  11   4   5   1   8   4  ...      0      0      0      0   \n..   ...  ..  ..  ..  ..  ..  ..  ..  ..  ..  ...    ...    ...    ...    ...   \n745  745   5   5   8   2   8   0   5   1   2  ...      1      0      0      0   \n746  746  22  13   8  14   8  11   3   6   7  ...      6      0      2      0   \n747  747  10   3   5   5   7   1  14   2   6  ...      0      0      4      1   \n748  748   9  13   8   5  11   9   9   3   3  ...      0      0      0      1   \n749  749  12   5   8   4   7   5   0   3   4  ...      0      0      4      0   \n\n     V9996  V9997  V9998  V9999  V10000        Class  \n0        0      0      0      0       2        Power  \n1        0      0      0      0       0       Goonan  \n2        0      0      0      1       0      Merritt  \n3        0      1      0      0       1       Goonan  \n4        0      1      0      0       3         Corn  \n..     ...    ...    ...    ...     ...          ...  \n745      0      0      0      0       0      Chachra  \n746      0      2      0      0       0     Morrison  \n747      0      0      2      0       0      Sherwin  \n748      0      0      0      0       0  Blankenship  \n749      1      0      0      0       0     Davisson  \n\n[750 rows x 10002 columns]",
      "text/html": "<div>\n<style scoped>\n    .dataframe tbody tr th:only-of-type {\n        vertical-align: middle;\n    }\n\n    .dataframe tbody tr th {\n        vertical-align: top;\n    }\n\n    .dataframe thead th {\n        text-align: right;\n    }\n</style>\n<table border=\"1\" class=\"dataframe\">\n  <thead>\n    <tr style=\"text-align: right;\">\n      <th></th>\n      <th>ID</th>\n      <th>V1</th>\n      <th>V2</th>\n      <th>V3</th>\n      <th>V4</th>\n      <th>V5</th>\n      <th>V6</th>\n      <th>V7</th>\n      <th>V8</th>\n      <th>V9</th>\n      <th>...</th>\n      <th>V9992</th>\n      <th>V9993</th>\n      <th>V9994</th>\n      <th>V9995</th>\n      <th>V9996</th>\n      <th>V9997</th>\n      <th>V9998</th>\n      <th>V9999</th>\n      <th>V10000</th>\n      <th>Class</th>\n    </tr>\n  </thead>\n  <tbody>\n    <tr>\n      <th>0</th>\n      <td>0</td>\n      <td>9</td>\n      <td>5</td>\n      <td>5</td>\n      <td>9</td>\n      <td>7</td>\n      <td>0</td>\n      <td>8</td>\n      <td>7</td>\n      <td>1</td>\n      <td>...</td>\n      <td>0</td>\n      <td>1</td>\n      <td>0</td>\n      <td>1</td>\n      <td>0</td>\n      <td>0</td>\n      <td>0</td>\n      <td>0</td>\n      <td>2</td>\n      <td>Power</td>\n    </tr>\n    <tr>\n      <th>1</th>\n      <td>1</td>\n      <td>11</td>\n      <td>9</td>\n      <td>15</td>\n      <td>15</td>\n      <td>5</td>\n      <td>11</td>\n      <td>10</td>\n      <td>1</td>\n      <td>5</td>\n      <td>...</td>\n      <td>0</td>\n      <td>0</td>\n      <td>0</td>\n      <td>0</td>\n      <td>0</td>\n      <td>0</td>\n      <td>0</td>\n      <td>0</td>\n      <td>0</td>\n      <td>Goonan</td>\n    </tr>\n    <tr>\n      <th>2</th>\n      <td>2</td>\n      <td>11</td>\n      <td>10</td>\n      <td>13</td>\n      <td>12</td>\n      <td>6</td>\n      <td>5</td>\n      <td>0</td>\n      <td>3</td>\n      <td>1</td>\n      <td>...</td>\n      <td>0</td>\n      <td>0</td>\n      <td>0</td>\n      <td>0</td>\n      <td>0</td>\n      <td>0</td>\n      <td>0</td>\n      <td>1</td>\n      <td>0</td>\n      <td>Merritt</td>\n    </tr>\n    <tr>\n      <th>3</th>\n      <td>3</td>\n      <td>18</td>\n      <td>9</td>\n      <td>7</td>\n      <td>8</td>\n      <td>8</td>\n      <td>7</td>\n      <td>12</td>\n      <td>6</td>\n      <td>7</td>\n      <td>...</td>\n      <td>0</td>\n      <td>1</td>\n      <td>0</td>\n      <td>0</td>\n      <td>0</td>\n      <td>1</td>\n      <td>0</td>\n      <td>0</td>\n      <td>1</td>\n      <td>Goonan</td>\n    </tr>\n    <tr>\n      <th>4</th>\n      <td>4</td>\n      <td>11</td>\n      <td>7</td>\n      <td>10</td>\n      <td>11</td>\n      <td>4</td>\n      <td>5</td>\n      <td>1</td>\n      <td>8</td>\n      <td>4</td>\n      <td>...</td>\n      <td>0</td>\n      <td>0</td>\n      <td>0</td>\n      <td>0</td>\n      <td>0</td>\n      <td>1</td>\n      <td>0</td>\n      <td>0</td>\n      <td>3</td>\n      <td>Corn</td>\n    </tr>\n    <tr>\n      <th>...</th>\n      <td>...</td>\n      <td>...</td>\n      <td>...</td>\n      <td>...</td>\n      <td>...</td>\n      <td>...</td>\n      <td>...</td>\n      <td>...</td>\n      <td>...</td>\n      <td>...</td>\n      <td>...</td>\n      <td>...</td>\n      <td>...</td>\n      <td>...</td>\n      <td>...</td>\n      <td>...</td>\n      <td>...</td>\n      <td>...</td>\n      <td>...</td>\n      <td>...</td>\n      <td>...</td>\n    </tr>\n    <tr>\n      <th>745</th>\n      <td>745</td>\n      <td>5</td>\n      <td>5</td>\n      <td>8</td>\n      <td>2</td>\n      <td>8</td>\n      <td>0</td>\n      <td>5</td>\n      <td>1</td>\n      <td>2</td>\n      <td>...</td>\n      <td>1</td>\n      <td>0</td>\n      <td>0</td>\n      <td>0</td>\n      <td>0</td>\n      <td>0</td>\n      <td>0</td>\n      <td>0</td>\n      <td>0</td>\n      <td>Chachra</td>\n    </tr>\n    <tr>\n      <th>746</th>\n      <td>746</td>\n      <td>22</td>\n      <td>13</td>\n      <td>8</td>\n      <td>14</td>\n      <td>8</td>\n      <td>11</td>\n      <td>3</td>\n      <td>6</td>\n      <td>7</td>\n      <td>...</td>\n      <td>6</td>\n      <td>0</td>\n      <td>2</td>\n      <td>0</td>\n      <td>0</td>\n      <td>2</td>\n      <td>0</td>\n      <td>0</td>\n      <td>0</td>\n      <td>Morrison</td>\n    </tr>\n    <tr>\n      <th>747</th>\n      <td>747</td>\n      <td>10</td>\n      <td>3</td>\n      <td>5</td>\n      <td>5</td>\n      <td>7</td>\n      <td>1</td>\n      <td>14</td>\n      <td>2</td>\n      <td>6</td>\n      <td>...</td>\n      <td>0</td>\n      <td>0</td>\n      <td>4</td>\n      <td>1</td>\n      <td>0</td>\n      <td>0</td>\n      <td>2</td>\n      <td>0</td>\n      <td>0</td>\n      <td>Sherwin</td>\n    </tr>\n    <tr>\n      <th>748</th>\n      <td>748</td>\n      <td>9</td>\n      <td>13</td>\n      <td>8</td>\n      <td>5</td>\n      <td>11</td>\n      <td>9</td>\n      <td>9</td>\n      <td>3</td>\n      <td>3</td>\n      <td>...</td>\n      <td>0</td>\n      <td>0</td>\n      <td>0</td>\n      <td>1</td>\n      <td>0</td>\n      <td>0</td>\n      <td>0</td>\n      <td>0</td>\n      <td>0</td>\n      <td>Blankenship</td>\n    </tr>\n    <tr>\n      <th>749</th>\n      <td>749</td>\n      <td>12</td>\n      <td>5</td>\n      <td>8</td>\n      <td>4</td>\n      <td>7</td>\n      <td>5</td>\n      <td>0</td>\n      <td>3</td>\n      <td>4</td>\n      <td>...</td>\n      <td>0</td>\n      <td>0</td>\n      <td>4</td>\n      <td>0</td>\n      <td>1</td>\n      <td>0</td>\n      <td>0</td>\n      <td>0</td>\n      <td>0</td>\n      <td>Davisson</td>\n    </tr>\n  </tbody>\n</table>\n<p>750 rows × 10002 columns</p>\n</div>"
     },
     "metadata": {},
     "output_type": "display_data"
    },
    {
     "data": {
      "text/plain": "'Recoded Data'"
     },
     "metadata": {},
     "output_type": "display_data"
    },
    {
     "data": {
      "text/plain": "      ID  V1  V2  V3  V4  V5  V6  V7  V8  V9  ...  V9992  V9993  V9994  V9995  \\\n0      0   9   5   5   9   7   0   8   7   1  ...      0      1      0      1   \n1      1  11   9  15  15   5  11  10   1   5  ...      0      0      0      0   \n2      2  11  10  13  12   6   5   0   3   1  ...      0      0      0      0   \n3      3  18   9   7   8   8   7  12   6   7  ...      0      1      0      0   \n4      4  11   7  10  11   4   5   1   8   4  ...      0      0      0      0   \n..   ...  ..  ..  ..  ..  ..  ..  ..  ..  ..  ...    ...    ...    ...    ...   \n745  745   5   5   8   2   8   0   5   1   2  ...      1      0      0      0   \n746  746  22  13   8  14   8  11   3   6   7  ...      6      0      2      0   \n747  747  10   3   5   5   7   1  14   2   6  ...      0      0      4      1   \n748  748   9  13   8   5  11   9   9   3   3  ...      0      0      0      1   \n749  749  12   5   8   4   7   5   0   3   4  ...      0      0      4      0   \n\n     V9996  V9997  V9998  V9999  V10000  Class  \n0        0      0      0      0       2     40  \n1        0      0      0      0       0     19  \n2        0      0      0      1       0     33  \n3        0      1      0      0       1     19  \n4        0      1      0      0       3     14  \n..     ...    ...    ...    ...     ...    ...  \n745      0      0      0      0       0      9  \n746      0      2      0      0       0     36  \n747      0      0      2      0       0     44  \n748      0      0      0      0       0      3  \n749      1      0      0      0       0     16  \n\n[750 rows x 10002 columns]",
      "text/html": "<div>\n<style scoped>\n    .dataframe tbody tr th:only-of-type {\n        vertical-align: middle;\n    }\n\n    .dataframe tbody tr th {\n        vertical-align: top;\n    }\n\n    .dataframe thead th {\n        text-align: right;\n    }\n</style>\n<table border=\"1\" class=\"dataframe\">\n  <thead>\n    <tr style=\"text-align: right;\">\n      <th></th>\n      <th>ID</th>\n      <th>V1</th>\n      <th>V2</th>\n      <th>V3</th>\n      <th>V4</th>\n      <th>V5</th>\n      <th>V6</th>\n      <th>V7</th>\n      <th>V8</th>\n      <th>V9</th>\n      <th>...</th>\n      <th>V9992</th>\n      <th>V9993</th>\n      <th>V9994</th>\n      <th>V9995</th>\n      <th>V9996</th>\n      <th>V9997</th>\n      <th>V9998</th>\n      <th>V9999</th>\n      <th>V10000</th>\n      <th>Class</th>\n    </tr>\n  </thead>\n  <tbody>\n    <tr>\n      <th>0</th>\n      <td>0</td>\n      <td>9</td>\n      <td>5</td>\n      <td>5</td>\n      <td>9</td>\n      <td>7</td>\n      <td>0</td>\n      <td>8</td>\n      <td>7</td>\n      <td>1</td>\n      <td>...</td>\n      <td>0</td>\n      <td>1</td>\n      <td>0</td>\n      <td>1</td>\n      <td>0</td>\n      <td>0</td>\n      <td>0</td>\n      <td>0</td>\n      <td>2</td>\n      <td>40</td>\n    </tr>\n    <tr>\n      <th>1</th>\n      <td>1</td>\n      <td>11</td>\n      <td>9</td>\n      <td>15</td>\n      <td>15</td>\n      <td>5</td>\n      <td>11</td>\n      <td>10</td>\n      <td>1</td>\n      <td>5</td>\n      <td>...</td>\n      <td>0</td>\n      <td>0</td>\n      <td>0</td>\n      <td>0</td>\n      <td>0</td>\n      <td>0</td>\n      <td>0</td>\n      <td>0</td>\n      <td>0</td>\n      <td>19</td>\n    </tr>\n    <tr>\n      <th>2</th>\n      <td>2</td>\n      <td>11</td>\n      <td>10</td>\n      <td>13</td>\n      <td>12</td>\n      <td>6</td>\n      <td>5</td>\n      <td>0</td>\n      <td>3</td>\n      <td>1</td>\n      <td>...</td>\n      <td>0</td>\n      <td>0</td>\n      <td>0</td>\n      <td>0</td>\n      <td>0</td>\n      <td>0</td>\n      <td>0</td>\n      <td>1</td>\n      <td>0</td>\n      <td>33</td>\n    </tr>\n    <tr>\n      <th>3</th>\n      <td>3</td>\n      <td>18</td>\n      <td>9</td>\n      <td>7</td>\n      <td>8</td>\n      <td>8</td>\n      <td>7</td>\n      <td>12</td>\n      <td>6</td>\n      <td>7</td>\n      <td>...</td>\n      <td>0</td>\n      <td>1</td>\n      <td>0</td>\n      <td>0</td>\n      <td>0</td>\n      <td>1</td>\n      <td>0</td>\n      <td>0</td>\n      <td>1</td>\n      <td>19</td>\n    </tr>\n    <tr>\n      <th>4</th>\n      <td>4</td>\n      <td>11</td>\n      <td>7</td>\n      <td>10</td>\n      <td>11</td>\n      <td>4</td>\n      <td>5</td>\n      <td>1</td>\n      <td>8</td>\n      <td>4</td>\n      <td>...</td>\n      <td>0</td>\n      <td>0</td>\n      <td>0</td>\n      <td>0</td>\n      <td>0</td>\n      <td>1</td>\n      <td>0</td>\n      <td>0</td>\n      <td>3</td>\n      <td>14</td>\n    </tr>\n    <tr>\n      <th>...</th>\n      <td>...</td>\n      <td>...</td>\n      <td>...</td>\n      <td>...</td>\n      <td>...</td>\n      <td>...</td>\n      <td>...</td>\n      <td>...</td>\n      <td>...</td>\n      <td>...</td>\n      <td>...</td>\n      <td>...</td>\n      <td>...</td>\n      <td>...</td>\n      <td>...</td>\n      <td>...</td>\n      <td>...</td>\n      <td>...</td>\n      <td>...</td>\n      <td>...</td>\n      <td>...</td>\n    </tr>\n    <tr>\n      <th>745</th>\n      <td>745</td>\n      <td>5</td>\n      <td>5</td>\n      <td>8</td>\n      <td>2</td>\n      <td>8</td>\n      <td>0</td>\n      <td>5</td>\n      <td>1</td>\n      <td>2</td>\n      <td>...</td>\n      <td>1</td>\n      <td>0</td>\n      <td>0</td>\n      <td>0</td>\n      <td>0</td>\n      <td>0</td>\n      <td>0</td>\n      <td>0</td>\n      <td>0</td>\n      <td>9</td>\n    </tr>\n    <tr>\n      <th>746</th>\n      <td>746</td>\n      <td>22</td>\n      <td>13</td>\n      <td>8</td>\n      <td>14</td>\n      <td>8</td>\n      <td>11</td>\n      <td>3</td>\n      <td>6</td>\n      <td>7</td>\n      <td>...</td>\n      <td>6</td>\n      <td>0</td>\n      <td>2</td>\n      <td>0</td>\n      <td>0</td>\n      <td>2</td>\n      <td>0</td>\n      <td>0</td>\n      <td>0</td>\n      <td>36</td>\n    </tr>\n    <tr>\n      <th>747</th>\n      <td>747</td>\n      <td>10</td>\n      <td>3</td>\n      <td>5</td>\n      <td>5</td>\n      <td>7</td>\n      <td>1</td>\n      <td>14</td>\n      <td>2</td>\n      <td>6</td>\n      <td>...</td>\n      <td>0</td>\n      <td>0</td>\n      <td>4</td>\n      <td>1</td>\n      <td>0</td>\n      <td>0</td>\n      <td>2</td>\n      <td>0</td>\n      <td>0</td>\n      <td>44</td>\n    </tr>\n    <tr>\n      <th>748</th>\n      <td>748</td>\n      <td>9</td>\n      <td>13</td>\n      <td>8</td>\n      <td>5</td>\n      <td>11</td>\n      <td>9</td>\n      <td>9</td>\n      <td>3</td>\n      <td>3</td>\n      <td>...</td>\n      <td>0</td>\n      <td>0</td>\n      <td>0</td>\n      <td>1</td>\n      <td>0</td>\n      <td>0</td>\n      <td>0</td>\n      <td>0</td>\n      <td>0</td>\n      <td>3</td>\n    </tr>\n    <tr>\n      <th>749</th>\n      <td>749</td>\n      <td>12</td>\n      <td>5</td>\n      <td>8</td>\n      <td>4</td>\n      <td>7</td>\n      <td>5</td>\n      <td>0</td>\n      <td>3</td>\n      <td>4</td>\n      <td>...</td>\n      <td>0</td>\n      <td>0</td>\n      <td>4</td>\n      <td>0</td>\n      <td>1</td>\n      <td>0</td>\n      <td>0</td>\n      <td>0</td>\n      <td>0</td>\n      <td>16</td>\n    </tr>\n  </tbody>\n</table>\n<p>750 rows × 10002 columns</p>\n</div>"
     },
     "metadata": {},
     "output_type": "display_data"
    },
    {
     "data": {
      "text/plain": "'Data: '"
     },
     "metadata": {},
     "output_type": "display_data"
    },
    {
     "data": {
      "text/plain": "     V1  V2  V3  V4  V5  V6  V7  V8  V9  V10  ...  V9991  V9992  V9993  V9994  \\\n0     9   5   5   9   7   0   8   7   1    5  ...      0      0      1      0   \n1    11   9  15  15   5  11  10   1   5    7  ...      0      0      0      0   \n2    11  10  13  12   6   5   0   3   1    1  ...      1      0      0      0   \n3    18   9   7   8   8   7  12   6   7    1  ...      0      0      1      0   \n4    11   7  10  11   4   5   1   8   4    4  ...      0      0      0      0   \n..   ..  ..  ..  ..  ..  ..  ..  ..  ..  ...  ...    ...    ...    ...    ...   \n745   5   5   8   2   8   0   5   1   2    3  ...      0      1      0      0   \n746  22  13   8  14   8  11   3   6   7    6  ...      0      6      0      2   \n747  10   3   5   5   7   1  14   2   6    1  ...      0      0      0      4   \n748   9  13   8   5  11   9   9   3   3    6  ...      0      0      0      0   \n749  12   5   8   4   7   5   0   3   4    4  ...      0      0      0      4   \n\n     V9995  V9996  V9997  V9998  V9999  V10000  \n0        1      0      0      0      0       2  \n1        0      0      0      0      0       0  \n2        0      0      0      0      1       0  \n3        0      0      1      0      0       1  \n4        0      0      1      0      0       3  \n..     ...    ...    ...    ...    ...     ...  \n745      0      0      0      0      0       0  \n746      0      0      2      0      0       0  \n747      1      0      0      2      0       0  \n748      1      0      0      0      0       0  \n749      0      1      0      0      0       0  \n\n[750 rows x 10000 columns]",
      "text/html": "<div>\n<style scoped>\n    .dataframe tbody tr th:only-of-type {\n        vertical-align: middle;\n    }\n\n    .dataframe tbody tr th {\n        vertical-align: top;\n    }\n\n    .dataframe thead th {\n        text-align: right;\n    }\n</style>\n<table border=\"1\" class=\"dataframe\">\n  <thead>\n    <tr style=\"text-align: right;\">\n      <th></th>\n      <th>V1</th>\n      <th>V2</th>\n      <th>V3</th>\n      <th>V4</th>\n      <th>V5</th>\n      <th>V6</th>\n      <th>V7</th>\n      <th>V8</th>\n      <th>V9</th>\n      <th>V10</th>\n      <th>...</th>\n      <th>V9991</th>\n      <th>V9992</th>\n      <th>V9993</th>\n      <th>V9994</th>\n      <th>V9995</th>\n      <th>V9996</th>\n      <th>V9997</th>\n      <th>V9998</th>\n      <th>V9999</th>\n      <th>V10000</th>\n    </tr>\n  </thead>\n  <tbody>\n    <tr>\n      <th>0</th>\n      <td>9</td>\n      <td>5</td>\n      <td>5</td>\n      <td>9</td>\n      <td>7</td>\n      <td>0</td>\n      <td>8</td>\n      <td>7</td>\n      <td>1</td>\n      <td>5</td>\n      <td>...</td>\n      <td>0</td>\n      <td>0</td>\n      <td>1</td>\n      <td>0</td>\n      <td>1</td>\n      <td>0</td>\n      <td>0</td>\n      <td>0</td>\n      <td>0</td>\n      <td>2</td>\n    </tr>\n    <tr>\n      <th>1</th>\n      <td>11</td>\n      <td>9</td>\n      <td>15</td>\n      <td>15</td>\n      <td>5</td>\n      <td>11</td>\n      <td>10</td>\n      <td>1</td>\n      <td>5</td>\n      <td>7</td>\n      <td>...</td>\n      <td>0</td>\n      <td>0</td>\n      <td>0</td>\n      <td>0</td>\n      <td>0</td>\n      <td>0</td>\n      <td>0</td>\n      <td>0</td>\n      <td>0</td>\n      <td>0</td>\n    </tr>\n    <tr>\n      <th>2</th>\n      <td>11</td>\n      <td>10</td>\n      <td>13</td>\n      <td>12</td>\n      <td>6</td>\n      <td>5</td>\n      <td>0</td>\n      <td>3</td>\n      <td>1</td>\n      <td>1</td>\n      <td>...</td>\n      <td>1</td>\n      <td>0</td>\n      <td>0</td>\n      <td>0</td>\n      <td>0</td>\n      <td>0</td>\n      <td>0</td>\n      <td>0</td>\n      <td>1</td>\n      <td>0</td>\n    </tr>\n    <tr>\n      <th>3</th>\n      <td>18</td>\n      <td>9</td>\n      <td>7</td>\n      <td>8</td>\n      <td>8</td>\n      <td>7</td>\n      <td>12</td>\n      <td>6</td>\n      <td>7</td>\n      <td>1</td>\n      <td>...</td>\n      <td>0</td>\n      <td>0</td>\n      <td>1</td>\n      <td>0</td>\n      <td>0</td>\n      <td>0</td>\n      <td>1</td>\n      <td>0</td>\n      <td>0</td>\n      <td>1</td>\n    </tr>\n    <tr>\n      <th>4</th>\n      <td>11</td>\n      <td>7</td>\n      <td>10</td>\n      <td>11</td>\n      <td>4</td>\n      <td>5</td>\n      <td>1</td>\n      <td>8</td>\n      <td>4</td>\n      <td>4</td>\n      <td>...</td>\n      <td>0</td>\n      <td>0</td>\n      <td>0</td>\n      <td>0</td>\n      <td>0</td>\n      <td>0</td>\n      <td>1</td>\n      <td>0</td>\n      <td>0</td>\n      <td>3</td>\n    </tr>\n    <tr>\n      <th>...</th>\n      <td>...</td>\n      <td>...</td>\n      <td>...</td>\n      <td>...</td>\n      <td>...</td>\n      <td>...</td>\n      <td>...</td>\n      <td>...</td>\n      <td>...</td>\n      <td>...</td>\n      <td>...</td>\n      <td>...</td>\n      <td>...</td>\n      <td>...</td>\n      <td>...</td>\n      <td>...</td>\n      <td>...</td>\n      <td>...</td>\n      <td>...</td>\n      <td>...</td>\n      <td>...</td>\n    </tr>\n    <tr>\n      <th>745</th>\n      <td>5</td>\n      <td>5</td>\n      <td>8</td>\n      <td>2</td>\n      <td>8</td>\n      <td>0</td>\n      <td>5</td>\n      <td>1</td>\n      <td>2</td>\n      <td>3</td>\n      <td>...</td>\n      <td>0</td>\n      <td>1</td>\n      <td>0</td>\n      <td>0</td>\n      <td>0</td>\n      <td>0</td>\n      <td>0</td>\n      <td>0</td>\n      <td>0</td>\n      <td>0</td>\n    </tr>\n    <tr>\n      <th>746</th>\n      <td>22</td>\n      <td>13</td>\n      <td>8</td>\n      <td>14</td>\n      <td>8</td>\n      <td>11</td>\n      <td>3</td>\n      <td>6</td>\n      <td>7</td>\n      <td>6</td>\n      <td>...</td>\n      <td>0</td>\n      <td>6</td>\n      <td>0</td>\n      <td>2</td>\n      <td>0</td>\n      <td>0</td>\n      <td>2</td>\n      <td>0</td>\n      <td>0</td>\n      <td>0</td>\n    </tr>\n    <tr>\n      <th>747</th>\n      <td>10</td>\n      <td>3</td>\n      <td>5</td>\n      <td>5</td>\n      <td>7</td>\n      <td>1</td>\n      <td>14</td>\n      <td>2</td>\n      <td>6</td>\n      <td>1</td>\n      <td>...</td>\n      <td>0</td>\n      <td>0</td>\n      <td>0</td>\n      <td>4</td>\n      <td>1</td>\n      <td>0</td>\n      <td>0</td>\n      <td>2</td>\n      <td>0</td>\n      <td>0</td>\n    </tr>\n    <tr>\n      <th>748</th>\n      <td>9</td>\n      <td>13</td>\n      <td>8</td>\n      <td>5</td>\n      <td>11</td>\n      <td>9</td>\n      <td>9</td>\n      <td>3</td>\n      <td>3</td>\n      <td>6</td>\n      <td>...</td>\n      <td>0</td>\n      <td>0</td>\n      <td>0</td>\n      <td>0</td>\n      <td>1</td>\n      <td>0</td>\n      <td>0</td>\n      <td>0</td>\n      <td>0</td>\n      <td>0</td>\n    </tr>\n    <tr>\n      <th>749</th>\n      <td>12</td>\n      <td>5</td>\n      <td>8</td>\n      <td>4</td>\n      <td>7</td>\n      <td>5</td>\n      <td>0</td>\n      <td>3</td>\n      <td>4</td>\n      <td>4</td>\n      <td>...</td>\n      <td>0</td>\n      <td>0</td>\n      <td>0</td>\n      <td>4</td>\n      <td>0</td>\n      <td>1</td>\n      <td>0</td>\n      <td>0</td>\n      <td>0</td>\n      <td>0</td>\n    </tr>\n  </tbody>\n</table>\n<p>750 rows × 10000 columns</p>\n</div>"
     },
     "metadata": {},
     "output_type": "display_data"
    },
    {
     "data": {
      "text/plain": "'Target: '"
     },
     "metadata": {},
     "output_type": "display_data"
    },
    {
     "data": {
      "text/plain": "0      40\n1      19\n2      33\n3      19\n4      14\n       ..\n745     9\n746    36\n747    44\n748     3\n749    16\nName: Class, Length: 750, dtype: category\nCategories (50, int64): [0, 1, 2, 3, ..., 46, 47, 48, 49]"
     },
     "metadata": {},
     "output_type": "display_data"
    }
   ],
   "source": [
    "from sklearn import preprocessing\n",
    "#Read Data\n",
    "amazonDataLearn = pd.read_csv(\"data/amazon/amazon_review_ID.shuf.lrn.csv\")\n",
    "amazonDataSolutionExample = pd.read_csv(\"data/amazon/amazon_review_ID.shuf.sol.ex.csv\")\n",
    "amazonDataTest = pd.read_csv(\"data/amazon/amazon_review_ID.shuf.tes.csv\")\n",
    "display(\"Original Data\", amazonDataLearn)\n",
    "\n",
    "#Recode values\n",
    "#For One Hot Encoding of Class\n",
    "#amazonDataLearn = pd.concat([amazonDataLearn, pd.get_dummies(amazonDataLearn[\"Class\"], prefix='author_',drop_first=False)], axis=1)\n",
    "#amazonDataLearn.drop(['Class'],axis=1, inplace=True)\n",
    "#names_target = amazonDataLearn.loc[:, amazonDataLearn.columns.str.startswith('author_')]\n",
    "#amazonDataLearn[names_target.columns] = amazonDataLearn[names_target.columns].apply(lambda x: x.astype('category'))\n",
    "\n",
    "# For Label Encoding\n",
    "le = preprocessing.LabelEncoder()\n",
    "le.fit(amazonDataLearn['Class'])\n",
    "amazonDataLearn['Class'] = le.transform(amazonDataLearn['Class'])\n",
    "amazonDataLearn['Class'] = amazonDataLearn['Class'].astype('category')\n",
    "\n",
    "names_data = amazonDataLearn.loc[:, amazonDataLearn.columns.str.startswith('V')]\n",
    "#amazonDataLearn[0:10000] = amazonDataLearn[0:10000].apply(lambda x: x.astype('int'))\n",
    "\n",
    "display(\"Recoded Data\", amazonDataLearn)\n",
    "\n",
    "amazon_data = amazonDataLearn[names_data.columns]\n",
    "amazon_target = amazonDataLearn[\"Class\"]\n",
    "\n",
    "display(\"Data: \", amazon_data)\n",
    "display(\"Target: \", amazon_target)"
   ],
   "metadata": {
    "collapsed": false,
    "pycharm": {
     "name": "#%%\n"
    }
   }
  },
  {
   "cell_type": "markdown",
   "source": [
    "### k-NN Calculation - Amazon"
   ],
   "metadata": {
    "collapsed": false,
    "pycharm": {
     "name": "#%% md\n"
    }
   }
  },
  {
   "cell_type": "code",
   "execution_count": 16,
   "outputs": [
    {
     "data": {
      "text/plain": "'Results'"
     },
     "metadata": {},
     "output_type": "display_data"
    },
    {
     "data": {
      "text/plain": "                            classifier arguments  mean_accuracy  \\\n0  KNeighborsClassifier(n_neighbors=1)     N = 1       0.189333   \n8  KNeighborsClassifier(n_neighbors=9)     N = 9       0.181333   \n7  KNeighborsClassifier(n_neighbors=8)     N = 8       0.165333   \n6  KNeighborsClassifier(n_neighbors=7)     N = 7       0.160000   \n1  KNeighborsClassifier(n_neighbors=2)     N = 2       0.158667   \n2  KNeighborsClassifier(n_neighbors=3)     N = 3       0.158667   \n3  KNeighborsClassifier(n_neighbors=4)     N = 4       0.157333   \n4               KNeighborsClassifier()     N = 5       0.152000   \n5  KNeighborsClassifier(n_neighbors=6)     N = 6       0.149333   \n\n   mean_precision  mean_recall  \\\n0        0.221973     0.186298   \n8        0.257977     0.177044   \n7        0.224061     0.161373   \n6        0.215498     0.154357   \n1        0.186586     0.153024   \n2        0.206490     0.153956   \n3        0.219340     0.153440   \n4        0.214569     0.147246   \n5        0.203144     0.143909   \n\n                                            accuracy  \\\n0   m: 0.18933333333333335 std: 0.007999999999999993   \n8                  m: 0.18133333333333335 std: 0.016   \n7   m: 0.16533333333333333 std: 0.010666666666666658   \n6  m: 0.15999999999999998 std: 0.0026666666666666644   \n1  m: 0.15866666666666668 std: 0.0013333333333333391   \n2   m: 0.15866666666666668 std: 0.009333333333333332   \n3  m: 0.15733333333333333 std: 0.0026666666666666644   \n4                 m: 0.152 std: 0.005333333333333329   \n5  m: 0.14933333333333332 std: 0.0026666666666666644   \n\n                                          precision  \\\n0  m: 0.22197284432114153 std: 0.029111542224545345   \n8  m: 0.25797659554105573 std: 0.023272033195189043   \n7   m: 0.22406133544227183 std: 0.02753761882072911   \n6   m: 0.21549759615252975 std: 0.03237130292225168   \n1  m: 0.18658579634160127 std: 0.016517866335590783   \n2  m: 0.20649049339482103 std: 0.038039835924981974   \n3   m: 0.21934005405400625 std: 0.01291024615980206   \n4   m: 0.2145693817754817 std: 0.023454336916958585   \n5  m: 0.20314402311534732 std: 0.015384498598469881   \n\n                                              recall  \n0   m: 0.18629761904761905 std: 0.006607142857142867  \n8    m: 0.17704365079365078 std: 0.01236904761904764  \n7   m: 0.16137301587301586 std: 0.010023809523809518  \n6   m: 0.15435714285714286 std: 0.003880952380952374  \n1    m: 0.1530238095238095 std: 0.001944444444444443  \n2    m: 0.1539563492063492 std: 0.007710317460317459  \n3   m: 0.15344047619047618 std: 0.002861111111111106  \n4   m: 0.14724603174603174 std: 0.006063492063492076  \n5  m: 0.14390873015873012 std: 0.0014563492063491973  ",
      "text/html": "<div>\n<style scoped>\n    .dataframe tbody tr th:only-of-type {\n        vertical-align: middle;\n    }\n\n    .dataframe tbody tr th {\n        vertical-align: top;\n    }\n\n    .dataframe thead th {\n        text-align: right;\n    }\n</style>\n<table border=\"1\" class=\"dataframe\">\n  <thead>\n    <tr style=\"text-align: right;\">\n      <th></th>\n      <th>classifier</th>\n      <th>arguments</th>\n      <th>mean_accuracy</th>\n      <th>mean_precision</th>\n      <th>mean_recall</th>\n      <th>accuracy</th>\n      <th>precision</th>\n      <th>recall</th>\n    </tr>\n  </thead>\n  <tbody>\n    <tr>\n      <th>0</th>\n      <td>KNeighborsClassifier(n_neighbors=1)</td>\n      <td>N = 1</td>\n      <td>0.189333</td>\n      <td>0.221973</td>\n      <td>0.186298</td>\n      <td>m: 0.18933333333333335 std: 0.007999999999999993</td>\n      <td>m: 0.22197284432114153 std: 0.029111542224545345</td>\n      <td>m: 0.18629761904761905 std: 0.006607142857142867</td>\n    </tr>\n    <tr>\n      <th>8</th>\n      <td>KNeighborsClassifier(n_neighbors=9)</td>\n      <td>N = 9</td>\n      <td>0.181333</td>\n      <td>0.257977</td>\n      <td>0.177044</td>\n      <td>m: 0.18133333333333335 std: 0.016</td>\n      <td>m: 0.25797659554105573 std: 0.023272033195189043</td>\n      <td>m: 0.17704365079365078 std: 0.01236904761904764</td>\n    </tr>\n    <tr>\n      <th>7</th>\n      <td>KNeighborsClassifier(n_neighbors=8)</td>\n      <td>N = 8</td>\n      <td>0.165333</td>\n      <td>0.224061</td>\n      <td>0.161373</td>\n      <td>m: 0.16533333333333333 std: 0.010666666666666658</td>\n      <td>m: 0.22406133544227183 std: 0.02753761882072911</td>\n      <td>m: 0.16137301587301586 std: 0.010023809523809518</td>\n    </tr>\n    <tr>\n      <th>6</th>\n      <td>KNeighborsClassifier(n_neighbors=7)</td>\n      <td>N = 7</td>\n      <td>0.160000</td>\n      <td>0.215498</td>\n      <td>0.154357</td>\n      <td>m: 0.15999999999999998 std: 0.0026666666666666644</td>\n      <td>m: 0.21549759615252975 std: 0.03237130292225168</td>\n      <td>m: 0.15435714285714286 std: 0.003880952380952374</td>\n    </tr>\n    <tr>\n      <th>1</th>\n      <td>KNeighborsClassifier(n_neighbors=2)</td>\n      <td>N = 2</td>\n      <td>0.158667</td>\n      <td>0.186586</td>\n      <td>0.153024</td>\n      <td>m: 0.15866666666666668 std: 0.0013333333333333391</td>\n      <td>m: 0.18658579634160127 std: 0.016517866335590783</td>\n      <td>m: 0.1530238095238095 std: 0.001944444444444443</td>\n    </tr>\n    <tr>\n      <th>2</th>\n      <td>KNeighborsClassifier(n_neighbors=3)</td>\n      <td>N = 3</td>\n      <td>0.158667</td>\n      <td>0.206490</td>\n      <td>0.153956</td>\n      <td>m: 0.15866666666666668 std: 0.009333333333333332</td>\n      <td>m: 0.20649049339482103 std: 0.038039835924981974</td>\n      <td>m: 0.1539563492063492 std: 0.007710317460317459</td>\n    </tr>\n    <tr>\n      <th>3</th>\n      <td>KNeighborsClassifier(n_neighbors=4)</td>\n      <td>N = 4</td>\n      <td>0.157333</td>\n      <td>0.219340</td>\n      <td>0.153440</td>\n      <td>m: 0.15733333333333333 std: 0.0026666666666666644</td>\n      <td>m: 0.21934005405400625 std: 0.01291024615980206</td>\n      <td>m: 0.15344047619047618 std: 0.002861111111111106</td>\n    </tr>\n    <tr>\n      <th>4</th>\n      <td>KNeighborsClassifier()</td>\n      <td>N = 5</td>\n      <td>0.152000</td>\n      <td>0.214569</td>\n      <td>0.147246</td>\n      <td>m: 0.152 std: 0.005333333333333329</td>\n      <td>m: 0.2145693817754817 std: 0.023454336916958585</td>\n      <td>m: 0.14724603174603174 std: 0.006063492063492076</td>\n    </tr>\n    <tr>\n      <th>5</th>\n      <td>KNeighborsClassifier(n_neighbors=6)</td>\n      <td>N = 6</td>\n      <td>0.149333</td>\n      <td>0.203144</td>\n      <td>0.143909</td>\n      <td>m: 0.14933333333333332 std: 0.0026666666666666644</td>\n      <td>m: 0.20314402311534732 std: 0.015384498598469881</td>\n      <td>m: 0.14390873015873012 std: 0.0014563492063491973</td>\n    </tr>\n  </tbody>\n</table>\n</div>"
     },
     "metadata": {},
     "output_type": "display_data"
    },
    {
     "data": {
      "text/plain": "classifier                     KNeighborsClassifier(n_neighbors=1)\narguments                                                    N = 1\nmean_accuracy                                             0.189333\nmean_precision                                            0.221973\nmean_recall                                               0.186298\naccuracy          m: 0.18933333333333335 std: 0.007999999999999993\nprecision         m: 0.22197284432114153 std: 0.029111542224545345\nrecall            m: 0.18629761904761905 std: 0.006607142857142867\nName: 0, dtype: object"
     },
     "metadata": {},
     "output_type": "display_data"
    }
   ],
   "source": [
    "knn_results_amazon = calculate_knn(amazon_data,\n",
    "                                   amazon_target)\n",
    "overall_results_amazon.extend(knn_results_amazon)\n",
    "\n",
    "print_results(knn_results_amazon, \"mean_accuracy\")"
   ],
   "metadata": {
    "collapsed": false,
    "pycharm": {
     "name": "#%%\n"
    }
   }
  },
  {
   "cell_type": "markdown",
   "source": [
    "### Perceptron - Amazon"
   ],
   "metadata": {
    "collapsed": false
   }
  },
  {
   "cell_type": "code",
   "execution_count": 17,
   "outputs": [
    {
     "data": {
      "text/plain": "'Results'"
     },
     "metadata": {},
     "output_type": "display_data"
    },
    {
     "data": {
      "text/plain": "     classifier            arguments  mean_accuracy  mean_precision  \\\n0  Perceptron()  No additional args.           0.28        0.400806   \n\n   mean_recall                            accuracy  \\\n0      0.27125  m: 0.28 std: 0.0026666666666666783   \n\n                                        precision  \\\n0  m: 0.4008061314854301 std: 0.05513438765878295   \n\n                                  recall  \n0  m: 0.27125 std: 0.0009484126984126984  ",
      "text/html": "<div>\n<style scoped>\n    .dataframe tbody tr th:only-of-type {\n        vertical-align: middle;\n    }\n\n    .dataframe tbody tr th {\n        vertical-align: top;\n    }\n\n    .dataframe thead th {\n        text-align: right;\n    }\n</style>\n<table border=\"1\" class=\"dataframe\">\n  <thead>\n    <tr style=\"text-align: right;\">\n      <th></th>\n      <th>classifier</th>\n      <th>arguments</th>\n      <th>mean_accuracy</th>\n      <th>mean_precision</th>\n      <th>mean_recall</th>\n      <th>accuracy</th>\n      <th>precision</th>\n      <th>recall</th>\n    </tr>\n  </thead>\n  <tbody>\n    <tr>\n      <th>0</th>\n      <td>Perceptron()</td>\n      <td>No additional args.</td>\n      <td>0.28</td>\n      <td>0.400806</td>\n      <td>0.27125</td>\n      <td>m: 0.28 std: 0.0026666666666666783</td>\n      <td>m: 0.4008061314854301 std: 0.05513438765878295</td>\n      <td>m: 0.27125 std: 0.0009484126984126984</td>\n    </tr>\n  </tbody>\n</table>\n</div>"
     },
     "metadata": {},
     "output_type": "display_data"
    },
    {
     "data": {
      "text/plain": "classifier                                          Perceptron()\narguments                                    No additional args.\nmean_accuracy                                               0.28\nmean_precision                                          0.400806\nmean_recall                                              0.27125\naccuracy                      m: 0.28 std: 0.0026666666666666783\nprecision         m: 0.4008061314854301 std: 0.05513438765878295\nrecall                     m: 0.27125 std: 0.0009484126984126984\nName: 0, dtype: object"
     },
     "metadata": {},
     "output_type": "display_data"
    }
   ],
   "source": [
    "perceptron_results_amazon = calculate_perceptron(amazon_data,\n",
    "                                                 amazon_target)\n",
    "overall_results_amazon.extend(perceptron_results_amazon)\n",
    "\n",
    "print_results(perceptron_results_amazon, \"mean_accuracy\")"
   ],
   "metadata": {
    "collapsed": false,
    "pycharm": {
     "name": "#%%\n"
    }
   }
  },
  {
   "cell_type": "markdown",
   "source": [
    "### Decision Tree - Amazon"
   ],
   "metadata": {
    "collapsed": false
   }
  },
  {
   "cell_type": "code",
   "execution_count": 18,
   "outputs": [
    {
     "data": {
      "text/plain": "'Results'"
     },
     "metadata": {},
     "output_type": "display_data"
    },
    {
     "data": {
      "text/plain": "                                           classifier  \\\n16  DecisionTreeClassifier(max_depth=9, min_sample...   \n12  DecisionTreeClassifier(max_depth=7, min_sample...   \n13  DecisionTreeClassifier(max_depth=7, min_sample...   \n17  DecisionTreeClassifier(max_depth=9, min_sample...   \n9   DecisionTreeClassifier(max_depth=5, min_sample...   \n8   DecisionTreeClassifier(max_depth=5, min_sample...   \n5   DecisionTreeClassifier(max_depth=3, min_sample...   \n10  DecisionTreeClassifier(max_depth=5, min_sample...   \n18  DecisionTreeClassifier(max_depth=9, min_sample...   \n14  DecisionTreeClassifier(max_depth=7, min_sample...   \n6   DecisionTreeClassifier(max_depth=3, min_sample...   \n4   DecisionTreeClassifier(max_depth=3, min_sample...   \n15  DecisionTreeClassifier(max_depth=7, min_sample...   \n19  DecisionTreeClassifier(max_depth=9, min_sample...   \n11  DecisionTreeClassifier(max_depth=5, min_sample...   \n7   DecisionTreeClassifier(max_depth=3, min_sample...   \n0   DecisionTreeClassifier(max_depth=1, min_sample...   \n3   DecisionTreeClassifier(max_depth=1, min_sample...   \n2   DecisionTreeClassifier(max_depth=1, min_sample...   \n1   DecisionTreeClassifier(max_depth=1, min_sample...   \n\n                         arguments  mean_accuracy  mean_precision  \\\n16    max Depth: 9, min Samples: 2       0.182667        0.173033   \n12    max Depth: 7, min Samples: 2       0.157333        0.123086   \n13   max Depth: 7, min Samples: 20       0.152000        0.046187   \n17   max Depth: 9, min Samples: 20       0.152000        0.046192   \n9    max Depth: 5, min Samples: 20       0.137333        0.035608   \n8     max Depth: 5, min Samples: 2       0.130667        0.100537   \n5    max Depth: 3, min Samples: 20       0.100000        0.019961   \n10   max Depth: 5, min Samples: 50       0.094667        0.010870   \n18   max Depth: 9, min Samples: 50       0.094667        0.010870   \n14   max Depth: 7, min Samples: 50       0.094667        0.010870   \n6    max Depth: 3, min Samples: 50       0.090667        0.009126   \n4     max Depth: 3, min Samples: 2       0.089333        0.060514   \n15  max Depth: 7, min Samples: 100       0.062667        0.003875   \n19  max Depth: 9, min Samples: 100       0.062667        0.003875   \n11  max Depth: 5, min Samples: 100       0.062667        0.003875   \n7   max Depth: 3, min Samples: 100       0.062667        0.003875   \n0     max Depth: 1, min Samples: 2       0.045333        0.020490   \n3   max Depth: 1, min Samples: 100       0.044000        0.001784   \n2    max Depth: 1, min Samples: 50       0.044000        0.002350   \n1    max Depth: 1, min Samples: 20       0.038667        0.003777   \n\n    mean_recall                                           accuracy  \\\n16     0.171095   m: 0.18266666666666664 std: 0.020000000000000004   \n12     0.141750   m: 0.15733333333333333 std: 0.013333333333333336   \n13     0.144262  m: 0.15200000000000002 std: 0.0026666666666666644   \n17     0.144262  m: 0.15200000000000002 std: 0.0026666666666666644   \n9      0.130833  m: 0.13733333333333334 std: 0.0040000000000000036   \n8      0.117639  m: 0.13066666666666665 std: 0.0026666666666666644   \n5      0.090020                   m: 0.1 std: 0.012000000000000004   \n10     0.083333  m: 0.09466666666666668 std: 0.0013333333333333322   \n18     0.083333  m: 0.09466666666666668 std: 0.0013333333333333322   \n14     0.083333  m: 0.09466666666666668 std: 0.0013333333333333322   \n6      0.079444  m: 0.09066666666666667 std: 0.0026666666666666713   \n4      0.078889  m: 0.08933333333333333 std: 0.0013333333333333391   \n15     0.054306  m: 0.06266666666666666 std: 0.0013333333333333357   \n19     0.054306  m: 0.06266666666666666 std: 0.0013333333333333357   \n11     0.054306  m: 0.06266666666666666 std: 0.0013333333333333357   \n7      0.054306  m: 0.06266666666666666 std: 0.0013333333333333357   \n0      0.038889                    m: 0.04533333333333334 std: 0.0   \n3      0.034556                m: 0.044 std: 0.0013333333333333357   \n2      0.040000                m: 0.044 std: 0.0013333333333333357   \n1      0.034444                  m: 0.03866666666666667 std: 0.004   \n\n                                            precision  \\\n16  m: 0.17303269855486603 std: 0.0013573241208709175   \n12   m: 0.12308596857925298 std: 0.008915851256961746   \n13  m: 0.04618686794953464 std: 0.0014070391815775643   \n17  m: 0.04619178963450134 std: 0.0014119608665442637   \n9   m: 0.035607661229260595 std: 0.000755740552218...   \n8   m: 0.10053731822070144 std: 1.6039349871668773...   \n5    m: 0.01996109625485688 std: 0.004868303104232405   \n10  m: 0.01087032257422267 std: 0.0009068813991872909   \n18  m: 0.01087032257422267 std: 0.0009068813991872909   \n14  m: 0.01087032257422267 std: 0.0009068813991872909   \n6   m: 0.00912553893767215 std: 0.0008379022373632278   \n4   m: 0.06051355311355311 std: 7.326007326023676e-07   \n15  m: 0.0038754949088772783 std: 3.20987191729021...   \n19  m: 0.0038754949088772783 std: 3.20987191729021...   \n11  m: 0.0038754949088772783 std: 3.20987191729021...   \n7   m: 0.0038754949088772783 std: 3.20987191729021...   \n0                    m: 0.020490463215258856 std: 0.0   \n3   m: 0.0017842648749387161 std: 0.00010179209657...   \n2   m: 0.0023496839697774432 std: 9.04401008986421...   \n1   m: 0.003777261061361142 std: 0.001436621101673...   \n\n                                               recall  \n16   m: 0.17109523809523808 std: 0.018515873015873013  \n12               m: 0.14175 std: 0.012027777777777776  \n13   m: 0.14426190476190476 std: 0.009222222222222229  \n17   m: 0.14426190476190476 std: 0.009222222222222229  \n9    m: 0.13083333333333336 std: 0.003761904761904758  \n8   m: 0.11763888888888889 std: 0.0001388888888888...  \n5    m: 0.09001984126984128 std: 0.015130952380952384  \n10  m: 0.08333333333333333 std: 1.3877787807814457...  \n18  m: 0.08333333333333333 std: 1.3877787807814457...  \n14  m: 0.08333333333333333 std: 1.3877787807814457...  \n6   m: 0.07944444444444443 std: 0.0038888888888888792  \n4    m: 0.0788888888888889 std: 0.0011111111111111113  \n15  m: 0.05430555555555555 std: 0.0034722222222222238  \n19  m: 0.05430555555555555 std: 0.0034722222222222238  \n11  m: 0.05430555555555555 std: 0.0034722222222222238  \n7   m: 0.05430555555555555 std: 0.0034722222222222238  \n0   m: 0.03888888888888889 std: 0.0011111111111111113  \n3   m: 0.034555555555555555 std: 0.001222222222222...  \n2                                    m: 0.04 std: 0.0  \n1   m: 0.034444444444444444 std: 0.005555555555555557  ",
      "text/html": "<div>\n<style scoped>\n    .dataframe tbody tr th:only-of-type {\n        vertical-align: middle;\n    }\n\n    .dataframe tbody tr th {\n        vertical-align: top;\n    }\n\n    .dataframe thead th {\n        text-align: right;\n    }\n</style>\n<table border=\"1\" class=\"dataframe\">\n  <thead>\n    <tr style=\"text-align: right;\">\n      <th></th>\n      <th>classifier</th>\n      <th>arguments</th>\n      <th>mean_accuracy</th>\n      <th>mean_precision</th>\n      <th>mean_recall</th>\n      <th>accuracy</th>\n      <th>precision</th>\n      <th>recall</th>\n    </tr>\n  </thead>\n  <tbody>\n    <tr>\n      <th>16</th>\n      <td>DecisionTreeClassifier(max_depth=9, min_sample...</td>\n      <td>max Depth: 9, min Samples: 2</td>\n      <td>0.182667</td>\n      <td>0.173033</td>\n      <td>0.171095</td>\n      <td>m: 0.18266666666666664 std: 0.020000000000000004</td>\n      <td>m: 0.17303269855486603 std: 0.0013573241208709175</td>\n      <td>m: 0.17109523809523808 std: 0.018515873015873013</td>\n    </tr>\n    <tr>\n      <th>12</th>\n      <td>DecisionTreeClassifier(max_depth=7, min_sample...</td>\n      <td>max Depth: 7, min Samples: 2</td>\n      <td>0.157333</td>\n      <td>0.123086</td>\n      <td>0.141750</td>\n      <td>m: 0.15733333333333333 std: 0.013333333333333336</td>\n      <td>m: 0.12308596857925298 std: 0.008915851256961746</td>\n      <td>m: 0.14175 std: 0.012027777777777776</td>\n    </tr>\n    <tr>\n      <th>13</th>\n      <td>DecisionTreeClassifier(max_depth=7, min_sample...</td>\n      <td>max Depth: 7, min Samples: 20</td>\n      <td>0.152000</td>\n      <td>0.046187</td>\n      <td>0.144262</td>\n      <td>m: 0.15200000000000002 std: 0.0026666666666666644</td>\n      <td>m: 0.04618686794953464 std: 0.0014070391815775643</td>\n      <td>m: 0.14426190476190476 std: 0.009222222222222229</td>\n    </tr>\n    <tr>\n      <th>17</th>\n      <td>DecisionTreeClassifier(max_depth=9, min_sample...</td>\n      <td>max Depth: 9, min Samples: 20</td>\n      <td>0.152000</td>\n      <td>0.046192</td>\n      <td>0.144262</td>\n      <td>m: 0.15200000000000002 std: 0.0026666666666666644</td>\n      <td>m: 0.04619178963450134 std: 0.0014119608665442637</td>\n      <td>m: 0.14426190476190476 std: 0.009222222222222229</td>\n    </tr>\n    <tr>\n      <th>9</th>\n      <td>DecisionTreeClassifier(max_depth=5, min_sample...</td>\n      <td>max Depth: 5, min Samples: 20</td>\n      <td>0.137333</td>\n      <td>0.035608</td>\n      <td>0.130833</td>\n      <td>m: 0.13733333333333334 std: 0.0040000000000000036</td>\n      <td>m: 0.035607661229260595 std: 0.000755740552218...</td>\n      <td>m: 0.13083333333333336 std: 0.003761904761904758</td>\n    </tr>\n    <tr>\n      <th>8</th>\n      <td>DecisionTreeClassifier(max_depth=5, min_sample...</td>\n      <td>max Depth: 5, min Samples: 2</td>\n      <td>0.130667</td>\n      <td>0.100537</td>\n      <td>0.117639</td>\n      <td>m: 0.13066666666666665 std: 0.0026666666666666644</td>\n      <td>m: 0.10053731822070144 std: 1.6039349871668773...</td>\n      <td>m: 0.11763888888888889 std: 0.0001388888888888...</td>\n    </tr>\n    <tr>\n      <th>5</th>\n      <td>DecisionTreeClassifier(max_depth=3, min_sample...</td>\n      <td>max Depth: 3, min Samples: 20</td>\n      <td>0.100000</td>\n      <td>0.019961</td>\n      <td>0.090020</td>\n      <td>m: 0.1 std: 0.012000000000000004</td>\n      <td>m: 0.01996109625485688 std: 0.004868303104232405</td>\n      <td>m: 0.09001984126984128 std: 0.015130952380952384</td>\n    </tr>\n    <tr>\n      <th>10</th>\n      <td>DecisionTreeClassifier(max_depth=5, min_sample...</td>\n      <td>max Depth: 5, min Samples: 50</td>\n      <td>0.094667</td>\n      <td>0.010870</td>\n      <td>0.083333</td>\n      <td>m: 0.09466666666666668 std: 0.0013333333333333322</td>\n      <td>m: 0.01087032257422267 std: 0.0009068813991872909</td>\n      <td>m: 0.08333333333333333 std: 1.3877787807814457...</td>\n    </tr>\n    <tr>\n      <th>18</th>\n      <td>DecisionTreeClassifier(max_depth=9, min_sample...</td>\n      <td>max Depth: 9, min Samples: 50</td>\n      <td>0.094667</td>\n      <td>0.010870</td>\n      <td>0.083333</td>\n      <td>m: 0.09466666666666668 std: 0.0013333333333333322</td>\n      <td>m: 0.01087032257422267 std: 0.0009068813991872909</td>\n      <td>m: 0.08333333333333333 std: 1.3877787807814457...</td>\n    </tr>\n    <tr>\n      <th>14</th>\n      <td>DecisionTreeClassifier(max_depth=7, min_sample...</td>\n      <td>max Depth: 7, min Samples: 50</td>\n      <td>0.094667</td>\n      <td>0.010870</td>\n      <td>0.083333</td>\n      <td>m: 0.09466666666666668 std: 0.0013333333333333322</td>\n      <td>m: 0.01087032257422267 std: 0.0009068813991872909</td>\n      <td>m: 0.08333333333333333 std: 1.3877787807814457...</td>\n    </tr>\n    <tr>\n      <th>6</th>\n      <td>DecisionTreeClassifier(max_depth=3, min_sample...</td>\n      <td>max Depth: 3, min Samples: 50</td>\n      <td>0.090667</td>\n      <td>0.009126</td>\n      <td>0.079444</td>\n      <td>m: 0.09066666666666667 std: 0.0026666666666666713</td>\n      <td>m: 0.00912553893767215 std: 0.0008379022373632278</td>\n      <td>m: 0.07944444444444443 std: 0.0038888888888888792</td>\n    </tr>\n    <tr>\n      <th>4</th>\n      <td>DecisionTreeClassifier(max_depth=3, min_sample...</td>\n      <td>max Depth: 3, min Samples: 2</td>\n      <td>0.089333</td>\n      <td>0.060514</td>\n      <td>0.078889</td>\n      <td>m: 0.08933333333333333 std: 0.0013333333333333391</td>\n      <td>m: 0.06051355311355311 std: 7.326007326023676e-07</td>\n      <td>m: 0.0788888888888889 std: 0.0011111111111111113</td>\n    </tr>\n    <tr>\n      <th>15</th>\n      <td>DecisionTreeClassifier(max_depth=7, min_sample...</td>\n      <td>max Depth: 7, min Samples: 100</td>\n      <td>0.062667</td>\n      <td>0.003875</td>\n      <td>0.054306</td>\n      <td>m: 0.06266666666666666 std: 0.0013333333333333357</td>\n      <td>m: 0.0038754949088772783 std: 3.20987191729021...</td>\n      <td>m: 0.05430555555555555 std: 0.0034722222222222238</td>\n    </tr>\n    <tr>\n      <th>19</th>\n      <td>DecisionTreeClassifier(max_depth=9, min_sample...</td>\n      <td>max Depth: 9, min Samples: 100</td>\n      <td>0.062667</td>\n      <td>0.003875</td>\n      <td>0.054306</td>\n      <td>m: 0.06266666666666666 std: 0.0013333333333333357</td>\n      <td>m: 0.0038754949088772783 std: 3.20987191729021...</td>\n      <td>m: 0.05430555555555555 std: 0.0034722222222222238</td>\n    </tr>\n    <tr>\n      <th>11</th>\n      <td>DecisionTreeClassifier(max_depth=5, min_sample...</td>\n      <td>max Depth: 5, min Samples: 100</td>\n      <td>0.062667</td>\n      <td>0.003875</td>\n      <td>0.054306</td>\n      <td>m: 0.06266666666666666 std: 0.0013333333333333357</td>\n      <td>m: 0.0038754949088772783 std: 3.20987191729021...</td>\n      <td>m: 0.05430555555555555 std: 0.0034722222222222238</td>\n    </tr>\n    <tr>\n      <th>7</th>\n      <td>DecisionTreeClassifier(max_depth=3, min_sample...</td>\n      <td>max Depth: 3, min Samples: 100</td>\n      <td>0.062667</td>\n      <td>0.003875</td>\n      <td>0.054306</td>\n      <td>m: 0.06266666666666666 std: 0.0013333333333333357</td>\n      <td>m: 0.0038754949088772783 std: 3.20987191729021...</td>\n      <td>m: 0.05430555555555555 std: 0.0034722222222222238</td>\n    </tr>\n    <tr>\n      <th>0</th>\n      <td>DecisionTreeClassifier(max_depth=1, min_sample...</td>\n      <td>max Depth: 1, min Samples: 2</td>\n      <td>0.045333</td>\n      <td>0.020490</td>\n      <td>0.038889</td>\n      <td>m: 0.04533333333333334 std: 0.0</td>\n      <td>m: 0.020490463215258856 std: 0.0</td>\n      <td>m: 0.03888888888888889 std: 0.0011111111111111113</td>\n    </tr>\n    <tr>\n      <th>3</th>\n      <td>DecisionTreeClassifier(max_depth=1, min_sample...</td>\n      <td>max Depth: 1, min Samples: 100</td>\n      <td>0.044000</td>\n      <td>0.001784</td>\n      <td>0.034556</td>\n      <td>m: 0.044 std: 0.0013333333333333357</td>\n      <td>m: 0.0017842648749387161 std: 0.00010179209657...</td>\n      <td>m: 0.034555555555555555 std: 0.001222222222222...</td>\n    </tr>\n    <tr>\n      <th>2</th>\n      <td>DecisionTreeClassifier(max_depth=1, min_sample...</td>\n      <td>max Depth: 1, min Samples: 50</td>\n      <td>0.044000</td>\n      <td>0.002350</td>\n      <td>0.040000</td>\n      <td>m: 0.044 std: 0.0013333333333333357</td>\n      <td>m: 0.0023496839697774432 std: 9.04401008986421...</td>\n      <td>m: 0.04 std: 0.0</td>\n    </tr>\n    <tr>\n      <th>1</th>\n      <td>DecisionTreeClassifier(max_depth=1, min_sample...</td>\n      <td>max Depth: 1, min Samples: 20</td>\n      <td>0.038667</td>\n      <td>0.003777</td>\n      <td>0.034444</td>\n      <td>m: 0.03866666666666667 std: 0.004</td>\n      <td>m: 0.003777261061361142 std: 0.001436621101673...</td>\n      <td>m: 0.034444444444444444 std: 0.005555555555555557</td>\n    </tr>\n  </tbody>\n</table>\n</div>"
     },
     "metadata": {},
     "output_type": "display_data"
    },
    {
     "data": {
      "text/plain": "classifier        DecisionTreeClassifier(max_depth=9, min_sample...\narguments                              max Depth: 9, min Samples: 2\nmean_accuracy                                              0.182667\nmean_precision                                             0.173033\nmean_recall                                                0.171095\naccuracy           m: 0.18266666666666664 std: 0.020000000000000004\nprecision         m: 0.17303269855486603 std: 0.0013573241208709175\nrecall             m: 0.17109523809523808 std: 0.018515873015873013\nName: 16, dtype: object"
     },
     "metadata": {},
     "output_type": "display_data"
    }
   ],
   "source": [
    "decision_tree_results_amazon = calculate_decision_tree(amazon_data,\n",
    "                                                       amazon_target)\n",
    "overall_results_amazon.extend(decision_tree_results_amazon)\n",
    "\n",
    "print_results(decision_tree_results_amazon, \"mean_accuracy\")"
   ],
   "metadata": {
    "collapsed": false,
    "pycharm": {
     "name": "#%%\n"
    }
   }
  },
  {
   "cell_type": "markdown",
   "source": [
    "### SVM - Amazon"
   ],
   "metadata": {
    "collapsed": false
   }
  },
  {
   "cell_type": "code",
   "execution_count": 19,
   "outputs": [
    {
     "data": {
      "text/plain": "'Results'"
     },
     "metadata": {},
     "output_type": "display_data"
    },
    {
     "data": {
      "text/plain": "                                    classifier        arguments  \\\n31                                  SVC(C=301)      Kernel: rbf   \n29                                  SVC(C=101)      Kernel: rbf   \n30                                  SVC(C=201)      Kernel: rbf   \n40                   SVC(C=1, kernel='linear')   Kernel: linear   \n36      SVC(C=1, gamma=0.001, kernel='linear')   Kernel: linear   \n37    SVC(C=101, gamma=0.001, kernel='linear')   Kernel: linear   \n38    SVC(C=201, gamma=0.001, kernel='linear')   Kernel: linear   \n47   SVC(C=301, gamma='auto', kernel='linear')   Kernel: linear   \n41                 SVC(C=101, kernel='linear')   Kernel: linear   \n42                 SVC(C=201, kernel='linear')   Kernel: linear   \n43                 SVC(C=301, kernel='linear')   Kernel: linear   \n44     SVC(C=1, gamma='auto', kernel='linear')   Kernel: linear   \n45   SVC(C=101, gamma='auto', kernel='linear')   Kernel: linear   \n46   SVC(C=201, gamma='auto', kernel='linear')   Kernel: linear   \n39    SVC(C=301, gamma=0.001, kernel='linear')   Kernel: linear   \n20       SVC(C=1, gamma='auto', kernel='poly')     Kernel: poly   \n22     SVC(C=201, gamma='auto', kernel='poly')     Kernel: poly   \n21     SVC(C=101, gamma='auto', kernel='poly')     Kernel: poly   \n12        SVC(C=1, gamma=0.001, kernel='poly')     Kernel: poly   \n15      SVC(C=301, gamma=0.001, kernel='poly')     Kernel: poly   \n14      SVC(C=201, gamma=0.001, kernel='poly')     Kernel: poly   \n13      SVC(C=101, gamma=0.001, kernel='poly')     Kernel: poly   \n23     SVC(C=301, gamma='auto', kernel='poly')     Kernel: poly   \n33                    SVC(C=101, gamma='auto')      Kernel: rbf   \n34                    SVC(C=201, gamma='auto')      Kernel: rbf   \n35                    SVC(C=301, gamma='auto')      Kernel: rbf   \n19                   SVC(C=301, kernel='poly')     Kernel: poly   \n18                   SVC(C=201, kernel='poly')     Kernel: poly   \n17                   SVC(C=101, kernel='poly')     Kernel: poly   \n32                      SVC(C=1, gamma='auto')      Kernel: rbf   \n16                     SVC(C=1, kernel='poly')     Kernel: poly   \n28                                    SVC(C=1)      Kernel: rbf   \n25                     SVC(C=101, gamma=0.001)      Kernel: rbf   \n26                     SVC(C=201, gamma=0.001)      Kernel: rbf   \n27                     SVC(C=301, gamma=0.001)      Kernel: rbf   \n24                       SVC(C=1, gamma=0.001)      Kernel: rbf   \n5                 SVC(C=101, kernel='sigmoid')  Kernel: sigmoid   \n6                 SVC(C=201, kernel='sigmoid')  Kernel: sigmoid   \n7                 SVC(C=301, kernel='sigmoid')  Kernel: sigmoid   \n1    SVC(C=101, gamma=0.001, kernel='sigmoid')  Kernel: sigmoid   \n3    SVC(C=301, gamma=0.001, kernel='sigmoid')  Kernel: sigmoid   \n2    SVC(C=201, gamma=0.001, kernel='sigmoid')  Kernel: sigmoid   \n0      SVC(C=1, gamma=0.001, kernel='sigmoid')  Kernel: sigmoid   \n4                   SVC(C=1, kernel='sigmoid')  Kernel: sigmoid   \n11  SVC(C=301, gamma='auto', kernel='sigmoid')  Kernel: sigmoid   \n10  SVC(C=201, gamma='auto', kernel='sigmoid')  Kernel: sigmoid   \n9   SVC(C=101, gamma='auto', kernel='sigmoid')  Kernel: sigmoid   \n8     SVC(C=1, gamma='auto', kernel='sigmoid')  Kernel: sigmoid   \n\n    mean_accuracy  mean_precision  mean_recall  \\\n31       0.361333        0.394952     0.346849   \n29       0.361333        0.394952     0.346849   \n30       0.361333        0.394952     0.346849   \n40       0.360000        0.404970     0.350056   \n36       0.360000        0.404970     0.350056   \n37       0.360000        0.404970     0.350056   \n38       0.360000        0.404970     0.350056   \n47       0.360000        0.404970     0.350056   \n41       0.360000        0.404970     0.350056   \n42       0.360000        0.404970     0.350056   \n43       0.360000        0.404970     0.350056   \n44       0.360000        0.404970     0.350056   \n45       0.360000        0.404970     0.350056   \n46       0.360000        0.404970     0.350056   \n39       0.360000        0.404970     0.350056   \n20       0.285333        0.341387     0.277833   \n22       0.278667        0.326778     0.271016   \n21       0.278667        0.326778     0.271016   \n12       0.278667        0.326778     0.271016   \n15       0.278667        0.326778     0.271016   \n14       0.278667        0.326778     0.271016   \n13       0.278667        0.326778     0.271016   \n23       0.278667        0.326778     0.271016   \n33       0.276000        0.291396     0.259206   \n34       0.276000        0.291396     0.259206   \n35       0.276000        0.291396     0.259206   \n19       0.274667        0.320329     0.267329   \n18       0.269333        0.311270     0.261385   \n17       0.265333        0.329267     0.255627   \n32       0.181333        0.200420     0.162992   \n16       0.089333        0.087825     0.077198   \n28       0.062667        0.015627     0.050333   \n25       0.057333        0.100464     0.047631   \n26       0.057333        0.100464     0.047631   \n27       0.057333        0.100464     0.047631   \n24       0.056000        0.090595     0.046520   \n5        0.034667        0.057099     0.032937   \n6        0.029333        0.042291     0.027857   \n7        0.028000        0.033747     0.026607   \n1        0.026667        0.000533     0.020000   \n3        0.026667        0.000533     0.020000   \n2        0.026667        0.000533     0.020000   \n0        0.026667        0.000533     0.020000   \n4        0.024000        0.003471     0.019000   \n11       0.012000        0.003046     0.009556   \n10       0.012000        0.003990     0.009556   \n9        0.010667        0.001803     0.008444   \n8        0.006667        0.000217     0.005222   \n\n                                             accuracy  \\\n31  m: 0.36133333333333334 std: 0.0040000000000000036   \n29  m: 0.36133333333333334 std: 0.0040000000000000036   \n30  m: 0.36133333333333334 std: 0.0040000000000000036   \n40                  m: 0.36 std: 0.005333333333333329   \n36                  m: 0.36 std: 0.005333333333333329   \n37                  m: 0.36 std: 0.005333333333333329   \n38                  m: 0.36 std: 0.005333333333333329   \n47                  m: 0.36 std: 0.005333333333333329   \n41                  m: 0.36 std: 0.005333333333333329   \n42                  m: 0.36 std: 0.005333333333333329   \n43                  m: 0.36 std: 0.005333333333333329   \n44                  m: 0.36 std: 0.005333333333333329   \n45                  m: 0.36 std: 0.005333333333333329   \n46                  m: 0.36 std: 0.005333333333333329   \n39                  m: 0.36 std: 0.005333333333333329   \n20                     m: 0.2853333333333333 std: 0.0   \n22    m: 0.2786666666666667 std: 0.001333333333333353   \n21    m: 0.2786666666666667 std: 0.001333333333333353   \n12    m: 0.2786666666666667 std: 0.001333333333333353   \n15    m: 0.2786666666666667 std: 0.001333333333333353   \n14    m: 0.2786666666666667 std: 0.001333333333333353   \n13    m: 0.2786666666666667 std: 0.001333333333333353   \n23    m: 0.2786666666666667 std: 0.001333333333333353   \n33                 m: 0.276 std: 0.014666666666666689   \n34                 m: 0.276 std: 0.014666666666666689   \n35                 m: 0.276 std: 0.014666666666666689   \n19   m: 0.27466666666666667 std: 0.005333333333333357   \n18    m: 0.2693333333333333 std: 0.005333333333333329   \n17   m: 0.2653333333333333 std: 0.0040000000000000036   \n32  m: 0.18133333333333335 std: 0.0026666666666666644   \n16  m: 0.08933333333333333 std: 0.0040000000000000036   \n28  m: 0.06266666666666666 std: 0.0013333333333333357   \n25  m: 0.05733333333333333 std: 0.0013333333333333322   \n26  m: 0.05733333333333333 std: 0.0013333333333333322   \n27  m: 0.05733333333333333 std: 0.0013333333333333322   \n24                m: 0.056 std: 0.0026666666666666644   \n5   m: 0.034666666666666665 std: 0.002666666666666668   \n6                    m: 0.029333333333333333 std: 0.0   \n7                 m: 0.028 std: 0.0013333333333333322   \n1                     m: 0.02666666666666667 std: 0.0   \n3                     m: 0.02666666666666667 std: 0.0   \n2                     m: 0.02666666666666667 std: 0.0   \n0                     m: 0.02666666666666667 std: 0.0   \n4                                 m: 0.024 std: 0.008   \n11                 m: 0.012 std: 0.001333333333333334   \n10                 m: 0.012 std: 0.001333333333333334   \n9   m: 0.010666666666666668 std: 0.002666666666666667   \n8   m: 0.006666666666666666 std: 0.001333333333333...   \n\n                                            precision  \\\n31     m: 0.3949521508034598 std: 0.02524727704767077   \n29     m: 0.3949521508034598 std: 0.02524727704767077   \n30     m: 0.3949521508034598 std: 0.02524727704767077   \n40    m: 0.4049701959976727 std: 0.017853924326447557   \n36    m: 0.4049701959976727 std: 0.017853924326447557   \n37    m: 0.4049701959976727 std: 0.017853924326447557   \n38    m: 0.4049701959976727 std: 0.017853924326447557   \n47    m: 0.4049701959976727 std: 0.017853924326447557   \n41    m: 0.4049701959976727 std: 0.017853924326447557   \n42    m: 0.4049701959976727 std: 0.017853924326447557   \n43    m: 0.4049701959976727 std: 0.017853924326447557   \n44    m: 0.4049701959976727 std: 0.017853924326447557   \n45    m: 0.4049701959976727 std: 0.017853924326447557   \n46    m: 0.4049701959976727 std: 0.017853924326447557   \n39    m: 0.4049701959976727 std: 0.017853924326447557   \n20    m: 0.3413874770710471 std: 0.004785870822889032   \n22     m: 0.3267781287340111 std: 0.01271524717112954   \n21     m: 0.3267781287340111 std: 0.01271524717112954   \n12     m: 0.3267781287340111 std: 0.01271524717112954   \n15     m: 0.3267781287340111 std: 0.01271524717112954   \n14     m: 0.3267781287340111 std: 0.01271524717112954   \n13     m: 0.3267781287340111 std: 0.01271524717112954   \n23     m: 0.3267781287340111 std: 0.01271524717112954   \n33    m: 0.2913962038526078 std: 0.020489755725571435   \n34    m: 0.2913962038526078 std: 0.020489755725571435   \n35    m: 0.2913962038526078 std: 0.020489755725571435   \n19  m: 0.32032924690252274 std: 0.0012019718786959732   \n18   m: 0.3112704029716414 std: 0.0032987357499741354   \n17   m: 0.32926702172978767 std: 0.004795013832247896   \n32    m: 0.20041954548290547 std: 0.00979691287902372   \n16     m: 0.08782513327348081 std: 0.0185816266332791   \n28  m: 0.015627021631484474 std: 0.004652992701161438   \n25   m: 0.10046435068583065 std: 0.008534918225707643   \n26   m: 0.10046435068583065 std: 0.008534918225707643   \n27   m: 0.10046435068583065 std: 0.008534918225707643   \n24  m: 0.09059513419213117 std: 0.0013419572615348818   \n5     m: 0.05709910647035048 std: 0.01454944719820318   \n6    m: 0.042290731280469174 std: 0.00525031714914595   \n7    m: 0.03374733124283886 std: 0.013708271941484475   \n1                   m: 0.0005333333333333334 std: 0.0   \n3                   m: 0.0005333333333333334 std: 0.0   \n2                   m: 0.0005333333333333334 std: 0.0   \n0                   m: 0.0005333333333333334 std: 0.0   \n4   m: 0.003471282669683687 std: 0.002594089687227...   \n11  m: 0.0030464919614317616 std: 0.00251030853654...   \n10  m: 0.003990187892690115 std: 0.003454004467803...   \n9   m: 0.0018032835494248695 std: 0.00127234121468...   \n8   m: 0.0002166802204752869 std: 5.98174753772476...   \n\n                                               recall  \n31   m: 0.34684920634920635 std: 0.004063492063492019  \n29   m: 0.34684920634920635 std: 0.004063492063492019  \n30   m: 0.34684920634920635 std: 0.004063492063492019  \n40    m: 0.35005555555555556 std: 0.00567460317460311  \n36    m: 0.35005555555555556 std: 0.00567460317460311  \n37    m: 0.35005555555555556 std: 0.00567460317460311  \n38    m: 0.35005555555555556 std: 0.00567460317460311  \n47    m: 0.35005555555555556 std: 0.00567460317460311  \n41    m: 0.35005555555555556 std: 0.00567460317460311  \n42    m: 0.35005555555555556 std: 0.00567460317460311  \n43    m: 0.35005555555555556 std: 0.00567460317460311  \n44    m: 0.35005555555555556 std: 0.00567460317460311  \n45    m: 0.35005555555555556 std: 0.00567460317460311  \n46    m: 0.35005555555555556 std: 0.00567460317460311  \n39    m: 0.35005555555555556 std: 0.00567460317460311  \n20                     m: 0.2778333333333333 std: 0.0  \n22  m: 0.27101587301587304 std: 0.0002063492063491823  \n21  m: 0.27101587301587304 std: 0.0002063492063491823  \n12  m: 0.27101587301587304 std: 0.0002063492063491823  \n15  m: 0.27101587301587304 std: 0.0002063492063491823  \n14  m: 0.27101587301587304 std: 0.0002063492063491823  \n13  m: 0.27101587301587304 std: 0.0002063492063491823  \n23  m: 0.27101587301587304 std: 0.0002063492063491823  \n33    m: 0.2592063492063492 std: 0.013499999999999984  \n34    m: 0.2592063492063492 std: 0.013499999999999984  \n35    m: 0.2592063492063492 std: 0.013499999999999984  \n19    m: 0.2673293650793651 std: 0.006361111111111123  \n18   m: 0.2613849206349206 std: 0.0062500000000000056  \n17   m: 0.25562698412698415 std: 0.004936507936507933  \n32    m: 0.1629920634920635 std: 0.001658730158730165  \n16    m: 0.07719841269841268 std: 0.00386507936507937  \n28  m: 0.05033333333333333 std: 0.0009999999999999974  \n25  m: 0.04763095238095238 std: 0.0015833333333333324  \n26  m: 0.04763095238095238 std: 0.0015833333333333324  \n27  m: 0.04763095238095238 std: 0.0015833333333333324  \n24  m: 0.04651984126984127 std: 0.0026944444444444403  \n5   m: 0.03293650793650793 std: 0.0011904761904761897  \n6   m: 0.027857142857142858 std: 0.001031746031746...  \n7   m: 0.026607142857142857 std: 0.000218253968253...  \n1                                    m: 0.02 std: 0.0  \n3                                    m: 0.02 std: 0.0  \n2                                    m: 0.02 std: 0.0  \n0                                    m: 0.02 std: 0.0  \n4                  m: 0.019 std: 0.006333333333333333  \n11  m: 0.009555555555555555 std: 0.000888888888888...  \n10  m: 0.009555555555555555 std: 0.000888888888888...  \n9                  m: 0.008444444444444444 std: 0.002  \n8   m: 0.005222222222222222 std: 0.000777777777777...  ",
      "text/html": "<div>\n<style scoped>\n    .dataframe tbody tr th:only-of-type {\n        vertical-align: middle;\n    }\n\n    .dataframe tbody tr th {\n        vertical-align: top;\n    }\n\n    .dataframe thead th {\n        text-align: right;\n    }\n</style>\n<table border=\"1\" class=\"dataframe\">\n  <thead>\n    <tr style=\"text-align: right;\">\n      <th></th>\n      <th>classifier</th>\n      <th>arguments</th>\n      <th>mean_accuracy</th>\n      <th>mean_precision</th>\n      <th>mean_recall</th>\n      <th>accuracy</th>\n      <th>precision</th>\n      <th>recall</th>\n    </tr>\n  </thead>\n  <tbody>\n    <tr>\n      <th>31</th>\n      <td>SVC(C=301)</td>\n      <td>Kernel: rbf</td>\n      <td>0.361333</td>\n      <td>0.394952</td>\n      <td>0.346849</td>\n      <td>m: 0.36133333333333334 std: 0.0040000000000000036</td>\n      <td>m: 0.3949521508034598 std: 0.02524727704767077</td>\n      <td>m: 0.34684920634920635 std: 0.004063492063492019</td>\n    </tr>\n    <tr>\n      <th>29</th>\n      <td>SVC(C=101)</td>\n      <td>Kernel: rbf</td>\n      <td>0.361333</td>\n      <td>0.394952</td>\n      <td>0.346849</td>\n      <td>m: 0.36133333333333334 std: 0.0040000000000000036</td>\n      <td>m: 0.3949521508034598 std: 0.02524727704767077</td>\n      <td>m: 0.34684920634920635 std: 0.004063492063492019</td>\n    </tr>\n    <tr>\n      <th>30</th>\n      <td>SVC(C=201)</td>\n      <td>Kernel: rbf</td>\n      <td>0.361333</td>\n      <td>0.394952</td>\n      <td>0.346849</td>\n      <td>m: 0.36133333333333334 std: 0.0040000000000000036</td>\n      <td>m: 0.3949521508034598 std: 0.02524727704767077</td>\n      <td>m: 0.34684920634920635 std: 0.004063492063492019</td>\n    </tr>\n    <tr>\n      <th>40</th>\n      <td>SVC(C=1, kernel='linear')</td>\n      <td>Kernel: linear</td>\n      <td>0.360000</td>\n      <td>0.404970</td>\n      <td>0.350056</td>\n      <td>m: 0.36 std: 0.005333333333333329</td>\n      <td>m: 0.4049701959976727 std: 0.017853924326447557</td>\n      <td>m: 0.35005555555555556 std: 0.00567460317460311</td>\n    </tr>\n    <tr>\n      <th>36</th>\n      <td>SVC(C=1, gamma=0.001, kernel='linear')</td>\n      <td>Kernel: linear</td>\n      <td>0.360000</td>\n      <td>0.404970</td>\n      <td>0.350056</td>\n      <td>m: 0.36 std: 0.005333333333333329</td>\n      <td>m: 0.4049701959976727 std: 0.017853924326447557</td>\n      <td>m: 0.35005555555555556 std: 0.00567460317460311</td>\n    </tr>\n    <tr>\n      <th>37</th>\n      <td>SVC(C=101, gamma=0.001, kernel='linear')</td>\n      <td>Kernel: linear</td>\n      <td>0.360000</td>\n      <td>0.404970</td>\n      <td>0.350056</td>\n      <td>m: 0.36 std: 0.005333333333333329</td>\n      <td>m: 0.4049701959976727 std: 0.017853924326447557</td>\n      <td>m: 0.35005555555555556 std: 0.00567460317460311</td>\n    </tr>\n    <tr>\n      <th>38</th>\n      <td>SVC(C=201, gamma=0.001, kernel='linear')</td>\n      <td>Kernel: linear</td>\n      <td>0.360000</td>\n      <td>0.404970</td>\n      <td>0.350056</td>\n      <td>m: 0.36 std: 0.005333333333333329</td>\n      <td>m: 0.4049701959976727 std: 0.017853924326447557</td>\n      <td>m: 0.35005555555555556 std: 0.00567460317460311</td>\n    </tr>\n    <tr>\n      <th>47</th>\n      <td>SVC(C=301, gamma='auto', kernel='linear')</td>\n      <td>Kernel: linear</td>\n      <td>0.360000</td>\n      <td>0.404970</td>\n      <td>0.350056</td>\n      <td>m: 0.36 std: 0.005333333333333329</td>\n      <td>m: 0.4049701959976727 std: 0.017853924326447557</td>\n      <td>m: 0.35005555555555556 std: 0.00567460317460311</td>\n    </tr>\n    <tr>\n      <th>41</th>\n      <td>SVC(C=101, kernel='linear')</td>\n      <td>Kernel: linear</td>\n      <td>0.360000</td>\n      <td>0.404970</td>\n      <td>0.350056</td>\n      <td>m: 0.36 std: 0.005333333333333329</td>\n      <td>m: 0.4049701959976727 std: 0.017853924326447557</td>\n      <td>m: 0.35005555555555556 std: 0.00567460317460311</td>\n    </tr>\n    <tr>\n      <th>42</th>\n      <td>SVC(C=201, kernel='linear')</td>\n      <td>Kernel: linear</td>\n      <td>0.360000</td>\n      <td>0.404970</td>\n      <td>0.350056</td>\n      <td>m: 0.36 std: 0.005333333333333329</td>\n      <td>m: 0.4049701959976727 std: 0.017853924326447557</td>\n      <td>m: 0.35005555555555556 std: 0.00567460317460311</td>\n    </tr>\n    <tr>\n      <th>43</th>\n      <td>SVC(C=301, kernel='linear')</td>\n      <td>Kernel: linear</td>\n      <td>0.360000</td>\n      <td>0.404970</td>\n      <td>0.350056</td>\n      <td>m: 0.36 std: 0.005333333333333329</td>\n      <td>m: 0.4049701959976727 std: 0.017853924326447557</td>\n      <td>m: 0.35005555555555556 std: 0.00567460317460311</td>\n    </tr>\n    <tr>\n      <th>44</th>\n      <td>SVC(C=1, gamma='auto', kernel='linear')</td>\n      <td>Kernel: linear</td>\n      <td>0.360000</td>\n      <td>0.404970</td>\n      <td>0.350056</td>\n      <td>m: 0.36 std: 0.005333333333333329</td>\n      <td>m: 0.4049701959976727 std: 0.017853924326447557</td>\n      <td>m: 0.35005555555555556 std: 0.00567460317460311</td>\n    </tr>\n    <tr>\n      <th>45</th>\n      <td>SVC(C=101, gamma='auto', kernel='linear')</td>\n      <td>Kernel: linear</td>\n      <td>0.360000</td>\n      <td>0.404970</td>\n      <td>0.350056</td>\n      <td>m: 0.36 std: 0.005333333333333329</td>\n      <td>m: 0.4049701959976727 std: 0.017853924326447557</td>\n      <td>m: 0.35005555555555556 std: 0.00567460317460311</td>\n    </tr>\n    <tr>\n      <th>46</th>\n      <td>SVC(C=201, gamma='auto', kernel='linear')</td>\n      <td>Kernel: linear</td>\n      <td>0.360000</td>\n      <td>0.404970</td>\n      <td>0.350056</td>\n      <td>m: 0.36 std: 0.005333333333333329</td>\n      <td>m: 0.4049701959976727 std: 0.017853924326447557</td>\n      <td>m: 0.35005555555555556 std: 0.00567460317460311</td>\n    </tr>\n    <tr>\n      <th>39</th>\n      <td>SVC(C=301, gamma=0.001, kernel='linear')</td>\n      <td>Kernel: linear</td>\n      <td>0.360000</td>\n      <td>0.404970</td>\n      <td>0.350056</td>\n      <td>m: 0.36 std: 0.005333333333333329</td>\n      <td>m: 0.4049701959976727 std: 0.017853924326447557</td>\n      <td>m: 0.35005555555555556 std: 0.00567460317460311</td>\n    </tr>\n    <tr>\n      <th>20</th>\n      <td>SVC(C=1, gamma='auto', kernel='poly')</td>\n      <td>Kernel: poly</td>\n      <td>0.285333</td>\n      <td>0.341387</td>\n      <td>0.277833</td>\n      <td>m: 0.2853333333333333 std: 0.0</td>\n      <td>m: 0.3413874770710471 std: 0.004785870822889032</td>\n      <td>m: 0.2778333333333333 std: 0.0</td>\n    </tr>\n    <tr>\n      <th>22</th>\n      <td>SVC(C=201, gamma='auto', kernel='poly')</td>\n      <td>Kernel: poly</td>\n      <td>0.278667</td>\n      <td>0.326778</td>\n      <td>0.271016</td>\n      <td>m: 0.2786666666666667 std: 0.001333333333333353</td>\n      <td>m: 0.3267781287340111 std: 0.01271524717112954</td>\n      <td>m: 0.27101587301587304 std: 0.0002063492063491823</td>\n    </tr>\n    <tr>\n      <th>21</th>\n      <td>SVC(C=101, gamma='auto', kernel='poly')</td>\n      <td>Kernel: poly</td>\n      <td>0.278667</td>\n      <td>0.326778</td>\n      <td>0.271016</td>\n      <td>m: 0.2786666666666667 std: 0.001333333333333353</td>\n      <td>m: 0.3267781287340111 std: 0.01271524717112954</td>\n      <td>m: 0.27101587301587304 std: 0.0002063492063491823</td>\n    </tr>\n    <tr>\n      <th>12</th>\n      <td>SVC(C=1, gamma=0.001, kernel='poly')</td>\n      <td>Kernel: poly</td>\n      <td>0.278667</td>\n      <td>0.326778</td>\n      <td>0.271016</td>\n      <td>m: 0.2786666666666667 std: 0.001333333333333353</td>\n      <td>m: 0.3267781287340111 std: 0.01271524717112954</td>\n      <td>m: 0.27101587301587304 std: 0.0002063492063491823</td>\n    </tr>\n    <tr>\n      <th>15</th>\n      <td>SVC(C=301, gamma=0.001, kernel='poly')</td>\n      <td>Kernel: poly</td>\n      <td>0.278667</td>\n      <td>0.326778</td>\n      <td>0.271016</td>\n      <td>m: 0.2786666666666667 std: 0.001333333333333353</td>\n      <td>m: 0.3267781287340111 std: 0.01271524717112954</td>\n      <td>m: 0.27101587301587304 std: 0.0002063492063491823</td>\n    </tr>\n    <tr>\n      <th>14</th>\n      <td>SVC(C=201, gamma=0.001, kernel='poly')</td>\n      <td>Kernel: poly</td>\n      <td>0.278667</td>\n      <td>0.326778</td>\n      <td>0.271016</td>\n      <td>m: 0.2786666666666667 std: 0.001333333333333353</td>\n      <td>m: 0.3267781287340111 std: 0.01271524717112954</td>\n      <td>m: 0.27101587301587304 std: 0.0002063492063491823</td>\n    </tr>\n    <tr>\n      <th>13</th>\n      <td>SVC(C=101, gamma=0.001, kernel='poly')</td>\n      <td>Kernel: poly</td>\n      <td>0.278667</td>\n      <td>0.326778</td>\n      <td>0.271016</td>\n      <td>m: 0.2786666666666667 std: 0.001333333333333353</td>\n      <td>m: 0.3267781287340111 std: 0.01271524717112954</td>\n      <td>m: 0.27101587301587304 std: 0.0002063492063491823</td>\n    </tr>\n    <tr>\n      <th>23</th>\n      <td>SVC(C=301, gamma='auto', kernel='poly')</td>\n      <td>Kernel: poly</td>\n      <td>0.278667</td>\n      <td>0.326778</td>\n      <td>0.271016</td>\n      <td>m: 0.2786666666666667 std: 0.001333333333333353</td>\n      <td>m: 0.3267781287340111 std: 0.01271524717112954</td>\n      <td>m: 0.27101587301587304 std: 0.0002063492063491823</td>\n    </tr>\n    <tr>\n      <th>33</th>\n      <td>SVC(C=101, gamma='auto')</td>\n      <td>Kernel: rbf</td>\n      <td>0.276000</td>\n      <td>0.291396</td>\n      <td>0.259206</td>\n      <td>m: 0.276 std: 0.014666666666666689</td>\n      <td>m: 0.2913962038526078 std: 0.020489755725571435</td>\n      <td>m: 0.2592063492063492 std: 0.013499999999999984</td>\n    </tr>\n    <tr>\n      <th>34</th>\n      <td>SVC(C=201, gamma='auto')</td>\n      <td>Kernel: rbf</td>\n      <td>0.276000</td>\n      <td>0.291396</td>\n      <td>0.259206</td>\n      <td>m: 0.276 std: 0.014666666666666689</td>\n      <td>m: 0.2913962038526078 std: 0.020489755725571435</td>\n      <td>m: 0.2592063492063492 std: 0.013499999999999984</td>\n    </tr>\n    <tr>\n      <th>35</th>\n      <td>SVC(C=301, gamma='auto')</td>\n      <td>Kernel: rbf</td>\n      <td>0.276000</td>\n      <td>0.291396</td>\n      <td>0.259206</td>\n      <td>m: 0.276 std: 0.014666666666666689</td>\n      <td>m: 0.2913962038526078 std: 0.020489755725571435</td>\n      <td>m: 0.2592063492063492 std: 0.013499999999999984</td>\n    </tr>\n    <tr>\n      <th>19</th>\n      <td>SVC(C=301, kernel='poly')</td>\n      <td>Kernel: poly</td>\n      <td>0.274667</td>\n      <td>0.320329</td>\n      <td>0.267329</td>\n      <td>m: 0.27466666666666667 std: 0.005333333333333357</td>\n      <td>m: 0.32032924690252274 std: 0.0012019718786959732</td>\n      <td>m: 0.2673293650793651 std: 0.006361111111111123</td>\n    </tr>\n    <tr>\n      <th>18</th>\n      <td>SVC(C=201, kernel='poly')</td>\n      <td>Kernel: poly</td>\n      <td>0.269333</td>\n      <td>0.311270</td>\n      <td>0.261385</td>\n      <td>m: 0.2693333333333333 std: 0.005333333333333329</td>\n      <td>m: 0.3112704029716414 std: 0.0032987357499741354</td>\n      <td>m: 0.2613849206349206 std: 0.0062500000000000056</td>\n    </tr>\n    <tr>\n      <th>17</th>\n      <td>SVC(C=101, kernel='poly')</td>\n      <td>Kernel: poly</td>\n      <td>0.265333</td>\n      <td>0.329267</td>\n      <td>0.255627</td>\n      <td>m: 0.2653333333333333 std: 0.0040000000000000036</td>\n      <td>m: 0.32926702172978767 std: 0.004795013832247896</td>\n      <td>m: 0.25562698412698415 std: 0.004936507936507933</td>\n    </tr>\n    <tr>\n      <th>32</th>\n      <td>SVC(C=1, gamma='auto')</td>\n      <td>Kernel: rbf</td>\n      <td>0.181333</td>\n      <td>0.200420</td>\n      <td>0.162992</td>\n      <td>m: 0.18133333333333335 std: 0.0026666666666666644</td>\n      <td>m: 0.20041954548290547 std: 0.00979691287902372</td>\n      <td>m: 0.1629920634920635 std: 0.001658730158730165</td>\n    </tr>\n    <tr>\n      <th>16</th>\n      <td>SVC(C=1, kernel='poly')</td>\n      <td>Kernel: poly</td>\n      <td>0.089333</td>\n      <td>0.087825</td>\n      <td>0.077198</td>\n      <td>m: 0.08933333333333333 std: 0.0040000000000000036</td>\n      <td>m: 0.08782513327348081 std: 0.0185816266332791</td>\n      <td>m: 0.07719841269841268 std: 0.00386507936507937</td>\n    </tr>\n    <tr>\n      <th>28</th>\n      <td>SVC(C=1)</td>\n      <td>Kernel: rbf</td>\n      <td>0.062667</td>\n      <td>0.015627</td>\n      <td>0.050333</td>\n      <td>m: 0.06266666666666666 std: 0.0013333333333333357</td>\n      <td>m: 0.015627021631484474 std: 0.004652992701161438</td>\n      <td>m: 0.05033333333333333 std: 0.0009999999999999974</td>\n    </tr>\n    <tr>\n      <th>25</th>\n      <td>SVC(C=101, gamma=0.001)</td>\n      <td>Kernel: rbf</td>\n      <td>0.057333</td>\n      <td>0.100464</td>\n      <td>0.047631</td>\n      <td>m: 0.05733333333333333 std: 0.0013333333333333322</td>\n      <td>m: 0.10046435068583065 std: 0.008534918225707643</td>\n      <td>m: 0.04763095238095238 std: 0.0015833333333333324</td>\n    </tr>\n    <tr>\n      <th>26</th>\n      <td>SVC(C=201, gamma=0.001)</td>\n      <td>Kernel: rbf</td>\n      <td>0.057333</td>\n      <td>0.100464</td>\n      <td>0.047631</td>\n      <td>m: 0.05733333333333333 std: 0.0013333333333333322</td>\n      <td>m: 0.10046435068583065 std: 0.008534918225707643</td>\n      <td>m: 0.04763095238095238 std: 0.0015833333333333324</td>\n    </tr>\n    <tr>\n      <th>27</th>\n      <td>SVC(C=301, gamma=0.001)</td>\n      <td>Kernel: rbf</td>\n      <td>0.057333</td>\n      <td>0.100464</td>\n      <td>0.047631</td>\n      <td>m: 0.05733333333333333 std: 0.0013333333333333322</td>\n      <td>m: 0.10046435068583065 std: 0.008534918225707643</td>\n      <td>m: 0.04763095238095238 std: 0.0015833333333333324</td>\n    </tr>\n    <tr>\n      <th>24</th>\n      <td>SVC(C=1, gamma=0.001)</td>\n      <td>Kernel: rbf</td>\n      <td>0.056000</td>\n      <td>0.090595</td>\n      <td>0.046520</td>\n      <td>m: 0.056 std: 0.0026666666666666644</td>\n      <td>m: 0.09059513419213117 std: 0.0013419572615348818</td>\n      <td>m: 0.04651984126984127 std: 0.0026944444444444403</td>\n    </tr>\n    <tr>\n      <th>5</th>\n      <td>SVC(C=101, kernel='sigmoid')</td>\n      <td>Kernel: sigmoid</td>\n      <td>0.034667</td>\n      <td>0.057099</td>\n      <td>0.032937</td>\n      <td>m: 0.034666666666666665 std: 0.002666666666666668</td>\n      <td>m: 0.05709910647035048 std: 0.01454944719820318</td>\n      <td>m: 0.03293650793650793 std: 0.0011904761904761897</td>\n    </tr>\n    <tr>\n      <th>6</th>\n      <td>SVC(C=201, kernel='sigmoid')</td>\n      <td>Kernel: sigmoid</td>\n      <td>0.029333</td>\n      <td>0.042291</td>\n      <td>0.027857</td>\n      <td>m: 0.029333333333333333 std: 0.0</td>\n      <td>m: 0.042290731280469174 std: 0.00525031714914595</td>\n      <td>m: 0.027857142857142858 std: 0.001031746031746...</td>\n    </tr>\n    <tr>\n      <th>7</th>\n      <td>SVC(C=301, kernel='sigmoid')</td>\n      <td>Kernel: sigmoid</td>\n      <td>0.028000</td>\n      <td>0.033747</td>\n      <td>0.026607</td>\n      <td>m: 0.028 std: 0.0013333333333333322</td>\n      <td>m: 0.03374733124283886 std: 0.013708271941484475</td>\n      <td>m: 0.026607142857142857 std: 0.000218253968253...</td>\n    </tr>\n    <tr>\n      <th>1</th>\n      <td>SVC(C=101, gamma=0.001, kernel='sigmoid')</td>\n      <td>Kernel: sigmoid</td>\n      <td>0.026667</td>\n      <td>0.000533</td>\n      <td>0.020000</td>\n      <td>m: 0.02666666666666667 std: 0.0</td>\n      <td>m: 0.0005333333333333334 std: 0.0</td>\n      <td>m: 0.02 std: 0.0</td>\n    </tr>\n    <tr>\n      <th>3</th>\n      <td>SVC(C=301, gamma=0.001, kernel='sigmoid')</td>\n      <td>Kernel: sigmoid</td>\n      <td>0.026667</td>\n      <td>0.000533</td>\n      <td>0.020000</td>\n      <td>m: 0.02666666666666667 std: 0.0</td>\n      <td>m: 0.0005333333333333334 std: 0.0</td>\n      <td>m: 0.02 std: 0.0</td>\n    </tr>\n    <tr>\n      <th>2</th>\n      <td>SVC(C=201, gamma=0.001, kernel='sigmoid')</td>\n      <td>Kernel: sigmoid</td>\n      <td>0.026667</td>\n      <td>0.000533</td>\n      <td>0.020000</td>\n      <td>m: 0.02666666666666667 std: 0.0</td>\n      <td>m: 0.0005333333333333334 std: 0.0</td>\n      <td>m: 0.02 std: 0.0</td>\n    </tr>\n    <tr>\n      <th>0</th>\n      <td>SVC(C=1, gamma=0.001, kernel='sigmoid')</td>\n      <td>Kernel: sigmoid</td>\n      <td>0.026667</td>\n      <td>0.000533</td>\n      <td>0.020000</td>\n      <td>m: 0.02666666666666667 std: 0.0</td>\n      <td>m: 0.0005333333333333334 std: 0.0</td>\n      <td>m: 0.02 std: 0.0</td>\n    </tr>\n    <tr>\n      <th>4</th>\n      <td>SVC(C=1, kernel='sigmoid')</td>\n      <td>Kernel: sigmoid</td>\n      <td>0.024000</td>\n      <td>0.003471</td>\n      <td>0.019000</td>\n      <td>m: 0.024 std: 0.008</td>\n      <td>m: 0.003471282669683687 std: 0.002594089687227...</td>\n      <td>m: 0.019 std: 0.006333333333333333</td>\n    </tr>\n    <tr>\n      <th>11</th>\n      <td>SVC(C=301, gamma='auto', kernel='sigmoid')</td>\n      <td>Kernel: sigmoid</td>\n      <td>0.012000</td>\n      <td>0.003046</td>\n      <td>0.009556</td>\n      <td>m: 0.012 std: 0.001333333333333334</td>\n      <td>m: 0.0030464919614317616 std: 0.00251030853654...</td>\n      <td>m: 0.009555555555555555 std: 0.000888888888888...</td>\n    </tr>\n    <tr>\n      <th>10</th>\n      <td>SVC(C=201, gamma='auto', kernel='sigmoid')</td>\n      <td>Kernel: sigmoid</td>\n      <td>0.012000</td>\n      <td>0.003990</td>\n      <td>0.009556</td>\n      <td>m: 0.012 std: 0.001333333333333334</td>\n      <td>m: 0.003990187892690115 std: 0.003454004467803...</td>\n      <td>m: 0.009555555555555555 std: 0.000888888888888...</td>\n    </tr>\n    <tr>\n      <th>9</th>\n      <td>SVC(C=101, gamma='auto', kernel='sigmoid')</td>\n      <td>Kernel: sigmoid</td>\n      <td>0.010667</td>\n      <td>0.001803</td>\n      <td>0.008444</td>\n      <td>m: 0.010666666666666668 std: 0.002666666666666667</td>\n      <td>m: 0.0018032835494248695 std: 0.00127234121468...</td>\n      <td>m: 0.008444444444444444 std: 0.002</td>\n    </tr>\n    <tr>\n      <th>8</th>\n      <td>SVC(C=1, gamma='auto', kernel='sigmoid')</td>\n      <td>Kernel: sigmoid</td>\n      <td>0.006667</td>\n      <td>0.000217</td>\n      <td>0.005222</td>\n      <td>m: 0.006666666666666666 std: 0.001333333333333...</td>\n      <td>m: 0.0002166802204752869 std: 5.98174753772476...</td>\n      <td>m: 0.005222222222222222 std: 0.000777777777777...</td>\n    </tr>\n  </tbody>\n</table>\n</div>"
     },
     "metadata": {},
     "output_type": "display_data"
    },
    {
     "data": {
      "text/plain": "classifier                                               SVC(C=301)\narguments                                               Kernel: rbf\nmean_accuracy                                              0.361333\nmean_precision                                             0.394952\nmean_recall                                                0.346849\naccuracy          m: 0.36133333333333334 std: 0.0040000000000000036\nprecision            m: 0.3949521508034598 std: 0.02524727704767077\nrecall             m: 0.34684920634920635 std: 0.004063492063492019\nName: 31, dtype: object"
     },
     "metadata": {},
     "output_type": "display_data"
    }
   ],
   "source": [
    "svm_results_amazon = calculate_svm(amazon_data,\n",
    "                                   amazon_target)\n",
    "overall_results_amazon.extend(svm_results_amazon)\n",
    "\n",
    "print_results(svm_results_amazon, \"mean_accuracy\")"
   ],
   "metadata": {
    "collapsed": false,
    "pycharm": {
     "name": "#%%\n"
    }
   }
  },
  {
   "cell_type": "markdown",
   "source": [
    "### Overall Results for Amazon"
   ],
   "metadata": {
    "collapsed": false
   }
  },
  {
   "cell_type": "code",
   "execution_count": 20,
   "outputs": [
    {
     "data": {
      "text/plain": "'Results'"
     },
     "metadata": {},
     "output_type": "display_data"
    },
    {
     "data": {
      "text/plain": "                                    classifier        arguments  \\\n59                                  SVC(C=101)      Kernel: rbf   \n60                                  SVC(C=201)      Kernel: rbf   \n61                                  SVC(C=301)      Kernel: rbf   \n77   SVC(C=301, gamma='auto', kernel='linear')   Kernel: linear   \n70                   SVC(C=1, kernel='linear')   Kernel: linear   \n..                                         ...              ...   \n34                  SVC(C=1, kernel='sigmoid')  Kernel: sigmoid   \n41  SVC(C=301, gamma='auto', kernel='sigmoid')  Kernel: sigmoid   \n40  SVC(C=201, gamma='auto', kernel='sigmoid')  Kernel: sigmoid   \n39  SVC(C=101, gamma='auto', kernel='sigmoid')  Kernel: sigmoid   \n38    SVC(C=1, gamma='auto', kernel='sigmoid')  Kernel: sigmoid   \n\n    mean_accuracy  mean_precision  mean_recall  \\\n59       0.361333        0.394952     0.346849   \n60       0.361333        0.394952     0.346849   \n61       0.361333        0.394952     0.346849   \n77       0.360000        0.404970     0.350056   \n70       0.360000        0.404970     0.350056   \n..            ...             ...          ...   \n34       0.024000        0.003471     0.019000   \n41       0.012000        0.003046     0.009556   \n40       0.012000        0.003990     0.009556   \n39       0.010667        0.001803     0.008444   \n38       0.006667        0.000217     0.005222   \n\n                                             accuracy  \\\n59  m: 0.36133333333333334 std: 0.0040000000000000036   \n60  m: 0.36133333333333334 std: 0.0040000000000000036   \n61  m: 0.36133333333333334 std: 0.0040000000000000036   \n77                  m: 0.36 std: 0.005333333333333329   \n70                  m: 0.36 std: 0.005333333333333329   \n..                                                ...   \n34                                m: 0.024 std: 0.008   \n41                 m: 0.012 std: 0.001333333333333334   \n40                 m: 0.012 std: 0.001333333333333334   \n39  m: 0.010666666666666668 std: 0.002666666666666667   \n38  m: 0.006666666666666666 std: 0.001333333333333...   \n\n                                            precision  \\\n59     m: 0.3949521508034598 std: 0.02524727704767077   \n60     m: 0.3949521508034598 std: 0.02524727704767077   \n61     m: 0.3949521508034598 std: 0.02524727704767077   \n77    m: 0.4049701959976727 std: 0.017853924326447557   \n70    m: 0.4049701959976727 std: 0.017853924326447557   \n..                                                ...   \n34  m: 0.003471282669683687 std: 0.002594089687227...   \n41  m: 0.0030464919614317616 std: 0.00251030853654...   \n40  m: 0.003990187892690115 std: 0.003454004467803...   \n39  m: 0.0018032835494248695 std: 0.00127234121468...   \n38  m: 0.0002166802204752869 std: 5.98174753772476...   \n\n                                               recall  \n59   m: 0.34684920634920635 std: 0.004063492063492019  \n60   m: 0.34684920634920635 std: 0.004063492063492019  \n61   m: 0.34684920634920635 std: 0.004063492063492019  \n77    m: 0.35005555555555556 std: 0.00567460317460311  \n70    m: 0.35005555555555556 std: 0.00567460317460311  \n..                                                ...  \n34                 m: 0.019 std: 0.006333333333333333  \n41  m: 0.009555555555555555 std: 0.000888888888888...  \n40  m: 0.009555555555555555 std: 0.000888888888888...  \n39                 m: 0.008444444444444444 std: 0.002  \n38  m: 0.005222222222222222 std: 0.000777777777777...  \n\n[78 rows x 8 columns]",
      "text/html": "<div>\n<style scoped>\n    .dataframe tbody tr th:only-of-type {\n        vertical-align: middle;\n    }\n\n    .dataframe tbody tr th {\n        vertical-align: top;\n    }\n\n    .dataframe thead th {\n        text-align: right;\n    }\n</style>\n<table border=\"1\" class=\"dataframe\">\n  <thead>\n    <tr style=\"text-align: right;\">\n      <th></th>\n      <th>classifier</th>\n      <th>arguments</th>\n      <th>mean_accuracy</th>\n      <th>mean_precision</th>\n      <th>mean_recall</th>\n      <th>accuracy</th>\n      <th>precision</th>\n      <th>recall</th>\n    </tr>\n  </thead>\n  <tbody>\n    <tr>\n      <th>59</th>\n      <td>SVC(C=101)</td>\n      <td>Kernel: rbf</td>\n      <td>0.361333</td>\n      <td>0.394952</td>\n      <td>0.346849</td>\n      <td>m: 0.36133333333333334 std: 0.0040000000000000036</td>\n      <td>m: 0.3949521508034598 std: 0.02524727704767077</td>\n      <td>m: 0.34684920634920635 std: 0.004063492063492019</td>\n    </tr>\n    <tr>\n      <th>60</th>\n      <td>SVC(C=201)</td>\n      <td>Kernel: rbf</td>\n      <td>0.361333</td>\n      <td>0.394952</td>\n      <td>0.346849</td>\n      <td>m: 0.36133333333333334 std: 0.0040000000000000036</td>\n      <td>m: 0.3949521508034598 std: 0.02524727704767077</td>\n      <td>m: 0.34684920634920635 std: 0.004063492063492019</td>\n    </tr>\n    <tr>\n      <th>61</th>\n      <td>SVC(C=301)</td>\n      <td>Kernel: rbf</td>\n      <td>0.361333</td>\n      <td>0.394952</td>\n      <td>0.346849</td>\n      <td>m: 0.36133333333333334 std: 0.0040000000000000036</td>\n      <td>m: 0.3949521508034598 std: 0.02524727704767077</td>\n      <td>m: 0.34684920634920635 std: 0.004063492063492019</td>\n    </tr>\n    <tr>\n      <th>77</th>\n      <td>SVC(C=301, gamma='auto', kernel='linear')</td>\n      <td>Kernel: linear</td>\n      <td>0.360000</td>\n      <td>0.404970</td>\n      <td>0.350056</td>\n      <td>m: 0.36 std: 0.005333333333333329</td>\n      <td>m: 0.4049701959976727 std: 0.017853924326447557</td>\n      <td>m: 0.35005555555555556 std: 0.00567460317460311</td>\n    </tr>\n    <tr>\n      <th>70</th>\n      <td>SVC(C=1, kernel='linear')</td>\n      <td>Kernel: linear</td>\n      <td>0.360000</td>\n      <td>0.404970</td>\n      <td>0.350056</td>\n      <td>m: 0.36 std: 0.005333333333333329</td>\n      <td>m: 0.4049701959976727 std: 0.017853924326447557</td>\n      <td>m: 0.35005555555555556 std: 0.00567460317460311</td>\n    </tr>\n    <tr>\n      <th>...</th>\n      <td>...</td>\n      <td>...</td>\n      <td>...</td>\n      <td>...</td>\n      <td>...</td>\n      <td>...</td>\n      <td>...</td>\n      <td>...</td>\n    </tr>\n    <tr>\n      <th>34</th>\n      <td>SVC(C=1, kernel='sigmoid')</td>\n      <td>Kernel: sigmoid</td>\n      <td>0.024000</td>\n      <td>0.003471</td>\n      <td>0.019000</td>\n      <td>m: 0.024 std: 0.008</td>\n      <td>m: 0.003471282669683687 std: 0.002594089687227...</td>\n      <td>m: 0.019 std: 0.006333333333333333</td>\n    </tr>\n    <tr>\n      <th>41</th>\n      <td>SVC(C=301, gamma='auto', kernel='sigmoid')</td>\n      <td>Kernel: sigmoid</td>\n      <td>0.012000</td>\n      <td>0.003046</td>\n      <td>0.009556</td>\n      <td>m: 0.012 std: 0.001333333333333334</td>\n      <td>m: 0.0030464919614317616 std: 0.00251030853654...</td>\n      <td>m: 0.009555555555555555 std: 0.000888888888888...</td>\n    </tr>\n    <tr>\n      <th>40</th>\n      <td>SVC(C=201, gamma='auto', kernel='sigmoid')</td>\n      <td>Kernel: sigmoid</td>\n      <td>0.012000</td>\n      <td>0.003990</td>\n      <td>0.009556</td>\n      <td>m: 0.012 std: 0.001333333333333334</td>\n      <td>m: 0.003990187892690115 std: 0.003454004467803...</td>\n      <td>m: 0.009555555555555555 std: 0.000888888888888...</td>\n    </tr>\n    <tr>\n      <th>39</th>\n      <td>SVC(C=101, gamma='auto', kernel='sigmoid')</td>\n      <td>Kernel: sigmoid</td>\n      <td>0.010667</td>\n      <td>0.001803</td>\n      <td>0.008444</td>\n      <td>m: 0.010666666666666668 std: 0.002666666666666667</td>\n      <td>m: 0.0018032835494248695 std: 0.00127234121468...</td>\n      <td>m: 0.008444444444444444 std: 0.002</td>\n    </tr>\n    <tr>\n      <th>38</th>\n      <td>SVC(C=1, gamma='auto', kernel='sigmoid')</td>\n      <td>Kernel: sigmoid</td>\n      <td>0.006667</td>\n      <td>0.000217</td>\n      <td>0.005222</td>\n      <td>m: 0.006666666666666666 std: 0.001333333333333...</td>\n      <td>m: 0.0002166802204752869 std: 5.98174753772476...</td>\n      <td>m: 0.005222222222222222 std: 0.000777777777777...</td>\n    </tr>\n  </tbody>\n</table>\n<p>78 rows × 8 columns</p>\n</div>"
     },
     "metadata": {},
     "output_type": "display_data"
    },
    {
     "data": {
      "text/plain": "classifier                                               SVC(C=101)\narguments                                               Kernel: rbf\nmean_accuracy                                              0.361333\nmean_precision                                             0.394952\nmean_recall                                                0.346849\naccuracy          m: 0.36133333333333334 std: 0.0040000000000000036\nprecision            m: 0.3949521508034598 std: 0.02524727704767077\nrecall             m: 0.34684920634920635 std: 0.004063492063492019\nName: 59, dtype: object"
     },
     "metadata": {},
     "output_type": "display_data"
    }
   ],
   "source": [
    "print_results(overall_results_amazon, \"mean_accuracy\")"
   ],
   "metadata": {
    "collapsed": false,
    "pycharm": {
     "name": "#%%\n"
    }
   }
  },
  {
   "cell_type": "markdown",
   "source": [
    "### Prepare Submission"
   ],
   "metadata": {
    "collapsed": false,
    "pycharm": {
     "name": "#%% md\n"
    }
   }
  },
  {
   "cell_type": "code",
   "execution_count": 21,
   "outputs": [
    {
     "data": {
      "text/plain": "'Recoded Data'"
     },
     "metadata": {},
     "output_type": "display_data"
    },
    {
     "data": {
      "text/plain": "      ID  V1  V2  V3  V4  V5  V6  V7  V8  V9  ...  V9992  V9993  V9994  V9995  \\\n0      0   9   5   5   9   7   0   8   7   1  ...      0      1      0      1   \n1      1  11   9  15  15   5  11  10   1   5  ...      0      0      0      0   \n2      2  11  10  13  12   6   5   0   3   1  ...      0      0      0      0   \n3      3  18   9   7   8   8   7  12   6   7  ...      0      1      0      0   \n4      4  11   7  10  11   4   5   1   8   4  ...      0      0      0      0   \n..   ...  ..  ..  ..  ..  ..  ..  ..  ..  ..  ...    ...    ...    ...    ...   \n745  745   5   5   8   2   8   0   5   1   2  ...      1      0      0      0   \n746  746  22  13   8  14   8  11   3   6   7  ...      6      0      2      0   \n747  747  10   3   5   5   7   1  14   2   6  ...      0      0      4      1   \n748  748   9  13   8   5  11   9   9   3   3  ...      0      0      0      1   \n749  749  12   5   8   4   7   5   0   3   4  ...      0      0      4      0   \n\n     V9996  V9997  V9998  V9999  V10000  Class  \n0        0      0      0      0       2     40  \n1        0      0      0      0       0     19  \n2        0      0      0      1       0     33  \n3        0      1      0      0       1     19  \n4        0      1      0      0       3     14  \n..     ...    ...    ...    ...     ...    ...  \n745      0      0      0      0       0      9  \n746      0      2      0      0       0     36  \n747      0      0      2      0       0     44  \n748      0      0      0      0       0      3  \n749      1      0      0      0       0     16  \n\n[750 rows x 10002 columns]",
      "text/html": "<div>\n<style scoped>\n    .dataframe tbody tr th:only-of-type {\n        vertical-align: middle;\n    }\n\n    .dataframe tbody tr th {\n        vertical-align: top;\n    }\n\n    .dataframe thead th {\n        text-align: right;\n    }\n</style>\n<table border=\"1\" class=\"dataframe\">\n  <thead>\n    <tr style=\"text-align: right;\">\n      <th></th>\n      <th>ID</th>\n      <th>V1</th>\n      <th>V2</th>\n      <th>V3</th>\n      <th>V4</th>\n      <th>V5</th>\n      <th>V6</th>\n      <th>V7</th>\n      <th>V8</th>\n      <th>V9</th>\n      <th>...</th>\n      <th>V9992</th>\n      <th>V9993</th>\n      <th>V9994</th>\n      <th>V9995</th>\n      <th>V9996</th>\n      <th>V9997</th>\n      <th>V9998</th>\n      <th>V9999</th>\n      <th>V10000</th>\n      <th>Class</th>\n    </tr>\n  </thead>\n  <tbody>\n    <tr>\n      <th>0</th>\n      <td>0</td>\n      <td>9</td>\n      <td>5</td>\n      <td>5</td>\n      <td>9</td>\n      <td>7</td>\n      <td>0</td>\n      <td>8</td>\n      <td>7</td>\n      <td>1</td>\n      <td>...</td>\n      <td>0</td>\n      <td>1</td>\n      <td>0</td>\n      <td>1</td>\n      <td>0</td>\n      <td>0</td>\n      <td>0</td>\n      <td>0</td>\n      <td>2</td>\n      <td>40</td>\n    </tr>\n    <tr>\n      <th>1</th>\n      <td>1</td>\n      <td>11</td>\n      <td>9</td>\n      <td>15</td>\n      <td>15</td>\n      <td>5</td>\n      <td>11</td>\n      <td>10</td>\n      <td>1</td>\n      <td>5</td>\n      <td>...</td>\n      <td>0</td>\n      <td>0</td>\n      <td>0</td>\n      <td>0</td>\n      <td>0</td>\n      <td>0</td>\n      <td>0</td>\n      <td>0</td>\n      <td>0</td>\n      <td>19</td>\n    </tr>\n    <tr>\n      <th>2</th>\n      <td>2</td>\n      <td>11</td>\n      <td>10</td>\n      <td>13</td>\n      <td>12</td>\n      <td>6</td>\n      <td>5</td>\n      <td>0</td>\n      <td>3</td>\n      <td>1</td>\n      <td>...</td>\n      <td>0</td>\n      <td>0</td>\n      <td>0</td>\n      <td>0</td>\n      <td>0</td>\n      <td>0</td>\n      <td>0</td>\n      <td>1</td>\n      <td>0</td>\n      <td>33</td>\n    </tr>\n    <tr>\n      <th>3</th>\n      <td>3</td>\n      <td>18</td>\n      <td>9</td>\n      <td>7</td>\n      <td>8</td>\n      <td>8</td>\n      <td>7</td>\n      <td>12</td>\n      <td>6</td>\n      <td>7</td>\n      <td>...</td>\n      <td>0</td>\n      <td>1</td>\n      <td>0</td>\n      <td>0</td>\n      <td>0</td>\n      <td>1</td>\n      <td>0</td>\n      <td>0</td>\n      <td>1</td>\n      <td>19</td>\n    </tr>\n    <tr>\n      <th>4</th>\n      <td>4</td>\n      <td>11</td>\n      <td>7</td>\n      <td>10</td>\n      <td>11</td>\n      <td>4</td>\n      <td>5</td>\n      <td>1</td>\n      <td>8</td>\n      <td>4</td>\n      <td>...</td>\n      <td>0</td>\n      <td>0</td>\n      <td>0</td>\n      <td>0</td>\n      <td>0</td>\n      <td>1</td>\n      <td>0</td>\n      <td>0</td>\n      <td>3</td>\n      <td>14</td>\n    </tr>\n    <tr>\n      <th>...</th>\n      <td>...</td>\n      <td>...</td>\n      <td>...</td>\n      <td>...</td>\n      <td>...</td>\n      <td>...</td>\n      <td>...</td>\n      <td>...</td>\n      <td>...</td>\n      <td>...</td>\n      <td>...</td>\n      <td>...</td>\n      <td>...</td>\n      <td>...</td>\n      <td>...</td>\n      <td>...</td>\n      <td>...</td>\n      <td>...</td>\n      <td>...</td>\n      <td>...</td>\n      <td>...</td>\n    </tr>\n    <tr>\n      <th>745</th>\n      <td>745</td>\n      <td>5</td>\n      <td>5</td>\n      <td>8</td>\n      <td>2</td>\n      <td>8</td>\n      <td>0</td>\n      <td>5</td>\n      <td>1</td>\n      <td>2</td>\n      <td>...</td>\n      <td>1</td>\n      <td>0</td>\n      <td>0</td>\n      <td>0</td>\n      <td>0</td>\n      <td>0</td>\n      <td>0</td>\n      <td>0</td>\n      <td>0</td>\n      <td>9</td>\n    </tr>\n    <tr>\n      <th>746</th>\n      <td>746</td>\n      <td>22</td>\n      <td>13</td>\n      <td>8</td>\n      <td>14</td>\n      <td>8</td>\n      <td>11</td>\n      <td>3</td>\n      <td>6</td>\n      <td>7</td>\n      <td>...</td>\n      <td>6</td>\n      <td>0</td>\n      <td>2</td>\n      <td>0</td>\n      <td>0</td>\n      <td>2</td>\n      <td>0</td>\n      <td>0</td>\n      <td>0</td>\n      <td>36</td>\n    </tr>\n    <tr>\n      <th>747</th>\n      <td>747</td>\n      <td>10</td>\n      <td>3</td>\n      <td>5</td>\n      <td>5</td>\n      <td>7</td>\n      <td>1</td>\n      <td>14</td>\n      <td>2</td>\n      <td>6</td>\n      <td>...</td>\n      <td>0</td>\n      <td>0</td>\n      <td>4</td>\n      <td>1</td>\n      <td>0</td>\n      <td>0</td>\n      <td>2</td>\n      <td>0</td>\n      <td>0</td>\n      <td>44</td>\n    </tr>\n    <tr>\n      <th>748</th>\n      <td>748</td>\n      <td>9</td>\n      <td>13</td>\n      <td>8</td>\n      <td>5</td>\n      <td>11</td>\n      <td>9</td>\n      <td>9</td>\n      <td>3</td>\n      <td>3</td>\n      <td>...</td>\n      <td>0</td>\n      <td>0</td>\n      <td>0</td>\n      <td>1</td>\n      <td>0</td>\n      <td>0</td>\n      <td>0</td>\n      <td>0</td>\n      <td>0</td>\n      <td>3</td>\n    </tr>\n    <tr>\n      <th>749</th>\n      <td>749</td>\n      <td>12</td>\n      <td>5</td>\n      <td>8</td>\n      <td>4</td>\n      <td>7</td>\n      <td>5</td>\n      <td>0</td>\n      <td>3</td>\n      <td>4</td>\n      <td>...</td>\n      <td>0</td>\n      <td>0</td>\n      <td>4</td>\n      <td>0</td>\n      <td>1</td>\n      <td>0</td>\n      <td>0</td>\n      <td>0</td>\n      <td>0</td>\n      <td>16</td>\n    </tr>\n  </tbody>\n</table>\n<p>750 rows × 10002 columns</p>\n</div>"
     },
     "metadata": {},
     "output_type": "display_data"
    },
    {
     "data": {
      "text/plain": "'Data: '"
     },
     "metadata": {},
     "output_type": "display_data"
    },
    {
     "data": {
      "text/plain": "     V1  V2  V3  V4  V5  V6  V7  V8  V9  V10  ...  V9991  V9992  V9993  V9994  \\\n0     9   5   5   9   7   0   8   7   1    5  ...      0      0      1      0   \n1    11   9  15  15   5  11  10   1   5    7  ...      0      0      0      0   \n2    11  10  13  12   6   5   0   3   1    1  ...      1      0      0      0   \n3    18   9   7   8   8   7  12   6   7    1  ...      0      0      1      0   \n4    11   7  10  11   4   5   1   8   4    4  ...      0      0      0      0   \n..   ..  ..  ..  ..  ..  ..  ..  ..  ..  ...  ...    ...    ...    ...    ...   \n745   5   5   8   2   8   0   5   1   2    3  ...      0      1      0      0   \n746  22  13   8  14   8  11   3   6   7    6  ...      0      6      0      2   \n747  10   3   5   5   7   1  14   2   6    1  ...      0      0      0      4   \n748   9  13   8   5  11   9   9   3   3    6  ...      0      0      0      0   \n749  12   5   8   4   7   5   0   3   4    4  ...      0      0      0      4   \n\n     V9995  V9996  V9997  V9998  V9999  V10000  \n0        1      0      0      0      0       2  \n1        0      0      0      0      0       0  \n2        0      0      0      0      1       0  \n3        0      0      1      0      0       1  \n4        0      0      1      0      0       3  \n..     ...    ...    ...    ...    ...     ...  \n745      0      0      0      0      0       0  \n746      0      0      2      0      0       0  \n747      1      0      0      2      0       0  \n748      1      0      0      0      0       0  \n749      0      1      0      0      0       0  \n\n[750 rows x 10000 columns]",
      "text/html": "<div>\n<style scoped>\n    .dataframe tbody tr th:only-of-type {\n        vertical-align: middle;\n    }\n\n    .dataframe tbody tr th {\n        vertical-align: top;\n    }\n\n    .dataframe thead th {\n        text-align: right;\n    }\n</style>\n<table border=\"1\" class=\"dataframe\">\n  <thead>\n    <tr style=\"text-align: right;\">\n      <th></th>\n      <th>V1</th>\n      <th>V2</th>\n      <th>V3</th>\n      <th>V4</th>\n      <th>V5</th>\n      <th>V6</th>\n      <th>V7</th>\n      <th>V8</th>\n      <th>V9</th>\n      <th>V10</th>\n      <th>...</th>\n      <th>V9991</th>\n      <th>V9992</th>\n      <th>V9993</th>\n      <th>V9994</th>\n      <th>V9995</th>\n      <th>V9996</th>\n      <th>V9997</th>\n      <th>V9998</th>\n      <th>V9999</th>\n      <th>V10000</th>\n    </tr>\n  </thead>\n  <tbody>\n    <tr>\n      <th>0</th>\n      <td>9</td>\n      <td>5</td>\n      <td>5</td>\n      <td>9</td>\n      <td>7</td>\n      <td>0</td>\n      <td>8</td>\n      <td>7</td>\n      <td>1</td>\n      <td>5</td>\n      <td>...</td>\n      <td>0</td>\n      <td>0</td>\n      <td>1</td>\n      <td>0</td>\n      <td>1</td>\n      <td>0</td>\n      <td>0</td>\n      <td>0</td>\n      <td>0</td>\n      <td>2</td>\n    </tr>\n    <tr>\n      <th>1</th>\n      <td>11</td>\n      <td>9</td>\n      <td>15</td>\n      <td>15</td>\n      <td>5</td>\n      <td>11</td>\n      <td>10</td>\n      <td>1</td>\n      <td>5</td>\n      <td>7</td>\n      <td>...</td>\n      <td>0</td>\n      <td>0</td>\n      <td>0</td>\n      <td>0</td>\n      <td>0</td>\n      <td>0</td>\n      <td>0</td>\n      <td>0</td>\n      <td>0</td>\n      <td>0</td>\n    </tr>\n    <tr>\n      <th>2</th>\n      <td>11</td>\n      <td>10</td>\n      <td>13</td>\n      <td>12</td>\n      <td>6</td>\n      <td>5</td>\n      <td>0</td>\n      <td>3</td>\n      <td>1</td>\n      <td>1</td>\n      <td>...</td>\n      <td>1</td>\n      <td>0</td>\n      <td>0</td>\n      <td>0</td>\n      <td>0</td>\n      <td>0</td>\n      <td>0</td>\n      <td>0</td>\n      <td>1</td>\n      <td>0</td>\n    </tr>\n    <tr>\n      <th>3</th>\n      <td>18</td>\n      <td>9</td>\n      <td>7</td>\n      <td>8</td>\n      <td>8</td>\n      <td>7</td>\n      <td>12</td>\n      <td>6</td>\n      <td>7</td>\n      <td>1</td>\n      <td>...</td>\n      <td>0</td>\n      <td>0</td>\n      <td>1</td>\n      <td>0</td>\n      <td>0</td>\n      <td>0</td>\n      <td>1</td>\n      <td>0</td>\n      <td>0</td>\n      <td>1</td>\n    </tr>\n    <tr>\n      <th>4</th>\n      <td>11</td>\n      <td>7</td>\n      <td>10</td>\n      <td>11</td>\n      <td>4</td>\n      <td>5</td>\n      <td>1</td>\n      <td>8</td>\n      <td>4</td>\n      <td>4</td>\n      <td>...</td>\n      <td>0</td>\n      <td>0</td>\n      <td>0</td>\n      <td>0</td>\n      <td>0</td>\n      <td>0</td>\n      <td>1</td>\n      <td>0</td>\n      <td>0</td>\n      <td>3</td>\n    </tr>\n    <tr>\n      <th>...</th>\n      <td>...</td>\n      <td>...</td>\n      <td>...</td>\n      <td>...</td>\n      <td>...</td>\n      <td>...</td>\n      <td>...</td>\n      <td>...</td>\n      <td>...</td>\n      <td>...</td>\n      <td>...</td>\n      <td>...</td>\n      <td>...</td>\n      <td>...</td>\n      <td>...</td>\n      <td>...</td>\n      <td>...</td>\n      <td>...</td>\n      <td>...</td>\n      <td>...</td>\n      <td>...</td>\n    </tr>\n    <tr>\n      <th>745</th>\n      <td>5</td>\n      <td>5</td>\n      <td>8</td>\n      <td>2</td>\n      <td>8</td>\n      <td>0</td>\n      <td>5</td>\n      <td>1</td>\n      <td>2</td>\n      <td>3</td>\n      <td>...</td>\n      <td>0</td>\n      <td>1</td>\n      <td>0</td>\n      <td>0</td>\n      <td>0</td>\n      <td>0</td>\n      <td>0</td>\n      <td>0</td>\n      <td>0</td>\n      <td>0</td>\n    </tr>\n    <tr>\n      <th>746</th>\n      <td>22</td>\n      <td>13</td>\n      <td>8</td>\n      <td>14</td>\n      <td>8</td>\n      <td>11</td>\n      <td>3</td>\n      <td>6</td>\n      <td>7</td>\n      <td>6</td>\n      <td>...</td>\n      <td>0</td>\n      <td>6</td>\n      <td>0</td>\n      <td>2</td>\n      <td>0</td>\n      <td>0</td>\n      <td>2</td>\n      <td>0</td>\n      <td>0</td>\n      <td>0</td>\n    </tr>\n    <tr>\n      <th>747</th>\n      <td>10</td>\n      <td>3</td>\n      <td>5</td>\n      <td>5</td>\n      <td>7</td>\n      <td>1</td>\n      <td>14</td>\n      <td>2</td>\n      <td>6</td>\n      <td>1</td>\n      <td>...</td>\n      <td>0</td>\n      <td>0</td>\n      <td>0</td>\n      <td>4</td>\n      <td>1</td>\n      <td>0</td>\n      <td>0</td>\n      <td>2</td>\n      <td>0</td>\n      <td>0</td>\n    </tr>\n    <tr>\n      <th>748</th>\n      <td>9</td>\n      <td>13</td>\n      <td>8</td>\n      <td>5</td>\n      <td>11</td>\n      <td>9</td>\n      <td>9</td>\n      <td>3</td>\n      <td>3</td>\n      <td>6</td>\n      <td>...</td>\n      <td>0</td>\n      <td>0</td>\n      <td>0</td>\n      <td>0</td>\n      <td>1</td>\n      <td>0</td>\n      <td>0</td>\n      <td>0</td>\n      <td>0</td>\n      <td>0</td>\n    </tr>\n    <tr>\n      <th>749</th>\n      <td>12</td>\n      <td>5</td>\n      <td>8</td>\n      <td>4</td>\n      <td>7</td>\n      <td>5</td>\n      <td>0</td>\n      <td>3</td>\n      <td>4</td>\n      <td>4</td>\n      <td>...</td>\n      <td>0</td>\n      <td>0</td>\n      <td>0</td>\n      <td>4</td>\n      <td>0</td>\n      <td>1</td>\n      <td>0</td>\n      <td>0</td>\n      <td>0</td>\n      <td>0</td>\n    </tr>\n  </tbody>\n</table>\n<p>750 rows × 10000 columns</p>\n</div>"
     },
     "metadata": {},
     "output_type": "display_data"
    },
    {
     "data": {
      "text/plain": "'Target: '"
     },
     "metadata": {},
     "output_type": "display_data"
    },
    {
     "data": {
      "text/plain": "0      40\n1      19\n2      33\n3      19\n4      14\n       ..\n745     9\n746    36\n747    44\n748     3\n749    16\nName: Class, Length: 750, dtype: category\nCategories (50, int64): [0, 1, 2, 3, ..., 46, 47, 48, 49]"
     },
     "metadata": {},
     "output_type": "display_data"
    },
    {
     "data": {
      "text/plain": "'Test Dataset: '"
     },
     "metadata": {},
     "output_type": "display_data"
    },
    {
     "data": {
      "text/plain": "       ID  V1  V2  V3  V4  V5  V6  V7  V8  V9  ...  V9991  V9992  V9993  \\\n0     750   3   2   5   1   3   4   9   4   9  ...      0      0      0   \n1     751   9   4   3   4   6   7   2   1   0  ...      0      1      1   \n2     752  18  16   6  13   0   7   0   6   3  ...      1      0      0   \n3     753   5   2   6   2  12   7   1   2   3  ...      0      0      1   \n4     754  14   9   9   5   5   8  10   2   0  ...      0      0      0   \n..    ...  ..  ..  ..  ..  ..  ..  ..  ..  ..  ...    ...    ...    ...   \n745  1495  10   2   2   5   4   2   6   3   4  ...      0      1      0   \n746  1496  19   8   6  11   6   4   3   8   2  ...      0      0      1   \n747  1497  15   4   8   6  10   6  11   5   9  ...      0      0      3   \n748  1498  13   7  11  14   4   3   0   3   0  ...      0      0      0   \n749  1499   4   3   4   1   4   2   2   1   1  ...      0      0      0   \n\n     V9994  V9995  V9996  V9997  V9998  V9999  V10000  \n0        0      0      1      0      0      0       0  \n1        1      2      0      0      0      0       0  \n2        0      1      0      2      0      0       0  \n3        0      0      0      0      0      0       0  \n4        0      2      1      0      2      0       0  \n..     ...    ...    ...    ...    ...    ...     ...  \n745      0      0      1      0      0      0       0  \n746      0      0      0      3      0      0       0  \n747      0      0      1      0      0      0       0  \n748      0      0      0      0      0      0       0  \n749      0      0      1      0      0      0       0  \n\n[750 rows x 10001 columns]",
      "text/html": "<div>\n<style scoped>\n    .dataframe tbody tr th:only-of-type {\n        vertical-align: middle;\n    }\n\n    .dataframe tbody tr th {\n        vertical-align: top;\n    }\n\n    .dataframe thead th {\n        text-align: right;\n    }\n</style>\n<table border=\"1\" class=\"dataframe\">\n  <thead>\n    <tr style=\"text-align: right;\">\n      <th></th>\n      <th>ID</th>\n      <th>V1</th>\n      <th>V2</th>\n      <th>V3</th>\n      <th>V4</th>\n      <th>V5</th>\n      <th>V6</th>\n      <th>V7</th>\n      <th>V8</th>\n      <th>V9</th>\n      <th>...</th>\n      <th>V9991</th>\n      <th>V9992</th>\n      <th>V9993</th>\n      <th>V9994</th>\n      <th>V9995</th>\n      <th>V9996</th>\n      <th>V9997</th>\n      <th>V9998</th>\n      <th>V9999</th>\n      <th>V10000</th>\n    </tr>\n  </thead>\n  <tbody>\n    <tr>\n      <th>0</th>\n      <td>750</td>\n      <td>3</td>\n      <td>2</td>\n      <td>5</td>\n      <td>1</td>\n      <td>3</td>\n      <td>4</td>\n      <td>9</td>\n      <td>4</td>\n      <td>9</td>\n      <td>...</td>\n      <td>0</td>\n      <td>0</td>\n      <td>0</td>\n      <td>0</td>\n      <td>0</td>\n      <td>1</td>\n      <td>0</td>\n      <td>0</td>\n      <td>0</td>\n      <td>0</td>\n    </tr>\n    <tr>\n      <th>1</th>\n      <td>751</td>\n      <td>9</td>\n      <td>4</td>\n      <td>3</td>\n      <td>4</td>\n      <td>6</td>\n      <td>7</td>\n      <td>2</td>\n      <td>1</td>\n      <td>0</td>\n      <td>...</td>\n      <td>0</td>\n      <td>1</td>\n      <td>1</td>\n      <td>1</td>\n      <td>2</td>\n      <td>0</td>\n      <td>0</td>\n      <td>0</td>\n      <td>0</td>\n      <td>0</td>\n    </tr>\n    <tr>\n      <th>2</th>\n      <td>752</td>\n      <td>18</td>\n      <td>16</td>\n      <td>6</td>\n      <td>13</td>\n      <td>0</td>\n      <td>7</td>\n      <td>0</td>\n      <td>6</td>\n      <td>3</td>\n      <td>...</td>\n      <td>1</td>\n      <td>0</td>\n      <td>0</td>\n      <td>0</td>\n      <td>1</td>\n      <td>0</td>\n      <td>2</td>\n      <td>0</td>\n      <td>0</td>\n      <td>0</td>\n    </tr>\n    <tr>\n      <th>3</th>\n      <td>753</td>\n      <td>5</td>\n      <td>2</td>\n      <td>6</td>\n      <td>2</td>\n      <td>12</td>\n      <td>7</td>\n      <td>1</td>\n      <td>2</td>\n      <td>3</td>\n      <td>...</td>\n      <td>0</td>\n      <td>0</td>\n      <td>1</td>\n      <td>0</td>\n      <td>0</td>\n      <td>0</td>\n      <td>0</td>\n      <td>0</td>\n      <td>0</td>\n      <td>0</td>\n    </tr>\n    <tr>\n      <th>4</th>\n      <td>754</td>\n      <td>14</td>\n      <td>9</td>\n      <td>9</td>\n      <td>5</td>\n      <td>5</td>\n      <td>8</td>\n      <td>10</td>\n      <td>2</td>\n      <td>0</td>\n      <td>...</td>\n      <td>0</td>\n      <td>0</td>\n      <td>0</td>\n      <td>0</td>\n      <td>2</td>\n      <td>1</td>\n      <td>0</td>\n      <td>2</td>\n      <td>0</td>\n      <td>0</td>\n    </tr>\n    <tr>\n      <th>...</th>\n      <td>...</td>\n      <td>...</td>\n      <td>...</td>\n      <td>...</td>\n      <td>...</td>\n      <td>...</td>\n      <td>...</td>\n      <td>...</td>\n      <td>...</td>\n      <td>...</td>\n      <td>...</td>\n      <td>...</td>\n      <td>...</td>\n      <td>...</td>\n      <td>...</td>\n      <td>...</td>\n      <td>...</td>\n      <td>...</td>\n      <td>...</td>\n      <td>...</td>\n      <td>...</td>\n    </tr>\n    <tr>\n      <th>745</th>\n      <td>1495</td>\n      <td>10</td>\n      <td>2</td>\n      <td>2</td>\n      <td>5</td>\n      <td>4</td>\n      <td>2</td>\n      <td>6</td>\n      <td>3</td>\n      <td>4</td>\n      <td>...</td>\n      <td>0</td>\n      <td>1</td>\n      <td>0</td>\n      <td>0</td>\n      <td>0</td>\n      <td>1</td>\n      <td>0</td>\n      <td>0</td>\n      <td>0</td>\n      <td>0</td>\n    </tr>\n    <tr>\n      <th>746</th>\n      <td>1496</td>\n      <td>19</td>\n      <td>8</td>\n      <td>6</td>\n      <td>11</td>\n      <td>6</td>\n      <td>4</td>\n      <td>3</td>\n      <td>8</td>\n      <td>2</td>\n      <td>...</td>\n      <td>0</td>\n      <td>0</td>\n      <td>1</td>\n      <td>0</td>\n      <td>0</td>\n      <td>0</td>\n      <td>3</td>\n      <td>0</td>\n      <td>0</td>\n      <td>0</td>\n    </tr>\n    <tr>\n      <th>747</th>\n      <td>1497</td>\n      <td>15</td>\n      <td>4</td>\n      <td>8</td>\n      <td>6</td>\n      <td>10</td>\n      <td>6</td>\n      <td>11</td>\n      <td>5</td>\n      <td>9</td>\n      <td>...</td>\n      <td>0</td>\n      <td>0</td>\n      <td>3</td>\n      <td>0</td>\n      <td>0</td>\n      <td>1</td>\n      <td>0</td>\n      <td>0</td>\n      <td>0</td>\n      <td>0</td>\n    </tr>\n    <tr>\n      <th>748</th>\n      <td>1498</td>\n      <td>13</td>\n      <td>7</td>\n      <td>11</td>\n      <td>14</td>\n      <td>4</td>\n      <td>3</td>\n      <td>0</td>\n      <td>3</td>\n      <td>0</td>\n      <td>...</td>\n      <td>0</td>\n      <td>0</td>\n      <td>0</td>\n      <td>0</td>\n      <td>0</td>\n      <td>0</td>\n      <td>0</td>\n      <td>0</td>\n      <td>0</td>\n      <td>0</td>\n    </tr>\n    <tr>\n      <th>749</th>\n      <td>1499</td>\n      <td>4</td>\n      <td>3</td>\n      <td>4</td>\n      <td>1</td>\n      <td>4</td>\n      <td>2</td>\n      <td>2</td>\n      <td>1</td>\n      <td>1</td>\n      <td>...</td>\n      <td>0</td>\n      <td>0</td>\n      <td>0</td>\n      <td>0</td>\n      <td>0</td>\n      <td>1</td>\n      <td>0</td>\n      <td>0</td>\n      <td>0</td>\n      <td>0</td>\n    </tr>\n  </tbody>\n</table>\n<p>750 rows × 10001 columns</p>\n</div>"
     },
     "metadata": {},
     "output_type": "display_data"
    },
    {
     "data": {
      "text/plain": "'Test Dataset, Predictors: '"
     },
     "metadata": {},
     "output_type": "display_data"
    },
    {
     "data": {
      "text/plain": "     V1  V2  V3  V4  V5  V6  V7  V8  V9  V10  ...  V9991  V9992  V9993  V9994  \\\n0     3   2   5   1   3   4   9   4   9    4  ...      0      0      0      0   \n1     9   4   3   4   6   7   2   1   0    1  ...      0      1      1      1   \n2    18  16   6  13   0   7   0   6   3    0  ...      1      0      0      0   \n3     5   2   6   2  12   7   1   2   3    5  ...      0      0      1      0   \n4    14   9   9   5   5   8  10   2   0    5  ...      0      0      0      0   \n..   ..  ..  ..  ..  ..  ..  ..  ..  ..  ...  ...    ...    ...    ...    ...   \n745  10   2   2   5   4   2   6   3   4    1  ...      0      1      0      0   \n746  19   8   6  11   6   4   3   8   2    3  ...      0      0      1      0   \n747  15   4   8   6  10   6  11   5   9    2  ...      0      0      3      0   \n748  13   7  11  14   4   3   0   3   0    0  ...      0      0      0      0   \n749   4   3   4   1   4   2   2   1   1    2  ...      0      0      0      0   \n\n     V9995  V9996  V9997  V9998  V9999  V10000  \n0        0      1      0      0      0       0  \n1        2      0      0      0      0       0  \n2        1      0      2      0      0       0  \n3        0      0      0      0      0       0  \n4        2      1      0      2      0       0  \n..     ...    ...    ...    ...    ...     ...  \n745      0      1      0      0      0       0  \n746      0      0      3      0      0       0  \n747      0      1      0      0      0       0  \n748      0      0      0      0      0       0  \n749      0      1      0      0      0       0  \n\n[750 rows x 10000 columns]",
      "text/html": "<div>\n<style scoped>\n    .dataframe tbody tr th:only-of-type {\n        vertical-align: middle;\n    }\n\n    .dataframe tbody tr th {\n        vertical-align: top;\n    }\n\n    .dataframe thead th {\n        text-align: right;\n    }\n</style>\n<table border=\"1\" class=\"dataframe\">\n  <thead>\n    <tr style=\"text-align: right;\">\n      <th></th>\n      <th>V1</th>\n      <th>V2</th>\n      <th>V3</th>\n      <th>V4</th>\n      <th>V5</th>\n      <th>V6</th>\n      <th>V7</th>\n      <th>V8</th>\n      <th>V9</th>\n      <th>V10</th>\n      <th>...</th>\n      <th>V9991</th>\n      <th>V9992</th>\n      <th>V9993</th>\n      <th>V9994</th>\n      <th>V9995</th>\n      <th>V9996</th>\n      <th>V9997</th>\n      <th>V9998</th>\n      <th>V9999</th>\n      <th>V10000</th>\n    </tr>\n  </thead>\n  <tbody>\n    <tr>\n      <th>0</th>\n      <td>3</td>\n      <td>2</td>\n      <td>5</td>\n      <td>1</td>\n      <td>3</td>\n      <td>4</td>\n      <td>9</td>\n      <td>4</td>\n      <td>9</td>\n      <td>4</td>\n      <td>...</td>\n      <td>0</td>\n      <td>0</td>\n      <td>0</td>\n      <td>0</td>\n      <td>0</td>\n      <td>1</td>\n      <td>0</td>\n      <td>0</td>\n      <td>0</td>\n      <td>0</td>\n    </tr>\n    <tr>\n      <th>1</th>\n      <td>9</td>\n      <td>4</td>\n      <td>3</td>\n      <td>4</td>\n      <td>6</td>\n      <td>7</td>\n      <td>2</td>\n      <td>1</td>\n      <td>0</td>\n      <td>1</td>\n      <td>...</td>\n      <td>0</td>\n      <td>1</td>\n      <td>1</td>\n      <td>1</td>\n      <td>2</td>\n      <td>0</td>\n      <td>0</td>\n      <td>0</td>\n      <td>0</td>\n      <td>0</td>\n    </tr>\n    <tr>\n      <th>2</th>\n      <td>18</td>\n      <td>16</td>\n      <td>6</td>\n      <td>13</td>\n      <td>0</td>\n      <td>7</td>\n      <td>0</td>\n      <td>6</td>\n      <td>3</td>\n      <td>0</td>\n      <td>...</td>\n      <td>1</td>\n      <td>0</td>\n      <td>0</td>\n      <td>0</td>\n      <td>1</td>\n      <td>0</td>\n      <td>2</td>\n      <td>0</td>\n      <td>0</td>\n      <td>0</td>\n    </tr>\n    <tr>\n      <th>3</th>\n      <td>5</td>\n      <td>2</td>\n      <td>6</td>\n      <td>2</td>\n      <td>12</td>\n      <td>7</td>\n      <td>1</td>\n      <td>2</td>\n      <td>3</td>\n      <td>5</td>\n      <td>...</td>\n      <td>0</td>\n      <td>0</td>\n      <td>1</td>\n      <td>0</td>\n      <td>0</td>\n      <td>0</td>\n      <td>0</td>\n      <td>0</td>\n      <td>0</td>\n      <td>0</td>\n    </tr>\n    <tr>\n      <th>4</th>\n      <td>14</td>\n      <td>9</td>\n      <td>9</td>\n      <td>5</td>\n      <td>5</td>\n      <td>8</td>\n      <td>10</td>\n      <td>2</td>\n      <td>0</td>\n      <td>5</td>\n      <td>...</td>\n      <td>0</td>\n      <td>0</td>\n      <td>0</td>\n      <td>0</td>\n      <td>2</td>\n      <td>1</td>\n      <td>0</td>\n      <td>2</td>\n      <td>0</td>\n      <td>0</td>\n    </tr>\n    <tr>\n      <th>...</th>\n      <td>...</td>\n      <td>...</td>\n      <td>...</td>\n      <td>...</td>\n      <td>...</td>\n      <td>...</td>\n      <td>...</td>\n      <td>...</td>\n      <td>...</td>\n      <td>...</td>\n      <td>...</td>\n      <td>...</td>\n      <td>...</td>\n      <td>...</td>\n      <td>...</td>\n      <td>...</td>\n      <td>...</td>\n      <td>...</td>\n      <td>...</td>\n      <td>...</td>\n      <td>...</td>\n    </tr>\n    <tr>\n      <th>745</th>\n      <td>10</td>\n      <td>2</td>\n      <td>2</td>\n      <td>5</td>\n      <td>4</td>\n      <td>2</td>\n      <td>6</td>\n      <td>3</td>\n      <td>4</td>\n      <td>1</td>\n      <td>...</td>\n      <td>0</td>\n      <td>1</td>\n      <td>0</td>\n      <td>0</td>\n      <td>0</td>\n      <td>1</td>\n      <td>0</td>\n      <td>0</td>\n      <td>0</td>\n      <td>0</td>\n    </tr>\n    <tr>\n      <th>746</th>\n      <td>19</td>\n      <td>8</td>\n      <td>6</td>\n      <td>11</td>\n      <td>6</td>\n      <td>4</td>\n      <td>3</td>\n      <td>8</td>\n      <td>2</td>\n      <td>3</td>\n      <td>...</td>\n      <td>0</td>\n      <td>0</td>\n      <td>1</td>\n      <td>0</td>\n      <td>0</td>\n      <td>0</td>\n      <td>3</td>\n      <td>0</td>\n      <td>0</td>\n      <td>0</td>\n    </tr>\n    <tr>\n      <th>747</th>\n      <td>15</td>\n      <td>4</td>\n      <td>8</td>\n      <td>6</td>\n      <td>10</td>\n      <td>6</td>\n      <td>11</td>\n      <td>5</td>\n      <td>9</td>\n      <td>2</td>\n      <td>...</td>\n      <td>0</td>\n      <td>0</td>\n      <td>3</td>\n      <td>0</td>\n      <td>0</td>\n      <td>1</td>\n      <td>0</td>\n      <td>0</td>\n      <td>0</td>\n      <td>0</td>\n    </tr>\n    <tr>\n      <th>748</th>\n      <td>13</td>\n      <td>7</td>\n      <td>11</td>\n      <td>14</td>\n      <td>4</td>\n      <td>3</td>\n      <td>0</td>\n      <td>3</td>\n      <td>0</td>\n      <td>0</td>\n      <td>...</td>\n      <td>0</td>\n      <td>0</td>\n      <td>0</td>\n      <td>0</td>\n      <td>0</td>\n      <td>0</td>\n      <td>0</td>\n      <td>0</td>\n      <td>0</td>\n      <td>0</td>\n    </tr>\n    <tr>\n      <th>749</th>\n      <td>4</td>\n      <td>3</td>\n      <td>4</td>\n      <td>1</td>\n      <td>4</td>\n      <td>2</td>\n      <td>2</td>\n      <td>1</td>\n      <td>1</td>\n      <td>2</td>\n      <td>...</td>\n      <td>0</td>\n      <td>0</td>\n      <td>0</td>\n      <td>0</td>\n      <td>0</td>\n      <td>1</td>\n      <td>0</td>\n      <td>0</td>\n      <td>0</td>\n      <td>0</td>\n    </tr>\n  </tbody>\n</table>\n<p>750 rows × 10000 columns</p>\n</div>"
     },
     "metadata": {},
     "output_type": "display_data"
    },
    {
     "data": {
      "text/plain": "'Finally recoded: '"
     },
     "metadata": {},
     "output_type": "display_data"
    },
    {
     "data": {
      "text/plain": "       ID    Class\n0     750  Sherwin\n1     751  Sherwin\n2     752  Sherwin\n3     753  Sherwin\n4     754  Sherwin\n..    ...      ...\n745  1495  Sherwin\n746  1496  Sherwin\n747  1497  Sherwin\n748  1498  Sherwin\n749  1499    Brody\n\n[750 rows x 2 columns]",
      "text/html": "<div>\n<style scoped>\n    .dataframe tbody tr th:only-of-type {\n        vertical-align: middle;\n    }\n\n    .dataframe tbody tr th {\n        vertical-align: top;\n    }\n\n    .dataframe thead th {\n        text-align: right;\n    }\n</style>\n<table border=\"1\" class=\"dataframe\">\n  <thead>\n    <tr style=\"text-align: right;\">\n      <th></th>\n      <th>ID</th>\n      <th>Class</th>\n    </tr>\n  </thead>\n  <tbody>\n    <tr>\n      <th>0</th>\n      <td>750</td>\n      <td>Sherwin</td>\n    </tr>\n    <tr>\n      <th>1</th>\n      <td>751</td>\n      <td>Sherwin</td>\n    </tr>\n    <tr>\n      <th>2</th>\n      <td>752</td>\n      <td>Sherwin</td>\n    </tr>\n    <tr>\n      <th>3</th>\n      <td>753</td>\n      <td>Sherwin</td>\n    </tr>\n    <tr>\n      <th>4</th>\n      <td>754</td>\n      <td>Sherwin</td>\n    </tr>\n    <tr>\n      <th>...</th>\n      <td>...</td>\n      <td>...</td>\n    </tr>\n    <tr>\n      <th>745</th>\n      <td>1495</td>\n      <td>Sherwin</td>\n    </tr>\n    <tr>\n      <th>746</th>\n      <td>1496</td>\n      <td>Sherwin</td>\n    </tr>\n    <tr>\n      <th>747</th>\n      <td>1497</td>\n      <td>Sherwin</td>\n    </tr>\n    <tr>\n      <th>748</th>\n      <td>1498</td>\n      <td>Sherwin</td>\n    </tr>\n    <tr>\n      <th>749</th>\n      <td>1499</td>\n      <td>Brody</td>\n    </tr>\n  </tbody>\n</table>\n<p>750 rows × 2 columns</p>\n</div>"
     },
     "metadata": {},
     "output_type": "display_data"
    }
   ],
   "source": [
    "from sklearn import preprocessing\n",
    "from sklearn import svm\n",
    "import pandas as pd\n",
    "import numpy as np\n",
    "# Read Data\n",
    "amazon_data_learn = pd.read_csv(\"data/amazon/amazon_review_ID.shuf.lrn.csv\")\n",
    "amazon_data_test = pd.read_csv(\"data/amazon/amazon_review_ID.shuf.tes.csv\")\n",
    "\n",
    "# Label Encoding\n",
    "le = preprocessing.LabelEncoder()\n",
    "le.fit(amazon_data_learn[\"Class\"])\n",
    "amazon_data_learn[\"Class\"] = le.transform(amazon_data_learn[\"Class\"])\n",
    "amazon_data_learn[\"Class\"] = amazon_data_learn[\"Class\"].astype(\"category\")\n",
    "\n",
    "names_data = amazon_data_learn.loc[:, amazon_data_learn.columns.str.startswith(\"V\")]\n",
    "amazon_data_learn[names_data.columns] = amazon_data_learn[names_data.columns].astype('int')\n",
    "\n",
    "display(\"Recoded Data\", amazon_data_learn)\n",
    "\n",
    "X = amazon_data_learn[names_data.columns]\n",
    "y = amazon_data_learn[\"Class\"]\n",
    "\n",
    "display(\"Data: \", X)\n",
    "display(\"Target: \", y)\n",
    "display(\"Test Dataset: \", amazon_data_test)\n",
    "display(\"Test Dataset, Predictors: \", amazon_data_test[names_data.columns])\n",
    "\n",
    "#Calculate Model\n",
    "classifier = svm.SVC(kernel = \"rbf\", gamma=0.001, C=200)\n",
    "classifier.fit(X, y)\n",
    "\n",
    "#Predict the Test Data\n",
    "amazon_data_test[\"Class\"] = classifier.predict(amazon_data_test[names_data.columns])\n",
    "\n",
    "#Recode to required output\n",
    "amazon_data_test[\"Class\"] = le.inverse_transform(amazon_data_test[\"Class\"])\n",
    "display(\"Finally recoded: \", amazon_data_test[[\"ID\", \"Class\"]])\n",
    "amazon_data_test[[\"ID\", \"Class\"]].to_csv(\"solution_amazon.csv\", index = False)"
   ],
   "metadata": {
    "collapsed": false,
    "pycharm": {
     "name": "#%%\n"
    }
   }
  }
 ],
 "metadata": {
  "kernelspec": {
   "display_name": "Python 3",
   "language": "python",
   "name": "python3"
  },
  "language_info": {
   "codemirror_mode": {
    "name": "ipython",
    "version": 3
   },
   "file_extension": ".py",
   "mimetype": "text/x-python",
   "name": "python",
   "nbconvert_exporter": "python",
   "pygments_lexer": "ipython3",
   "version": "3.6.5"
  }
 },
 "nbformat": 4,
 "nbformat_minor": 1
}