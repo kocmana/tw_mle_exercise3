{
 "cells": [
  {
   "cell_type": "markdown",
   "source": [
    "# MLE - Exercise 3 - Kaggle Competition\n",
    "## Andreas Kocman (se19m024)\n",
    "\n",
    "\n",
    "This exercise is in the form of a Kaggle competition. A few quick details on Kaggle & the competition format:\n",
    "\n",
    "## Kaggle\n",
    "* Kaggle (https://en.wikipedia.org/wiki/Kaggle) is a platform that allows a competition for a certain data set. Participants submit their prediction on a test set, and will get automated scoring on their results, and will enter the leaderboard.\n",
    "* From Kaggle, you will be able to obtain a labelled training set, and an unlabelled test set.\n",
    "* You can submit multiple entries to Kaggle; for each entry, you need to provide details on how you achieved the results - which software and which version of the software, which operating system, which algorithms, and which parameter settings for these algorithms; further, any processing applied to the data before training/predicting. There is a specific \"description\" field when submitting, you should fill in this information there, and you also need to include this description and the actual submission file in your final submission to Moodle.\n",
    "* To submit to Kaggle, you need to create a specific submission file, which contains the predictions you obtain on the test set. Computing an aggregated evaluation criterion is done automatically by Kaggle\n",
    "* The format of your submission is rather simple - it is a comma-separated file, where the first column is the identifier of the item that you are predicting, and the second column is the class you are predicting for that item. The first line should include a header, and is should use the names provided in the training set. An example is below:\n",
    "```\n",
    "ID,class\n",
    "911366,B\n",
    "852781,B\n",
    "89524,B\n",
    "857438,B\n",
    "905686,B\n",
    "```\n",
    "* There is a limit of 7 submissions per day; finally, you also need to select your top 7 submissions to be counted in the competition\n",
    "* Before you submit, you should evaluate the classifiers \"locally\" on your training set, i.e. by splitting that again in a training & test set (or using cross validation), to select a number of fitting algorithms & parameters. Then re-train your best models on the full local training set, and generate the predictions for the test set.\n",
    "* Evaluation in Kaggle is split in two types of leaderboards - the private and public one. Here, the data is split into 50% / 50%, and as soon as you upload, you will know your results on one of these splits.\n",
    "* The final results will only be visible once the competition closes, and as it is computed on a different split, might be slightly different than what you see initially (e.g. this is similar to a training/test/validation split)\n",
    "* As it is a competition, there will be bonus points for the top 3 submissions.\n",
    "* As reproducible science is great, there will be additional bonus points for submissions that use a notebook within the Kaggle competition (note: this was / partially still is called a \"kernel\" inside the Kaggle competition; Kernel obviously was a confusing term here, as it basically refers to code being executed in the environment of Kaggle itself (e.g. a jupyter notebook, or also a python or R script), and they seem to have realized that, and renamed it). see https://www.kaggle.com/notebooks or https://www.kaggle.com/getting-started/44939. You can first work locally, and then port your code to the notebook version. In Kaggle, your notebook will initially be private. Please share it with me (mayer@ifs.tuwien.ac.at), at least, though. You can also make it public at the end of the competition, to show off :-)\n",
    "\n",
    "## Datasets\n",
    "We will use the following datasets:\n",
    "* Congressional Voting: a small dataset, a good entry point for your experiments (435 instances, 16 features)\n",
    "  * Kaggle page: https://www.kaggle.com/t/c04c953c596e48099d857129f53fcbdb\n",
    "* Amazon reviews: a dataset with many features (10k, extracted from text), but not that many instances (~800)\n",
    "  * Kaggle page: https://www.kaggle.com/t/0bd2ac297dc242478b5979d5ee772136\n",
    "\n",
    "## Submission\n",
    "The Kaggle competition will close on the day displayed in Kaggle. After that, you still have time to submit to Moodle. Your submission to Moodle shall contain:\n",
    "\n",
    "* A brief report, containing\n",
    "  * A description of the datasets, including a short analysis of the features.\n",
    "  * Details on the software you used for creating your solution\n",
    "  * The algorithms and parameters you tried\n",
    "  * The results you obtained on the locally split training/test set\n",
    "    * And a comparison to the results that you received on Kaggle - how large was the difference, did the rank of the classifiers change (i.e. the first on your training set, was it still the best on the test set on Kaggle?)\n",
    "* All the code needed to obtain your results\n",
    "* The solution files that you uploaded to Kaggle"
   ],
   "metadata": {
    "collapsed": false
   }
  },
  {
   "cell_type": "markdown",
   "source": [
    "# Solution\n",
    "\n",
    "## Helper Functions for Solution and Data Analysis"
   ],
   "metadata": {
    "collapsed": false,
    "pycharm": {
     "name": "#%% md\n"
    }
   }
  },
  {
   "cell_type": "code",
   "execution_count": 1,
   "metadata": {
    "pycharm": {
     "name": "#%%\n"
    }
   },
   "outputs": [],
   "source": [
    "# global Imports\n",
    "import pandas as pd\n",
    "import numpy as numpy\n",
    "\n",
    "#sk learn imports\n",
    "from sklearn.model_selection import train_test_split\n",
    "from sklearn import metrics\n",
    "from sklearn.model_selection import cross_validate\n",
    "from sklearn.metrics import accuracy_score\n",
    "from sklearn.metrics import precision_score\n",
    "from sklearn.metrics import recall_score\n",
    "from sklearn.metrics import make_scorer\n",
    "\n",
    "#Data reporting\n",
    "from IPython.display import display\n",
    "\n",
    "# Global definitions:\n",
    "overall_results_vote = []\n",
    "overall_results_amazon = []\n",
    "averaging_approach = 'macro'\n",
    "zero_division_approach = 0\n",
    "number_of_folds = 2\n",
    "scoring = {'Accuracy': make_scorer(accuracy_score),\n",
    "            'Precision': make_scorer(precision_score, average=averaging_approach, zero_division=zero_division_approach),\n",
    "            'Recall': make_scorer(recall_score, average=averaging_approach, zero_division=zero_division_approach)}\n",
    "\n",
    "# Helper functions\n",
    "def parse_k_fold_results(results):\n",
    "    return \"m: \" + str(numpy.average(results)) + \" std: \" + str(numpy.std(results))\n",
    "\n",
    "def parse_argument_tuple_as_string(argumentsTuple):\n",
    "    return \"max Depth: \" + str(argumentsTuple[0])  + \\\n",
    "           \", min Samples: \" + str(argumentsTuple[1])\n",
    "\n",
    "def calculate_results_holdout(classifier_used, X_train, X_test, y_train, y_test):\n",
    "    classifier_used.fit(X_train, y_train)\n",
    "\n",
    "    # predict the test set on our trained classifier\n",
    "    y_test_predicted = classifier_used.predict(X_test)\n",
    "\n",
    "    acc = metrics.accuracy_score(y_test, y_test_predicted)\n",
    "    recall=metrics.recall_score(y_test, y_test_predicted)\n",
    "    precision = metrics.precision_score(y_test, y_test_predicted)\n",
    "\n",
    "    return pd.Series({\n",
    "            'classifier': str(classifier_used),\n",
    "            'arguments': \"\",\n",
    "            'accuracy':acc,\n",
    "            'precision':precision,\n",
    "            'recall':recall\n",
    "        })\n",
    "\n",
    "def calculate_results_cross_validate(classifier_used, description_used, data, target):\n",
    "   scores = cross_validate(classifier_used, data, target,\n",
    "                                scoring = scoring,\n",
    "                                cv = number_of_folds,\n",
    "                                error_score = 0)\n",
    "\n",
    "   return pd.Series({\n",
    "            'classifier': str(classifier_used),\n",
    "            'arguments': description_used,\n",
    "            'mean_accuracy': numpy.average(scores.get('test_Accuracy')),\n",
    "            'mean_precision': numpy.average(scores.get('test_Precision')),\n",
    "            'mean_recall': numpy.average(scores.get('test_Recall')),\n",
    "            'accuracy': parse_k_fold_results(scores.get('test_Accuracy')),\n",
    "            'precision': parse_k_fold_results(scores.get('test_Precision')),\n",
    "            'recall':parse_k_fold_results(scores.get('test_Recall'))\n",
    "        })\n",
    "\n",
    "def print_results(array, column_for_max, ascending=False):\n",
    "    df = pd.DataFrame(array)\n",
    "    df = df.sort_values(by=[column_for_max], ascending=False)\n",
    "    display('Results', df)\n",
    "\n",
    "    best = df.iloc[df[column_for_max].argmax()]\n",
    "    display(best)"
   ]
  },
  {
   "cell_type": "markdown",
   "source": [
    "### Calculation Functions\n"
   ],
   "metadata": {
    "collapsed": false,
    "pycharm": {
     "name": "#%% md\n"
    }
   }
  },
  {
   "cell_type": "markdown",
   "source": [
    "#### k-NN Calculation"
   ],
   "metadata": {
    "collapsed": false
   }
  },
  {
   "cell_type": "code",
   "execution_count": 2,
   "outputs": [],
   "source": [
    "from sklearn import neighbors\n",
    "\n",
    "def calculate_knn(data, target):\n",
    "    knn_results = []\n",
    "\n",
    "    n_neighbors = range(1,10,1)\n",
    "\n",
    "    for n in n_neighbors:\n",
    "        knn_classifier = neighbors.KNeighborsClassifier(n)\n",
    "        description = \"N = \" + str(n)\n",
    "        result = calculate_results_cross_validate(knn_classifier,\n",
    "                                                  description,\n",
    "                                                  data,\n",
    "                                                  target)\n",
    "        knn_results.append(result)\n",
    "    return knn_results\n"
   ],
   "metadata": {
    "collapsed": false,
    "pycharm": {
     "name": "#%%\n"
    }
   }
  },
  {
   "cell_type": "markdown",
   "source": [
    "#### Bayes Calculation"
   ],
   "metadata": {
    "collapsed": false
   }
  },
  {
   "cell_type": "code",
   "execution_count": 3,
   "outputs": [],
   "source": [
    "from sklearn import naive_bayes\n",
    "\n",
    "def calculate_bayes(data, target):\n",
    "    bayes_results = []\n",
    "\n",
    "    alphas = numpy.arange(0.1,5,1)\n",
    "\n",
    "    for alpha in alphas:\n",
    "        classifier = naive_bayes.CategoricalNB(alpha = alpha)\n",
    "        description = \"Alpha = \" + str(alpha)\n",
    "        result = calculate_results_cross_validate(classifier,\n",
    "                                                  description,\n",
    "                                                  data,\n",
    "                                                  target)\n",
    "        bayes_results.append(result)\n",
    "\n",
    "    return bayes_results"
   ],
   "metadata": {
    "collapsed": false,
    "pycharm": {
     "name": "#%%\n"
    }
   }
  },
  {
   "cell_type": "markdown",
   "source": [
    "#### Perceptron Calculation"
   ],
   "metadata": {
    "collapsed": false,
    "pycharm": {
     "name": "#%% md\n",
     "is_executing": true
    }
   }
  },
  {
   "cell_type": "code",
   "execution_count": 4,
   "outputs": [],
   "source": [
    "from sklearn import linear_model\n",
    "\n",
    "def calculate_perceptron(data, target):\n",
    "    perceptron_results=[]\n",
    "    classifier = linear_model.Perceptron()\n",
    "    description = \"No additional args.\"\n",
    "    result = calculate_results_cross_validate(classifier,\n",
    "                                              description,\n",
    "                                              data,\n",
    "                                              target)\n",
    "    perceptron_results.append(result)\n",
    "    return perceptron_results"
   ],
   "metadata": {
    "collapsed": false,
    "pycharm": {
     "name": "#%%\n"
    }
   }
  },
  {
   "cell_type": "markdown",
   "source": [
    "#### Decision Tree Calculation"
   ],
   "metadata": {
    "collapsed": false
   }
  },
  {
   "cell_type": "code",
   "execution_count": 5,
   "outputs": [],
   "source": [
    "from sklearn import tree\n",
    "import itertools\n",
    "\n",
    "def calculate_decision_tree(data, target):\n",
    "    # Parameters for the decision tree\n",
    "    max_depth_arguments = range(1, 10, 2)\n",
    "    min_samples_leaf_arguments = [2,20,50,100]\n",
    "    argumentTuples = list(itertools.product(max_depth_arguments,\n",
    "                                            min_samples_leaf_arguments))\n",
    "    decision_tree_results = []\n",
    "\n",
    "    for argumentTuple in argumentTuples:\n",
    "        max_depth = argumentTuple[0]\n",
    "        min_samples_leaf = argumentTuple[1]\n",
    "\n",
    "        classifier = tree.DecisionTreeClassifier(criterion = 'gini',\n",
    "                                                 max_depth = max_depth,\n",
    "                                                 min_samples_leaf = min_samples_leaf,\n",
    "                                                 splitter = 'best')\n",
    "        #result = calculate_results_holdout(classifier, X_train, X_test, y_train, y_test)\n",
    "        result = calculate_results_cross_validate(classifier,\n",
    "                                                  parse_argument_tuple_as_string(argumentTuple),\n",
    "                                                  data,\n",
    "                                                  target)\n",
    "        decision_tree_results.append(result)\n",
    "    return decision_tree_results"
   ],
   "metadata": {
    "collapsed": false,
    "pycharm": {
     "name": "#%%\n"
    }
   }
  },
  {
   "cell_type": "markdown",
   "source": [
    "#### SVM Calculation"
   ],
   "metadata": {
    "collapsed": false
   }
  },
  {
   "cell_type": "code",
   "execution_count": 6,
   "outputs": [],
   "source": [
    "from sklearn import svm\n",
    "import itertools\n",
    "\n",
    "def calculate_svm(data, target):\n",
    "    kernels = {\"linear\", \"poly\", \"sigmoid\", \"rbf\"}\n",
    "    gamma = [0.001] #numpy.arange(0.001, 1., 0.1)\n",
    "    gamma.append (\"scale\")\n",
    "    gamma.append (\"auto\")\n",
    "    c = range(1, 302, 100)\n",
    "    argumentTuples = list(itertools.product(kernels,\n",
    "                                            gamma,\n",
    "                                            c))\n",
    "    svm_results = []\n",
    "\n",
    "    for argumentTuple in argumentTuples:\n",
    "        kernel = argumentTuple[0]\n",
    "        gamma = argumentTuple[1]\n",
    "        c = argumentTuple[2]\n",
    "\n",
    "        classifier = svm.SVC(kernel = kernel, gamma=gamma, C=c)\n",
    "\n",
    "        #result = calculate_results_holdout(classifier, X_train, X_test, y_train, y_test)\n",
    "        result = calculate_results_cross_validate(classifier,\n",
    "                                                  \"Kernel: \" + kernel,\n",
    "                                                  data,\n",
    "                                                  target)\n",
    "        svm_results.append(result)\n",
    "    return svm_results"
   ],
   "metadata": {
    "collapsed": false,
    "pycharm": {
     "name": "#%%\n"
    }
   }
  },
  {
   "cell_type": "markdown",
   "metadata": {},
   "source": [
    "## Congressional Voting"
   ]
  },
  {
   "cell_type": "code",
   "execution_count": 7,
   "metadata": {
    "pycharm": {
     "name": "#%%\n"
    }
   },
   "outputs": [
    {
     "data": {
      "text/plain": "'Original Data'"
     },
     "metadata": {},
     "output_type": "display_data"
    },
    {
     "data": {
      "text/plain": "      ID       class handicapped-infants water-project-cost-sharing  \\\n0    213    democrat                   n                          n   \n1     94    democrat                   y                          n   \n2    188    democrat                   y                          n   \n3     61    democrat                   y                          y   \n4    184    democrat                 NaN                        NaN   \n..   ...         ...                 ...                        ...   \n213  250    democrat                   y                          n   \n214   26    democrat                   y                          n   \n215  110    democrat                   y                        NaN   \n216   34  republican                   n                          y   \n217  314  republican                   n                          y   \n\n    adoption-of-the-budget-resolution physician-fee-freeze el-salvador-aid  \\\n0                                   y                    n               n   \n1                                   y                    n               n   \n2                                   y                    n               n   \n3                                   y                    n               n   \n4                                 NaN                  NaN             NaN   \n..                                ...                  ...             ...   \n213                                 y                    n               n   \n214                                 y                    n               n   \n215                                 y                    n               n   \n216                                 n                    y               y   \n217                                 y                    y               y   \n\n    religious-groups-in-schools anti-satellite-test-ban  \\\n0                             n                       y   \n1                             n                       y   \n2                             n                       y   \n3                           NaN                       y   \n4                           NaN                     NaN   \n..                          ...                     ...   \n213                           n                       y   \n214                           n                       y   \n215                           n                       y   \n216                           y                       n   \n217                           y                       n   \n\n    aid-to-nicaraguan-contras mx-missile immigration  \\\n0                           y          y           n   \n1                           n          y           y   \n2                           y          y           n   \n3                           y          y           y   \n4                         NaN          y         NaN   \n..                        ...        ...         ...   \n213                         y        NaN           n   \n214                         y          y           y   \n215                         y          y           n   \n216                         n          n           n   \n217                         n          n           y   \n\n    synfuels-crporation-cutback education-spending superfund-right-to-sue  \\\n0                             y                  n                      n   \n1                             y                  n                      n   \n2                             n                  n                      n   \n3                             n                  n                      n   \n4                           NaN                NaN                    NaN   \n..                          ...                ...                    ...   \n213                           y                  n                      n   \n214                           n                  n                      n   \n215                           n                  n                      n   \n216                           n                  y                      y   \n217                           n                  y                      y   \n\n    crime duty-free-exports export-administration-act-south-africa  \n0       n                 y                                      y  \n1       n                 y                                      y  \n2       n                 y                                    NaN  \n3       n                 y                                    NaN  \n4     NaN               NaN                                    NaN  \n..    ...               ...                                    ...  \n213     n                 y                                      y  \n214     n                 y                                      y  \n215     n                 y                                    NaN  \n216     y                 n                                      y  \n217     y                 n                                      y  \n\n[218 rows x 18 columns]",
      "text/html": "<div>\n<style scoped>\n    .dataframe tbody tr th:only-of-type {\n        vertical-align: middle;\n    }\n\n    .dataframe tbody tr th {\n        vertical-align: top;\n    }\n\n    .dataframe thead th {\n        text-align: right;\n    }\n</style>\n<table border=\"1\" class=\"dataframe\">\n  <thead>\n    <tr style=\"text-align: right;\">\n      <th></th>\n      <th>ID</th>\n      <th>class</th>\n      <th>handicapped-infants</th>\n      <th>water-project-cost-sharing</th>\n      <th>adoption-of-the-budget-resolution</th>\n      <th>physician-fee-freeze</th>\n      <th>el-salvador-aid</th>\n      <th>religious-groups-in-schools</th>\n      <th>anti-satellite-test-ban</th>\n      <th>aid-to-nicaraguan-contras</th>\n      <th>mx-missile</th>\n      <th>immigration</th>\n      <th>synfuels-crporation-cutback</th>\n      <th>education-spending</th>\n      <th>superfund-right-to-sue</th>\n      <th>crime</th>\n      <th>duty-free-exports</th>\n      <th>export-administration-act-south-africa</th>\n    </tr>\n  </thead>\n  <tbody>\n    <tr>\n      <th>0</th>\n      <td>213</td>\n      <td>democrat</td>\n      <td>n</td>\n      <td>n</td>\n      <td>y</td>\n      <td>n</td>\n      <td>n</td>\n      <td>n</td>\n      <td>y</td>\n      <td>y</td>\n      <td>y</td>\n      <td>n</td>\n      <td>y</td>\n      <td>n</td>\n      <td>n</td>\n      <td>n</td>\n      <td>y</td>\n      <td>y</td>\n    </tr>\n    <tr>\n      <th>1</th>\n      <td>94</td>\n      <td>democrat</td>\n      <td>y</td>\n      <td>n</td>\n      <td>y</td>\n      <td>n</td>\n      <td>n</td>\n      <td>n</td>\n      <td>y</td>\n      <td>n</td>\n      <td>y</td>\n      <td>y</td>\n      <td>y</td>\n      <td>n</td>\n      <td>n</td>\n      <td>n</td>\n      <td>y</td>\n      <td>y</td>\n    </tr>\n    <tr>\n      <th>2</th>\n      <td>188</td>\n      <td>democrat</td>\n      <td>y</td>\n      <td>n</td>\n      <td>y</td>\n      <td>n</td>\n      <td>n</td>\n      <td>n</td>\n      <td>y</td>\n      <td>y</td>\n      <td>y</td>\n      <td>n</td>\n      <td>n</td>\n      <td>n</td>\n      <td>n</td>\n      <td>n</td>\n      <td>y</td>\n      <td>NaN</td>\n    </tr>\n    <tr>\n      <th>3</th>\n      <td>61</td>\n      <td>democrat</td>\n      <td>y</td>\n      <td>y</td>\n      <td>y</td>\n      <td>n</td>\n      <td>n</td>\n      <td>NaN</td>\n      <td>y</td>\n      <td>y</td>\n      <td>y</td>\n      <td>y</td>\n      <td>n</td>\n      <td>n</td>\n      <td>n</td>\n      <td>n</td>\n      <td>y</td>\n      <td>NaN</td>\n    </tr>\n    <tr>\n      <th>4</th>\n      <td>184</td>\n      <td>democrat</td>\n      <td>NaN</td>\n      <td>NaN</td>\n      <td>NaN</td>\n      <td>NaN</td>\n      <td>NaN</td>\n      <td>NaN</td>\n      <td>NaN</td>\n      <td>NaN</td>\n      <td>y</td>\n      <td>NaN</td>\n      <td>NaN</td>\n      <td>NaN</td>\n      <td>NaN</td>\n      <td>NaN</td>\n      <td>NaN</td>\n      <td>NaN</td>\n    </tr>\n    <tr>\n      <th>...</th>\n      <td>...</td>\n      <td>...</td>\n      <td>...</td>\n      <td>...</td>\n      <td>...</td>\n      <td>...</td>\n      <td>...</td>\n      <td>...</td>\n      <td>...</td>\n      <td>...</td>\n      <td>...</td>\n      <td>...</td>\n      <td>...</td>\n      <td>...</td>\n      <td>...</td>\n      <td>...</td>\n      <td>...</td>\n      <td>...</td>\n    </tr>\n    <tr>\n      <th>213</th>\n      <td>250</td>\n      <td>democrat</td>\n      <td>y</td>\n      <td>n</td>\n      <td>y</td>\n      <td>n</td>\n      <td>n</td>\n      <td>n</td>\n      <td>y</td>\n      <td>y</td>\n      <td>NaN</td>\n      <td>n</td>\n      <td>y</td>\n      <td>n</td>\n      <td>n</td>\n      <td>n</td>\n      <td>y</td>\n      <td>y</td>\n    </tr>\n    <tr>\n      <th>214</th>\n      <td>26</td>\n      <td>democrat</td>\n      <td>y</td>\n      <td>n</td>\n      <td>y</td>\n      <td>n</td>\n      <td>n</td>\n      <td>n</td>\n      <td>y</td>\n      <td>y</td>\n      <td>y</td>\n      <td>y</td>\n      <td>n</td>\n      <td>n</td>\n      <td>n</td>\n      <td>n</td>\n      <td>y</td>\n      <td>y</td>\n    </tr>\n    <tr>\n      <th>215</th>\n      <td>110</td>\n      <td>democrat</td>\n      <td>y</td>\n      <td>NaN</td>\n      <td>y</td>\n      <td>n</td>\n      <td>n</td>\n      <td>n</td>\n      <td>y</td>\n      <td>y</td>\n      <td>y</td>\n      <td>n</td>\n      <td>n</td>\n      <td>n</td>\n      <td>n</td>\n      <td>n</td>\n      <td>y</td>\n      <td>NaN</td>\n    </tr>\n    <tr>\n      <th>216</th>\n      <td>34</td>\n      <td>republican</td>\n      <td>n</td>\n      <td>y</td>\n      <td>n</td>\n      <td>y</td>\n      <td>y</td>\n      <td>y</td>\n      <td>n</td>\n      <td>n</td>\n      <td>n</td>\n      <td>n</td>\n      <td>n</td>\n      <td>y</td>\n      <td>y</td>\n      <td>y</td>\n      <td>n</td>\n      <td>y</td>\n    </tr>\n    <tr>\n      <th>217</th>\n      <td>314</td>\n      <td>republican</td>\n      <td>n</td>\n      <td>y</td>\n      <td>y</td>\n      <td>y</td>\n      <td>y</td>\n      <td>y</td>\n      <td>n</td>\n      <td>n</td>\n      <td>n</td>\n      <td>y</td>\n      <td>n</td>\n      <td>y</td>\n      <td>y</td>\n      <td>y</td>\n      <td>n</td>\n      <td>y</td>\n    </tr>\n  </tbody>\n</table>\n<p>218 rows × 18 columns</p>\n</div>"
     },
     "metadata": {},
     "output_type": "display_data"
    },
    {
     "data": {
      "text/plain": "'Recoded Data'"
     },
     "metadata": {},
     "output_type": "display_data"
    },
    {
     "data": {
      "text/plain": "    class handicapped-infants water-project-cost-sharing  \\\n0       2                   0                          0   \n1       2                   1                          0   \n5       2                   0                          0   \n8       3                   0                          0   \n9       3                   0                          0   \n..    ...                 ...                        ...   \n207     3                   0                          0   \n212     3                   1                          1   \n214     2                   1                          0   \n216     3                   0                          1   \n217     3                   0                          1   \n\n    adoption-of-the-budget-resolution physician-fee-freeze el-salvador-aid  \\\n0                                   1                    0               0   \n1                                   1                    0               0   \n5                                   1                    0               0   \n8                                   0                    1               1   \n9                                   1                    1               1   \n..                                ...                  ...             ...   \n207                                 0                    1               1   \n212                                 1                    1               1   \n214                                 1                    0               0   \n216                                 0                    1               1   \n217                                 1                    1               1   \n\n    religious-groups-in-schools anti-satellite-test-ban  \\\n0                             0                       1   \n1                             0                       1   \n5                             0                       1   \n8                             1                       0   \n9                             1                       1   \n..                          ...                     ...   \n207                           1                       0   \n212                           1                       1   \n214                           0                       1   \n216                           1                       0   \n217                           1                       0   \n\n    aid-to-nicaraguan-contras mx-missile immigration  \\\n0                           1          1           0   \n1                           0          1           1   \n5                           1          1           1   \n8                           0          0           1   \n9                           1          0           1   \n..                        ...        ...         ...   \n207                         0          0           0   \n212                         1          0           1   \n214                         1          1           1   \n216                         0          0           0   \n217                         0          0           1   \n\n    synfuels-crporation-cutback education-spending superfund-right-to-sue  \\\n0                             1                  0                      0   \n1                             1                  0                      0   \n5                             0                  0                      1   \n8                             0                  1                      1   \n9                             0                  0                      0   \n..                          ...                ...                    ...   \n207                           0                  1                      1   \n212                           0                  0                      1   \n214                           0                  0                      0   \n216                           0                  1                      1   \n217                           0                  1                      1   \n\n    crime duty-free-exports  \n0       0                 1  \n1       0                 1  \n5       0                 1  \n8       1                 0  \n9       1                 0  \n..    ...               ...  \n207     1                 0  \n212     1                 0  \n214     0                 1  \n216     1                 0  \n217     1                 0  \n\n[115 rows x 16 columns]",
      "text/html": "<div>\n<style scoped>\n    .dataframe tbody tr th:only-of-type {\n        vertical-align: middle;\n    }\n\n    .dataframe tbody tr th {\n        vertical-align: top;\n    }\n\n    .dataframe thead th {\n        text-align: right;\n    }\n</style>\n<table border=\"1\" class=\"dataframe\">\n  <thead>\n    <tr style=\"text-align: right;\">\n      <th></th>\n      <th>class</th>\n      <th>handicapped-infants</th>\n      <th>water-project-cost-sharing</th>\n      <th>adoption-of-the-budget-resolution</th>\n      <th>physician-fee-freeze</th>\n      <th>el-salvador-aid</th>\n      <th>religious-groups-in-schools</th>\n      <th>anti-satellite-test-ban</th>\n      <th>aid-to-nicaraguan-contras</th>\n      <th>mx-missile</th>\n      <th>immigration</th>\n      <th>synfuels-crporation-cutback</th>\n      <th>education-spending</th>\n      <th>superfund-right-to-sue</th>\n      <th>crime</th>\n      <th>duty-free-exports</th>\n    </tr>\n  </thead>\n  <tbody>\n    <tr>\n      <th>0</th>\n      <td>2</td>\n      <td>0</td>\n      <td>0</td>\n      <td>1</td>\n      <td>0</td>\n      <td>0</td>\n      <td>0</td>\n      <td>1</td>\n      <td>1</td>\n      <td>1</td>\n      <td>0</td>\n      <td>1</td>\n      <td>0</td>\n      <td>0</td>\n      <td>0</td>\n      <td>1</td>\n    </tr>\n    <tr>\n      <th>1</th>\n      <td>2</td>\n      <td>1</td>\n      <td>0</td>\n      <td>1</td>\n      <td>0</td>\n      <td>0</td>\n      <td>0</td>\n      <td>1</td>\n      <td>0</td>\n      <td>1</td>\n      <td>1</td>\n      <td>1</td>\n      <td>0</td>\n      <td>0</td>\n      <td>0</td>\n      <td>1</td>\n    </tr>\n    <tr>\n      <th>5</th>\n      <td>2</td>\n      <td>0</td>\n      <td>0</td>\n      <td>1</td>\n      <td>0</td>\n      <td>0</td>\n      <td>0</td>\n      <td>1</td>\n      <td>1</td>\n      <td>1</td>\n      <td>1</td>\n      <td>0</td>\n      <td>0</td>\n      <td>1</td>\n      <td>0</td>\n      <td>1</td>\n    </tr>\n    <tr>\n      <th>8</th>\n      <td>3</td>\n      <td>0</td>\n      <td>0</td>\n      <td>0</td>\n      <td>1</td>\n      <td>1</td>\n      <td>1</td>\n      <td>0</td>\n      <td>0</td>\n      <td>0</td>\n      <td>1</td>\n      <td>0</td>\n      <td>1</td>\n      <td>1</td>\n      <td>1</td>\n      <td>0</td>\n    </tr>\n    <tr>\n      <th>9</th>\n      <td>3</td>\n      <td>0</td>\n      <td>0</td>\n      <td>1</td>\n      <td>1</td>\n      <td>1</td>\n      <td>1</td>\n      <td>1</td>\n      <td>1</td>\n      <td>0</td>\n      <td>1</td>\n      <td>0</td>\n      <td>0</td>\n      <td>0</td>\n      <td>1</td>\n      <td>0</td>\n    </tr>\n    <tr>\n      <th>...</th>\n      <td>...</td>\n      <td>...</td>\n      <td>...</td>\n      <td>...</td>\n      <td>...</td>\n      <td>...</td>\n      <td>...</td>\n      <td>...</td>\n      <td>...</td>\n      <td>...</td>\n      <td>...</td>\n      <td>...</td>\n      <td>...</td>\n      <td>...</td>\n      <td>...</td>\n      <td>...</td>\n    </tr>\n    <tr>\n      <th>207</th>\n      <td>3</td>\n      <td>0</td>\n      <td>0</td>\n      <td>0</td>\n      <td>1</td>\n      <td>1</td>\n      <td>1</td>\n      <td>0</td>\n      <td>0</td>\n      <td>0</td>\n      <td>0</td>\n      <td>0</td>\n      <td>1</td>\n      <td>1</td>\n      <td>1</td>\n      <td>0</td>\n    </tr>\n    <tr>\n      <th>212</th>\n      <td>3</td>\n      <td>1</td>\n      <td>1</td>\n      <td>1</td>\n      <td>1</td>\n      <td>1</td>\n      <td>1</td>\n      <td>1</td>\n      <td>1</td>\n      <td>0</td>\n      <td>1</td>\n      <td>0</td>\n      <td>0</td>\n      <td>1</td>\n      <td>1</td>\n      <td>0</td>\n    </tr>\n    <tr>\n      <th>214</th>\n      <td>2</td>\n      <td>1</td>\n      <td>0</td>\n      <td>1</td>\n      <td>0</td>\n      <td>0</td>\n      <td>0</td>\n      <td>1</td>\n      <td>1</td>\n      <td>1</td>\n      <td>1</td>\n      <td>0</td>\n      <td>0</td>\n      <td>0</td>\n      <td>0</td>\n      <td>1</td>\n    </tr>\n    <tr>\n      <th>216</th>\n      <td>3</td>\n      <td>0</td>\n      <td>1</td>\n      <td>0</td>\n      <td>1</td>\n      <td>1</td>\n      <td>1</td>\n      <td>0</td>\n      <td>0</td>\n      <td>0</td>\n      <td>0</td>\n      <td>0</td>\n      <td>1</td>\n      <td>1</td>\n      <td>1</td>\n      <td>0</td>\n    </tr>\n    <tr>\n      <th>217</th>\n      <td>3</td>\n      <td>0</td>\n      <td>1</td>\n      <td>1</td>\n      <td>1</td>\n      <td>1</td>\n      <td>1</td>\n      <td>0</td>\n      <td>0</td>\n      <td>0</td>\n      <td>1</td>\n      <td>0</td>\n      <td>1</td>\n      <td>1</td>\n      <td>1</td>\n      <td>0</td>\n    </tr>\n  </tbody>\n</table>\n<p>115 rows × 16 columns</p>\n</div>"
     },
     "metadata": {},
     "output_type": "display_data"
    }
   ],
   "source": [
    "#Read Data\n",
    "votingDataLearn = pd.read_csv(\"data/voting/CongressionalVotingID.shuf.lrn.csv\", na_values='unknown')\n",
    "votingDataSolutionExample = pd.read_csv(\"data/voting/CongressionalVotingID.shuf.sol.ex.csv\", na_values='unknown')\n",
    "votingDataTest = pd.read_csv(\"data/voting/CongressionalVotingID.shuf.tes.csv\", na_values='unknown')\n",
    "display(\"Original Data\", votingDataLearn)\n",
    "\n",
    "#Recode values\n",
    "votingDataLearn = votingDataLearn.dropna()\n",
    "votingDataLearn = votingDataLearn.replace('y', 1)\\\n",
    "    .replace('n', 0)\\\n",
    "    .replace('democrat', 2)\\\n",
    "    .replace('republican', 3)\n",
    "votingDataLearn = votingDataLearn[votingDataLearn.columns[1:17]].astype('category')\n",
    "\n",
    "display(\"Recoded Data\", votingDataLearn)\n",
    "\n",
    "# Prepare a train/test set split in case of holdout calculation\n",
    "X_train, X_test, y_train, y_test = train_test_split(votingDataLearn[votingDataLearn.columns[2:17]],\n",
    "                                                    votingDataLearn[votingDataLearn.columns[1]], test_size=0.33)"
   ]
  },
  {
   "cell_type": "markdown",
   "source": [
    "### k-NN - Congressional Vote"
   ],
   "metadata": {
    "collapsed": false
   }
  },
  {
   "cell_type": "code",
   "execution_count": 8,
   "outputs": [
    {
     "data": {
      "text/plain": "'Results'"
     },
     "metadata": {},
     "output_type": "display_data"
    },
    {
     "data": {
      "text/plain": "                            classifier arguments  mean_accuracy  \\\n7  KNeighborsClassifier(n_neighbors=8)     N = 8       0.670145   \n1  KNeighborsClassifier(n_neighbors=2)     N = 2       0.669691   \n6  KNeighborsClassifier(n_neighbors=7)     N = 7       0.661525   \n8  KNeighborsClassifier(n_neighbors=9)     N = 9       0.653055   \n2  KNeighborsClassifier(n_neighbors=3)     N = 3       0.652601   \n5  KNeighborsClassifier(n_neighbors=6)     N = 6       0.635360   \n0  KNeighborsClassifier(n_neighbors=1)     N = 1       0.635209   \n4               KNeighborsClassifier()     N = 5       0.626588   \n3  KNeighborsClassifier(n_neighbors=4)     N = 4       0.626286   \n\n   mean_precision  mean_recall  \\\n7        0.668046     0.586842   \n1        0.636876     0.555263   \n6        0.647057     0.592763   \n8        0.662153     0.586184   \n2        0.602840     0.580921   \n5        0.620800     0.541447   \n0        0.588910     0.553947   \n4        0.574744     0.548026   \n3        0.541942     0.528289   \n\n                                          accuracy  \\\n7   m: 0.6701451905626135 std: 0.06669691470054445   \n1  m: 0.6696914700544465 std: 0.014519056261343033   \n6    m: 0.661524500907441 std: 0.07531760435571688   \n8    m: 0.6530550514216575 std: 0.1013309134906231   \n2  m: 0.6526013309134906 std: 0.049153055051421646   \n5   m: 0.6353599516031458 std: 0.06639443436176645   \n0    m: 0.6352087114337568 std: 0.0490018148820327   \n4   m: 0.6265880217785844 std: 0.05762250453720508   \n3  m: 0.6262855414398064 std: 0.022837265577737464   \n\n                                         precision  \\\n7   m: 0.6680459633246011 std: 0.11136580138128127   \n1    m: 0.6368760064412238 std: 0.0390499194847021   \n6   m: 0.6470573077715935 std: 0.09528963100391669   \n8    m: 0.6621533613445378 std: 0.1364180672268907   \n2    m: 0.602839550454328 std: 0.05549378287900525   \n5    m: 0.6208002317113539 std: 0.1032563720622311   \n0   m: 0.5889097744360903 std: 0.04680451127819546   \n4  m: 0.5747441520467835 std: 0.057200292397660835   \n3  m: 0.5419421145568922 std: 0.005403653018430599   \n\n                                            recall  \n7   m: 0.5868421052631579 std: 0.03157894736842104  \n1   m: 0.5552631578947369 std: 0.01578947368421052  \n6   m: 0.5927631578947368 std: 0.03881578947368419  \n8  m: 0.5861842105263158 std: 0.058552631578947356  \n2   m: 0.5809210526315789 std: 0.03750000000000003  \n5  m: 0.5414473684210526 std: 0.024342105263157887  \n0  m: 0.5539473684210526 std: 0.011842105263157876  \n4   m: 0.5480263157894737 std: 0.03092105263157896  \n3   m: 0.5282894736842105 std: 0.01513157894736844  ",
      "text/html": "<div>\n<style scoped>\n    .dataframe tbody tr th:only-of-type {\n        vertical-align: middle;\n    }\n\n    .dataframe tbody tr th {\n        vertical-align: top;\n    }\n\n    .dataframe thead th {\n        text-align: right;\n    }\n</style>\n<table border=\"1\" class=\"dataframe\">\n  <thead>\n    <tr style=\"text-align: right;\">\n      <th></th>\n      <th>classifier</th>\n      <th>arguments</th>\n      <th>mean_accuracy</th>\n      <th>mean_precision</th>\n      <th>mean_recall</th>\n      <th>accuracy</th>\n      <th>precision</th>\n      <th>recall</th>\n    </tr>\n  </thead>\n  <tbody>\n    <tr>\n      <th>7</th>\n      <td>KNeighborsClassifier(n_neighbors=8)</td>\n      <td>N = 8</td>\n      <td>0.670145</td>\n      <td>0.668046</td>\n      <td>0.586842</td>\n      <td>m: 0.6701451905626135 std: 0.06669691470054445</td>\n      <td>m: 0.6680459633246011 std: 0.11136580138128127</td>\n      <td>m: 0.5868421052631579 std: 0.03157894736842104</td>\n    </tr>\n    <tr>\n      <th>1</th>\n      <td>KNeighborsClassifier(n_neighbors=2)</td>\n      <td>N = 2</td>\n      <td>0.669691</td>\n      <td>0.636876</td>\n      <td>0.555263</td>\n      <td>m: 0.6696914700544465 std: 0.014519056261343033</td>\n      <td>m: 0.6368760064412238 std: 0.0390499194847021</td>\n      <td>m: 0.5552631578947369 std: 0.01578947368421052</td>\n    </tr>\n    <tr>\n      <th>6</th>\n      <td>KNeighborsClassifier(n_neighbors=7)</td>\n      <td>N = 7</td>\n      <td>0.661525</td>\n      <td>0.647057</td>\n      <td>0.592763</td>\n      <td>m: 0.661524500907441 std: 0.07531760435571688</td>\n      <td>m: 0.6470573077715935 std: 0.09528963100391669</td>\n      <td>m: 0.5927631578947368 std: 0.03881578947368419</td>\n    </tr>\n    <tr>\n      <th>8</th>\n      <td>KNeighborsClassifier(n_neighbors=9)</td>\n      <td>N = 9</td>\n      <td>0.653055</td>\n      <td>0.662153</td>\n      <td>0.586184</td>\n      <td>m: 0.6530550514216575 std: 0.1013309134906231</td>\n      <td>m: 0.6621533613445378 std: 0.1364180672268907</td>\n      <td>m: 0.5861842105263158 std: 0.058552631578947356</td>\n    </tr>\n    <tr>\n      <th>2</th>\n      <td>KNeighborsClassifier(n_neighbors=3)</td>\n      <td>N = 3</td>\n      <td>0.652601</td>\n      <td>0.602840</td>\n      <td>0.580921</td>\n      <td>m: 0.6526013309134906 std: 0.049153055051421646</td>\n      <td>m: 0.602839550454328 std: 0.05549378287900525</td>\n      <td>m: 0.5809210526315789 std: 0.03750000000000003</td>\n    </tr>\n    <tr>\n      <th>5</th>\n      <td>KNeighborsClassifier(n_neighbors=6)</td>\n      <td>N = 6</td>\n      <td>0.635360</td>\n      <td>0.620800</td>\n      <td>0.541447</td>\n      <td>m: 0.6353599516031458 std: 0.06639443436176645</td>\n      <td>m: 0.6208002317113539 std: 0.1032563720622311</td>\n      <td>m: 0.5414473684210526 std: 0.024342105263157887</td>\n    </tr>\n    <tr>\n      <th>0</th>\n      <td>KNeighborsClassifier(n_neighbors=1)</td>\n      <td>N = 1</td>\n      <td>0.635209</td>\n      <td>0.588910</td>\n      <td>0.553947</td>\n      <td>m: 0.6352087114337568 std: 0.0490018148820327</td>\n      <td>m: 0.5889097744360903 std: 0.04680451127819546</td>\n      <td>m: 0.5539473684210526 std: 0.011842105263157876</td>\n    </tr>\n    <tr>\n      <th>4</th>\n      <td>KNeighborsClassifier()</td>\n      <td>N = 5</td>\n      <td>0.626588</td>\n      <td>0.574744</td>\n      <td>0.548026</td>\n      <td>m: 0.6265880217785844 std: 0.05762250453720508</td>\n      <td>m: 0.5747441520467835 std: 0.057200292397660835</td>\n      <td>m: 0.5480263157894737 std: 0.03092105263157896</td>\n    </tr>\n    <tr>\n      <th>3</th>\n      <td>KNeighborsClassifier(n_neighbors=4)</td>\n      <td>N = 4</td>\n      <td>0.626286</td>\n      <td>0.541942</td>\n      <td>0.528289</td>\n      <td>m: 0.6262855414398064 std: 0.022837265577737464</td>\n      <td>m: 0.5419421145568922 std: 0.005403653018430599</td>\n      <td>m: 0.5282894736842105 std: 0.01513157894736844</td>\n    </tr>\n  </tbody>\n</table>\n</div>"
     },
     "metadata": {},
     "output_type": "display_data"
    },
    {
     "data": {
      "text/plain": "classifier                   KNeighborsClassifier(n_neighbors=8)\narguments                                                  N = 8\nmean_accuracy                                           0.670145\nmean_precision                                          0.668046\nmean_recall                                             0.586842\naccuracy          m: 0.6701451905626135 std: 0.06669691470054445\nprecision         m: 0.6680459633246011 std: 0.11136580138128127\nrecall            m: 0.5868421052631579 std: 0.03157894736842104\nName: 7, dtype: object"
     },
     "metadata": {},
     "output_type": "display_data"
    }
   ],
   "source": [
    "knn_results = calculate_knn(votingDataLearn[votingDataLearn.columns[2:17]],\n",
    "                            votingDataLearn[votingDataLearn.columns[1]])\n",
    "overall_results_vote.extend(knn_results)\n",
    "\n",
    "print_results(knn_results, \"mean_accuracy\")"
   ],
   "metadata": {
    "collapsed": false,
    "pycharm": {
     "name": "#%%\n"
    }
   }
  },
  {
   "cell_type": "markdown",
   "source": [
    "### Bayes - Congressional Vote"
   ],
   "metadata": {
    "collapsed": false
   }
  },
  {
   "cell_type": "code",
   "execution_count": 9,
   "outputs": [
    {
     "data": {
      "text/plain": "'Results'"
     },
     "metadata": {},
     "output_type": "display_data"
    },
    {
     "data": {
      "text/plain": "                 classifier    arguments  mean_accuracy  mean_precision  \\\n5  CategoricalNB(alpha=5.1)  Alpha = 5.1       0.696461        0.678174   \n6  CategoricalNB(alpha=6.1)  Alpha = 6.1       0.696461        0.678174   \n7  CategoricalNB(alpha=7.1)  Alpha = 7.1       0.696461        0.678174   \n8  CategoricalNB(alpha=8.1)  Alpha = 8.1       0.696461        0.678174   \n9  CategoricalNB(alpha=9.1)  Alpha = 9.1       0.696461        0.678174   \n0  CategoricalNB(alpha=0.1)  Alpha = 0.1       0.687689        0.668554   \n1  CategoricalNB(alpha=1.1)  Alpha = 1.1       0.687689        0.668554   \n2  CategoricalNB(alpha=2.1)  Alpha = 2.1       0.687689        0.668554   \n3  CategoricalNB(alpha=3.1)  Alpha = 3.1       0.687689        0.668554   \n4  CategoricalNB(alpha=4.1)  Alpha = 4.1       0.687689        0.668554   \n\n   mean_recall                                        accuracy  \\\n5     0.682895  m: 0.6964609800362976 std: 0.09301270417422869   \n6     0.682895  m: 0.6964609800362976 std: 0.09301270417422869   \n7     0.682895  m: 0.6964609800362976 std: 0.09301270417422869   \n8     0.682895  m: 0.6964609800362976 std: 0.09301270417422869   \n9     0.682895  m: 0.6964609800362976 std: 0.09301270417422869   \n0     0.676316  m: 0.6876890502117362 std: 0.08424077434966726   \n1     0.676316  m: 0.6876890502117362 std: 0.08424077434966726   \n2     0.676316  m: 0.6876890502117362 std: 0.08424077434966726   \n3     0.676316  m: 0.6876890502117362 std: 0.08424077434966726   \n4     0.676316  m: 0.6876890502117362 std: 0.08424077434966726   \n\n                                        precision  \\\n5  m: 0.6781739294472741 std: 0.08498396528956798   \n6  m: 0.6781739294472741 std: 0.08498396528956798   \n7  m: 0.6781739294472741 std: 0.08498396528956798   \n8  m: 0.6781739294472741 std: 0.08498396528956798   \n9  m: 0.6781739294472741 std: 0.08498396528956798   \n0  m: 0.6685544415383124 std: 0.07536447738060642   \n1  m: 0.6685544415383124 std: 0.07536447738060642   \n2  m: 0.6685544415383124 std: 0.07536447738060642   \n3  m: 0.6685544415383124 std: 0.07536447738060642   \n4  m: 0.6685544415383124 std: 0.07536447738060642   \n\n                                           recall  \n5  m: 0.6828947368421052 std: 0.08026315789473681  \n6  m: 0.6828947368421052 std: 0.08026315789473681  \n7  m: 0.6828947368421052 std: 0.08026315789473681  \n8  m: 0.6828947368421052 std: 0.08026315789473681  \n9  m: 0.6828947368421052 std: 0.08026315789473681  \n0   m: 0.6763157894736842 std: 0.0736842105263158  \n1   m: 0.6763157894736842 std: 0.0736842105263158  \n2   m: 0.6763157894736842 std: 0.0736842105263158  \n3   m: 0.6763157894736842 std: 0.0736842105263158  \n4   m: 0.6763157894736842 std: 0.0736842105263158  ",
      "text/html": "<div>\n<style scoped>\n    .dataframe tbody tr th:only-of-type {\n        vertical-align: middle;\n    }\n\n    .dataframe tbody tr th {\n        vertical-align: top;\n    }\n\n    .dataframe thead th {\n        text-align: right;\n    }\n</style>\n<table border=\"1\" class=\"dataframe\">\n  <thead>\n    <tr style=\"text-align: right;\">\n      <th></th>\n      <th>classifier</th>\n      <th>arguments</th>\n      <th>mean_accuracy</th>\n      <th>mean_precision</th>\n      <th>mean_recall</th>\n      <th>accuracy</th>\n      <th>precision</th>\n      <th>recall</th>\n    </tr>\n  </thead>\n  <tbody>\n    <tr>\n      <th>5</th>\n      <td>CategoricalNB(alpha=5.1)</td>\n      <td>Alpha = 5.1</td>\n      <td>0.696461</td>\n      <td>0.678174</td>\n      <td>0.682895</td>\n      <td>m: 0.6964609800362976 std: 0.09301270417422869</td>\n      <td>m: 0.6781739294472741 std: 0.08498396528956798</td>\n      <td>m: 0.6828947368421052 std: 0.08026315789473681</td>\n    </tr>\n    <tr>\n      <th>6</th>\n      <td>CategoricalNB(alpha=6.1)</td>\n      <td>Alpha = 6.1</td>\n      <td>0.696461</td>\n      <td>0.678174</td>\n      <td>0.682895</td>\n      <td>m: 0.6964609800362976 std: 0.09301270417422869</td>\n      <td>m: 0.6781739294472741 std: 0.08498396528956798</td>\n      <td>m: 0.6828947368421052 std: 0.08026315789473681</td>\n    </tr>\n    <tr>\n      <th>7</th>\n      <td>CategoricalNB(alpha=7.1)</td>\n      <td>Alpha = 7.1</td>\n      <td>0.696461</td>\n      <td>0.678174</td>\n      <td>0.682895</td>\n      <td>m: 0.6964609800362976 std: 0.09301270417422869</td>\n      <td>m: 0.6781739294472741 std: 0.08498396528956798</td>\n      <td>m: 0.6828947368421052 std: 0.08026315789473681</td>\n    </tr>\n    <tr>\n      <th>8</th>\n      <td>CategoricalNB(alpha=8.1)</td>\n      <td>Alpha = 8.1</td>\n      <td>0.696461</td>\n      <td>0.678174</td>\n      <td>0.682895</td>\n      <td>m: 0.6964609800362976 std: 0.09301270417422869</td>\n      <td>m: 0.6781739294472741 std: 0.08498396528956798</td>\n      <td>m: 0.6828947368421052 std: 0.08026315789473681</td>\n    </tr>\n    <tr>\n      <th>9</th>\n      <td>CategoricalNB(alpha=9.1)</td>\n      <td>Alpha = 9.1</td>\n      <td>0.696461</td>\n      <td>0.678174</td>\n      <td>0.682895</td>\n      <td>m: 0.6964609800362976 std: 0.09301270417422869</td>\n      <td>m: 0.6781739294472741 std: 0.08498396528956798</td>\n      <td>m: 0.6828947368421052 std: 0.08026315789473681</td>\n    </tr>\n    <tr>\n      <th>0</th>\n      <td>CategoricalNB(alpha=0.1)</td>\n      <td>Alpha = 0.1</td>\n      <td>0.687689</td>\n      <td>0.668554</td>\n      <td>0.676316</td>\n      <td>m: 0.6876890502117362 std: 0.08424077434966726</td>\n      <td>m: 0.6685544415383124 std: 0.07536447738060642</td>\n      <td>m: 0.6763157894736842 std: 0.0736842105263158</td>\n    </tr>\n    <tr>\n      <th>1</th>\n      <td>CategoricalNB(alpha=1.1)</td>\n      <td>Alpha = 1.1</td>\n      <td>0.687689</td>\n      <td>0.668554</td>\n      <td>0.676316</td>\n      <td>m: 0.6876890502117362 std: 0.08424077434966726</td>\n      <td>m: 0.6685544415383124 std: 0.07536447738060642</td>\n      <td>m: 0.6763157894736842 std: 0.0736842105263158</td>\n    </tr>\n    <tr>\n      <th>2</th>\n      <td>CategoricalNB(alpha=2.1)</td>\n      <td>Alpha = 2.1</td>\n      <td>0.687689</td>\n      <td>0.668554</td>\n      <td>0.676316</td>\n      <td>m: 0.6876890502117362 std: 0.08424077434966726</td>\n      <td>m: 0.6685544415383124 std: 0.07536447738060642</td>\n      <td>m: 0.6763157894736842 std: 0.0736842105263158</td>\n    </tr>\n    <tr>\n      <th>3</th>\n      <td>CategoricalNB(alpha=3.1)</td>\n      <td>Alpha = 3.1</td>\n      <td>0.687689</td>\n      <td>0.668554</td>\n      <td>0.676316</td>\n      <td>m: 0.6876890502117362 std: 0.08424077434966726</td>\n      <td>m: 0.6685544415383124 std: 0.07536447738060642</td>\n      <td>m: 0.6763157894736842 std: 0.0736842105263158</td>\n    </tr>\n    <tr>\n      <th>4</th>\n      <td>CategoricalNB(alpha=4.1)</td>\n      <td>Alpha = 4.1</td>\n      <td>0.687689</td>\n      <td>0.668554</td>\n      <td>0.676316</td>\n      <td>m: 0.6876890502117362 std: 0.08424077434966726</td>\n      <td>m: 0.6685544415383124 std: 0.07536447738060642</td>\n      <td>m: 0.6763157894736842 std: 0.0736842105263158</td>\n    </tr>\n  </tbody>\n</table>\n</div>"
     },
     "metadata": {},
     "output_type": "display_data"
    },
    {
     "data": {
      "text/plain": "classifier                              CategoricalNB(alpha=5.1)\narguments                                            Alpha = 5.1\nmean_accuracy                                           0.696461\nmean_precision                                          0.678174\nmean_recall                                             0.682895\naccuracy          m: 0.6964609800362976 std: 0.09301270417422869\nprecision         m: 0.6781739294472741 std: 0.08498396528956798\nrecall            m: 0.6828947368421052 std: 0.08026315789473681\nName: 5, dtype: object"
     },
     "metadata": {},
     "output_type": "display_data"
    }
   ],
   "source": [
    "bayes_results = calculate_bayes(votingDataLearn[votingDataLearn.columns[2:17]],\n",
    "                                votingDataLearn[votingDataLearn.columns[1]])\n",
    "overall_results_vote.extend(bayes_results)\n",
    "\n",
    "print_results(bayes_results, \"mean_accuracy\")"
   ],
   "metadata": {
    "collapsed": false,
    "pycharm": {
     "name": "#%%\n"
    }
   }
  },
  {
   "cell_type": "markdown",
   "source": [
    "### Perceptron - Congressional Vote"
   ],
   "metadata": {
    "collapsed": false
   }
  },
  {
   "cell_type": "code",
   "execution_count": 10,
   "outputs": [
    {
     "data": {
      "text/plain": "'Results'"
     },
     "metadata": {},
     "output_type": "display_data"
    },
    {
     "data": {
      "text/plain": "     classifier            arguments  mean_accuracy  mean_precision  \\\n0  Perceptron()  No additional args.       0.643527        0.470458   \n\n   mean_recall                                         accuracy  \\\n0     0.551974  m: 0.6435269207501513 std: 0.005595886267392602   \n\n                                         precision  \\\n0  m: 0.47045807453416144 std: 0.14010093167701862   \n\n                                           recall  \n0  m: 0.5519736842105264 std: 0.06513157894736846  ",
      "text/html": "<div>\n<style scoped>\n    .dataframe tbody tr th:only-of-type {\n        vertical-align: middle;\n    }\n\n    .dataframe tbody tr th {\n        vertical-align: top;\n    }\n\n    .dataframe thead th {\n        text-align: right;\n    }\n</style>\n<table border=\"1\" class=\"dataframe\">\n  <thead>\n    <tr style=\"text-align: right;\">\n      <th></th>\n      <th>classifier</th>\n      <th>arguments</th>\n      <th>mean_accuracy</th>\n      <th>mean_precision</th>\n      <th>mean_recall</th>\n      <th>accuracy</th>\n      <th>precision</th>\n      <th>recall</th>\n    </tr>\n  </thead>\n  <tbody>\n    <tr>\n      <th>0</th>\n      <td>Perceptron()</td>\n      <td>No additional args.</td>\n      <td>0.643527</td>\n      <td>0.470458</td>\n      <td>0.551974</td>\n      <td>m: 0.6435269207501513 std: 0.005595886267392602</td>\n      <td>m: 0.47045807453416144 std: 0.14010093167701862</td>\n      <td>m: 0.5519736842105264 std: 0.06513157894736846</td>\n    </tr>\n  </tbody>\n</table>\n</div>"
     },
     "metadata": {},
     "output_type": "display_data"
    },
    {
     "data": {
      "text/plain": "classifier                                           Perceptron()\narguments                                     No additional args.\nmean_accuracy                                            0.643527\nmean_precision                                           0.470458\nmean_recall                                              0.551974\naccuracy          m: 0.6435269207501513 std: 0.005595886267392602\nprecision         m: 0.47045807453416144 std: 0.14010093167701862\nrecall             m: 0.5519736842105264 std: 0.06513157894736846\nName: 0, dtype: object"
     },
     "metadata": {},
     "output_type": "display_data"
    }
   ],
   "source": [
    "perceptron_results = calculate_perceptron(votingDataLearn[votingDataLearn.columns[2:17]],\n",
    "                                          votingDataLearn[votingDataLearn.columns[1]])\n",
    "overall_results_vote.extend(perceptron_results)\n",
    "\n",
    "print_results(perceptron_results, \"mean_accuracy\")"
   ],
   "metadata": {
    "collapsed": false,
    "pycharm": {
     "name": "#%%\n"
    }
   }
  },
  {
   "cell_type": "markdown",
   "source": [
    "### Decision Tree - Congressional Vote"
   ],
   "metadata": {
    "collapsed": false,
    "pycharm": {
     "name": "#%% md\n"
    }
   }
  },
  {
   "cell_type": "code",
   "execution_count": 11,
   "metadata": {
    "pycharm": {
     "name": "#%%\n"
    }
   },
   "outputs": [
    {
     "data": {
      "text/plain": "'Results'"
     },
     "metadata": {},
     "output_type": "display_data"
    },
    {
     "data": {
      "text/plain": "                                           classifier  \\\n0   DecisionTreeClassifier(max_depth=1, min_sample...   \n17  DecisionTreeClassifier(max_depth=9, min_sample...   \n5   DecisionTreeClassifier(max_depth=3, min_sample...   \n13  DecisionTreeClassifier(max_depth=7, min_sample...   \n9   DecisionTreeClassifier(max_depth=5, min_sample...   \n1   DecisionTreeClassifier(max_depth=1, min_sample...   \n4   DecisionTreeClassifier(max_depth=3, min_sample...   \n11  DecisionTreeClassifier(max_depth=5, min_sample...   \n18  DecisionTreeClassifier(max_depth=9, min_sample...   \n15  DecisionTreeClassifier(max_depth=7, min_sample...   \n14  DecisionTreeClassifier(max_depth=7, min_sample...   \n10  DecisionTreeClassifier(max_depth=5, min_sample...   \n7   DecisionTreeClassifier(max_depth=3, min_sample...   \n6   DecisionTreeClassifier(max_depth=3, min_sample...   \n3   DecisionTreeClassifier(max_depth=1, min_sample...   \n2   DecisionTreeClassifier(max_depth=1, min_sample...   \n19  DecisionTreeClassifier(max_depth=9, min_sample...   \n8   DecisionTreeClassifier(max_depth=5, min_sample...   \n12  DecisionTreeClassifier(max_depth=7, min_sample...   \n16  DecisionTreeClassifier(max_depth=9, min_sample...   \n\n                         arguments  mean_accuracy  mean_precision  \\\n0     max Depth: 1, min Samples: 2       0.696310        0.657906   \n17   max Depth: 9, min Samples: 20       0.687689        0.679143   \n5    max Depth: 3, min Samples: 20       0.687689        0.679143   \n13   max Depth: 7, min Samples: 20       0.687689        0.679143   \n9    max Depth: 5, min Samples: 20       0.687689        0.679143   \n1    max Depth: 1, min Samples: 20       0.687689        0.679143   \n4     max Depth: 3, min Samples: 2       0.678463        0.633221   \n11  max Depth: 5, min Samples: 100       0.660920        0.330460   \n18   max Depth: 9, min Samples: 50       0.660920        0.330460   \n15  max Depth: 7, min Samples: 100       0.660920        0.330460   \n14   max Depth: 7, min Samples: 50       0.660920        0.330460   \n10   max Depth: 5, min Samples: 50       0.660920        0.330460   \n7   max Depth: 3, min Samples: 100       0.660920        0.330460   \n6    max Depth: 3, min Samples: 50       0.660920        0.330460   \n3   max Depth: 1, min Samples: 100       0.660920        0.330460   \n2    max Depth: 1, min Samples: 50       0.660920        0.330460   \n19  max Depth: 9, min Samples: 100       0.660920        0.330460   \n8     max Depth: 5, min Samples: 2       0.652601        0.613162   \n12    max Depth: 7, min Samples: 2       0.635057        0.578872   \n16    max Depth: 9, min Samples: 2       0.626286        0.561326   \n\n    mean_recall                                         accuracy  \\\n0      0.652632   m: 0.6963097398669087 std: 0.07562008469449483   \n17     0.681579   m: 0.6876890502117362 std: 0.08424077434966726   \n5      0.681579   m: 0.6876890502117362 std: 0.08424077434966726   \n13     0.681579   m: 0.6876890502117362 std: 0.08424077434966726   \n9      0.681579   m: 0.6876890502117362 std: 0.08424077434966726   \n1      0.681579   m: 0.6876890502117362 std: 0.08424077434966726   \n4      0.619737  m: 0.6784633998790078 std: 0.023290986085904408   \n11     0.500000  m: 0.6609195402298851 std: 0.005747126436781602   \n18     0.500000  m: 0.6609195402298851 std: 0.005747126436781602   \n15     0.500000  m: 0.6609195402298851 std: 0.005747126436781602   \n14     0.500000  m: 0.6609195402298851 std: 0.005747126436781602   \n10     0.500000  m: 0.6609195402298851 std: 0.005747126436781602   \n7      0.500000  m: 0.6609195402298851 std: 0.005747126436781602   \n6      0.500000  m: 0.6609195402298851 std: 0.005747126436781602   \n3      0.500000  m: 0.6609195402298851 std: 0.005747126436781602   \n2      0.500000  m: 0.6609195402298851 std: 0.005747126436781602   \n19     0.500000  m: 0.6609195402298851 std: 0.005747126436781602   \n8      0.573684  m: 0.6526013309134906 std: 0.049153055051421646   \n12     0.560526   m: 0.6350574712643677 std: 0.03160919540229884   \n16     0.547368  m: 0.6262855414398064 std: 0.022837265577737464   \n\n                                           precision  \\\n0     m: 0.6579059829059829 std: 0.08568376068376071   \n17    m: 0.6791425420457678 std: 0.06444720154397576   \n5     m: 0.6791425420457678 std: 0.06444720154397576   \n13    m: 0.6791425420457678 std: 0.06444720154397576   \n9     m: 0.6791425420457678 std: 0.06444720154397576   \n1     m: 0.6791425420457678 std: 0.06444720154397576   \n4     m: 0.633220818815331 std: 0.026077961672473837   \n11  m: 0.33045977011494254 std: 0.002873563218390801   \n18  m: 0.33045977011494254 std: 0.002873563218390801   \n15  m: 0.33045977011494254 std: 0.002873563218390801   \n14  m: 0.33045977011494254 std: 0.002873563218390801   \n10  m: 0.33045977011494254 std: 0.002873563218390801   \n7   m: 0.33045977011494254 std: 0.002873563218390801   \n6   m: 0.33045977011494254 std: 0.002873563218390801   \n3   m: 0.33045977011494254 std: 0.002873563218390801   \n2   m: 0.33045977011494254 std: 0.002873563218390801   \n19  m: 0.33045977011494254 std: 0.002873563218390801   \n8    m: 0.6131615095430885 std: 0.056481347599768694   \n12   m: 0.5788719958652769 std: 0.022191833921957116   \n16    m: 0.561326192082771 std: 0.004646030139451196   \n\n                                             recall  \n0    m: 0.6526315789473685 std: 0.08421052631578946  \n17   m: 0.6815789473684211 std: 0.05526315789473685  \n5    m: 0.6815789473684211 std: 0.05526315789473685  \n13   m: 0.6815789473684211 std: 0.05526315789473685  \n9    m: 0.6815789473684211 std: 0.05526315789473685  \n1    m: 0.6815789473684211 std: 0.05526315789473685  \n4   m: 0.6197368421052631 std: 0.024999999999999967  \n11                                  m: 0.5 std: 0.0  \n18                                  m: 0.5 std: 0.0  \n15                                  m: 0.5 std: 0.0  \n14                                  m: 0.5 std: 0.0  \n10                                  m: 0.5 std: 0.0  \n7                                   m: 0.5 std: 0.0  \n6                                   m: 0.5 std: 0.0  \n3                                   m: 0.5 std: 0.0  \n2                                   m: 0.5 std: 0.0  \n19                                  m: 0.5 std: 0.0  \n8   m: 0.5736842105263158 std: 0.018421052631578894  \n12  m: 0.5605263157894738 std: 0.005263157894736803  \n16  m: 0.5473684210526316 std: 0.007894736842105288  ",
      "text/html": "<div>\n<style scoped>\n    .dataframe tbody tr th:only-of-type {\n        vertical-align: middle;\n    }\n\n    .dataframe tbody tr th {\n        vertical-align: top;\n    }\n\n    .dataframe thead th {\n        text-align: right;\n    }\n</style>\n<table border=\"1\" class=\"dataframe\">\n  <thead>\n    <tr style=\"text-align: right;\">\n      <th></th>\n      <th>classifier</th>\n      <th>arguments</th>\n      <th>mean_accuracy</th>\n      <th>mean_precision</th>\n      <th>mean_recall</th>\n      <th>accuracy</th>\n      <th>precision</th>\n      <th>recall</th>\n    </tr>\n  </thead>\n  <tbody>\n    <tr>\n      <th>0</th>\n      <td>DecisionTreeClassifier(max_depth=1, min_sample...</td>\n      <td>max Depth: 1, min Samples: 2</td>\n      <td>0.696310</td>\n      <td>0.657906</td>\n      <td>0.652632</td>\n      <td>m: 0.6963097398669087 std: 0.07562008469449483</td>\n      <td>m: 0.6579059829059829 std: 0.08568376068376071</td>\n      <td>m: 0.6526315789473685 std: 0.08421052631578946</td>\n    </tr>\n    <tr>\n      <th>17</th>\n      <td>DecisionTreeClassifier(max_depth=9, min_sample...</td>\n      <td>max Depth: 9, min Samples: 20</td>\n      <td>0.687689</td>\n      <td>0.679143</td>\n      <td>0.681579</td>\n      <td>m: 0.6876890502117362 std: 0.08424077434966726</td>\n      <td>m: 0.6791425420457678 std: 0.06444720154397576</td>\n      <td>m: 0.6815789473684211 std: 0.05526315789473685</td>\n    </tr>\n    <tr>\n      <th>5</th>\n      <td>DecisionTreeClassifier(max_depth=3, min_sample...</td>\n      <td>max Depth: 3, min Samples: 20</td>\n      <td>0.687689</td>\n      <td>0.679143</td>\n      <td>0.681579</td>\n      <td>m: 0.6876890502117362 std: 0.08424077434966726</td>\n      <td>m: 0.6791425420457678 std: 0.06444720154397576</td>\n      <td>m: 0.6815789473684211 std: 0.05526315789473685</td>\n    </tr>\n    <tr>\n      <th>13</th>\n      <td>DecisionTreeClassifier(max_depth=7, min_sample...</td>\n      <td>max Depth: 7, min Samples: 20</td>\n      <td>0.687689</td>\n      <td>0.679143</td>\n      <td>0.681579</td>\n      <td>m: 0.6876890502117362 std: 0.08424077434966726</td>\n      <td>m: 0.6791425420457678 std: 0.06444720154397576</td>\n      <td>m: 0.6815789473684211 std: 0.05526315789473685</td>\n    </tr>\n    <tr>\n      <th>9</th>\n      <td>DecisionTreeClassifier(max_depth=5, min_sample...</td>\n      <td>max Depth: 5, min Samples: 20</td>\n      <td>0.687689</td>\n      <td>0.679143</td>\n      <td>0.681579</td>\n      <td>m: 0.6876890502117362 std: 0.08424077434966726</td>\n      <td>m: 0.6791425420457678 std: 0.06444720154397576</td>\n      <td>m: 0.6815789473684211 std: 0.05526315789473685</td>\n    </tr>\n    <tr>\n      <th>1</th>\n      <td>DecisionTreeClassifier(max_depth=1, min_sample...</td>\n      <td>max Depth: 1, min Samples: 20</td>\n      <td>0.687689</td>\n      <td>0.679143</td>\n      <td>0.681579</td>\n      <td>m: 0.6876890502117362 std: 0.08424077434966726</td>\n      <td>m: 0.6791425420457678 std: 0.06444720154397576</td>\n      <td>m: 0.6815789473684211 std: 0.05526315789473685</td>\n    </tr>\n    <tr>\n      <th>4</th>\n      <td>DecisionTreeClassifier(max_depth=3, min_sample...</td>\n      <td>max Depth: 3, min Samples: 2</td>\n      <td>0.678463</td>\n      <td>0.633221</td>\n      <td>0.619737</td>\n      <td>m: 0.6784633998790078 std: 0.023290986085904408</td>\n      <td>m: 0.633220818815331 std: 0.026077961672473837</td>\n      <td>m: 0.6197368421052631 std: 0.024999999999999967</td>\n    </tr>\n    <tr>\n      <th>11</th>\n      <td>DecisionTreeClassifier(max_depth=5, min_sample...</td>\n      <td>max Depth: 5, min Samples: 100</td>\n      <td>0.660920</td>\n      <td>0.330460</td>\n      <td>0.500000</td>\n      <td>m: 0.6609195402298851 std: 0.005747126436781602</td>\n      <td>m: 0.33045977011494254 std: 0.002873563218390801</td>\n      <td>m: 0.5 std: 0.0</td>\n    </tr>\n    <tr>\n      <th>18</th>\n      <td>DecisionTreeClassifier(max_depth=9, min_sample...</td>\n      <td>max Depth: 9, min Samples: 50</td>\n      <td>0.660920</td>\n      <td>0.330460</td>\n      <td>0.500000</td>\n      <td>m: 0.6609195402298851 std: 0.005747126436781602</td>\n      <td>m: 0.33045977011494254 std: 0.002873563218390801</td>\n      <td>m: 0.5 std: 0.0</td>\n    </tr>\n    <tr>\n      <th>15</th>\n      <td>DecisionTreeClassifier(max_depth=7, min_sample...</td>\n      <td>max Depth: 7, min Samples: 100</td>\n      <td>0.660920</td>\n      <td>0.330460</td>\n      <td>0.500000</td>\n      <td>m: 0.6609195402298851 std: 0.005747126436781602</td>\n      <td>m: 0.33045977011494254 std: 0.002873563218390801</td>\n      <td>m: 0.5 std: 0.0</td>\n    </tr>\n    <tr>\n      <th>14</th>\n      <td>DecisionTreeClassifier(max_depth=7, min_sample...</td>\n      <td>max Depth: 7, min Samples: 50</td>\n      <td>0.660920</td>\n      <td>0.330460</td>\n      <td>0.500000</td>\n      <td>m: 0.6609195402298851 std: 0.005747126436781602</td>\n      <td>m: 0.33045977011494254 std: 0.002873563218390801</td>\n      <td>m: 0.5 std: 0.0</td>\n    </tr>\n    <tr>\n      <th>10</th>\n      <td>DecisionTreeClassifier(max_depth=5, min_sample...</td>\n      <td>max Depth: 5, min Samples: 50</td>\n      <td>0.660920</td>\n      <td>0.330460</td>\n      <td>0.500000</td>\n      <td>m: 0.6609195402298851 std: 0.005747126436781602</td>\n      <td>m: 0.33045977011494254 std: 0.002873563218390801</td>\n      <td>m: 0.5 std: 0.0</td>\n    </tr>\n    <tr>\n      <th>7</th>\n      <td>DecisionTreeClassifier(max_depth=3, min_sample...</td>\n      <td>max Depth: 3, min Samples: 100</td>\n      <td>0.660920</td>\n      <td>0.330460</td>\n      <td>0.500000</td>\n      <td>m: 0.6609195402298851 std: 0.005747126436781602</td>\n      <td>m: 0.33045977011494254 std: 0.002873563218390801</td>\n      <td>m: 0.5 std: 0.0</td>\n    </tr>\n    <tr>\n      <th>6</th>\n      <td>DecisionTreeClassifier(max_depth=3, min_sample...</td>\n      <td>max Depth: 3, min Samples: 50</td>\n      <td>0.660920</td>\n      <td>0.330460</td>\n      <td>0.500000</td>\n      <td>m: 0.6609195402298851 std: 0.005747126436781602</td>\n      <td>m: 0.33045977011494254 std: 0.002873563218390801</td>\n      <td>m: 0.5 std: 0.0</td>\n    </tr>\n    <tr>\n      <th>3</th>\n      <td>DecisionTreeClassifier(max_depth=1, min_sample...</td>\n      <td>max Depth: 1, min Samples: 100</td>\n      <td>0.660920</td>\n      <td>0.330460</td>\n      <td>0.500000</td>\n      <td>m: 0.6609195402298851 std: 0.005747126436781602</td>\n      <td>m: 0.33045977011494254 std: 0.002873563218390801</td>\n      <td>m: 0.5 std: 0.0</td>\n    </tr>\n    <tr>\n      <th>2</th>\n      <td>DecisionTreeClassifier(max_depth=1, min_sample...</td>\n      <td>max Depth: 1, min Samples: 50</td>\n      <td>0.660920</td>\n      <td>0.330460</td>\n      <td>0.500000</td>\n      <td>m: 0.6609195402298851 std: 0.005747126436781602</td>\n      <td>m: 0.33045977011494254 std: 0.002873563218390801</td>\n      <td>m: 0.5 std: 0.0</td>\n    </tr>\n    <tr>\n      <th>19</th>\n      <td>DecisionTreeClassifier(max_depth=9, min_sample...</td>\n      <td>max Depth: 9, min Samples: 100</td>\n      <td>0.660920</td>\n      <td>0.330460</td>\n      <td>0.500000</td>\n      <td>m: 0.6609195402298851 std: 0.005747126436781602</td>\n      <td>m: 0.33045977011494254 std: 0.002873563218390801</td>\n      <td>m: 0.5 std: 0.0</td>\n    </tr>\n    <tr>\n      <th>8</th>\n      <td>DecisionTreeClassifier(max_depth=5, min_sample...</td>\n      <td>max Depth: 5, min Samples: 2</td>\n      <td>0.652601</td>\n      <td>0.613162</td>\n      <td>0.573684</td>\n      <td>m: 0.6526013309134906 std: 0.049153055051421646</td>\n      <td>m: 0.6131615095430885 std: 0.056481347599768694</td>\n      <td>m: 0.5736842105263158 std: 0.018421052631578894</td>\n    </tr>\n    <tr>\n      <th>12</th>\n      <td>DecisionTreeClassifier(max_depth=7, min_sample...</td>\n      <td>max Depth: 7, min Samples: 2</td>\n      <td>0.635057</td>\n      <td>0.578872</td>\n      <td>0.560526</td>\n      <td>m: 0.6350574712643677 std: 0.03160919540229884</td>\n      <td>m: 0.5788719958652769 std: 0.022191833921957116</td>\n      <td>m: 0.5605263157894738 std: 0.005263157894736803</td>\n    </tr>\n    <tr>\n      <th>16</th>\n      <td>DecisionTreeClassifier(max_depth=9, min_sample...</td>\n      <td>max Depth: 9, min Samples: 2</td>\n      <td>0.626286</td>\n      <td>0.561326</td>\n      <td>0.547368</td>\n      <td>m: 0.6262855414398064 std: 0.022837265577737464</td>\n      <td>m: 0.561326192082771 std: 0.004646030139451196</td>\n      <td>m: 0.5473684210526316 std: 0.007894736842105288</td>\n    </tr>\n  </tbody>\n</table>\n</div>"
     },
     "metadata": {},
     "output_type": "display_data"
    },
    {
     "data": {
      "text/plain": "classifier        DecisionTreeClassifier(max_depth=1, min_sample...\narguments                              max Depth: 1, min Samples: 2\nmean_accuracy                                               0.69631\nmean_precision                                             0.657906\nmean_recall                                                0.652632\naccuracy             m: 0.6963097398669087 std: 0.07562008469449483\nprecision            m: 0.6579059829059829 std: 0.08568376068376071\nrecall               m: 0.6526315789473685 std: 0.08421052631578946\nName: 0, dtype: object"
     },
     "metadata": {},
     "output_type": "display_data"
    }
   ],
   "source": [
    "decision_tree_results = calculate_decision_tree(votingDataLearn[votingDataLearn.columns[2:17]],\n",
    "                                                votingDataLearn[votingDataLearn.columns[1]])\n",
    "overall_results_vote.extend(decision_tree_results)\n",
    "\n",
    "print_results(decision_tree_results, \"mean_accuracy\")"
   ]
  },
  {
   "cell_type": "markdown",
   "source": [
    "### SVM - Congressional Vote"
   ],
   "metadata": {
    "collapsed": false
   }
  },
  {
   "cell_type": "code",
   "execution_count": 12,
   "outputs": [
    {
     "data": {
      "text/plain": "'Results'"
     },
     "metadata": {},
     "output_type": "display_data"
    },
    {
     "data": {
      "text/plain": "                                    classifier        arguments  \\\n15   SVC(C=301, gamma=0.001, kernel='sigmoid')  Kernel: sigmoid   \n1     SVC(C=101, gamma=0.001, kernel='linear')   Kernel: linear   \n7                  SVC(C=301, kernel='linear')   Kernel: linear   \n11   SVC(C=301, gamma='auto', kernel='linear')   Kernel: linear   \n10   SVC(C=201, gamma='auto', kernel='linear')   Kernel: linear   \n9    SVC(C=101, gamma='auto', kernel='linear')   Kernel: linear   \n22  SVC(C=201, gamma='auto', kernel='sigmoid')  Kernel: sigmoid   \n6                  SVC(C=201, kernel='linear')   Kernel: linear   \n5                  SVC(C=101, kernel='linear')   Kernel: linear   \n3     SVC(C=301, gamma=0.001, kernel='linear')   Kernel: linear   \n2     SVC(C=201, gamma=0.001, kernel='linear')   Kernel: linear   \n28                                    SVC(C=1)      Kernel: rbf   \n27                     SVC(C=301, gamma=0.001)      Kernel: rbf   \n21  SVC(C=101, gamma='auto', kernel='sigmoid')  Kernel: sigmoid   \n26                     SVC(C=201, gamma=0.001)      Kernel: rbf   \n23  SVC(C=301, gamma='auto', kernel='sigmoid')  Kernel: sigmoid   \n36        SVC(C=1, gamma=0.001, kernel='poly')     Kernel: poly   \n24                       SVC(C=1, gamma=0.001)      Kernel: rbf   \n37      SVC(C=101, gamma=0.001, kernel='poly')     Kernel: poly   \n38      SVC(C=201, gamma=0.001, kernel='poly')     Kernel: poly   \n39      SVC(C=301, gamma=0.001, kernel='poly')     Kernel: poly   \n44       SVC(C=1, gamma='auto', kernel='poly')     Kernel: poly   \n12     SVC(C=1, gamma=0.001, kernel='sigmoid')  Kernel: sigmoid   \n14   SVC(C=201, gamma=0.001, kernel='sigmoid')  Kernel: sigmoid   \n25                     SVC(C=101, gamma=0.001)      Kernel: rbf   \n0       SVC(C=1, gamma=0.001, kernel='linear')   Kernel: linear   \n4                    SVC(C=1, kernel='linear')   Kernel: linear   \n8      SVC(C=1, gamma='auto', kernel='linear')   Kernel: linear   \n32                      SVC(C=1, gamma='auto')      Kernel: rbf   \n18                SVC(C=201, kernel='sigmoid')  Kernel: sigmoid   \n17                SVC(C=101, kernel='sigmoid')  Kernel: sigmoid   \n19                SVC(C=301, kernel='sigmoid')  Kernel: sigmoid   \n13   SVC(C=101, gamma=0.001, kernel='sigmoid')  Kernel: sigmoid   \n20    SVC(C=1, gamma='auto', kernel='sigmoid')  Kernel: sigmoid   \n29                                  SVC(C=101)      Kernel: rbf   \n30                                  SVC(C=201)      Kernel: rbf   \n31                                  SVC(C=301)      Kernel: rbf   \n42                   SVC(C=201, kernel='poly')     Kernel: poly   \n46     SVC(C=201, gamma='auto', kernel='poly')     Kernel: poly   \n45     SVC(C=101, gamma='auto', kernel='poly')     Kernel: poly   \n43                   SVC(C=301, kernel='poly')     Kernel: poly   \n16                  SVC(C=1, kernel='sigmoid')  Kernel: sigmoid   \n41                   SVC(C=101, kernel='poly')     Kernel: poly   \n40                     SVC(C=1, kernel='poly')     Kernel: poly   \n47     SVC(C=301, gamma='auto', kernel='poly')     Kernel: poly   \n35                    SVC(C=301, gamma='auto')      Kernel: rbf   \n34                    SVC(C=201, gamma='auto')      Kernel: rbf   \n33                    SVC(C=101, gamma='auto')      Kernel: rbf   \n\n    mean_accuracy  mean_precision  mean_recall  \\\n15       0.669994        0.627457     0.606579   \n1        0.669843        0.634183     0.624342   \n7        0.669843        0.634183     0.624342   \n11       0.669843        0.634183     0.624342   \n10       0.669843        0.634183     0.624342   \n9        0.669843        0.634183     0.624342   \n22       0.669843        0.636476     0.637500   \n6        0.669843        0.634183     0.624342   \n5        0.669843        0.634183     0.624342   \n3        0.669843        0.634183     0.624342   \n2        0.669843        0.634183     0.624342   \n28       0.669843        0.656505     0.573684   \n27       0.661373        0.618816     0.606579   \n21       0.661222        0.623841     0.618421   \n26       0.661222        0.615015     0.600000   \n23       0.661071        0.629247     0.630263   \n36       0.660920        0.330460     0.500000   \n24       0.660920        0.330460     0.500000   \n37       0.660920        0.330460     0.500000   \n38       0.660920        0.330460     0.500000   \n39       0.660920        0.330460     0.500000   \n44       0.660920        0.330460     0.500000   \n12       0.660920        0.330460     0.500000   \n14       0.652450        0.628095     0.559868   \n25       0.652450        0.628095     0.559868   \n0        0.635209        0.588910     0.580263   \n4        0.635209        0.588910     0.580263   \n8        0.635209        0.588910     0.580263   \n32       0.635057        0.449485     0.533553   \n18       0.634755        0.613269     0.623026   \n17       0.634755        0.613269     0.623026   \n19       0.634755        0.613269     0.623026   \n13       0.626437        0.442551     0.526974   \n20       0.617816        0.440909     0.526316   \n29       0.617665        0.563623     0.552632   \n30       0.617665        0.563623     0.552632   \n31       0.617665        0.563623     0.552632   \n42       0.609044        0.561792     0.552632   \n46       0.609044        0.561792     0.552632   \n45       0.609044        0.561792     0.552632   \n43       0.609044        0.561792     0.552632   \n16       0.609044        0.558293     0.550658   \n41       0.609044        0.561792     0.552632   \n40       0.609044        0.561792     0.552632   \n47       0.609044        0.561792     0.552632   \n35       0.591349        0.530637     0.532895   \n34       0.591349        0.530637     0.532895   \n33       0.591349        0.530637     0.532895   \n\n                                            accuracy  \\\n15   m: 0.6699939503932244 std: 0.049304295220810646   \n1    m: 0.6698427102238355 std: 0.031911675741076784   \n7    m: 0.6698427102238355 std: 0.031911675741076784   \n11   m: 0.6698427102238355 std: 0.031911675741076784   \n10   m: 0.6698427102238355 std: 0.031911675741076784   \n9    m: 0.6698427102238355 std: 0.031911675741076784   \n22   m: 0.6698427102238355 std: 0.031911675741076784   \n6    m: 0.6698427102238355 std: 0.031911675741076784   \n5    m: 0.6698427102238355 std: 0.031911675741076784   \n3    m: 0.6698427102238355 std: 0.031911675741076784   \n2    m: 0.6698427102238355 std: 0.031911675741076784   \n28   m: 0.6698427102238355 std: 0.031911675741076784   \n27     m: 0.661373260738052 std: 0.05792498487598308   \n21    m: 0.661222020568663 std: 0.040532365396249215   \n26    m: 0.661222020568663 std: 0.040532365396249215   \n23    m: 0.6610707803992741 std: 0.02313974591651541   \n36   m: 0.6609195402298851 std: 0.005747126436781602   \n24   m: 0.6609195402298851 std: 0.005747126436781602   \n37   m: 0.6609195402298851 std: 0.005747126436781602   \n38   m: 0.6609195402298851 std: 0.005747126436781602   \n39   m: 0.6609195402298851 std: 0.005747126436781602   \n44   m: 0.6609195402298851 std: 0.005747126436781602   \n12   m: 0.6609195402298851 std: 0.005747126436781602   \n14    m: 0.6524500907441017 std: 0.03176043557168784   \n25    m: 0.6524500907441017 std: 0.03176043557168784   \n0      m: 0.6352087114337568 std: 0.0490018148820327   \n4      m: 0.6352087114337568 std: 0.0490018148820327   \n8      m: 0.6352087114337568 std: 0.0490018148820327   \n32    m: 0.6350574712643677 std: 0.03160919540229884   \n18  m: 0.6347549909255898 std: 0.0031760435571688284   \n17  m: 0.6347549909255898 std: 0.0031760435571688284   \n19  m: 0.6347549909255898 std: 0.0031760435571688284   \n13    m: 0.6264367816091954 std: 0.04022988505747127   \n20    m: 0.617816091954023 std: 0.048850574712643646   \n29   m: 0.6176648517846339 std: 0.031457955232909895   \n30   m: 0.6176648517846339 std: 0.031457955232909895   \n31   m: 0.6176648517846339 std: 0.031457955232909895   \n42    m: 0.6090441621294616 std: 0.04007864488808227   \n46    m: 0.6090441621294616 std: 0.04007864488808227   \n45    m: 0.6090441621294616 std: 0.04007864488808227   \n43    m: 0.6090441621294616 std: 0.04007864488808227   \n16    m: 0.6090441621294616 std: 0.04007864488808227   \n41    m: 0.6090441621294616 std: 0.04007864488808227   \n40    m: 0.6090441621294616 std: 0.04007864488808227   \n47    m: 0.6090441621294616 std: 0.04007864488808227   \n35   m: 0.5913490623109497 std: 0.005142165759225659   \n34   m: 0.5913490623109497 std: 0.005142165759225659   \n33   m: 0.5913490623109497 std: 0.005142165759225659   \n\n                                           precision  \\\n15     m: 0.627457264957265 std: 0.05523504273504276   \n1     m: 0.6341831575906398 std: 0.02362415137945978   \n7     m: 0.6341831575906398 std: 0.02362415137945978   \n11    m: 0.6341831575906398 std: 0.02362415137945978   \n10    m: 0.6341831575906398 std: 0.02362415137945978   \n9     m: 0.6341831575906398 std: 0.02362415137945978   \n22   m: 0.6364760843021713 std: 0.025917078090991197   \n6     m: 0.6341831575906398 std: 0.02362415137945978   \n5     m: 0.6341831575906398 std: 0.02362415137945978   \n3     m: 0.6341831575906398 std: 0.02362415137945978   \n2     m: 0.6341831575906398 std: 0.02362415137945978   \n28    m: 0.6565046290030048 std: 0.06755197477058017   \n27    m: 0.6188162714478505 std: 0.06213610950453058   \n21    m: 0.6238413094358216 std: 0.03545747105198327   \n26    m: 0.6150147655961609 std: 0.04279254337393873   \n23   m: 0.6292468805704099 std: 0.010459001782531174   \n36  m: 0.33045977011494254 std: 0.002873563218390801   \n24  m: 0.33045977011494254 std: 0.002873563218390801   \n37  m: 0.33045977011494254 std: 0.002873563218390801   \n38  m: 0.33045977011494254 std: 0.002873563218390801   \n39  m: 0.33045977011494254 std: 0.002873563218390801   \n44  m: 0.33045977011494254 std: 0.002873563218390801   \n12  m: 0.33045977011494254 std: 0.002873563218390801   \n14    m: 0.6280945419103314 std: 0.04783138401559456   \n25    m: 0.6280945419103314 std: 0.04783138401559456   \n0     m: 0.5889097744360903 std: 0.04680451127819546   \n4     m: 0.5889097744360903 std: 0.04680451127819546   \n8     m: 0.5889097744360903 std: 0.04680451127819546   \n32    m: 0.4494851994851995 std: 0.11615186615186615   \n18    m: 0.613269406817794 std: 0.014568108116495171   \n17    m: 0.613269406817794 std: 0.014568108116495171   \n19    m: 0.613269406817794 std: 0.014568108116495171   \n13    m: 0.4425505050505051 std: 0.10921717171717174   \n20    m: 0.4409090909090909 std: 0.10757575757575763   \n29  m: 0.5636233660130718 std: 0.0023488562091503185   \n30  m: 0.5636233660130718 std: 0.0023488562091503185   \n31  m: 0.5636233660130718 std: 0.0023488562091503185   \n42   m: 0.5617918313570488 std: 0.013306982872200224   \n46   m: 0.5617918313570488 std: 0.013306982872200224   \n45   m: 0.5617918313570488 std: 0.013306982872200224   \n43   m: 0.5617918313570488 std: 0.013306982872200224   \n16   m: 0.5582931256318353 std: 0.021754664093373732   \n41   m: 0.5617918313570488 std: 0.013306982872200224   \n40   m: 0.5617918313570488 std: 0.013306982872200224   \n47   m: 0.5617918313570488 std: 0.013306982872200224   \n35   m: 0.5306372549019608 std: 0.030637254901960786   \n34   m: 0.5306372549019608 std: 0.030637254901960786   \n33   m: 0.5306372549019608 std: 0.030637254901960786   \n\n                                             recall  \n15   m: 0.6065789473684211 std: 0.03815789473684211  \n1   m: 0.6243421052631579 std: 0.007236842105263097  \n7   m: 0.6243421052631579 std: 0.007236842105263097  \n11  m: 0.6243421052631579 std: 0.007236842105263097  \n10  m: 0.6243421052631579 std: 0.007236842105263097  \n9   m: 0.6243421052631579 std: 0.007236842105263097  \n22  m: 0.6375000000000001 std: 0.020394736842105243  \n6   m: 0.6243421052631579 std: 0.007236842105263097  \n5   m: 0.6243421052631579 std: 0.007236842105263097  \n3   m: 0.6243421052631579 std: 0.007236842105263097  \n2   m: 0.6243421052631579 std: 0.007236842105263097  \n28  m: 0.5736842105263158 std: 0.007894736842105288  \n27   m: 0.6065789473684211 std: 0.05131578947368415  \n21   m: 0.618421052631579 std: 0.026315789473684237  \n26                  m: 0.6 std: 0.03157894736842104  \n23  m: 0.6302631578947369 std: 0.001315789473684159  \n36                                  m: 0.5 std: 0.0  \n24                                  m: 0.5 std: 0.0  \n37                                  m: 0.5 std: 0.0  \n38                                  m: 0.5 std: 0.0  \n39                                  m: 0.5 std: 0.0  \n44                                  m: 0.5 std: 0.0  \n12                                  m: 0.5 std: 0.0  \n14  m: 0.5598684210526316 std: 0.020394736842105243  \n25  m: 0.5598684210526316 std: 0.020394736842105243  \n0    m: 0.5802631578947368 std: 0.03815789473684211  \n4    m: 0.5802631578947368 std: 0.03815789473684211  \n8    m: 0.5802631578947368 std: 0.03815789473684211  \n32   m: 0.5335526315789474 std: 0.03355263157894739  \n18   m: 0.6230263157894738 std: 0.01776315789473687  \n17   m: 0.6230263157894738 std: 0.01776315789473687  \n19   m: 0.6230263157894738 std: 0.01776315789473687  \n13  m: 0.5269736842105264 std: 0.026973684210526316  \n20   m: 0.5263157894736842 std: 0.02631578947368418  \n29   m: 0.5526315789473684 std: 0.01315789473684209  \n30   m: 0.5526315789473684 std: 0.01315789473684209  \n31   m: 0.5526315789473684 std: 0.01315789473684209  \n42                   m: 0.5526315789473684 std: 0.0  \n46                   m: 0.5526315789473684 std: 0.0  \n45                   m: 0.5526315789473684 std: 0.0  \n43                   m: 0.5526315789473684 std: 0.0  \n16   m: 0.5506578947368421 std: 0.03750000000000003  \n41                   m: 0.5526315789473684 std: 0.0  \n40                   m: 0.5526315789473684 std: 0.0  \n47                   m: 0.5526315789473684 std: 0.0  \n35  m: 0.5328947368421053 std: 0.032894736842105254  \n34  m: 0.5328947368421053 std: 0.032894736842105254  \n33  m: 0.5328947368421053 std: 0.032894736842105254  ",
      "text/html": "<div>\n<style scoped>\n    .dataframe tbody tr th:only-of-type {\n        vertical-align: middle;\n    }\n\n    .dataframe tbody tr th {\n        vertical-align: top;\n    }\n\n    .dataframe thead th {\n        text-align: right;\n    }\n</style>\n<table border=\"1\" class=\"dataframe\">\n  <thead>\n    <tr style=\"text-align: right;\">\n      <th></th>\n      <th>classifier</th>\n      <th>arguments</th>\n      <th>mean_accuracy</th>\n      <th>mean_precision</th>\n      <th>mean_recall</th>\n      <th>accuracy</th>\n      <th>precision</th>\n      <th>recall</th>\n    </tr>\n  </thead>\n  <tbody>\n    <tr>\n      <th>15</th>\n      <td>SVC(C=301, gamma=0.001, kernel='sigmoid')</td>\n      <td>Kernel: sigmoid</td>\n      <td>0.669994</td>\n      <td>0.627457</td>\n      <td>0.606579</td>\n      <td>m: 0.6699939503932244 std: 0.049304295220810646</td>\n      <td>m: 0.627457264957265 std: 0.05523504273504276</td>\n      <td>m: 0.6065789473684211 std: 0.03815789473684211</td>\n    </tr>\n    <tr>\n      <th>1</th>\n      <td>SVC(C=101, gamma=0.001, kernel='linear')</td>\n      <td>Kernel: linear</td>\n      <td>0.669843</td>\n      <td>0.634183</td>\n      <td>0.624342</td>\n      <td>m: 0.6698427102238355 std: 0.031911675741076784</td>\n      <td>m: 0.6341831575906398 std: 0.02362415137945978</td>\n      <td>m: 0.6243421052631579 std: 0.007236842105263097</td>\n    </tr>\n    <tr>\n      <th>7</th>\n      <td>SVC(C=301, kernel='linear')</td>\n      <td>Kernel: linear</td>\n      <td>0.669843</td>\n      <td>0.634183</td>\n      <td>0.624342</td>\n      <td>m: 0.6698427102238355 std: 0.031911675741076784</td>\n      <td>m: 0.6341831575906398 std: 0.02362415137945978</td>\n      <td>m: 0.6243421052631579 std: 0.007236842105263097</td>\n    </tr>\n    <tr>\n      <th>11</th>\n      <td>SVC(C=301, gamma='auto', kernel='linear')</td>\n      <td>Kernel: linear</td>\n      <td>0.669843</td>\n      <td>0.634183</td>\n      <td>0.624342</td>\n      <td>m: 0.6698427102238355 std: 0.031911675741076784</td>\n      <td>m: 0.6341831575906398 std: 0.02362415137945978</td>\n      <td>m: 0.6243421052631579 std: 0.007236842105263097</td>\n    </tr>\n    <tr>\n      <th>10</th>\n      <td>SVC(C=201, gamma='auto', kernel='linear')</td>\n      <td>Kernel: linear</td>\n      <td>0.669843</td>\n      <td>0.634183</td>\n      <td>0.624342</td>\n      <td>m: 0.6698427102238355 std: 0.031911675741076784</td>\n      <td>m: 0.6341831575906398 std: 0.02362415137945978</td>\n      <td>m: 0.6243421052631579 std: 0.007236842105263097</td>\n    </tr>\n    <tr>\n      <th>9</th>\n      <td>SVC(C=101, gamma='auto', kernel='linear')</td>\n      <td>Kernel: linear</td>\n      <td>0.669843</td>\n      <td>0.634183</td>\n      <td>0.624342</td>\n      <td>m: 0.6698427102238355 std: 0.031911675741076784</td>\n      <td>m: 0.6341831575906398 std: 0.02362415137945978</td>\n      <td>m: 0.6243421052631579 std: 0.007236842105263097</td>\n    </tr>\n    <tr>\n      <th>22</th>\n      <td>SVC(C=201, gamma='auto', kernel='sigmoid')</td>\n      <td>Kernel: sigmoid</td>\n      <td>0.669843</td>\n      <td>0.636476</td>\n      <td>0.637500</td>\n      <td>m: 0.6698427102238355 std: 0.031911675741076784</td>\n      <td>m: 0.6364760843021713 std: 0.025917078090991197</td>\n      <td>m: 0.6375000000000001 std: 0.020394736842105243</td>\n    </tr>\n    <tr>\n      <th>6</th>\n      <td>SVC(C=201, kernel='linear')</td>\n      <td>Kernel: linear</td>\n      <td>0.669843</td>\n      <td>0.634183</td>\n      <td>0.624342</td>\n      <td>m: 0.6698427102238355 std: 0.031911675741076784</td>\n      <td>m: 0.6341831575906398 std: 0.02362415137945978</td>\n      <td>m: 0.6243421052631579 std: 0.007236842105263097</td>\n    </tr>\n    <tr>\n      <th>5</th>\n      <td>SVC(C=101, kernel='linear')</td>\n      <td>Kernel: linear</td>\n      <td>0.669843</td>\n      <td>0.634183</td>\n      <td>0.624342</td>\n      <td>m: 0.6698427102238355 std: 0.031911675741076784</td>\n      <td>m: 0.6341831575906398 std: 0.02362415137945978</td>\n      <td>m: 0.6243421052631579 std: 0.007236842105263097</td>\n    </tr>\n    <tr>\n      <th>3</th>\n      <td>SVC(C=301, gamma=0.001, kernel='linear')</td>\n      <td>Kernel: linear</td>\n      <td>0.669843</td>\n      <td>0.634183</td>\n      <td>0.624342</td>\n      <td>m: 0.6698427102238355 std: 0.031911675741076784</td>\n      <td>m: 0.6341831575906398 std: 0.02362415137945978</td>\n      <td>m: 0.6243421052631579 std: 0.007236842105263097</td>\n    </tr>\n    <tr>\n      <th>2</th>\n      <td>SVC(C=201, gamma=0.001, kernel='linear')</td>\n      <td>Kernel: linear</td>\n      <td>0.669843</td>\n      <td>0.634183</td>\n      <td>0.624342</td>\n      <td>m: 0.6698427102238355 std: 0.031911675741076784</td>\n      <td>m: 0.6341831575906398 std: 0.02362415137945978</td>\n      <td>m: 0.6243421052631579 std: 0.007236842105263097</td>\n    </tr>\n    <tr>\n      <th>28</th>\n      <td>SVC(C=1)</td>\n      <td>Kernel: rbf</td>\n      <td>0.669843</td>\n      <td>0.656505</td>\n      <td>0.573684</td>\n      <td>m: 0.6698427102238355 std: 0.031911675741076784</td>\n      <td>m: 0.6565046290030048 std: 0.06755197477058017</td>\n      <td>m: 0.5736842105263158 std: 0.007894736842105288</td>\n    </tr>\n    <tr>\n      <th>27</th>\n      <td>SVC(C=301, gamma=0.001)</td>\n      <td>Kernel: rbf</td>\n      <td>0.661373</td>\n      <td>0.618816</td>\n      <td>0.606579</td>\n      <td>m: 0.661373260738052 std: 0.05792498487598308</td>\n      <td>m: 0.6188162714478505 std: 0.06213610950453058</td>\n      <td>m: 0.6065789473684211 std: 0.05131578947368415</td>\n    </tr>\n    <tr>\n      <th>21</th>\n      <td>SVC(C=101, gamma='auto', kernel='sigmoid')</td>\n      <td>Kernel: sigmoid</td>\n      <td>0.661222</td>\n      <td>0.623841</td>\n      <td>0.618421</td>\n      <td>m: 0.661222020568663 std: 0.040532365396249215</td>\n      <td>m: 0.6238413094358216 std: 0.03545747105198327</td>\n      <td>m: 0.618421052631579 std: 0.026315789473684237</td>\n    </tr>\n    <tr>\n      <th>26</th>\n      <td>SVC(C=201, gamma=0.001)</td>\n      <td>Kernel: rbf</td>\n      <td>0.661222</td>\n      <td>0.615015</td>\n      <td>0.600000</td>\n      <td>m: 0.661222020568663 std: 0.040532365396249215</td>\n      <td>m: 0.6150147655961609 std: 0.04279254337393873</td>\n      <td>m: 0.6 std: 0.03157894736842104</td>\n    </tr>\n    <tr>\n      <th>23</th>\n      <td>SVC(C=301, gamma='auto', kernel='sigmoid')</td>\n      <td>Kernel: sigmoid</td>\n      <td>0.661071</td>\n      <td>0.629247</td>\n      <td>0.630263</td>\n      <td>m: 0.6610707803992741 std: 0.02313974591651541</td>\n      <td>m: 0.6292468805704099 std: 0.010459001782531174</td>\n      <td>m: 0.6302631578947369 std: 0.001315789473684159</td>\n    </tr>\n    <tr>\n      <th>36</th>\n      <td>SVC(C=1, gamma=0.001, kernel='poly')</td>\n      <td>Kernel: poly</td>\n      <td>0.660920</td>\n      <td>0.330460</td>\n      <td>0.500000</td>\n      <td>m: 0.6609195402298851 std: 0.005747126436781602</td>\n      <td>m: 0.33045977011494254 std: 0.002873563218390801</td>\n      <td>m: 0.5 std: 0.0</td>\n    </tr>\n    <tr>\n      <th>24</th>\n      <td>SVC(C=1, gamma=0.001)</td>\n      <td>Kernel: rbf</td>\n      <td>0.660920</td>\n      <td>0.330460</td>\n      <td>0.500000</td>\n      <td>m: 0.6609195402298851 std: 0.005747126436781602</td>\n      <td>m: 0.33045977011494254 std: 0.002873563218390801</td>\n      <td>m: 0.5 std: 0.0</td>\n    </tr>\n    <tr>\n      <th>37</th>\n      <td>SVC(C=101, gamma=0.001, kernel='poly')</td>\n      <td>Kernel: poly</td>\n      <td>0.660920</td>\n      <td>0.330460</td>\n      <td>0.500000</td>\n      <td>m: 0.6609195402298851 std: 0.005747126436781602</td>\n      <td>m: 0.33045977011494254 std: 0.002873563218390801</td>\n      <td>m: 0.5 std: 0.0</td>\n    </tr>\n    <tr>\n      <th>38</th>\n      <td>SVC(C=201, gamma=0.001, kernel='poly')</td>\n      <td>Kernel: poly</td>\n      <td>0.660920</td>\n      <td>0.330460</td>\n      <td>0.500000</td>\n      <td>m: 0.6609195402298851 std: 0.005747126436781602</td>\n      <td>m: 0.33045977011494254 std: 0.002873563218390801</td>\n      <td>m: 0.5 std: 0.0</td>\n    </tr>\n    <tr>\n      <th>39</th>\n      <td>SVC(C=301, gamma=0.001, kernel='poly')</td>\n      <td>Kernel: poly</td>\n      <td>0.660920</td>\n      <td>0.330460</td>\n      <td>0.500000</td>\n      <td>m: 0.6609195402298851 std: 0.005747126436781602</td>\n      <td>m: 0.33045977011494254 std: 0.002873563218390801</td>\n      <td>m: 0.5 std: 0.0</td>\n    </tr>\n    <tr>\n      <th>44</th>\n      <td>SVC(C=1, gamma='auto', kernel='poly')</td>\n      <td>Kernel: poly</td>\n      <td>0.660920</td>\n      <td>0.330460</td>\n      <td>0.500000</td>\n      <td>m: 0.6609195402298851 std: 0.005747126436781602</td>\n      <td>m: 0.33045977011494254 std: 0.002873563218390801</td>\n      <td>m: 0.5 std: 0.0</td>\n    </tr>\n    <tr>\n      <th>12</th>\n      <td>SVC(C=1, gamma=0.001, kernel='sigmoid')</td>\n      <td>Kernel: sigmoid</td>\n      <td>0.660920</td>\n      <td>0.330460</td>\n      <td>0.500000</td>\n      <td>m: 0.6609195402298851 std: 0.005747126436781602</td>\n      <td>m: 0.33045977011494254 std: 0.002873563218390801</td>\n      <td>m: 0.5 std: 0.0</td>\n    </tr>\n    <tr>\n      <th>14</th>\n      <td>SVC(C=201, gamma=0.001, kernel='sigmoid')</td>\n      <td>Kernel: sigmoid</td>\n      <td>0.652450</td>\n      <td>0.628095</td>\n      <td>0.559868</td>\n      <td>m: 0.6524500907441017 std: 0.03176043557168784</td>\n      <td>m: 0.6280945419103314 std: 0.04783138401559456</td>\n      <td>m: 0.5598684210526316 std: 0.020394736842105243</td>\n    </tr>\n    <tr>\n      <th>25</th>\n      <td>SVC(C=101, gamma=0.001)</td>\n      <td>Kernel: rbf</td>\n      <td>0.652450</td>\n      <td>0.628095</td>\n      <td>0.559868</td>\n      <td>m: 0.6524500907441017 std: 0.03176043557168784</td>\n      <td>m: 0.6280945419103314 std: 0.04783138401559456</td>\n      <td>m: 0.5598684210526316 std: 0.020394736842105243</td>\n    </tr>\n    <tr>\n      <th>0</th>\n      <td>SVC(C=1, gamma=0.001, kernel='linear')</td>\n      <td>Kernel: linear</td>\n      <td>0.635209</td>\n      <td>0.588910</td>\n      <td>0.580263</td>\n      <td>m: 0.6352087114337568 std: 0.0490018148820327</td>\n      <td>m: 0.5889097744360903 std: 0.04680451127819546</td>\n      <td>m: 0.5802631578947368 std: 0.03815789473684211</td>\n    </tr>\n    <tr>\n      <th>4</th>\n      <td>SVC(C=1, kernel='linear')</td>\n      <td>Kernel: linear</td>\n      <td>0.635209</td>\n      <td>0.588910</td>\n      <td>0.580263</td>\n      <td>m: 0.6352087114337568 std: 0.0490018148820327</td>\n      <td>m: 0.5889097744360903 std: 0.04680451127819546</td>\n      <td>m: 0.5802631578947368 std: 0.03815789473684211</td>\n    </tr>\n    <tr>\n      <th>8</th>\n      <td>SVC(C=1, gamma='auto', kernel='linear')</td>\n      <td>Kernel: linear</td>\n      <td>0.635209</td>\n      <td>0.588910</td>\n      <td>0.580263</td>\n      <td>m: 0.6352087114337568 std: 0.0490018148820327</td>\n      <td>m: 0.5889097744360903 std: 0.04680451127819546</td>\n      <td>m: 0.5802631578947368 std: 0.03815789473684211</td>\n    </tr>\n    <tr>\n      <th>32</th>\n      <td>SVC(C=1, gamma='auto')</td>\n      <td>Kernel: rbf</td>\n      <td>0.635057</td>\n      <td>0.449485</td>\n      <td>0.533553</td>\n      <td>m: 0.6350574712643677 std: 0.03160919540229884</td>\n      <td>m: 0.4494851994851995 std: 0.11615186615186615</td>\n      <td>m: 0.5335526315789474 std: 0.03355263157894739</td>\n    </tr>\n    <tr>\n      <th>18</th>\n      <td>SVC(C=201, kernel='sigmoid')</td>\n      <td>Kernel: sigmoid</td>\n      <td>0.634755</td>\n      <td>0.613269</td>\n      <td>0.623026</td>\n      <td>m: 0.6347549909255898 std: 0.0031760435571688284</td>\n      <td>m: 0.613269406817794 std: 0.014568108116495171</td>\n      <td>m: 0.6230263157894738 std: 0.01776315789473687</td>\n    </tr>\n    <tr>\n      <th>17</th>\n      <td>SVC(C=101, kernel='sigmoid')</td>\n      <td>Kernel: sigmoid</td>\n      <td>0.634755</td>\n      <td>0.613269</td>\n      <td>0.623026</td>\n      <td>m: 0.6347549909255898 std: 0.0031760435571688284</td>\n      <td>m: 0.613269406817794 std: 0.014568108116495171</td>\n      <td>m: 0.6230263157894738 std: 0.01776315789473687</td>\n    </tr>\n    <tr>\n      <th>19</th>\n      <td>SVC(C=301, kernel='sigmoid')</td>\n      <td>Kernel: sigmoid</td>\n      <td>0.634755</td>\n      <td>0.613269</td>\n      <td>0.623026</td>\n      <td>m: 0.6347549909255898 std: 0.0031760435571688284</td>\n      <td>m: 0.613269406817794 std: 0.014568108116495171</td>\n      <td>m: 0.6230263157894738 std: 0.01776315789473687</td>\n    </tr>\n    <tr>\n      <th>13</th>\n      <td>SVC(C=101, gamma=0.001, kernel='sigmoid')</td>\n      <td>Kernel: sigmoid</td>\n      <td>0.626437</td>\n      <td>0.442551</td>\n      <td>0.526974</td>\n      <td>m: 0.6264367816091954 std: 0.04022988505747127</td>\n      <td>m: 0.4425505050505051 std: 0.10921717171717174</td>\n      <td>m: 0.5269736842105264 std: 0.026973684210526316</td>\n    </tr>\n    <tr>\n      <th>20</th>\n      <td>SVC(C=1, gamma='auto', kernel='sigmoid')</td>\n      <td>Kernel: sigmoid</td>\n      <td>0.617816</td>\n      <td>0.440909</td>\n      <td>0.526316</td>\n      <td>m: 0.617816091954023 std: 0.048850574712643646</td>\n      <td>m: 0.4409090909090909 std: 0.10757575757575763</td>\n      <td>m: 0.5263157894736842 std: 0.02631578947368418</td>\n    </tr>\n    <tr>\n      <th>29</th>\n      <td>SVC(C=101)</td>\n      <td>Kernel: rbf</td>\n      <td>0.617665</td>\n      <td>0.563623</td>\n      <td>0.552632</td>\n      <td>m: 0.6176648517846339 std: 0.031457955232909895</td>\n      <td>m: 0.5636233660130718 std: 0.0023488562091503185</td>\n      <td>m: 0.5526315789473684 std: 0.01315789473684209</td>\n    </tr>\n    <tr>\n      <th>30</th>\n      <td>SVC(C=201)</td>\n      <td>Kernel: rbf</td>\n      <td>0.617665</td>\n      <td>0.563623</td>\n      <td>0.552632</td>\n      <td>m: 0.6176648517846339 std: 0.031457955232909895</td>\n      <td>m: 0.5636233660130718 std: 0.0023488562091503185</td>\n      <td>m: 0.5526315789473684 std: 0.01315789473684209</td>\n    </tr>\n    <tr>\n      <th>31</th>\n      <td>SVC(C=301)</td>\n      <td>Kernel: rbf</td>\n      <td>0.617665</td>\n      <td>0.563623</td>\n      <td>0.552632</td>\n      <td>m: 0.6176648517846339 std: 0.031457955232909895</td>\n      <td>m: 0.5636233660130718 std: 0.0023488562091503185</td>\n      <td>m: 0.5526315789473684 std: 0.01315789473684209</td>\n    </tr>\n    <tr>\n      <th>42</th>\n      <td>SVC(C=201, kernel='poly')</td>\n      <td>Kernel: poly</td>\n      <td>0.609044</td>\n      <td>0.561792</td>\n      <td>0.552632</td>\n      <td>m: 0.6090441621294616 std: 0.04007864488808227</td>\n      <td>m: 0.5617918313570488 std: 0.013306982872200224</td>\n      <td>m: 0.5526315789473684 std: 0.0</td>\n    </tr>\n    <tr>\n      <th>46</th>\n      <td>SVC(C=201, gamma='auto', kernel='poly')</td>\n      <td>Kernel: poly</td>\n      <td>0.609044</td>\n      <td>0.561792</td>\n      <td>0.552632</td>\n      <td>m: 0.6090441621294616 std: 0.04007864488808227</td>\n      <td>m: 0.5617918313570488 std: 0.013306982872200224</td>\n      <td>m: 0.5526315789473684 std: 0.0</td>\n    </tr>\n    <tr>\n      <th>45</th>\n      <td>SVC(C=101, gamma='auto', kernel='poly')</td>\n      <td>Kernel: poly</td>\n      <td>0.609044</td>\n      <td>0.561792</td>\n      <td>0.552632</td>\n      <td>m: 0.6090441621294616 std: 0.04007864488808227</td>\n      <td>m: 0.5617918313570488 std: 0.013306982872200224</td>\n      <td>m: 0.5526315789473684 std: 0.0</td>\n    </tr>\n    <tr>\n      <th>43</th>\n      <td>SVC(C=301, kernel='poly')</td>\n      <td>Kernel: poly</td>\n      <td>0.609044</td>\n      <td>0.561792</td>\n      <td>0.552632</td>\n      <td>m: 0.6090441621294616 std: 0.04007864488808227</td>\n      <td>m: 0.5617918313570488 std: 0.013306982872200224</td>\n      <td>m: 0.5526315789473684 std: 0.0</td>\n    </tr>\n    <tr>\n      <th>16</th>\n      <td>SVC(C=1, kernel='sigmoid')</td>\n      <td>Kernel: sigmoid</td>\n      <td>0.609044</td>\n      <td>0.558293</td>\n      <td>0.550658</td>\n      <td>m: 0.6090441621294616 std: 0.04007864488808227</td>\n      <td>m: 0.5582931256318353 std: 0.021754664093373732</td>\n      <td>m: 0.5506578947368421 std: 0.03750000000000003</td>\n    </tr>\n    <tr>\n      <th>41</th>\n      <td>SVC(C=101, kernel='poly')</td>\n      <td>Kernel: poly</td>\n      <td>0.609044</td>\n      <td>0.561792</td>\n      <td>0.552632</td>\n      <td>m: 0.6090441621294616 std: 0.04007864488808227</td>\n      <td>m: 0.5617918313570488 std: 0.013306982872200224</td>\n      <td>m: 0.5526315789473684 std: 0.0</td>\n    </tr>\n    <tr>\n      <th>40</th>\n      <td>SVC(C=1, kernel='poly')</td>\n      <td>Kernel: poly</td>\n      <td>0.609044</td>\n      <td>0.561792</td>\n      <td>0.552632</td>\n      <td>m: 0.6090441621294616 std: 0.04007864488808227</td>\n      <td>m: 0.5617918313570488 std: 0.013306982872200224</td>\n      <td>m: 0.5526315789473684 std: 0.0</td>\n    </tr>\n    <tr>\n      <th>47</th>\n      <td>SVC(C=301, gamma='auto', kernel='poly')</td>\n      <td>Kernel: poly</td>\n      <td>0.609044</td>\n      <td>0.561792</td>\n      <td>0.552632</td>\n      <td>m: 0.6090441621294616 std: 0.04007864488808227</td>\n      <td>m: 0.5617918313570488 std: 0.013306982872200224</td>\n      <td>m: 0.5526315789473684 std: 0.0</td>\n    </tr>\n    <tr>\n      <th>35</th>\n      <td>SVC(C=301, gamma='auto')</td>\n      <td>Kernel: rbf</td>\n      <td>0.591349</td>\n      <td>0.530637</td>\n      <td>0.532895</td>\n      <td>m: 0.5913490623109497 std: 0.005142165759225659</td>\n      <td>m: 0.5306372549019608 std: 0.030637254901960786</td>\n      <td>m: 0.5328947368421053 std: 0.032894736842105254</td>\n    </tr>\n    <tr>\n      <th>34</th>\n      <td>SVC(C=201, gamma='auto')</td>\n      <td>Kernel: rbf</td>\n      <td>0.591349</td>\n      <td>0.530637</td>\n      <td>0.532895</td>\n      <td>m: 0.5913490623109497 std: 0.005142165759225659</td>\n      <td>m: 0.5306372549019608 std: 0.030637254901960786</td>\n      <td>m: 0.5328947368421053 std: 0.032894736842105254</td>\n    </tr>\n    <tr>\n      <th>33</th>\n      <td>SVC(C=101, gamma='auto')</td>\n      <td>Kernel: rbf</td>\n      <td>0.591349</td>\n      <td>0.530637</td>\n      <td>0.532895</td>\n      <td>m: 0.5913490623109497 std: 0.005142165759225659</td>\n      <td>m: 0.5306372549019608 std: 0.030637254901960786</td>\n      <td>m: 0.5328947368421053 std: 0.032894736842105254</td>\n    </tr>\n  </tbody>\n</table>\n</div>"
     },
     "metadata": {},
     "output_type": "display_data"
    },
    {
     "data": {
      "text/plain": "classifier              SVC(C=301, gamma=0.001, kernel='sigmoid')\narguments                                         Kernel: sigmoid\nmean_accuracy                                            0.669994\nmean_precision                                           0.627457\nmean_recall                                              0.606579\naccuracy          m: 0.6699939503932244 std: 0.049304295220810646\nprecision           m: 0.627457264957265 std: 0.05523504273504276\nrecall             m: 0.6065789473684211 std: 0.03815789473684211\nName: 15, dtype: object"
     },
     "metadata": {},
     "output_type": "display_data"
    }
   ],
   "source": [
    "svm_results = calculate_svm(votingDataLearn[votingDataLearn.columns[2:17]],\n",
    "                            votingDataLearn[votingDataLearn.columns[1]])\n",
    "overall_results_vote.extend(svm_results)\n",
    "\n",
    "print_results(svm_results, \"mean_accuracy\")"
   ],
   "metadata": {
    "collapsed": false,
    "pycharm": {
     "name": "#%%\n"
    }
   }
  },
  {
   "cell_type": "markdown",
   "source": [
    "### Overall Results for Congressional Vote"
   ],
   "metadata": {
    "collapsed": false
   }
  },
  {
   "cell_type": "code",
   "execution_count": 13,
   "outputs": [
    {
     "data": {
      "text/plain": "'Results'"
     },
     "metadata": {},
     "output_type": "display_data"
    },
    {
     "data": {
      "text/plain": "                    classifier        arguments  mean_accuracy  \\\n18    CategoricalNB(alpha=9.1)      Alpha = 9.1       0.696461   \n17    CategoricalNB(alpha=8.1)      Alpha = 8.1       0.696461   \n16    CategoricalNB(alpha=7.1)      Alpha = 7.1       0.696461   \n15    CategoricalNB(alpha=6.1)      Alpha = 6.1       0.696461   \n14    CategoricalNB(alpha=5.1)      Alpha = 5.1       0.696461   \n..                         ...              ...            ...   \n80     SVC(C=1, kernel='poly')     Kernel: poly       0.609044   \n56  SVC(C=1, kernel='sigmoid')  Kernel: sigmoid       0.609044   \n74    SVC(C=201, gamma='auto')      Kernel: rbf       0.591349   \n73    SVC(C=101, gamma='auto')      Kernel: rbf       0.591349   \n75    SVC(C=301, gamma='auto')      Kernel: rbf       0.591349   \n\n    mean_precision  mean_recall  \\\n18        0.678174     0.682895   \n17        0.678174     0.682895   \n16        0.678174     0.682895   \n15        0.678174     0.682895   \n14        0.678174     0.682895   \n..             ...          ...   \n80        0.561792     0.552632   \n56        0.558293     0.550658   \n74        0.530637     0.532895   \n73        0.530637     0.532895   \n75        0.530637     0.532895   \n\n                                           accuracy  \\\n18   m: 0.6964609800362976 std: 0.09301270417422869   \n17   m: 0.6964609800362976 std: 0.09301270417422869   \n16   m: 0.6964609800362976 std: 0.09301270417422869   \n15   m: 0.6964609800362976 std: 0.09301270417422869   \n14   m: 0.6964609800362976 std: 0.09301270417422869   \n..                                              ...   \n80   m: 0.6090441621294616 std: 0.04007864488808227   \n56   m: 0.6090441621294616 std: 0.04007864488808227   \n74  m: 0.5913490623109497 std: 0.005142165759225659   \n73  m: 0.5913490623109497 std: 0.005142165759225659   \n75  m: 0.5913490623109497 std: 0.005142165759225659   \n\n                                          precision  \\\n18   m: 0.6781739294472741 std: 0.08498396528956798   \n17   m: 0.6781739294472741 std: 0.08498396528956798   \n16   m: 0.6781739294472741 std: 0.08498396528956798   \n15   m: 0.6781739294472741 std: 0.08498396528956798   \n14   m: 0.6781739294472741 std: 0.08498396528956798   \n..                                              ...   \n80  m: 0.5617918313570488 std: 0.013306982872200224   \n56  m: 0.5582931256318353 std: 0.021754664093373732   \n74  m: 0.5306372549019608 std: 0.030637254901960786   \n73  m: 0.5306372549019608 std: 0.030637254901960786   \n75  m: 0.5306372549019608 std: 0.030637254901960786   \n\n                                             recall  \n18   m: 0.6828947368421052 std: 0.08026315789473681  \n17   m: 0.6828947368421052 std: 0.08026315789473681  \n16   m: 0.6828947368421052 std: 0.08026315789473681  \n15   m: 0.6828947368421052 std: 0.08026315789473681  \n14   m: 0.6828947368421052 std: 0.08026315789473681  \n..                                              ...  \n80                   m: 0.5526315789473684 std: 0.0  \n56   m: 0.5506578947368421 std: 0.03750000000000003  \n74  m: 0.5328947368421053 std: 0.032894736842105254  \n73  m: 0.5328947368421053 std: 0.032894736842105254  \n75  m: 0.5328947368421053 std: 0.032894736842105254  \n\n[88 rows x 8 columns]",
      "text/html": "<div>\n<style scoped>\n    .dataframe tbody tr th:only-of-type {\n        vertical-align: middle;\n    }\n\n    .dataframe tbody tr th {\n        vertical-align: top;\n    }\n\n    .dataframe thead th {\n        text-align: right;\n    }\n</style>\n<table border=\"1\" class=\"dataframe\">\n  <thead>\n    <tr style=\"text-align: right;\">\n      <th></th>\n      <th>classifier</th>\n      <th>arguments</th>\n      <th>mean_accuracy</th>\n      <th>mean_precision</th>\n      <th>mean_recall</th>\n      <th>accuracy</th>\n      <th>precision</th>\n      <th>recall</th>\n    </tr>\n  </thead>\n  <tbody>\n    <tr>\n      <th>18</th>\n      <td>CategoricalNB(alpha=9.1)</td>\n      <td>Alpha = 9.1</td>\n      <td>0.696461</td>\n      <td>0.678174</td>\n      <td>0.682895</td>\n      <td>m: 0.6964609800362976 std: 0.09301270417422869</td>\n      <td>m: 0.6781739294472741 std: 0.08498396528956798</td>\n      <td>m: 0.6828947368421052 std: 0.08026315789473681</td>\n    </tr>\n    <tr>\n      <th>17</th>\n      <td>CategoricalNB(alpha=8.1)</td>\n      <td>Alpha = 8.1</td>\n      <td>0.696461</td>\n      <td>0.678174</td>\n      <td>0.682895</td>\n      <td>m: 0.6964609800362976 std: 0.09301270417422869</td>\n      <td>m: 0.6781739294472741 std: 0.08498396528956798</td>\n      <td>m: 0.6828947368421052 std: 0.08026315789473681</td>\n    </tr>\n    <tr>\n      <th>16</th>\n      <td>CategoricalNB(alpha=7.1)</td>\n      <td>Alpha = 7.1</td>\n      <td>0.696461</td>\n      <td>0.678174</td>\n      <td>0.682895</td>\n      <td>m: 0.6964609800362976 std: 0.09301270417422869</td>\n      <td>m: 0.6781739294472741 std: 0.08498396528956798</td>\n      <td>m: 0.6828947368421052 std: 0.08026315789473681</td>\n    </tr>\n    <tr>\n      <th>15</th>\n      <td>CategoricalNB(alpha=6.1)</td>\n      <td>Alpha = 6.1</td>\n      <td>0.696461</td>\n      <td>0.678174</td>\n      <td>0.682895</td>\n      <td>m: 0.6964609800362976 std: 0.09301270417422869</td>\n      <td>m: 0.6781739294472741 std: 0.08498396528956798</td>\n      <td>m: 0.6828947368421052 std: 0.08026315789473681</td>\n    </tr>\n    <tr>\n      <th>14</th>\n      <td>CategoricalNB(alpha=5.1)</td>\n      <td>Alpha = 5.1</td>\n      <td>0.696461</td>\n      <td>0.678174</td>\n      <td>0.682895</td>\n      <td>m: 0.6964609800362976 std: 0.09301270417422869</td>\n      <td>m: 0.6781739294472741 std: 0.08498396528956798</td>\n      <td>m: 0.6828947368421052 std: 0.08026315789473681</td>\n    </tr>\n    <tr>\n      <th>...</th>\n      <td>...</td>\n      <td>...</td>\n      <td>...</td>\n      <td>...</td>\n      <td>...</td>\n      <td>...</td>\n      <td>...</td>\n      <td>...</td>\n    </tr>\n    <tr>\n      <th>80</th>\n      <td>SVC(C=1, kernel='poly')</td>\n      <td>Kernel: poly</td>\n      <td>0.609044</td>\n      <td>0.561792</td>\n      <td>0.552632</td>\n      <td>m: 0.6090441621294616 std: 0.04007864488808227</td>\n      <td>m: 0.5617918313570488 std: 0.013306982872200224</td>\n      <td>m: 0.5526315789473684 std: 0.0</td>\n    </tr>\n    <tr>\n      <th>56</th>\n      <td>SVC(C=1, kernel='sigmoid')</td>\n      <td>Kernel: sigmoid</td>\n      <td>0.609044</td>\n      <td>0.558293</td>\n      <td>0.550658</td>\n      <td>m: 0.6090441621294616 std: 0.04007864488808227</td>\n      <td>m: 0.5582931256318353 std: 0.021754664093373732</td>\n      <td>m: 0.5506578947368421 std: 0.03750000000000003</td>\n    </tr>\n    <tr>\n      <th>74</th>\n      <td>SVC(C=201, gamma='auto')</td>\n      <td>Kernel: rbf</td>\n      <td>0.591349</td>\n      <td>0.530637</td>\n      <td>0.532895</td>\n      <td>m: 0.5913490623109497 std: 0.005142165759225659</td>\n      <td>m: 0.5306372549019608 std: 0.030637254901960786</td>\n      <td>m: 0.5328947368421053 std: 0.032894736842105254</td>\n    </tr>\n    <tr>\n      <th>73</th>\n      <td>SVC(C=101, gamma='auto')</td>\n      <td>Kernel: rbf</td>\n      <td>0.591349</td>\n      <td>0.530637</td>\n      <td>0.532895</td>\n      <td>m: 0.5913490623109497 std: 0.005142165759225659</td>\n      <td>m: 0.5306372549019608 std: 0.030637254901960786</td>\n      <td>m: 0.5328947368421053 std: 0.032894736842105254</td>\n    </tr>\n    <tr>\n      <th>75</th>\n      <td>SVC(C=301, gamma='auto')</td>\n      <td>Kernel: rbf</td>\n      <td>0.591349</td>\n      <td>0.530637</td>\n      <td>0.532895</td>\n      <td>m: 0.5913490623109497 std: 0.005142165759225659</td>\n      <td>m: 0.5306372549019608 std: 0.030637254901960786</td>\n      <td>m: 0.5328947368421053 std: 0.032894736842105254</td>\n    </tr>\n  </tbody>\n</table>\n<p>88 rows × 8 columns</p>\n</div>"
     },
     "metadata": {},
     "output_type": "display_data"
    },
    {
     "data": {
      "text/plain": "classifier                              CategoricalNB(alpha=9.1)\narguments                                            Alpha = 9.1\nmean_accuracy                                           0.696461\nmean_precision                                          0.678174\nmean_recall                                             0.682895\naccuracy          m: 0.6964609800362976 std: 0.09301270417422869\nprecision         m: 0.6781739294472741 std: 0.08498396528956798\nrecall            m: 0.6828947368421052 std: 0.08026315789473681\nName: 18, dtype: object"
     },
     "metadata": {},
     "output_type": "display_data"
    }
   ],
   "source": [
    "print_results(overall_results_vote, \"mean_accuracy\")"
   ],
   "metadata": {
    "collapsed": false,
    "pycharm": {
     "name": "#%%\n"
    }
   }
  },
  {
   "cell_type": "markdown",
   "metadata": {
    "collapsed": true,
    "pycharm": {
     "name": "#%% md\n"
    }
   },
   "source": [
    "## Amazon"
   ]
  },
  {
   "cell_type": "code",
   "execution_count": 14,
   "outputs": [
    {
     "data": {
      "text/plain": "'Original Data'"
     },
     "metadata": {},
     "output_type": "display_data"
    },
    {
     "data": {
      "text/plain": "      ID  V1  V2  V3  V4  V5  V6  V7  V8  V9  ...  V9992  V9993  V9994  V9995  \\\n0      0   9   5   5   9   7   0   8   7   1  ...      0      1      0      1   \n1      1  11   9  15  15   5  11  10   1   5  ...      0      0      0      0   \n2      2  11  10  13  12   6   5   0   3   1  ...      0      0      0      0   \n3      3  18   9   7   8   8   7  12   6   7  ...      0      1      0      0   \n4      4  11   7  10  11   4   5   1   8   4  ...      0      0      0      0   \n..   ...  ..  ..  ..  ..  ..  ..  ..  ..  ..  ...    ...    ...    ...    ...   \n745  745   5   5   8   2   8   0   5   1   2  ...      1      0      0      0   \n746  746  22  13   8  14   8  11   3   6   7  ...      6      0      2      0   \n747  747  10   3   5   5   7   1  14   2   6  ...      0      0      4      1   \n748  748   9  13   8   5  11   9   9   3   3  ...      0      0      0      1   \n749  749  12   5   8   4   7   5   0   3   4  ...      0      0      4      0   \n\n     V9996  V9997  V9998  V9999  V10000        Class  \n0        0      0      0      0       2        Power  \n1        0      0      0      0       0       Goonan  \n2        0      0      0      1       0      Merritt  \n3        0      1      0      0       1       Goonan  \n4        0      1      0      0       3         Corn  \n..     ...    ...    ...    ...     ...          ...  \n745      0      0      0      0       0      Chachra  \n746      0      2      0      0       0     Morrison  \n747      0      0      2      0       0      Sherwin  \n748      0      0      0      0       0  Blankenship  \n749      1      0      0      0       0     Davisson  \n\n[750 rows x 10002 columns]",
      "text/html": "<div>\n<style scoped>\n    .dataframe tbody tr th:only-of-type {\n        vertical-align: middle;\n    }\n\n    .dataframe tbody tr th {\n        vertical-align: top;\n    }\n\n    .dataframe thead th {\n        text-align: right;\n    }\n</style>\n<table border=\"1\" class=\"dataframe\">\n  <thead>\n    <tr style=\"text-align: right;\">\n      <th></th>\n      <th>ID</th>\n      <th>V1</th>\n      <th>V2</th>\n      <th>V3</th>\n      <th>V4</th>\n      <th>V5</th>\n      <th>V6</th>\n      <th>V7</th>\n      <th>V8</th>\n      <th>V9</th>\n      <th>...</th>\n      <th>V9992</th>\n      <th>V9993</th>\n      <th>V9994</th>\n      <th>V9995</th>\n      <th>V9996</th>\n      <th>V9997</th>\n      <th>V9998</th>\n      <th>V9999</th>\n      <th>V10000</th>\n      <th>Class</th>\n    </tr>\n  </thead>\n  <tbody>\n    <tr>\n      <th>0</th>\n      <td>0</td>\n      <td>9</td>\n      <td>5</td>\n      <td>5</td>\n      <td>9</td>\n      <td>7</td>\n      <td>0</td>\n      <td>8</td>\n      <td>7</td>\n      <td>1</td>\n      <td>...</td>\n      <td>0</td>\n      <td>1</td>\n      <td>0</td>\n      <td>1</td>\n      <td>0</td>\n      <td>0</td>\n      <td>0</td>\n      <td>0</td>\n      <td>2</td>\n      <td>Power</td>\n    </tr>\n    <tr>\n      <th>1</th>\n      <td>1</td>\n      <td>11</td>\n      <td>9</td>\n      <td>15</td>\n      <td>15</td>\n      <td>5</td>\n      <td>11</td>\n      <td>10</td>\n      <td>1</td>\n      <td>5</td>\n      <td>...</td>\n      <td>0</td>\n      <td>0</td>\n      <td>0</td>\n      <td>0</td>\n      <td>0</td>\n      <td>0</td>\n      <td>0</td>\n      <td>0</td>\n      <td>0</td>\n      <td>Goonan</td>\n    </tr>\n    <tr>\n      <th>2</th>\n      <td>2</td>\n      <td>11</td>\n      <td>10</td>\n      <td>13</td>\n      <td>12</td>\n      <td>6</td>\n      <td>5</td>\n      <td>0</td>\n      <td>3</td>\n      <td>1</td>\n      <td>...</td>\n      <td>0</td>\n      <td>0</td>\n      <td>0</td>\n      <td>0</td>\n      <td>0</td>\n      <td>0</td>\n      <td>0</td>\n      <td>1</td>\n      <td>0</td>\n      <td>Merritt</td>\n    </tr>\n    <tr>\n      <th>3</th>\n      <td>3</td>\n      <td>18</td>\n      <td>9</td>\n      <td>7</td>\n      <td>8</td>\n      <td>8</td>\n      <td>7</td>\n      <td>12</td>\n      <td>6</td>\n      <td>7</td>\n      <td>...</td>\n      <td>0</td>\n      <td>1</td>\n      <td>0</td>\n      <td>0</td>\n      <td>0</td>\n      <td>1</td>\n      <td>0</td>\n      <td>0</td>\n      <td>1</td>\n      <td>Goonan</td>\n    </tr>\n    <tr>\n      <th>4</th>\n      <td>4</td>\n      <td>11</td>\n      <td>7</td>\n      <td>10</td>\n      <td>11</td>\n      <td>4</td>\n      <td>5</td>\n      <td>1</td>\n      <td>8</td>\n      <td>4</td>\n      <td>...</td>\n      <td>0</td>\n      <td>0</td>\n      <td>0</td>\n      <td>0</td>\n      <td>0</td>\n      <td>1</td>\n      <td>0</td>\n      <td>0</td>\n      <td>3</td>\n      <td>Corn</td>\n    </tr>\n    <tr>\n      <th>...</th>\n      <td>...</td>\n      <td>...</td>\n      <td>...</td>\n      <td>...</td>\n      <td>...</td>\n      <td>...</td>\n      <td>...</td>\n      <td>...</td>\n      <td>...</td>\n      <td>...</td>\n      <td>...</td>\n      <td>...</td>\n      <td>...</td>\n      <td>...</td>\n      <td>...</td>\n      <td>...</td>\n      <td>...</td>\n      <td>...</td>\n      <td>...</td>\n      <td>...</td>\n      <td>...</td>\n    </tr>\n    <tr>\n      <th>745</th>\n      <td>745</td>\n      <td>5</td>\n      <td>5</td>\n      <td>8</td>\n      <td>2</td>\n      <td>8</td>\n      <td>0</td>\n      <td>5</td>\n      <td>1</td>\n      <td>2</td>\n      <td>...</td>\n      <td>1</td>\n      <td>0</td>\n      <td>0</td>\n      <td>0</td>\n      <td>0</td>\n      <td>0</td>\n      <td>0</td>\n      <td>0</td>\n      <td>0</td>\n      <td>Chachra</td>\n    </tr>\n    <tr>\n      <th>746</th>\n      <td>746</td>\n      <td>22</td>\n      <td>13</td>\n      <td>8</td>\n      <td>14</td>\n      <td>8</td>\n      <td>11</td>\n      <td>3</td>\n      <td>6</td>\n      <td>7</td>\n      <td>...</td>\n      <td>6</td>\n      <td>0</td>\n      <td>2</td>\n      <td>0</td>\n      <td>0</td>\n      <td>2</td>\n      <td>0</td>\n      <td>0</td>\n      <td>0</td>\n      <td>Morrison</td>\n    </tr>\n    <tr>\n      <th>747</th>\n      <td>747</td>\n      <td>10</td>\n      <td>3</td>\n      <td>5</td>\n      <td>5</td>\n      <td>7</td>\n      <td>1</td>\n      <td>14</td>\n      <td>2</td>\n      <td>6</td>\n      <td>...</td>\n      <td>0</td>\n      <td>0</td>\n      <td>4</td>\n      <td>1</td>\n      <td>0</td>\n      <td>0</td>\n      <td>2</td>\n      <td>0</td>\n      <td>0</td>\n      <td>Sherwin</td>\n    </tr>\n    <tr>\n      <th>748</th>\n      <td>748</td>\n      <td>9</td>\n      <td>13</td>\n      <td>8</td>\n      <td>5</td>\n      <td>11</td>\n      <td>9</td>\n      <td>9</td>\n      <td>3</td>\n      <td>3</td>\n      <td>...</td>\n      <td>0</td>\n      <td>0</td>\n      <td>0</td>\n      <td>1</td>\n      <td>0</td>\n      <td>0</td>\n      <td>0</td>\n      <td>0</td>\n      <td>0</td>\n      <td>Blankenship</td>\n    </tr>\n    <tr>\n      <th>749</th>\n      <td>749</td>\n      <td>12</td>\n      <td>5</td>\n      <td>8</td>\n      <td>4</td>\n      <td>7</td>\n      <td>5</td>\n      <td>0</td>\n      <td>3</td>\n      <td>4</td>\n      <td>...</td>\n      <td>0</td>\n      <td>0</td>\n      <td>4</td>\n      <td>0</td>\n      <td>1</td>\n      <td>0</td>\n      <td>0</td>\n      <td>0</td>\n      <td>0</td>\n      <td>Davisson</td>\n    </tr>\n  </tbody>\n</table>\n<p>750 rows × 10002 columns</p>\n</div>"
     },
     "metadata": {},
     "output_type": "display_data"
    },
    {
     "data": {
      "text/plain": "'Recoded Data'"
     },
     "metadata": {},
     "output_type": "display_data"
    },
    {
     "data": {
      "text/plain": "      ID  V1  V2  V3  V4  V5  V6  V7  V8  V9  ...  V9992  V9993  V9994  V9995  \\\n0      0   9   5   5   9   7   0   8   7   1  ...      0      1      0      1   \n1      1  11   9  15  15   5  11  10   1   5  ...      0      0      0      0   \n2      2  11  10  13  12   6   5   0   3   1  ...      0      0      0      0   \n3      3  18   9   7   8   8   7  12   6   7  ...      0      1      0      0   \n4      4  11   7  10  11   4   5   1   8   4  ...      0      0      0      0   \n..   ...  ..  ..  ..  ..  ..  ..  ..  ..  ..  ...    ...    ...    ...    ...   \n745  745   5   5   8   2   8   0   5   1   2  ...      1      0      0      0   \n746  746  22  13   8  14   8  11   3   6   7  ...      6      0      2      0   \n747  747  10   3   5   5   7   1  14   2   6  ...      0      0      4      1   \n748  748   9  13   8   5  11   9   9   3   3  ...      0      0      0      1   \n749  749  12   5   8   4   7   5   0   3   4  ...      0      0      4      0   \n\n     V9996  V9997  V9998  V9999  V10000  Class  \n0        0      0      0      0       2     40  \n1        0      0      0      0       0     19  \n2        0      0      0      1       0     33  \n3        0      1      0      0       1     19  \n4        0      1      0      0       3     14  \n..     ...    ...    ...    ...     ...    ...  \n745      0      0      0      0       0      9  \n746      0      2      0      0       0     36  \n747      0      0      2      0       0     44  \n748      0      0      0      0       0      3  \n749      1      0      0      0       0     16  \n\n[750 rows x 10002 columns]",
      "text/html": "<div>\n<style scoped>\n    .dataframe tbody tr th:only-of-type {\n        vertical-align: middle;\n    }\n\n    .dataframe tbody tr th {\n        vertical-align: top;\n    }\n\n    .dataframe thead th {\n        text-align: right;\n    }\n</style>\n<table border=\"1\" class=\"dataframe\">\n  <thead>\n    <tr style=\"text-align: right;\">\n      <th></th>\n      <th>ID</th>\n      <th>V1</th>\n      <th>V2</th>\n      <th>V3</th>\n      <th>V4</th>\n      <th>V5</th>\n      <th>V6</th>\n      <th>V7</th>\n      <th>V8</th>\n      <th>V9</th>\n      <th>...</th>\n      <th>V9992</th>\n      <th>V9993</th>\n      <th>V9994</th>\n      <th>V9995</th>\n      <th>V9996</th>\n      <th>V9997</th>\n      <th>V9998</th>\n      <th>V9999</th>\n      <th>V10000</th>\n      <th>Class</th>\n    </tr>\n  </thead>\n  <tbody>\n    <tr>\n      <th>0</th>\n      <td>0</td>\n      <td>9</td>\n      <td>5</td>\n      <td>5</td>\n      <td>9</td>\n      <td>7</td>\n      <td>0</td>\n      <td>8</td>\n      <td>7</td>\n      <td>1</td>\n      <td>...</td>\n      <td>0</td>\n      <td>1</td>\n      <td>0</td>\n      <td>1</td>\n      <td>0</td>\n      <td>0</td>\n      <td>0</td>\n      <td>0</td>\n      <td>2</td>\n      <td>40</td>\n    </tr>\n    <tr>\n      <th>1</th>\n      <td>1</td>\n      <td>11</td>\n      <td>9</td>\n      <td>15</td>\n      <td>15</td>\n      <td>5</td>\n      <td>11</td>\n      <td>10</td>\n      <td>1</td>\n      <td>5</td>\n      <td>...</td>\n      <td>0</td>\n      <td>0</td>\n      <td>0</td>\n      <td>0</td>\n      <td>0</td>\n      <td>0</td>\n      <td>0</td>\n      <td>0</td>\n      <td>0</td>\n      <td>19</td>\n    </tr>\n    <tr>\n      <th>2</th>\n      <td>2</td>\n      <td>11</td>\n      <td>10</td>\n      <td>13</td>\n      <td>12</td>\n      <td>6</td>\n      <td>5</td>\n      <td>0</td>\n      <td>3</td>\n      <td>1</td>\n      <td>...</td>\n      <td>0</td>\n      <td>0</td>\n      <td>0</td>\n      <td>0</td>\n      <td>0</td>\n      <td>0</td>\n      <td>0</td>\n      <td>1</td>\n      <td>0</td>\n      <td>33</td>\n    </tr>\n    <tr>\n      <th>3</th>\n      <td>3</td>\n      <td>18</td>\n      <td>9</td>\n      <td>7</td>\n      <td>8</td>\n      <td>8</td>\n      <td>7</td>\n      <td>12</td>\n      <td>6</td>\n      <td>7</td>\n      <td>...</td>\n      <td>0</td>\n      <td>1</td>\n      <td>0</td>\n      <td>0</td>\n      <td>0</td>\n      <td>1</td>\n      <td>0</td>\n      <td>0</td>\n      <td>1</td>\n      <td>19</td>\n    </tr>\n    <tr>\n      <th>4</th>\n      <td>4</td>\n      <td>11</td>\n      <td>7</td>\n      <td>10</td>\n      <td>11</td>\n      <td>4</td>\n      <td>5</td>\n      <td>1</td>\n      <td>8</td>\n      <td>4</td>\n      <td>...</td>\n      <td>0</td>\n      <td>0</td>\n      <td>0</td>\n      <td>0</td>\n      <td>0</td>\n      <td>1</td>\n      <td>0</td>\n      <td>0</td>\n      <td>3</td>\n      <td>14</td>\n    </tr>\n    <tr>\n      <th>...</th>\n      <td>...</td>\n      <td>...</td>\n      <td>...</td>\n      <td>...</td>\n      <td>...</td>\n      <td>...</td>\n      <td>...</td>\n      <td>...</td>\n      <td>...</td>\n      <td>...</td>\n      <td>...</td>\n      <td>...</td>\n      <td>...</td>\n      <td>...</td>\n      <td>...</td>\n      <td>...</td>\n      <td>...</td>\n      <td>...</td>\n      <td>...</td>\n      <td>...</td>\n      <td>...</td>\n    </tr>\n    <tr>\n      <th>745</th>\n      <td>745</td>\n      <td>5</td>\n      <td>5</td>\n      <td>8</td>\n      <td>2</td>\n      <td>8</td>\n      <td>0</td>\n      <td>5</td>\n      <td>1</td>\n      <td>2</td>\n      <td>...</td>\n      <td>1</td>\n      <td>0</td>\n      <td>0</td>\n      <td>0</td>\n      <td>0</td>\n      <td>0</td>\n      <td>0</td>\n      <td>0</td>\n      <td>0</td>\n      <td>9</td>\n    </tr>\n    <tr>\n      <th>746</th>\n      <td>746</td>\n      <td>22</td>\n      <td>13</td>\n      <td>8</td>\n      <td>14</td>\n      <td>8</td>\n      <td>11</td>\n      <td>3</td>\n      <td>6</td>\n      <td>7</td>\n      <td>...</td>\n      <td>6</td>\n      <td>0</td>\n      <td>2</td>\n      <td>0</td>\n      <td>0</td>\n      <td>2</td>\n      <td>0</td>\n      <td>0</td>\n      <td>0</td>\n      <td>36</td>\n    </tr>\n    <tr>\n      <th>747</th>\n      <td>747</td>\n      <td>10</td>\n      <td>3</td>\n      <td>5</td>\n      <td>5</td>\n      <td>7</td>\n      <td>1</td>\n      <td>14</td>\n      <td>2</td>\n      <td>6</td>\n      <td>...</td>\n      <td>0</td>\n      <td>0</td>\n      <td>4</td>\n      <td>1</td>\n      <td>0</td>\n      <td>0</td>\n      <td>2</td>\n      <td>0</td>\n      <td>0</td>\n      <td>44</td>\n    </tr>\n    <tr>\n      <th>748</th>\n      <td>748</td>\n      <td>9</td>\n      <td>13</td>\n      <td>8</td>\n      <td>5</td>\n      <td>11</td>\n      <td>9</td>\n      <td>9</td>\n      <td>3</td>\n      <td>3</td>\n      <td>...</td>\n      <td>0</td>\n      <td>0</td>\n      <td>0</td>\n      <td>1</td>\n      <td>0</td>\n      <td>0</td>\n      <td>0</td>\n      <td>0</td>\n      <td>0</td>\n      <td>3</td>\n    </tr>\n    <tr>\n      <th>749</th>\n      <td>749</td>\n      <td>12</td>\n      <td>5</td>\n      <td>8</td>\n      <td>4</td>\n      <td>7</td>\n      <td>5</td>\n      <td>0</td>\n      <td>3</td>\n      <td>4</td>\n      <td>...</td>\n      <td>0</td>\n      <td>0</td>\n      <td>4</td>\n      <td>0</td>\n      <td>1</td>\n      <td>0</td>\n      <td>0</td>\n      <td>0</td>\n      <td>0</td>\n      <td>16</td>\n    </tr>\n  </tbody>\n</table>\n<p>750 rows × 10002 columns</p>\n</div>"
     },
     "metadata": {},
     "output_type": "display_data"
    },
    {
     "data": {
      "text/plain": "'Data: '"
     },
     "metadata": {},
     "output_type": "display_data"
    },
    {
     "data": {
      "text/plain": "     V1  V2  V3  V4  V5  V6  V7  V8  V9  V10  ...  V9991  V9992  V9993  V9994  \\\n0     9   5   5   9   7   0   8   7   1    5  ...      0      0      1      0   \n1    11   9  15  15   5  11  10   1   5    7  ...      0      0      0      0   \n2    11  10  13  12   6   5   0   3   1    1  ...      1      0      0      0   \n3    18   9   7   8   8   7  12   6   7    1  ...      0      0      1      0   \n4    11   7  10  11   4   5   1   8   4    4  ...      0      0      0      0   \n..   ..  ..  ..  ..  ..  ..  ..  ..  ..  ...  ...    ...    ...    ...    ...   \n745   5   5   8   2   8   0   5   1   2    3  ...      0      1      0      0   \n746  22  13   8  14   8  11   3   6   7    6  ...      0      6      0      2   \n747  10   3   5   5   7   1  14   2   6    1  ...      0      0      0      4   \n748   9  13   8   5  11   9   9   3   3    6  ...      0      0      0      0   \n749  12   5   8   4   7   5   0   3   4    4  ...      0      0      0      4   \n\n     V9995  V9996  V9997  V9998  V9999  V10000  \n0        1      0      0      0      0       2  \n1        0      0      0      0      0       0  \n2        0      0      0      0      1       0  \n3        0      0      1      0      0       1  \n4        0      0      1      0      0       3  \n..     ...    ...    ...    ...    ...     ...  \n745      0      0      0      0      0       0  \n746      0      0      2      0      0       0  \n747      1      0      0      2      0       0  \n748      1      0      0      0      0       0  \n749      0      1      0      0      0       0  \n\n[750 rows x 10000 columns]",
      "text/html": "<div>\n<style scoped>\n    .dataframe tbody tr th:only-of-type {\n        vertical-align: middle;\n    }\n\n    .dataframe tbody tr th {\n        vertical-align: top;\n    }\n\n    .dataframe thead th {\n        text-align: right;\n    }\n</style>\n<table border=\"1\" class=\"dataframe\">\n  <thead>\n    <tr style=\"text-align: right;\">\n      <th></th>\n      <th>V1</th>\n      <th>V2</th>\n      <th>V3</th>\n      <th>V4</th>\n      <th>V5</th>\n      <th>V6</th>\n      <th>V7</th>\n      <th>V8</th>\n      <th>V9</th>\n      <th>V10</th>\n      <th>...</th>\n      <th>V9991</th>\n      <th>V9992</th>\n      <th>V9993</th>\n      <th>V9994</th>\n      <th>V9995</th>\n      <th>V9996</th>\n      <th>V9997</th>\n      <th>V9998</th>\n      <th>V9999</th>\n      <th>V10000</th>\n    </tr>\n  </thead>\n  <tbody>\n    <tr>\n      <th>0</th>\n      <td>9</td>\n      <td>5</td>\n      <td>5</td>\n      <td>9</td>\n      <td>7</td>\n      <td>0</td>\n      <td>8</td>\n      <td>7</td>\n      <td>1</td>\n      <td>5</td>\n      <td>...</td>\n      <td>0</td>\n      <td>0</td>\n      <td>1</td>\n      <td>0</td>\n      <td>1</td>\n      <td>0</td>\n      <td>0</td>\n      <td>0</td>\n      <td>0</td>\n      <td>2</td>\n    </tr>\n    <tr>\n      <th>1</th>\n      <td>11</td>\n      <td>9</td>\n      <td>15</td>\n      <td>15</td>\n      <td>5</td>\n      <td>11</td>\n      <td>10</td>\n      <td>1</td>\n      <td>5</td>\n      <td>7</td>\n      <td>...</td>\n      <td>0</td>\n      <td>0</td>\n      <td>0</td>\n      <td>0</td>\n      <td>0</td>\n      <td>0</td>\n      <td>0</td>\n      <td>0</td>\n      <td>0</td>\n      <td>0</td>\n    </tr>\n    <tr>\n      <th>2</th>\n      <td>11</td>\n      <td>10</td>\n      <td>13</td>\n      <td>12</td>\n      <td>6</td>\n      <td>5</td>\n      <td>0</td>\n      <td>3</td>\n      <td>1</td>\n      <td>1</td>\n      <td>...</td>\n      <td>1</td>\n      <td>0</td>\n      <td>0</td>\n      <td>0</td>\n      <td>0</td>\n      <td>0</td>\n      <td>0</td>\n      <td>0</td>\n      <td>1</td>\n      <td>0</td>\n    </tr>\n    <tr>\n      <th>3</th>\n      <td>18</td>\n      <td>9</td>\n      <td>7</td>\n      <td>8</td>\n      <td>8</td>\n      <td>7</td>\n      <td>12</td>\n      <td>6</td>\n      <td>7</td>\n      <td>1</td>\n      <td>...</td>\n      <td>0</td>\n      <td>0</td>\n      <td>1</td>\n      <td>0</td>\n      <td>0</td>\n      <td>0</td>\n      <td>1</td>\n      <td>0</td>\n      <td>0</td>\n      <td>1</td>\n    </tr>\n    <tr>\n      <th>4</th>\n      <td>11</td>\n      <td>7</td>\n      <td>10</td>\n      <td>11</td>\n      <td>4</td>\n      <td>5</td>\n      <td>1</td>\n      <td>8</td>\n      <td>4</td>\n      <td>4</td>\n      <td>...</td>\n      <td>0</td>\n      <td>0</td>\n      <td>0</td>\n      <td>0</td>\n      <td>0</td>\n      <td>0</td>\n      <td>1</td>\n      <td>0</td>\n      <td>0</td>\n      <td>3</td>\n    </tr>\n    <tr>\n      <th>...</th>\n      <td>...</td>\n      <td>...</td>\n      <td>...</td>\n      <td>...</td>\n      <td>...</td>\n      <td>...</td>\n      <td>...</td>\n      <td>...</td>\n      <td>...</td>\n      <td>...</td>\n      <td>...</td>\n      <td>...</td>\n      <td>...</td>\n      <td>...</td>\n      <td>...</td>\n      <td>...</td>\n      <td>...</td>\n      <td>...</td>\n      <td>...</td>\n      <td>...</td>\n      <td>...</td>\n    </tr>\n    <tr>\n      <th>745</th>\n      <td>5</td>\n      <td>5</td>\n      <td>8</td>\n      <td>2</td>\n      <td>8</td>\n      <td>0</td>\n      <td>5</td>\n      <td>1</td>\n      <td>2</td>\n      <td>3</td>\n      <td>...</td>\n      <td>0</td>\n      <td>1</td>\n      <td>0</td>\n      <td>0</td>\n      <td>0</td>\n      <td>0</td>\n      <td>0</td>\n      <td>0</td>\n      <td>0</td>\n      <td>0</td>\n    </tr>\n    <tr>\n      <th>746</th>\n      <td>22</td>\n      <td>13</td>\n      <td>8</td>\n      <td>14</td>\n      <td>8</td>\n      <td>11</td>\n      <td>3</td>\n      <td>6</td>\n      <td>7</td>\n      <td>6</td>\n      <td>...</td>\n      <td>0</td>\n      <td>6</td>\n      <td>0</td>\n      <td>2</td>\n      <td>0</td>\n      <td>0</td>\n      <td>2</td>\n      <td>0</td>\n      <td>0</td>\n      <td>0</td>\n    </tr>\n    <tr>\n      <th>747</th>\n      <td>10</td>\n      <td>3</td>\n      <td>5</td>\n      <td>5</td>\n      <td>7</td>\n      <td>1</td>\n      <td>14</td>\n      <td>2</td>\n      <td>6</td>\n      <td>1</td>\n      <td>...</td>\n      <td>0</td>\n      <td>0</td>\n      <td>0</td>\n      <td>4</td>\n      <td>1</td>\n      <td>0</td>\n      <td>0</td>\n      <td>2</td>\n      <td>0</td>\n      <td>0</td>\n    </tr>\n    <tr>\n      <th>748</th>\n      <td>9</td>\n      <td>13</td>\n      <td>8</td>\n      <td>5</td>\n      <td>11</td>\n      <td>9</td>\n      <td>9</td>\n      <td>3</td>\n      <td>3</td>\n      <td>6</td>\n      <td>...</td>\n      <td>0</td>\n      <td>0</td>\n      <td>0</td>\n      <td>0</td>\n      <td>1</td>\n      <td>0</td>\n      <td>0</td>\n      <td>0</td>\n      <td>0</td>\n      <td>0</td>\n    </tr>\n    <tr>\n      <th>749</th>\n      <td>12</td>\n      <td>5</td>\n      <td>8</td>\n      <td>4</td>\n      <td>7</td>\n      <td>5</td>\n      <td>0</td>\n      <td>3</td>\n      <td>4</td>\n      <td>4</td>\n      <td>...</td>\n      <td>0</td>\n      <td>0</td>\n      <td>0</td>\n      <td>4</td>\n      <td>0</td>\n      <td>1</td>\n      <td>0</td>\n      <td>0</td>\n      <td>0</td>\n      <td>0</td>\n    </tr>\n  </tbody>\n</table>\n<p>750 rows × 10000 columns</p>\n</div>"
     },
     "metadata": {},
     "output_type": "display_data"
    },
    {
     "data": {
      "text/plain": "'Target: '"
     },
     "metadata": {},
     "output_type": "display_data"
    },
    {
     "data": {
      "text/plain": "0      40\n1      19\n2      33\n3      19\n4      14\n       ..\n745     9\n746    36\n747    44\n748     3\n749    16\nName: Class, Length: 750, dtype: category\nCategories (50, int64): [0, 1, 2, 3, ..., 46, 47, 48, 49]"
     },
     "metadata": {},
     "output_type": "display_data"
    }
   ],
   "source": [
    "from sklearn import preprocessing\n",
    "#Read Data\n",
    "amazonDataLearn = pd.read_csv(\"data/amazon/amazon_review_ID.shuf.lrn.csv\")\n",
    "amazonDataSolutionExample = pd.read_csv(\"data/amazon/amazon_review_ID.shuf.sol.ex.csv\")\n",
    "amazonDataTest = pd.read_csv(\"data/amazon/amazon_review_ID.shuf.tes.csv\")\n",
    "display(\"Original Data\", amazonDataLearn)\n",
    "\n",
    "#Recode values\n",
    "#For One Hot Encoding of Class\n",
    "#amazonDataLearn = pd.concat([amazonDataLearn, pd.get_dummies(amazonDataLearn[\"Class\"], prefix='author_',drop_first=False)], axis=1)\n",
    "#amazonDataLearn.drop(['Class'],axis=1, inplace=True)\n",
    "#names_target = amazonDataLearn.loc[:, amazonDataLearn.columns.str.startswith('author_')]\n",
    "#amazonDataLearn[names_target.columns] = amazonDataLearn[names_target.columns].apply(lambda x: x.astype('category'))\n",
    "\n",
    "# For Label Encoding\n",
    "le = preprocessing.LabelEncoder()\n",
    "le.fit(amazonDataLearn['Class'])\n",
    "amazonDataLearn['Class'] = le.transform(amazonDataLearn['Class'])\n",
    "amazonDataLearn['Class'] = amazonDataLearn['Class'].astype('category')\n",
    "\n",
    "names_data = amazonDataLearn.loc[:, amazonDataLearn.columns.str.startswith('V')]\n",
    "#amazonDataLearn[0:10000] = amazonDataLearn[0:10000].apply(lambda x: x.astype('int'))\n",
    "\n",
    "display(\"Recoded Data\", amazonDataLearn)\n",
    "\n",
    "amazon_data = amazonDataLearn[names_data.columns]\n",
    "amazon_target = amazonDataLearn[\"Class\"]\n",
    "\n",
    "display(\"Data: \", amazon_data)\n",
    "display(\"Target: \", amazon_target)"
   ],
   "metadata": {
    "collapsed": false,
    "pycharm": {
     "name": "#%%\n"
    }
   }
  },
  {
   "cell_type": "markdown",
   "source": [
    "### k-NN Calculation - Amazon"
   ],
   "metadata": {
    "collapsed": false,
    "pycharm": {
     "name": "#%% md\n"
    }
   }
  },
  {
   "cell_type": "code",
   "execution_count": 15,
   "outputs": [
    {
     "data": {
      "text/plain": "'Results'"
     },
     "metadata": {},
     "output_type": "display_data"
    },
    {
     "data": {
      "text/plain": "                            classifier arguments  mean_accuracy  \\\n0  KNeighborsClassifier(n_neighbors=1)     N = 1       0.189333   \n8  KNeighborsClassifier(n_neighbors=9)     N = 9       0.181333   \n7  KNeighborsClassifier(n_neighbors=8)     N = 8       0.165333   \n6  KNeighborsClassifier(n_neighbors=7)     N = 7       0.160000   \n1  KNeighborsClassifier(n_neighbors=2)     N = 2       0.158667   \n2  KNeighborsClassifier(n_neighbors=3)     N = 3       0.158667   \n3  KNeighborsClassifier(n_neighbors=4)     N = 4       0.157333   \n4               KNeighborsClassifier()     N = 5       0.152000   \n5  KNeighborsClassifier(n_neighbors=6)     N = 6       0.149333   \n\n   mean_precision  mean_recall  \\\n0        0.221973     0.186298   \n8        0.257977     0.177044   \n7        0.224061     0.161373   \n6        0.215498     0.154357   \n1        0.186586     0.153024   \n2        0.206490     0.153956   \n3        0.219340     0.153440   \n4        0.214569     0.147246   \n5        0.203144     0.143909   \n\n                                            accuracy  \\\n0   m: 0.18933333333333335 std: 0.007999999999999993   \n8                  m: 0.18133333333333335 std: 0.016   \n7   m: 0.16533333333333333 std: 0.010666666666666658   \n6  m: 0.15999999999999998 std: 0.0026666666666666644   \n1  m: 0.15866666666666668 std: 0.0013333333333333391   \n2   m: 0.15866666666666668 std: 0.009333333333333332   \n3  m: 0.15733333333333333 std: 0.0026666666666666644   \n4                 m: 0.152 std: 0.005333333333333329   \n5  m: 0.14933333333333332 std: 0.0026666666666666644   \n\n                                          precision  \\\n0  m: 0.22197284432114153 std: 0.029111542224545345   \n8  m: 0.25797659554105573 std: 0.023272033195189043   \n7   m: 0.22406133544227183 std: 0.02753761882072911   \n6   m: 0.21549759615252975 std: 0.03237130292225168   \n1  m: 0.18658579634160127 std: 0.016517866335590783   \n2  m: 0.20649049339482103 std: 0.038039835924981974   \n3   m: 0.21934005405400625 std: 0.01291024615980206   \n4   m: 0.2145693817754817 std: 0.023454336916958585   \n5  m: 0.20314402311534732 std: 0.015384498598469881   \n\n                                              recall  \n0   m: 0.18629761904761905 std: 0.006607142857142867  \n8    m: 0.17704365079365078 std: 0.01236904761904764  \n7   m: 0.16137301587301586 std: 0.010023809523809518  \n6   m: 0.15435714285714286 std: 0.003880952380952374  \n1    m: 0.1530238095238095 std: 0.001944444444444443  \n2    m: 0.1539563492063492 std: 0.007710317460317459  \n3   m: 0.15344047619047618 std: 0.002861111111111106  \n4   m: 0.14724603174603174 std: 0.006063492063492076  \n5  m: 0.14390873015873012 std: 0.0014563492063491973  ",
      "text/html": "<div>\n<style scoped>\n    .dataframe tbody tr th:only-of-type {\n        vertical-align: middle;\n    }\n\n    .dataframe tbody tr th {\n        vertical-align: top;\n    }\n\n    .dataframe thead th {\n        text-align: right;\n    }\n</style>\n<table border=\"1\" class=\"dataframe\">\n  <thead>\n    <tr style=\"text-align: right;\">\n      <th></th>\n      <th>classifier</th>\n      <th>arguments</th>\n      <th>mean_accuracy</th>\n      <th>mean_precision</th>\n      <th>mean_recall</th>\n      <th>accuracy</th>\n      <th>precision</th>\n      <th>recall</th>\n    </tr>\n  </thead>\n  <tbody>\n    <tr>\n      <th>0</th>\n      <td>KNeighborsClassifier(n_neighbors=1)</td>\n      <td>N = 1</td>\n      <td>0.189333</td>\n      <td>0.221973</td>\n      <td>0.186298</td>\n      <td>m: 0.18933333333333335 std: 0.007999999999999993</td>\n      <td>m: 0.22197284432114153 std: 0.029111542224545345</td>\n      <td>m: 0.18629761904761905 std: 0.006607142857142867</td>\n    </tr>\n    <tr>\n      <th>8</th>\n      <td>KNeighborsClassifier(n_neighbors=9)</td>\n      <td>N = 9</td>\n      <td>0.181333</td>\n      <td>0.257977</td>\n      <td>0.177044</td>\n      <td>m: 0.18133333333333335 std: 0.016</td>\n      <td>m: 0.25797659554105573 std: 0.023272033195189043</td>\n      <td>m: 0.17704365079365078 std: 0.01236904761904764</td>\n    </tr>\n    <tr>\n      <th>7</th>\n      <td>KNeighborsClassifier(n_neighbors=8)</td>\n      <td>N = 8</td>\n      <td>0.165333</td>\n      <td>0.224061</td>\n      <td>0.161373</td>\n      <td>m: 0.16533333333333333 std: 0.010666666666666658</td>\n      <td>m: 0.22406133544227183 std: 0.02753761882072911</td>\n      <td>m: 0.16137301587301586 std: 0.010023809523809518</td>\n    </tr>\n    <tr>\n      <th>6</th>\n      <td>KNeighborsClassifier(n_neighbors=7)</td>\n      <td>N = 7</td>\n      <td>0.160000</td>\n      <td>0.215498</td>\n      <td>0.154357</td>\n      <td>m: 0.15999999999999998 std: 0.0026666666666666644</td>\n      <td>m: 0.21549759615252975 std: 0.03237130292225168</td>\n      <td>m: 0.15435714285714286 std: 0.003880952380952374</td>\n    </tr>\n    <tr>\n      <th>1</th>\n      <td>KNeighborsClassifier(n_neighbors=2)</td>\n      <td>N = 2</td>\n      <td>0.158667</td>\n      <td>0.186586</td>\n      <td>0.153024</td>\n      <td>m: 0.15866666666666668 std: 0.0013333333333333391</td>\n      <td>m: 0.18658579634160127 std: 0.016517866335590783</td>\n      <td>m: 0.1530238095238095 std: 0.001944444444444443</td>\n    </tr>\n    <tr>\n      <th>2</th>\n      <td>KNeighborsClassifier(n_neighbors=3)</td>\n      <td>N = 3</td>\n      <td>0.158667</td>\n      <td>0.206490</td>\n      <td>0.153956</td>\n      <td>m: 0.15866666666666668 std: 0.009333333333333332</td>\n      <td>m: 0.20649049339482103 std: 0.038039835924981974</td>\n      <td>m: 0.1539563492063492 std: 0.007710317460317459</td>\n    </tr>\n    <tr>\n      <th>3</th>\n      <td>KNeighborsClassifier(n_neighbors=4)</td>\n      <td>N = 4</td>\n      <td>0.157333</td>\n      <td>0.219340</td>\n      <td>0.153440</td>\n      <td>m: 0.15733333333333333 std: 0.0026666666666666644</td>\n      <td>m: 0.21934005405400625 std: 0.01291024615980206</td>\n      <td>m: 0.15344047619047618 std: 0.002861111111111106</td>\n    </tr>\n    <tr>\n      <th>4</th>\n      <td>KNeighborsClassifier()</td>\n      <td>N = 5</td>\n      <td>0.152000</td>\n      <td>0.214569</td>\n      <td>0.147246</td>\n      <td>m: 0.152 std: 0.005333333333333329</td>\n      <td>m: 0.2145693817754817 std: 0.023454336916958585</td>\n      <td>m: 0.14724603174603174 std: 0.006063492063492076</td>\n    </tr>\n    <tr>\n      <th>5</th>\n      <td>KNeighborsClassifier(n_neighbors=6)</td>\n      <td>N = 6</td>\n      <td>0.149333</td>\n      <td>0.203144</td>\n      <td>0.143909</td>\n      <td>m: 0.14933333333333332 std: 0.0026666666666666644</td>\n      <td>m: 0.20314402311534732 std: 0.015384498598469881</td>\n      <td>m: 0.14390873015873012 std: 0.0014563492063491973</td>\n    </tr>\n  </tbody>\n</table>\n</div>"
     },
     "metadata": {},
     "output_type": "display_data"
    },
    {
     "data": {
      "text/plain": "classifier                     KNeighborsClassifier(n_neighbors=1)\narguments                                                    N = 1\nmean_accuracy                                             0.189333\nmean_precision                                            0.221973\nmean_recall                                               0.186298\naccuracy          m: 0.18933333333333335 std: 0.007999999999999993\nprecision         m: 0.22197284432114153 std: 0.029111542224545345\nrecall            m: 0.18629761904761905 std: 0.006607142857142867\nName: 0, dtype: object"
     },
     "metadata": {},
     "output_type": "display_data"
    }
   ],
   "source": [
    "knn_results_amazon = calculate_knn(amazon_data,\n",
    "                                   amazon_target)\n",
    "overall_results_amazon.extend(knn_results)\n",
    "\n",
    "print_results(knn_results_amazon, \"mean_accuracy\")"
   ],
   "metadata": {
    "collapsed": false,
    "pycharm": {
     "name": "#%%\n"
    }
   }
  },
  {
   "cell_type": "markdown",
   "source": [
    "### Perceptron - Amazon"
   ],
   "metadata": {
    "collapsed": false
   }
  },
  {
   "cell_type": "code",
   "execution_count": 16,
   "outputs": [
    {
     "data": {
      "text/plain": "'Results'"
     },
     "metadata": {},
     "output_type": "display_data"
    },
    {
     "data": {
      "text/plain": "     classifier            arguments  mean_accuracy  mean_precision  \\\n0  Perceptron()  No additional args.           0.28        0.400806   \n\n   mean_recall                            accuracy  \\\n0      0.27125  m: 0.28 std: 0.0026666666666666783   \n\n                                        precision  \\\n0  m: 0.4008061314854301 std: 0.05513438765878295   \n\n                                  recall  \n0  m: 0.27125 std: 0.0009484126984126984  ",
      "text/html": "<div>\n<style scoped>\n    .dataframe tbody tr th:only-of-type {\n        vertical-align: middle;\n    }\n\n    .dataframe tbody tr th {\n        vertical-align: top;\n    }\n\n    .dataframe thead th {\n        text-align: right;\n    }\n</style>\n<table border=\"1\" class=\"dataframe\">\n  <thead>\n    <tr style=\"text-align: right;\">\n      <th></th>\n      <th>classifier</th>\n      <th>arguments</th>\n      <th>mean_accuracy</th>\n      <th>mean_precision</th>\n      <th>mean_recall</th>\n      <th>accuracy</th>\n      <th>precision</th>\n      <th>recall</th>\n    </tr>\n  </thead>\n  <tbody>\n    <tr>\n      <th>0</th>\n      <td>Perceptron()</td>\n      <td>No additional args.</td>\n      <td>0.28</td>\n      <td>0.400806</td>\n      <td>0.27125</td>\n      <td>m: 0.28 std: 0.0026666666666666783</td>\n      <td>m: 0.4008061314854301 std: 0.05513438765878295</td>\n      <td>m: 0.27125 std: 0.0009484126984126984</td>\n    </tr>\n  </tbody>\n</table>\n</div>"
     },
     "metadata": {},
     "output_type": "display_data"
    },
    {
     "data": {
      "text/plain": "classifier                                          Perceptron()\narguments                                    No additional args.\nmean_accuracy                                               0.28\nmean_precision                                          0.400806\nmean_recall                                              0.27125\naccuracy                      m: 0.28 std: 0.0026666666666666783\nprecision         m: 0.4008061314854301 std: 0.05513438765878295\nrecall                     m: 0.27125 std: 0.0009484126984126984\nName: 0, dtype: object"
     },
     "metadata": {},
     "output_type": "display_data"
    }
   ],
   "source": [
    "perceptron_results = calculate_perceptron(amazon_data,\n",
    "                                          amazon_target)\n",
    "overall_results_amazon.extend(perceptron_results)\n",
    "\n",
    "print_results(perceptron_results, \"mean_accuracy\")"
   ],
   "metadata": {
    "collapsed": false,
    "pycharm": {
     "name": "#%%\n"
    }
   }
  },
  {
   "cell_type": "markdown",
   "source": [
    "### Decision Tree - Amazon"
   ],
   "metadata": {
    "collapsed": false
   }
  },
  {
   "cell_type": "code",
   "execution_count": 17,
   "outputs": [
    {
     "data": {
      "text/plain": "'Results'"
     },
     "metadata": {},
     "output_type": "display_data"
    },
    {
     "data": {
      "text/plain": "                                           classifier  \\\n16  DecisionTreeClassifier(max_depth=9, min_sample...   \n12  DecisionTreeClassifier(max_depth=7, min_sample...   \n13  DecisionTreeClassifier(max_depth=7, min_sample...   \n17  DecisionTreeClassifier(max_depth=9, min_sample...   \n9   DecisionTreeClassifier(max_depth=5, min_sample...   \n8   DecisionTreeClassifier(max_depth=5, min_sample...   \n5   DecisionTreeClassifier(max_depth=3, min_sample...   \n10  DecisionTreeClassifier(max_depth=5, min_sample...   \n18  DecisionTreeClassifier(max_depth=9, min_sample...   \n14  DecisionTreeClassifier(max_depth=7, min_sample...   \n6   DecisionTreeClassifier(max_depth=3, min_sample...   \n4   DecisionTreeClassifier(max_depth=3, min_sample...   \n15  DecisionTreeClassifier(max_depth=7, min_sample...   \n19  DecisionTreeClassifier(max_depth=9, min_sample...   \n11  DecisionTreeClassifier(max_depth=5, min_sample...   \n7   DecisionTreeClassifier(max_depth=3, min_sample...   \n0   DecisionTreeClassifier(max_depth=1, min_sample...   \n3   DecisionTreeClassifier(max_depth=1, min_sample...   \n2   DecisionTreeClassifier(max_depth=1, min_sample...   \n1   DecisionTreeClassifier(max_depth=1, min_sample...   \n\n                         arguments  mean_accuracy  mean_precision  \\\n16    max Depth: 9, min Samples: 2       0.182667        0.173033   \n12    max Depth: 7, min Samples: 2       0.157333        0.123086   \n13   max Depth: 7, min Samples: 20       0.152000        0.046192   \n17   max Depth: 9, min Samples: 20       0.152000        0.046189   \n9    max Depth: 5, min Samples: 20       0.137333        0.035608   \n8     max Depth: 5, min Samples: 2       0.130667        0.098178   \n5    max Depth: 3, min Samples: 20       0.100000        0.019961   \n10   max Depth: 5, min Samples: 50       0.094667        0.010870   \n18   max Depth: 9, min Samples: 50       0.094667        0.010870   \n14   max Depth: 7, min Samples: 50       0.094667        0.010870   \n6    max Depth: 3, min Samples: 50       0.090667        0.009126   \n4     max Depth: 3, min Samples: 2       0.089333        0.060514   \n15  max Depth: 7, min Samples: 100       0.062667        0.003875   \n19  max Depth: 9, min Samples: 100       0.062667        0.003875   \n11  max Depth: 5, min Samples: 100       0.062667        0.003875   \n7   max Depth: 3, min Samples: 100       0.062667        0.003875   \n0     max Depth: 1, min Samples: 2       0.045333        0.020490   \n3   max Depth: 1, min Samples: 100       0.044000        0.001784   \n2    max Depth: 1, min Samples: 50       0.044000        0.002350   \n1    max Depth: 1, min Samples: 20       0.038667        0.003777   \n\n    mean_recall                                           accuracy  \\\n16     0.171095   m: 0.18266666666666664 std: 0.020000000000000004   \n12     0.141750   m: 0.15733333333333333 std: 0.013333333333333336   \n13     0.144262  m: 0.15200000000000002 std: 0.0026666666666666644   \n17     0.144262  m: 0.15200000000000002 std: 0.0026666666666666644   \n9      0.130833  m: 0.13733333333333334 std: 0.0040000000000000036   \n8      0.117639  m: 0.13066666666666665 std: 0.0026666666666666644   \n5      0.090020                   m: 0.1 std: 0.012000000000000004   \n10     0.083333  m: 0.09466666666666668 std: 0.0013333333333333322   \n18     0.083333  m: 0.09466666666666668 std: 0.0013333333333333322   \n14     0.083333  m: 0.09466666666666668 std: 0.0013333333333333322   \n6      0.079444  m: 0.09066666666666667 std: 0.0026666666666666713   \n4      0.078889  m: 0.08933333333333333 std: 0.0013333333333333391   \n15     0.054306  m: 0.06266666666666666 std: 0.0013333333333333357   \n19     0.054306  m: 0.06266666666666666 std: 0.0013333333333333357   \n11     0.054306  m: 0.06266666666666666 std: 0.0013333333333333357   \n7      0.054306  m: 0.06266666666666666 std: 0.0013333333333333357   \n0      0.040000                    m: 0.04533333333333334 std: 0.0   \n3      0.034556                m: 0.044 std: 0.0013333333333333357   \n2      0.040000                m: 0.044 std: 0.0013333333333333357   \n1      0.034444                  m: 0.03866666666666667 std: 0.004   \n\n                                            precision  \\\n16  m: 0.17303269855486603 std: 0.0013573241208709175   \n12   m: 0.12308596857925298 std: 0.008915851256961746   \n13  m: 0.04619178963450134 std: 0.0014119608665442637   \n17  m: 0.04618850998565943 std: 0.0014053971454527706   \n9   m: 0.035607661229260595 std: 0.000755740552218...   \n8   m: 0.09817781104457751 std: 0.0023611111111111055   \n5    m: 0.01996109625485688 std: 0.004868303104232405   \n10  m: 0.01087032257422267 std: 0.0009068813991872909   \n18  m: 0.01087032257422267 std: 0.0009068813991872909   \n14  m: 0.01087032257422267 std: 0.0009068813991872909   \n6   m: 0.00912553893767215 std: 0.0008379022373632278   \n4   m: 0.06051355311355311 std: 7.326007326023676e-07   \n15  m: 0.0038754949088772783 std: 3.20987191729021...   \n19  m: 0.0038754949088772783 std: 3.20987191729021...   \n11  m: 0.0038754949088772783 std: 3.20987191729021...   \n7   m: 0.0038754949088772783 std: 3.20987191729021...   \n0                    m: 0.020490463215258856 std: 0.0   \n3   m: 0.0017842648749387161 std: 0.00010179209657...   \n2   m: 0.0023496839697774432 std: 9.04401008986421...   \n1   m: 0.003777261061361142 std: 0.001436621101673...   \n\n                                               recall  \n16   m: 0.17109523809523808 std: 0.018515873015873013  \n12               m: 0.14175 std: 0.012027777777777776  \n13   m: 0.14426190476190476 std: 0.009222222222222229  \n17   m: 0.14426190476190476 std: 0.009222222222222229  \n9    m: 0.13083333333333336 std: 0.003761904761904758  \n8   m: 0.11763888888888889 std: 0.0001388888888888...  \n5    m: 0.09001984126984128 std: 0.015130952380952384  \n10  m: 0.08333333333333333 std: 1.3877787807814457...  \n18  m: 0.08333333333333333 std: 1.3877787807814457...  \n14  m: 0.08333333333333333 std: 1.3877787807814457...  \n6   m: 0.07944444444444443 std: 0.0038888888888888792  \n4    m: 0.0788888888888889 std: 0.0011111111111111113  \n15  m: 0.05430555555555555 std: 0.0034722222222222238  \n19  m: 0.05430555555555555 std: 0.0034722222222222238  \n11  m: 0.05430555555555555 std: 0.0034722222222222238  \n7   m: 0.05430555555555555 std: 0.0034722222222222238  \n0                                    m: 0.04 std: 0.0  \n3   m: 0.034555555555555555 std: 0.001222222222222...  \n2                                    m: 0.04 std: 0.0  \n1   m: 0.034444444444444444 std: 0.005555555555555557  ",
      "text/html": "<div>\n<style scoped>\n    .dataframe tbody tr th:only-of-type {\n        vertical-align: middle;\n    }\n\n    .dataframe tbody tr th {\n        vertical-align: top;\n    }\n\n    .dataframe thead th {\n        text-align: right;\n    }\n</style>\n<table border=\"1\" class=\"dataframe\">\n  <thead>\n    <tr style=\"text-align: right;\">\n      <th></th>\n      <th>classifier</th>\n      <th>arguments</th>\n      <th>mean_accuracy</th>\n      <th>mean_precision</th>\n      <th>mean_recall</th>\n      <th>accuracy</th>\n      <th>precision</th>\n      <th>recall</th>\n    </tr>\n  </thead>\n  <tbody>\n    <tr>\n      <th>16</th>\n      <td>DecisionTreeClassifier(max_depth=9, min_sample...</td>\n      <td>max Depth: 9, min Samples: 2</td>\n      <td>0.182667</td>\n      <td>0.173033</td>\n      <td>0.171095</td>\n      <td>m: 0.18266666666666664 std: 0.020000000000000004</td>\n      <td>m: 0.17303269855486603 std: 0.0013573241208709175</td>\n      <td>m: 0.17109523809523808 std: 0.018515873015873013</td>\n    </tr>\n    <tr>\n      <th>12</th>\n      <td>DecisionTreeClassifier(max_depth=7, min_sample...</td>\n      <td>max Depth: 7, min Samples: 2</td>\n      <td>0.157333</td>\n      <td>0.123086</td>\n      <td>0.141750</td>\n      <td>m: 0.15733333333333333 std: 0.013333333333333336</td>\n      <td>m: 0.12308596857925298 std: 0.008915851256961746</td>\n      <td>m: 0.14175 std: 0.012027777777777776</td>\n    </tr>\n    <tr>\n      <th>13</th>\n      <td>DecisionTreeClassifier(max_depth=7, min_sample...</td>\n      <td>max Depth: 7, min Samples: 20</td>\n      <td>0.152000</td>\n      <td>0.046192</td>\n      <td>0.144262</td>\n      <td>m: 0.15200000000000002 std: 0.0026666666666666644</td>\n      <td>m: 0.04619178963450134 std: 0.0014119608665442637</td>\n      <td>m: 0.14426190476190476 std: 0.009222222222222229</td>\n    </tr>\n    <tr>\n      <th>17</th>\n      <td>DecisionTreeClassifier(max_depth=9, min_sample...</td>\n      <td>max Depth: 9, min Samples: 20</td>\n      <td>0.152000</td>\n      <td>0.046189</td>\n      <td>0.144262</td>\n      <td>m: 0.15200000000000002 std: 0.0026666666666666644</td>\n      <td>m: 0.04618850998565943 std: 0.0014053971454527706</td>\n      <td>m: 0.14426190476190476 std: 0.009222222222222229</td>\n    </tr>\n    <tr>\n      <th>9</th>\n      <td>DecisionTreeClassifier(max_depth=5, min_sample...</td>\n      <td>max Depth: 5, min Samples: 20</td>\n      <td>0.137333</td>\n      <td>0.035608</td>\n      <td>0.130833</td>\n      <td>m: 0.13733333333333334 std: 0.0040000000000000036</td>\n      <td>m: 0.035607661229260595 std: 0.000755740552218...</td>\n      <td>m: 0.13083333333333336 std: 0.003761904761904758</td>\n    </tr>\n    <tr>\n      <th>8</th>\n      <td>DecisionTreeClassifier(max_depth=5, min_sample...</td>\n      <td>max Depth: 5, min Samples: 2</td>\n      <td>0.130667</td>\n      <td>0.098178</td>\n      <td>0.117639</td>\n      <td>m: 0.13066666666666665 std: 0.0026666666666666644</td>\n      <td>m: 0.09817781104457751 std: 0.0023611111111111055</td>\n      <td>m: 0.11763888888888889 std: 0.0001388888888888...</td>\n    </tr>\n    <tr>\n      <th>5</th>\n      <td>DecisionTreeClassifier(max_depth=3, min_sample...</td>\n      <td>max Depth: 3, min Samples: 20</td>\n      <td>0.100000</td>\n      <td>0.019961</td>\n      <td>0.090020</td>\n      <td>m: 0.1 std: 0.012000000000000004</td>\n      <td>m: 0.01996109625485688 std: 0.004868303104232405</td>\n      <td>m: 0.09001984126984128 std: 0.015130952380952384</td>\n    </tr>\n    <tr>\n      <th>10</th>\n      <td>DecisionTreeClassifier(max_depth=5, min_sample...</td>\n      <td>max Depth: 5, min Samples: 50</td>\n      <td>0.094667</td>\n      <td>0.010870</td>\n      <td>0.083333</td>\n      <td>m: 0.09466666666666668 std: 0.0013333333333333322</td>\n      <td>m: 0.01087032257422267 std: 0.0009068813991872909</td>\n      <td>m: 0.08333333333333333 std: 1.3877787807814457...</td>\n    </tr>\n    <tr>\n      <th>18</th>\n      <td>DecisionTreeClassifier(max_depth=9, min_sample...</td>\n      <td>max Depth: 9, min Samples: 50</td>\n      <td>0.094667</td>\n      <td>0.010870</td>\n      <td>0.083333</td>\n      <td>m: 0.09466666666666668 std: 0.0013333333333333322</td>\n      <td>m: 0.01087032257422267 std: 0.0009068813991872909</td>\n      <td>m: 0.08333333333333333 std: 1.3877787807814457...</td>\n    </tr>\n    <tr>\n      <th>14</th>\n      <td>DecisionTreeClassifier(max_depth=7, min_sample...</td>\n      <td>max Depth: 7, min Samples: 50</td>\n      <td>0.094667</td>\n      <td>0.010870</td>\n      <td>0.083333</td>\n      <td>m: 0.09466666666666668 std: 0.0013333333333333322</td>\n      <td>m: 0.01087032257422267 std: 0.0009068813991872909</td>\n      <td>m: 0.08333333333333333 std: 1.3877787807814457...</td>\n    </tr>\n    <tr>\n      <th>6</th>\n      <td>DecisionTreeClassifier(max_depth=3, min_sample...</td>\n      <td>max Depth: 3, min Samples: 50</td>\n      <td>0.090667</td>\n      <td>0.009126</td>\n      <td>0.079444</td>\n      <td>m: 0.09066666666666667 std: 0.0026666666666666713</td>\n      <td>m: 0.00912553893767215 std: 0.0008379022373632278</td>\n      <td>m: 0.07944444444444443 std: 0.0038888888888888792</td>\n    </tr>\n    <tr>\n      <th>4</th>\n      <td>DecisionTreeClassifier(max_depth=3, min_sample...</td>\n      <td>max Depth: 3, min Samples: 2</td>\n      <td>0.089333</td>\n      <td>0.060514</td>\n      <td>0.078889</td>\n      <td>m: 0.08933333333333333 std: 0.0013333333333333391</td>\n      <td>m: 0.06051355311355311 std: 7.326007326023676e-07</td>\n      <td>m: 0.0788888888888889 std: 0.0011111111111111113</td>\n    </tr>\n    <tr>\n      <th>15</th>\n      <td>DecisionTreeClassifier(max_depth=7, min_sample...</td>\n      <td>max Depth: 7, min Samples: 100</td>\n      <td>0.062667</td>\n      <td>0.003875</td>\n      <td>0.054306</td>\n      <td>m: 0.06266666666666666 std: 0.0013333333333333357</td>\n      <td>m: 0.0038754949088772783 std: 3.20987191729021...</td>\n      <td>m: 0.05430555555555555 std: 0.0034722222222222238</td>\n    </tr>\n    <tr>\n      <th>19</th>\n      <td>DecisionTreeClassifier(max_depth=9, min_sample...</td>\n      <td>max Depth: 9, min Samples: 100</td>\n      <td>0.062667</td>\n      <td>0.003875</td>\n      <td>0.054306</td>\n      <td>m: 0.06266666666666666 std: 0.0013333333333333357</td>\n      <td>m: 0.0038754949088772783 std: 3.20987191729021...</td>\n      <td>m: 0.05430555555555555 std: 0.0034722222222222238</td>\n    </tr>\n    <tr>\n      <th>11</th>\n      <td>DecisionTreeClassifier(max_depth=5, min_sample...</td>\n      <td>max Depth: 5, min Samples: 100</td>\n      <td>0.062667</td>\n      <td>0.003875</td>\n      <td>0.054306</td>\n      <td>m: 0.06266666666666666 std: 0.0013333333333333357</td>\n      <td>m: 0.0038754949088772783 std: 3.20987191729021...</td>\n      <td>m: 0.05430555555555555 std: 0.0034722222222222238</td>\n    </tr>\n    <tr>\n      <th>7</th>\n      <td>DecisionTreeClassifier(max_depth=3, min_sample...</td>\n      <td>max Depth: 3, min Samples: 100</td>\n      <td>0.062667</td>\n      <td>0.003875</td>\n      <td>0.054306</td>\n      <td>m: 0.06266666666666666 std: 0.0013333333333333357</td>\n      <td>m: 0.0038754949088772783 std: 3.20987191729021...</td>\n      <td>m: 0.05430555555555555 std: 0.0034722222222222238</td>\n    </tr>\n    <tr>\n      <th>0</th>\n      <td>DecisionTreeClassifier(max_depth=1, min_sample...</td>\n      <td>max Depth: 1, min Samples: 2</td>\n      <td>0.045333</td>\n      <td>0.020490</td>\n      <td>0.040000</td>\n      <td>m: 0.04533333333333334 std: 0.0</td>\n      <td>m: 0.020490463215258856 std: 0.0</td>\n      <td>m: 0.04 std: 0.0</td>\n    </tr>\n    <tr>\n      <th>3</th>\n      <td>DecisionTreeClassifier(max_depth=1, min_sample...</td>\n      <td>max Depth: 1, min Samples: 100</td>\n      <td>0.044000</td>\n      <td>0.001784</td>\n      <td>0.034556</td>\n      <td>m: 0.044 std: 0.0013333333333333357</td>\n      <td>m: 0.0017842648749387161 std: 0.00010179209657...</td>\n      <td>m: 0.034555555555555555 std: 0.001222222222222...</td>\n    </tr>\n    <tr>\n      <th>2</th>\n      <td>DecisionTreeClassifier(max_depth=1, min_sample...</td>\n      <td>max Depth: 1, min Samples: 50</td>\n      <td>0.044000</td>\n      <td>0.002350</td>\n      <td>0.040000</td>\n      <td>m: 0.044 std: 0.0013333333333333357</td>\n      <td>m: 0.0023496839697774432 std: 9.04401008986421...</td>\n      <td>m: 0.04 std: 0.0</td>\n    </tr>\n    <tr>\n      <th>1</th>\n      <td>DecisionTreeClassifier(max_depth=1, min_sample...</td>\n      <td>max Depth: 1, min Samples: 20</td>\n      <td>0.038667</td>\n      <td>0.003777</td>\n      <td>0.034444</td>\n      <td>m: 0.03866666666666667 std: 0.004</td>\n      <td>m: 0.003777261061361142 std: 0.001436621101673...</td>\n      <td>m: 0.034444444444444444 std: 0.005555555555555557</td>\n    </tr>\n  </tbody>\n</table>\n</div>"
     },
     "metadata": {},
     "output_type": "display_data"
    },
    {
     "data": {
      "text/plain": "classifier        DecisionTreeClassifier(max_depth=9, min_sample...\narguments                              max Depth: 9, min Samples: 2\nmean_accuracy                                              0.182667\nmean_precision                                             0.173033\nmean_recall                                                0.171095\naccuracy           m: 0.18266666666666664 std: 0.020000000000000004\nprecision         m: 0.17303269855486603 std: 0.0013573241208709175\nrecall             m: 0.17109523809523808 std: 0.018515873015873013\nName: 16, dtype: object"
     },
     "metadata": {},
     "output_type": "display_data"
    }
   ],
   "source": [
    "decision_tree_results = calculate_decision_tree(amazon_data,\n",
    "                                                amazon_target)\n",
    "overall_results_amazon.extend(decision_tree_results)\n",
    "\n",
    "print_results(decision_tree_results, \"mean_accuracy\")"
   ],
   "metadata": {
    "collapsed": false,
    "pycharm": {
     "name": "#%%\n"
    }
   }
  },
  {
   "cell_type": "markdown",
   "source": [
    "### SVM - Amazon"
   ],
   "metadata": {
    "collapsed": false
   }
  },
  {
   "cell_type": "code",
   "execution_count": 18,
   "outputs": [
    {
     "data": {
      "text/plain": "'Results'"
     },
     "metadata": {},
     "output_type": "display_data"
    },
    {
     "data": {
      "text/plain": "                                    classifier        arguments  \\\n29                                  SVC(C=101)      Kernel: rbf   \n30                                  SVC(C=201)      Kernel: rbf   \n31                                  SVC(C=301)      Kernel: rbf   \n8      SVC(C=1, gamma='auto', kernel='linear')   Kernel: linear   \n1     SVC(C=101, gamma=0.001, kernel='linear')   Kernel: linear   \n10   SVC(C=201, gamma='auto', kernel='linear')   Kernel: linear   \n9    SVC(C=101, gamma='auto', kernel='linear')   Kernel: linear   \n0       SVC(C=1, gamma=0.001, kernel='linear')   Kernel: linear   \n7                  SVC(C=301, kernel='linear')   Kernel: linear   \n6                  SVC(C=201, kernel='linear')   Kernel: linear   \n5                  SVC(C=101, kernel='linear')   Kernel: linear   \n4                    SVC(C=1, kernel='linear')   Kernel: linear   \n3     SVC(C=301, gamma=0.001, kernel='linear')   Kernel: linear   \n2     SVC(C=201, gamma=0.001, kernel='linear')   Kernel: linear   \n11   SVC(C=301, gamma='auto', kernel='linear')   Kernel: linear   \n44       SVC(C=1, gamma='auto', kernel='poly')     Kernel: poly   \n46     SVC(C=201, gamma='auto', kernel='poly')     Kernel: poly   \n45     SVC(C=101, gamma='auto', kernel='poly')     Kernel: poly   \n39      SVC(C=301, gamma=0.001, kernel='poly')     Kernel: poly   \n38      SVC(C=201, gamma=0.001, kernel='poly')     Kernel: poly   \n37      SVC(C=101, gamma=0.001, kernel='poly')     Kernel: poly   \n36        SVC(C=1, gamma=0.001, kernel='poly')     Kernel: poly   \n47     SVC(C=301, gamma='auto', kernel='poly')     Kernel: poly   \n35                    SVC(C=301, gamma='auto')      Kernel: rbf   \n33                    SVC(C=101, gamma='auto')      Kernel: rbf   \n34                    SVC(C=201, gamma='auto')      Kernel: rbf   \n43                   SVC(C=301, kernel='poly')     Kernel: poly   \n42                   SVC(C=201, kernel='poly')     Kernel: poly   \n41                   SVC(C=101, kernel='poly')     Kernel: poly   \n32                      SVC(C=1, gamma='auto')      Kernel: rbf   \n40                     SVC(C=1, kernel='poly')     Kernel: poly   \n28                                    SVC(C=1)      Kernel: rbf   \n25                     SVC(C=101, gamma=0.001)      Kernel: rbf   \n26                     SVC(C=201, gamma=0.001)      Kernel: rbf   \n27                     SVC(C=301, gamma=0.001)      Kernel: rbf   \n24                       SVC(C=1, gamma=0.001)      Kernel: rbf   \n17                SVC(C=101, kernel='sigmoid')  Kernel: sigmoid   \n18                SVC(C=201, kernel='sigmoid')  Kernel: sigmoid   \n19                SVC(C=301, kernel='sigmoid')  Kernel: sigmoid   \n15   SVC(C=301, gamma=0.001, kernel='sigmoid')  Kernel: sigmoid   \n14   SVC(C=201, gamma=0.001, kernel='sigmoid')  Kernel: sigmoid   \n13   SVC(C=101, gamma=0.001, kernel='sigmoid')  Kernel: sigmoid   \n12     SVC(C=1, gamma=0.001, kernel='sigmoid')  Kernel: sigmoid   \n16                  SVC(C=1, kernel='sigmoid')  Kernel: sigmoid   \n22  SVC(C=201, gamma='auto', kernel='sigmoid')  Kernel: sigmoid   \n23  SVC(C=301, gamma='auto', kernel='sigmoid')  Kernel: sigmoid   \n21  SVC(C=101, gamma='auto', kernel='sigmoid')  Kernel: sigmoid   \n20    SVC(C=1, gamma='auto', kernel='sigmoid')  Kernel: sigmoid   \n\n    mean_accuracy  mean_precision  mean_recall  \\\n29       0.361333        0.394952     0.346849   \n30       0.361333        0.394952     0.346849   \n31       0.361333        0.394952     0.346849   \n8        0.360000        0.404970     0.350056   \n1        0.360000        0.404970     0.350056   \n10       0.360000        0.404970     0.350056   \n9        0.360000        0.404970     0.350056   \n0        0.360000        0.404970     0.350056   \n7        0.360000        0.404970     0.350056   \n6        0.360000        0.404970     0.350056   \n5        0.360000        0.404970     0.350056   \n4        0.360000        0.404970     0.350056   \n3        0.360000        0.404970     0.350056   \n2        0.360000        0.404970     0.350056   \n11       0.360000        0.404970     0.350056   \n44       0.285333        0.341387     0.277833   \n46       0.278667        0.326778     0.271016   \n45       0.278667        0.326778     0.271016   \n39       0.278667        0.326778     0.271016   \n38       0.278667        0.326778     0.271016   \n37       0.278667        0.326778     0.271016   \n36       0.278667        0.326778     0.271016   \n47       0.278667        0.326778     0.271016   \n35       0.276000        0.291396     0.259206   \n33       0.276000        0.291396     0.259206   \n34       0.276000        0.291396     0.259206   \n43       0.274667        0.320329     0.267329   \n42       0.269333        0.311270     0.261385   \n41       0.265333        0.329267     0.255627   \n32       0.181333        0.200420     0.162992   \n40       0.089333        0.087825     0.077198   \n28       0.062667        0.015627     0.050333   \n25       0.057333        0.100464     0.047631   \n26       0.057333        0.100464     0.047631   \n27       0.057333        0.100464     0.047631   \n24       0.056000        0.090595     0.046520   \n17       0.034667        0.057099     0.032937   \n18       0.029333        0.042291     0.027857   \n19       0.028000        0.033747     0.026607   \n15       0.026667        0.000533     0.020000   \n14       0.026667        0.000533     0.020000   \n13       0.026667        0.000533     0.020000   \n12       0.026667        0.000533     0.020000   \n16       0.024000        0.003471     0.019000   \n22       0.012000        0.003990     0.009556   \n23       0.012000        0.003046     0.009556   \n21       0.010667        0.001803     0.008444   \n20       0.006667        0.000217     0.005222   \n\n                                             accuracy  \\\n29  m: 0.36133333333333334 std: 0.0040000000000000036   \n30  m: 0.36133333333333334 std: 0.0040000000000000036   \n31  m: 0.36133333333333334 std: 0.0040000000000000036   \n8                   m: 0.36 std: 0.005333333333333329   \n1                   m: 0.36 std: 0.005333333333333329   \n10                  m: 0.36 std: 0.005333333333333329   \n9                   m: 0.36 std: 0.005333333333333329   \n0                   m: 0.36 std: 0.005333333333333329   \n7                   m: 0.36 std: 0.005333333333333329   \n6                   m: 0.36 std: 0.005333333333333329   \n5                   m: 0.36 std: 0.005333333333333329   \n4                   m: 0.36 std: 0.005333333333333329   \n3                   m: 0.36 std: 0.005333333333333329   \n2                   m: 0.36 std: 0.005333333333333329   \n11                  m: 0.36 std: 0.005333333333333329   \n44                     m: 0.2853333333333333 std: 0.0   \n46    m: 0.2786666666666667 std: 0.001333333333333353   \n45    m: 0.2786666666666667 std: 0.001333333333333353   \n39    m: 0.2786666666666667 std: 0.001333333333333353   \n38    m: 0.2786666666666667 std: 0.001333333333333353   \n37    m: 0.2786666666666667 std: 0.001333333333333353   \n36    m: 0.2786666666666667 std: 0.001333333333333353   \n47    m: 0.2786666666666667 std: 0.001333333333333353   \n35                 m: 0.276 std: 0.014666666666666689   \n33                 m: 0.276 std: 0.014666666666666689   \n34                 m: 0.276 std: 0.014666666666666689   \n43   m: 0.27466666666666667 std: 0.005333333333333357   \n42    m: 0.2693333333333333 std: 0.005333333333333329   \n41   m: 0.2653333333333333 std: 0.0040000000000000036   \n32  m: 0.18133333333333335 std: 0.0026666666666666644   \n40  m: 0.08933333333333333 std: 0.0040000000000000036   \n28  m: 0.06266666666666666 std: 0.0013333333333333357   \n25  m: 0.05733333333333333 std: 0.0013333333333333322   \n26  m: 0.05733333333333333 std: 0.0013333333333333322   \n27  m: 0.05733333333333333 std: 0.0013333333333333322   \n24                m: 0.056 std: 0.0026666666666666644   \n17  m: 0.034666666666666665 std: 0.002666666666666668   \n18                   m: 0.029333333333333333 std: 0.0   \n19                m: 0.028 std: 0.0013333333333333322   \n15                    m: 0.02666666666666667 std: 0.0   \n14                    m: 0.02666666666666667 std: 0.0   \n13                    m: 0.02666666666666667 std: 0.0   \n12                    m: 0.02666666666666667 std: 0.0   \n16                                m: 0.024 std: 0.008   \n22                 m: 0.012 std: 0.001333333333333334   \n23                 m: 0.012 std: 0.001333333333333334   \n21  m: 0.010666666666666668 std: 0.002666666666666667   \n20  m: 0.006666666666666666 std: 0.001333333333333...   \n\n                                            precision  \\\n29     m: 0.3949521508034598 std: 0.02524727704767077   \n30     m: 0.3949521508034598 std: 0.02524727704767077   \n31     m: 0.3949521508034598 std: 0.02524727704767077   \n8     m: 0.4049701959976727 std: 0.017853924326447557   \n1     m: 0.4049701959976727 std: 0.017853924326447557   \n10    m: 0.4049701959976727 std: 0.017853924326447557   \n9     m: 0.4049701959976727 std: 0.017853924326447557   \n0     m: 0.4049701959976727 std: 0.017853924326447557   \n7     m: 0.4049701959976727 std: 0.017853924326447557   \n6     m: 0.4049701959976727 std: 0.017853924326447557   \n5     m: 0.4049701959976727 std: 0.017853924326447557   \n4     m: 0.4049701959976727 std: 0.017853924326447557   \n3     m: 0.4049701959976727 std: 0.017853924326447557   \n2     m: 0.4049701959976727 std: 0.017853924326447557   \n11    m: 0.4049701959976727 std: 0.017853924326447557   \n44    m: 0.3413874770710471 std: 0.004785870822889032   \n46     m: 0.3267781287340111 std: 0.01271524717112954   \n45     m: 0.3267781287340111 std: 0.01271524717112954   \n39     m: 0.3267781287340111 std: 0.01271524717112954   \n38     m: 0.3267781287340111 std: 0.01271524717112954   \n37     m: 0.3267781287340111 std: 0.01271524717112954   \n36     m: 0.3267781287340111 std: 0.01271524717112954   \n47     m: 0.3267781287340111 std: 0.01271524717112954   \n35    m: 0.2913962038526078 std: 0.020489755725571435   \n33    m: 0.2913962038526078 std: 0.020489755725571435   \n34    m: 0.2913962038526078 std: 0.020489755725571435   \n43  m: 0.32032924690252274 std: 0.0012019718786959732   \n42   m: 0.3112704029716414 std: 0.0032987357499741354   \n41   m: 0.32926702172978767 std: 0.004795013832247896   \n32    m: 0.20041954548290547 std: 0.00979691287902372   \n40     m: 0.08782513327348081 std: 0.0185816266332791   \n28  m: 0.015627021631484474 std: 0.004652992701161438   \n25   m: 0.10046435068583065 std: 0.008534918225707643   \n26   m: 0.10046435068583065 std: 0.008534918225707643   \n27   m: 0.10046435068583065 std: 0.008534918225707643   \n24  m: 0.09059513419213117 std: 0.0013419572615348818   \n17    m: 0.05709910647035048 std: 0.01454944719820318   \n18   m: 0.042290731280469174 std: 0.00525031714914595   \n19   m: 0.03374733124283886 std: 0.013708271941484475   \n15                  m: 0.0005333333333333334 std: 0.0   \n14                  m: 0.0005333333333333334 std: 0.0   \n13                  m: 0.0005333333333333334 std: 0.0   \n12                  m: 0.0005333333333333334 std: 0.0   \n16  m: 0.003471282669683687 std: 0.002594089687227...   \n22  m: 0.003990187892690115 std: 0.003454004467803...   \n23  m: 0.0030464919614317616 std: 0.00251030853654...   \n21  m: 0.0018032835494248695 std: 0.00127234121468...   \n20  m: 0.0002166802204752869 std: 5.98174753772476...   \n\n                                               recall  \n29   m: 0.34684920634920635 std: 0.004063492063492019  \n30   m: 0.34684920634920635 std: 0.004063492063492019  \n31   m: 0.34684920634920635 std: 0.004063492063492019  \n8     m: 0.35005555555555556 std: 0.00567460317460311  \n1     m: 0.35005555555555556 std: 0.00567460317460311  \n10    m: 0.35005555555555556 std: 0.00567460317460311  \n9     m: 0.35005555555555556 std: 0.00567460317460311  \n0     m: 0.35005555555555556 std: 0.00567460317460311  \n7     m: 0.35005555555555556 std: 0.00567460317460311  \n6     m: 0.35005555555555556 std: 0.00567460317460311  \n5     m: 0.35005555555555556 std: 0.00567460317460311  \n4     m: 0.35005555555555556 std: 0.00567460317460311  \n3     m: 0.35005555555555556 std: 0.00567460317460311  \n2     m: 0.35005555555555556 std: 0.00567460317460311  \n11    m: 0.35005555555555556 std: 0.00567460317460311  \n44                     m: 0.2778333333333333 std: 0.0  \n46  m: 0.27101587301587304 std: 0.0002063492063491823  \n45  m: 0.27101587301587304 std: 0.0002063492063491823  \n39  m: 0.27101587301587304 std: 0.0002063492063491823  \n38  m: 0.27101587301587304 std: 0.0002063492063491823  \n37  m: 0.27101587301587304 std: 0.0002063492063491823  \n36  m: 0.27101587301587304 std: 0.0002063492063491823  \n47  m: 0.27101587301587304 std: 0.0002063492063491823  \n35    m: 0.2592063492063492 std: 0.013499999999999984  \n33    m: 0.2592063492063492 std: 0.013499999999999984  \n34    m: 0.2592063492063492 std: 0.013499999999999984  \n43    m: 0.2673293650793651 std: 0.006361111111111123  \n42   m: 0.2613849206349206 std: 0.0062500000000000056  \n41   m: 0.25562698412698415 std: 0.004936507936507933  \n32    m: 0.1629920634920635 std: 0.001658730158730165  \n40    m: 0.07719841269841268 std: 0.00386507936507937  \n28  m: 0.05033333333333333 std: 0.0009999999999999974  \n25  m: 0.04763095238095238 std: 0.0015833333333333324  \n26  m: 0.04763095238095238 std: 0.0015833333333333324  \n27  m: 0.04763095238095238 std: 0.0015833333333333324  \n24  m: 0.04651984126984127 std: 0.0026944444444444403  \n17  m: 0.03293650793650793 std: 0.0011904761904761897  \n18  m: 0.027857142857142858 std: 0.001031746031746...  \n19  m: 0.026607142857142857 std: 0.000218253968253...  \n15                                   m: 0.02 std: 0.0  \n14                                   m: 0.02 std: 0.0  \n13                                   m: 0.02 std: 0.0  \n12                                   m: 0.02 std: 0.0  \n16                 m: 0.019 std: 0.006333333333333333  \n22  m: 0.009555555555555555 std: 0.000888888888888...  \n23  m: 0.009555555555555555 std: 0.000888888888888...  \n21                 m: 0.008444444444444444 std: 0.002  \n20  m: 0.005222222222222222 std: 0.000777777777777...  ",
      "text/html": "<div>\n<style scoped>\n    .dataframe tbody tr th:only-of-type {\n        vertical-align: middle;\n    }\n\n    .dataframe tbody tr th {\n        vertical-align: top;\n    }\n\n    .dataframe thead th {\n        text-align: right;\n    }\n</style>\n<table border=\"1\" class=\"dataframe\">\n  <thead>\n    <tr style=\"text-align: right;\">\n      <th></th>\n      <th>classifier</th>\n      <th>arguments</th>\n      <th>mean_accuracy</th>\n      <th>mean_precision</th>\n      <th>mean_recall</th>\n      <th>accuracy</th>\n      <th>precision</th>\n      <th>recall</th>\n    </tr>\n  </thead>\n  <tbody>\n    <tr>\n      <th>29</th>\n      <td>SVC(C=101)</td>\n      <td>Kernel: rbf</td>\n      <td>0.361333</td>\n      <td>0.394952</td>\n      <td>0.346849</td>\n      <td>m: 0.36133333333333334 std: 0.0040000000000000036</td>\n      <td>m: 0.3949521508034598 std: 0.02524727704767077</td>\n      <td>m: 0.34684920634920635 std: 0.004063492063492019</td>\n    </tr>\n    <tr>\n      <th>30</th>\n      <td>SVC(C=201)</td>\n      <td>Kernel: rbf</td>\n      <td>0.361333</td>\n      <td>0.394952</td>\n      <td>0.346849</td>\n      <td>m: 0.36133333333333334 std: 0.0040000000000000036</td>\n      <td>m: 0.3949521508034598 std: 0.02524727704767077</td>\n      <td>m: 0.34684920634920635 std: 0.004063492063492019</td>\n    </tr>\n    <tr>\n      <th>31</th>\n      <td>SVC(C=301)</td>\n      <td>Kernel: rbf</td>\n      <td>0.361333</td>\n      <td>0.394952</td>\n      <td>0.346849</td>\n      <td>m: 0.36133333333333334 std: 0.0040000000000000036</td>\n      <td>m: 0.3949521508034598 std: 0.02524727704767077</td>\n      <td>m: 0.34684920634920635 std: 0.004063492063492019</td>\n    </tr>\n    <tr>\n      <th>8</th>\n      <td>SVC(C=1, gamma='auto', kernel='linear')</td>\n      <td>Kernel: linear</td>\n      <td>0.360000</td>\n      <td>0.404970</td>\n      <td>0.350056</td>\n      <td>m: 0.36 std: 0.005333333333333329</td>\n      <td>m: 0.4049701959976727 std: 0.017853924326447557</td>\n      <td>m: 0.35005555555555556 std: 0.00567460317460311</td>\n    </tr>\n    <tr>\n      <th>1</th>\n      <td>SVC(C=101, gamma=0.001, kernel='linear')</td>\n      <td>Kernel: linear</td>\n      <td>0.360000</td>\n      <td>0.404970</td>\n      <td>0.350056</td>\n      <td>m: 0.36 std: 0.005333333333333329</td>\n      <td>m: 0.4049701959976727 std: 0.017853924326447557</td>\n      <td>m: 0.35005555555555556 std: 0.00567460317460311</td>\n    </tr>\n    <tr>\n      <th>10</th>\n      <td>SVC(C=201, gamma='auto', kernel='linear')</td>\n      <td>Kernel: linear</td>\n      <td>0.360000</td>\n      <td>0.404970</td>\n      <td>0.350056</td>\n      <td>m: 0.36 std: 0.005333333333333329</td>\n      <td>m: 0.4049701959976727 std: 0.017853924326447557</td>\n      <td>m: 0.35005555555555556 std: 0.00567460317460311</td>\n    </tr>\n    <tr>\n      <th>9</th>\n      <td>SVC(C=101, gamma='auto', kernel='linear')</td>\n      <td>Kernel: linear</td>\n      <td>0.360000</td>\n      <td>0.404970</td>\n      <td>0.350056</td>\n      <td>m: 0.36 std: 0.005333333333333329</td>\n      <td>m: 0.4049701959976727 std: 0.017853924326447557</td>\n      <td>m: 0.35005555555555556 std: 0.00567460317460311</td>\n    </tr>\n    <tr>\n      <th>0</th>\n      <td>SVC(C=1, gamma=0.001, kernel='linear')</td>\n      <td>Kernel: linear</td>\n      <td>0.360000</td>\n      <td>0.404970</td>\n      <td>0.350056</td>\n      <td>m: 0.36 std: 0.005333333333333329</td>\n      <td>m: 0.4049701959976727 std: 0.017853924326447557</td>\n      <td>m: 0.35005555555555556 std: 0.00567460317460311</td>\n    </tr>\n    <tr>\n      <th>7</th>\n      <td>SVC(C=301, kernel='linear')</td>\n      <td>Kernel: linear</td>\n      <td>0.360000</td>\n      <td>0.404970</td>\n      <td>0.350056</td>\n      <td>m: 0.36 std: 0.005333333333333329</td>\n      <td>m: 0.4049701959976727 std: 0.017853924326447557</td>\n      <td>m: 0.35005555555555556 std: 0.00567460317460311</td>\n    </tr>\n    <tr>\n      <th>6</th>\n      <td>SVC(C=201, kernel='linear')</td>\n      <td>Kernel: linear</td>\n      <td>0.360000</td>\n      <td>0.404970</td>\n      <td>0.350056</td>\n      <td>m: 0.36 std: 0.005333333333333329</td>\n      <td>m: 0.4049701959976727 std: 0.017853924326447557</td>\n      <td>m: 0.35005555555555556 std: 0.00567460317460311</td>\n    </tr>\n    <tr>\n      <th>5</th>\n      <td>SVC(C=101, kernel='linear')</td>\n      <td>Kernel: linear</td>\n      <td>0.360000</td>\n      <td>0.404970</td>\n      <td>0.350056</td>\n      <td>m: 0.36 std: 0.005333333333333329</td>\n      <td>m: 0.4049701959976727 std: 0.017853924326447557</td>\n      <td>m: 0.35005555555555556 std: 0.00567460317460311</td>\n    </tr>\n    <tr>\n      <th>4</th>\n      <td>SVC(C=1, kernel='linear')</td>\n      <td>Kernel: linear</td>\n      <td>0.360000</td>\n      <td>0.404970</td>\n      <td>0.350056</td>\n      <td>m: 0.36 std: 0.005333333333333329</td>\n      <td>m: 0.4049701959976727 std: 0.017853924326447557</td>\n      <td>m: 0.35005555555555556 std: 0.00567460317460311</td>\n    </tr>\n    <tr>\n      <th>3</th>\n      <td>SVC(C=301, gamma=0.001, kernel='linear')</td>\n      <td>Kernel: linear</td>\n      <td>0.360000</td>\n      <td>0.404970</td>\n      <td>0.350056</td>\n      <td>m: 0.36 std: 0.005333333333333329</td>\n      <td>m: 0.4049701959976727 std: 0.017853924326447557</td>\n      <td>m: 0.35005555555555556 std: 0.00567460317460311</td>\n    </tr>\n    <tr>\n      <th>2</th>\n      <td>SVC(C=201, gamma=0.001, kernel='linear')</td>\n      <td>Kernel: linear</td>\n      <td>0.360000</td>\n      <td>0.404970</td>\n      <td>0.350056</td>\n      <td>m: 0.36 std: 0.005333333333333329</td>\n      <td>m: 0.4049701959976727 std: 0.017853924326447557</td>\n      <td>m: 0.35005555555555556 std: 0.00567460317460311</td>\n    </tr>\n    <tr>\n      <th>11</th>\n      <td>SVC(C=301, gamma='auto', kernel='linear')</td>\n      <td>Kernel: linear</td>\n      <td>0.360000</td>\n      <td>0.404970</td>\n      <td>0.350056</td>\n      <td>m: 0.36 std: 0.005333333333333329</td>\n      <td>m: 0.4049701959976727 std: 0.017853924326447557</td>\n      <td>m: 0.35005555555555556 std: 0.00567460317460311</td>\n    </tr>\n    <tr>\n      <th>44</th>\n      <td>SVC(C=1, gamma='auto', kernel='poly')</td>\n      <td>Kernel: poly</td>\n      <td>0.285333</td>\n      <td>0.341387</td>\n      <td>0.277833</td>\n      <td>m: 0.2853333333333333 std: 0.0</td>\n      <td>m: 0.3413874770710471 std: 0.004785870822889032</td>\n      <td>m: 0.2778333333333333 std: 0.0</td>\n    </tr>\n    <tr>\n      <th>46</th>\n      <td>SVC(C=201, gamma='auto', kernel='poly')</td>\n      <td>Kernel: poly</td>\n      <td>0.278667</td>\n      <td>0.326778</td>\n      <td>0.271016</td>\n      <td>m: 0.2786666666666667 std: 0.001333333333333353</td>\n      <td>m: 0.3267781287340111 std: 0.01271524717112954</td>\n      <td>m: 0.27101587301587304 std: 0.0002063492063491823</td>\n    </tr>\n    <tr>\n      <th>45</th>\n      <td>SVC(C=101, gamma='auto', kernel='poly')</td>\n      <td>Kernel: poly</td>\n      <td>0.278667</td>\n      <td>0.326778</td>\n      <td>0.271016</td>\n      <td>m: 0.2786666666666667 std: 0.001333333333333353</td>\n      <td>m: 0.3267781287340111 std: 0.01271524717112954</td>\n      <td>m: 0.27101587301587304 std: 0.0002063492063491823</td>\n    </tr>\n    <tr>\n      <th>39</th>\n      <td>SVC(C=301, gamma=0.001, kernel='poly')</td>\n      <td>Kernel: poly</td>\n      <td>0.278667</td>\n      <td>0.326778</td>\n      <td>0.271016</td>\n      <td>m: 0.2786666666666667 std: 0.001333333333333353</td>\n      <td>m: 0.3267781287340111 std: 0.01271524717112954</td>\n      <td>m: 0.27101587301587304 std: 0.0002063492063491823</td>\n    </tr>\n    <tr>\n      <th>38</th>\n      <td>SVC(C=201, gamma=0.001, kernel='poly')</td>\n      <td>Kernel: poly</td>\n      <td>0.278667</td>\n      <td>0.326778</td>\n      <td>0.271016</td>\n      <td>m: 0.2786666666666667 std: 0.001333333333333353</td>\n      <td>m: 0.3267781287340111 std: 0.01271524717112954</td>\n      <td>m: 0.27101587301587304 std: 0.0002063492063491823</td>\n    </tr>\n    <tr>\n      <th>37</th>\n      <td>SVC(C=101, gamma=0.001, kernel='poly')</td>\n      <td>Kernel: poly</td>\n      <td>0.278667</td>\n      <td>0.326778</td>\n      <td>0.271016</td>\n      <td>m: 0.2786666666666667 std: 0.001333333333333353</td>\n      <td>m: 0.3267781287340111 std: 0.01271524717112954</td>\n      <td>m: 0.27101587301587304 std: 0.0002063492063491823</td>\n    </tr>\n    <tr>\n      <th>36</th>\n      <td>SVC(C=1, gamma=0.001, kernel='poly')</td>\n      <td>Kernel: poly</td>\n      <td>0.278667</td>\n      <td>0.326778</td>\n      <td>0.271016</td>\n      <td>m: 0.2786666666666667 std: 0.001333333333333353</td>\n      <td>m: 0.3267781287340111 std: 0.01271524717112954</td>\n      <td>m: 0.27101587301587304 std: 0.0002063492063491823</td>\n    </tr>\n    <tr>\n      <th>47</th>\n      <td>SVC(C=301, gamma='auto', kernel='poly')</td>\n      <td>Kernel: poly</td>\n      <td>0.278667</td>\n      <td>0.326778</td>\n      <td>0.271016</td>\n      <td>m: 0.2786666666666667 std: 0.001333333333333353</td>\n      <td>m: 0.3267781287340111 std: 0.01271524717112954</td>\n      <td>m: 0.27101587301587304 std: 0.0002063492063491823</td>\n    </tr>\n    <tr>\n      <th>35</th>\n      <td>SVC(C=301, gamma='auto')</td>\n      <td>Kernel: rbf</td>\n      <td>0.276000</td>\n      <td>0.291396</td>\n      <td>0.259206</td>\n      <td>m: 0.276 std: 0.014666666666666689</td>\n      <td>m: 0.2913962038526078 std: 0.020489755725571435</td>\n      <td>m: 0.2592063492063492 std: 0.013499999999999984</td>\n    </tr>\n    <tr>\n      <th>33</th>\n      <td>SVC(C=101, gamma='auto')</td>\n      <td>Kernel: rbf</td>\n      <td>0.276000</td>\n      <td>0.291396</td>\n      <td>0.259206</td>\n      <td>m: 0.276 std: 0.014666666666666689</td>\n      <td>m: 0.2913962038526078 std: 0.020489755725571435</td>\n      <td>m: 0.2592063492063492 std: 0.013499999999999984</td>\n    </tr>\n    <tr>\n      <th>34</th>\n      <td>SVC(C=201, gamma='auto')</td>\n      <td>Kernel: rbf</td>\n      <td>0.276000</td>\n      <td>0.291396</td>\n      <td>0.259206</td>\n      <td>m: 0.276 std: 0.014666666666666689</td>\n      <td>m: 0.2913962038526078 std: 0.020489755725571435</td>\n      <td>m: 0.2592063492063492 std: 0.013499999999999984</td>\n    </tr>\n    <tr>\n      <th>43</th>\n      <td>SVC(C=301, kernel='poly')</td>\n      <td>Kernel: poly</td>\n      <td>0.274667</td>\n      <td>0.320329</td>\n      <td>0.267329</td>\n      <td>m: 0.27466666666666667 std: 0.005333333333333357</td>\n      <td>m: 0.32032924690252274 std: 0.0012019718786959732</td>\n      <td>m: 0.2673293650793651 std: 0.006361111111111123</td>\n    </tr>\n    <tr>\n      <th>42</th>\n      <td>SVC(C=201, kernel='poly')</td>\n      <td>Kernel: poly</td>\n      <td>0.269333</td>\n      <td>0.311270</td>\n      <td>0.261385</td>\n      <td>m: 0.2693333333333333 std: 0.005333333333333329</td>\n      <td>m: 0.3112704029716414 std: 0.0032987357499741354</td>\n      <td>m: 0.2613849206349206 std: 0.0062500000000000056</td>\n    </tr>\n    <tr>\n      <th>41</th>\n      <td>SVC(C=101, kernel='poly')</td>\n      <td>Kernel: poly</td>\n      <td>0.265333</td>\n      <td>0.329267</td>\n      <td>0.255627</td>\n      <td>m: 0.2653333333333333 std: 0.0040000000000000036</td>\n      <td>m: 0.32926702172978767 std: 0.004795013832247896</td>\n      <td>m: 0.25562698412698415 std: 0.004936507936507933</td>\n    </tr>\n    <tr>\n      <th>32</th>\n      <td>SVC(C=1, gamma='auto')</td>\n      <td>Kernel: rbf</td>\n      <td>0.181333</td>\n      <td>0.200420</td>\n      <td>0.162992</td>\n      <td>m: 0.18133333333333335 std: 0.0026666666666666644</td>\n      <td>m: 0.20041954548290547 std: 0.00979691287902372</td>\n      <td>m: 0.1629920634920635 std: 0.001658730158730165</td>\n    </tr>\n    <tr>\n      <th>40</th>\n      <td>SVC(C=1, kernel='poly')</td>\n      <td>Kernel: poly</td>\n      <td>0.089333</td>\n      <td>0.087825</td>\n      <td>0.077198</td>\n      <td>m: 0.08933333333333333 std: 0.0040000000000000036</td>\n      <td>m: 0.08782513327348081 std: 0.0185816266332791</td>\n      <td>m: 0.07719841269841268 std: 0.00386507936507937</td>\n    </tr>\n    <tr>\n      <th>28</th>\n      <td>SVC(C=1)</td>\n      <td>Kernel: rbf</td>\n      <td>0.062667</td>\n      <td>0.015627</td>\n      <td>0.050333</td>\n      <td>m: 0.06266666666666666 std: 0.0013333333333333357</td>\n      <td>m: 0.015627021631484474 std: 0.004652992701161438</td>\n      <td>m: 0.05033333333333333 std: 0.0009999999999999974</td>\n    </tr>\n    <tr>\n      <th>25</th>\n      <td>SVC(C=101, gamma=0.001)</td>\n      <td>Kernel: rbf</td>\n      <td>0.057333</td>\n      <td>0.100464</td>\n      <td>0.047631</td>\n      <td>m: 0.05733333333333333 std: 0.0013333333333333322</td>\n      <td>m: 0.10046435068583065 std: 0.008534918225707643</td>\n      <td>m: 0.04763095238095238 std: 0.0015833333333333324</td>\n    </tr>\n    <tr>\n      <th>26</th>\n      <td>SVC(C=201, gamma=0.001)</td>\n      <td>Kernel: rbf</td>\n      <td>0.057333</td>\n      <td>0.100464</td>\n      <td>0.047631</td>\n      <td>m: 0.05733333333333333 std: 0.0013333333333333322</td>\n      <td>m: 0.10046435068583065 std: 0.008534918225707643</td>\n      <td>m: 0.04763095238095238 std: 0.0015833333333333324</td>\n    </tr>\n    <tr>\n      <th>27</th>\n      <td>SVC(C=301, gamma=0.001)</td>\n      <td>Kernel: rbf</td>\n      <td>0.057333</td>\n      <td>0.100464</td>\n      <td>0.047631</td>\n      <td>m: 0.05733333333333333 std: 0.0013333333333333322</td>\n      <td>m: 0.10046435068583065 std: 0.008534918225707643</td>\n      <td>m: 0.04763095238095238 std: 0.0015833333333333324</td>\n    </tr>\n    <tr>\n      <th>24</th>\n      <td>SVC(C=1, gamma=0.001)</td>\n      <td>Kernel: rbf</td>\n      <td>0.056000</td>\n      <td>0.090595</td>\n      <td>0.046520</td>\n      <td>m: 0.056 std: 0.0026666666666666644</td>\n      <td>m: 0.09059513419213117 std: 0.0013419572615348818</td>\n      <td>m: 0.04651984126984127 std: 0.0026944444444444403</td>\n    </tr>\n    <tr>\n      <th>17</th>\n      <td>SVC(C=101, kernel='sigmoid')</td>\n      <td>Kernel: sigmoid</td>\n      <td>0.034667</td>\n      <td>0.057099</td>\n      <td>0.032937</td>\n      <td>m: 0.034666666666666665 std: 0.002666666666666668</td>\n      <td>m: 0.05709910647035048 std: 0.01454944719820318</td>\n      <td>m: 0.03293650793650793 std: 0.0011904761904761897</td>\n    </tr>\n    <tr>\n      <th>18</th>\n      <td>SVC(C=201, kernel='sigmoid')</td>\n      <td>Kernel: sigmoid</td>\n      <td>0.029333</td>\n      <td>0.042291</td>\n      <td>0.027857</td>\n      <td>m: 0.029333333333333333 std: 0.0</td>\n      <td>m: 0.042290731280469174 std: 0.00525031714914595</td>\n      <td>m: 0.027857142857142858 std: 0.001031746031746...</td>\n    </tr>\n    <tr>\n      <th>19</th>\n      <td>SVC(C=301, kernel='sigmoid')</td>\n      <td>Kernel: sigmoid</td>\n      <td>0.028000</td>\n      <td>0.033747</td>\n      <td>0.026607</td>\n      <td>m: 0.028 std: 0.0013333333333333322</td>\n      <td>m: 0.03374733124283886 std: 0.013708271941484475</td>\n      <td>m: 0.026607142857142857 std: 0.000218253968253...</td>\n    </tr>\n    <tr>\n      <th>15</th>\n      <td>SVC(C=301, gamma=0.001, kernel='sigmoid')</td>\n      <td>Kernel: sigmoid</td>\n      <td>0.026667</td>\n      <td>0.000533</td>\n      <td>0.020000</td>\n      <td>m: 0.02666666666666667 std: 0.0</td>\n      <td>m: 0.0005333333333333334 std: 0.0</td>\n      <td>m: 0.02 std: 0.0</td>\n    </tr>\n    <tr>\n      <th>14</th>\n      <td>SVC(C=201, gamma=0.001, kernel='sigmoid')</td>\n      <td>Kernel: sigmoid</td>\n      <td>0.026667</td>\n      <td>0.000533</td>\n      <td>0.020000</td>\n      <td>m: 0.02666666666666667 std: 0.0</td>\n      <td>m: 0.0005333333333333334 std: 0.0</td>\n      <td>m: 0.02 std: 0.0</td>\n    </tr>\n    <tr>\n      <th>13</th>\n      <td>SVC(C=101, gamma=0.001, kernel='sigmoid')</td>\n      <td>Kernel: sigmoid</td>\n      <td>0.026667</td>\n      <td>0.000533</td>\n      <td>0.020000</td>\n      <td>m: 0.02666666666666667 std: 0.0</td>\n      <td>m: 0.0005333333333333334 std: 0.0</td>\n      <td>m: 0.02 std: 0.0</td>\n    </tr>\n    <tr>\n      <th>12</th>\n      <td>SVC(C=1, gamma=0.001, kernel='sigmoid')</td>\n      <td>Kernel: sigmoid</td>\n      <td>0.026667</td>\n      <td>0.000533</td>\n      <td>0.020000</td>\n      <td>m: 0.02666666666666667 std: 0.0</td>\n      <td>m: 0.0005333333333333334 std: 0.0</td>\n      <td>m: 0.02 std: 0.0</td>\n    </tr>\n    <tr>\n      <th>16</th>\n      <td>SVC(C=1, kernel='sigmoid')</td>\n      <td>Kernel: sigmoid</td>\n      <td>0.024000</td>\n      <td>0.003471</td>\n      <td>0.019000</td>\n      <td>m: 0.024 std: 0.008</td>\n      <td>m: 0.003471282669683687 std: 0.002594089687227...</td>\n      <td>m: 0.019 std: 0.006333333333333333</td>\n    </tr>\n    <tr>\n      <th>22</th>\n      <td>SVC(C=201, gamma='auto', kernel='sigmoid')</td>\n      <td>Kernel: sigmoid</td>\n      <td>0.012000</td>\n      <td>0.003990</td>\n      <td>0.009556</td>\n      <td>m: 0.012 std: 0.001333333333333334</td>\n      <td>m: 0.003990187892690115 std: 0.003454004467803...</td>\n      <td>m: 0.009555555555555555 std: 0.000888888888888...</td>\n    </tr>\n    <tr>\n      <th>23</th>\n      <td>SVC(C=301, gamma='auto', kernel='sigmoid')</td>\n      <td>Kernel: sigmoid</td>\n      <td>0.012000</td>\n      <td>0.003046</td>\n      <td>0.009556</td>\n      <td>m: 0.012 std: 0.001333333333333334</td>\n      <td>m: 0.0030464919614317616 std: 0.00251030853654...</td>\n      <td>m: 0.009555555555555555 std: 0.000888888888888...</td>\n    </tr>\n    <tr>\n      <th>21</th>\n      <td>SVC(C=101, gamma='auto', kernel='sigmoid')</td>\n      <td>Kernel: sigmoid</td>\n      <td>0.010667</td>\n      <td>0.001803</td>\n      <td>0.008444</td>\n      <td>m: 0.010666666666666668 std: 0.002666666666666667</td>\n      <td>m: 0.0018032835494248695 std: 0.00127234121468...</td>\n      <td>m: 0.008444444444444444 std: 0.002</td>\n    </tr>\n    <tr>\n      <th>20</th>\n      <td>SVC(C=1, gamma='auto', kernel='sigmoid')</td>\n      <td>Kernel: sigmoid</td>\n      <td>0.006667</td>\n      <td>0.000217</td>\n      <td>0.005222</td>\n      <td>m: 0.006666666666666666 std: 0.001333333333333...</td>\n      <td>m: 0.0002166802204752869 std: 5.98174753772476...</td>\n      <td>m: 0.005222222222222222 std: 0.000777777777777...</td>\n    </tr>\n  </tbody>\n</table>\n</div>"
     },
     "metadata": {},
     "output_type": "display_data"
    },
    {
     "data": {
      "text/plain": "classifier                                               SVC(C=101)\narguments                                               Kernel: rbf\nmean_accuracy                                              0.361333\nmean_precision                                             0.394952\nmean_recall                                                0.346849\naccuracy          m: 0.36133333333333334 std: 0.0040000000000000036\nprecision            m: 0.3949521508034598 std: 0.02524727704767077\nrecall             m: 0.34684920634920635 std: 0.004063492063492019\nName: 29, dtype: object"
     },
     "metadata": {},
     "output_type": "display_data"
    }
   ],
   "source": [
    "svm_results = calculate_svm(amazon_data,\n",
    "                            amazon_target)\n",
    "overall_results_amazon.extend(svm_results)\n",
    "\n",
    "print_results(svm_results, \"mean_accuracy\")"
   ],
   "metadata": {
    "collapsed": false,
    "pycharm": {
     "name": "#%%\n"
    }
   }
  },
  {
   "cell_type": "markdown",
   "source": [
    "### Overall Results for Amazon"
   ],
   "metadata": {
    "collapsed": false
   }
  },
  {
   "cell_type": "code",
   "execution_count": 19,
   "outputs": [
    {
     "data": {
      "text/plain": "'Results'"
     },
     "metadata": {},
     "output_type": "display_data"
    },
    {
     "data": {
      "text/plain": "                                    classifier        arguments  \\\n7          KNeighborsClassifier(n_neighbors=8)            N = 8   \n1          KNeighborsClassifier(n_neighbors=2)            N = 2   \n6          KNeighborsClassifier(n_neighbors=7)            N = 7   \n8          KNeighborsClassifier(n_neighbors=9)            N = 9   \n2          KNeighborsClassifier(n_neighbors=3)            N = 3   \n..                                         ...              ...   \n46                  SVC(C=1, kernel='sigmoid')  Kernel: sigmoid   \n53  SVC(C=301, gamma='auto', kernel='sigmoid')  Kernel: sigmoid   \n52  SVC(C=201, gamma='auto', kernel='sigmoid')  Kernel: sigmoid   \n51  SVC(C=101, gamma='auto', kernel='sigmoid')  Kernel: sigmoid   \n50    SVC(C=1, gamma='auto', kernel='sigmoid')  Kernel: sigmoid   \n\n    mean_accuracy  mean_precision  mean_recall  \\\n7        0.670145        0.668046     0.586842   \n1        0.669691        0.636876     0.555263   \n6        0.661525        0.647057     0.592763   \n8        0.653055        0.662153     0.586184   \n2        0.652601        0.602840     0.580921   \n..            ...             ...          ...   \n46       0.024000        0.003471     0.019000   \n53       0.012000        0.003046     0.009556   \n52       0.012000        0.003990     0.009556   \n51       0.010667        0.001803     0.008444   \n50       0.006667        0.000217     0.005222   \n\n                                             accuracy  \\\n7      m: 0.6701451905626135 std: 0.06669691470054445   \n1     m: 0.6696914700544465 std: 0.014519056261343033   \n6       m: 0.661524500907441 std: 0.07531760435571688   \n8       m: 0.6530550514216575 std: 0.1013309134906231   \n2     m: 0.6526013309134906 std: 0.049153055051421646   \n..                                                ...   \n46                                m: 0.024 std: 0.008   \n53                 m: 0.012 std: 0.001333333333333334   \n52                 m: 0.012 std: 0.001333333333333334   \n51  m: 0.010666666666666668 std: 0.002666666666666667   \n50  m: 0.006666666666666666 std: 0.001333333333333...   \n\n                                            precision  \\\n7      m: 0.6680459633246011 std: 0.11136580138128127   \n1       m: 0.6368760064412238 std: 0.0390499194847021   \n6      m: 0.6470573077715935 std: 0.09528963100391669   \n8       m: 0.6621533613445378 std: 0.1364180672268907   \n2       m: 0.602839550454328 std: 0.05549378287900525   \n..                                                ...   \n46  m: 0.003471282669683687 std: 0.002594089687227...   \n53  m: 0.0030464919614317616 std: 0.00251030853654...   \n52  m: 0.003990187892690115 std: 0.003454004467803...   \n51  m: 0.0018032835494248695 std: 0.00127234121468...   \n50  m: 0.0002166802204752869 std: 5.98174753772476...   \n\n                                               recall  \n7      m: 0.5868421052631579 std: 0.03157894736842104  \n1      m: 0.5552631578947369 std: 0.01578947368421052  \n6      m: 0.5927631578947368 std: 0.03881578947368419  \n8     m: 0.5861842105263158 std: 0.058552631578947356  \n2      m: 0.5809210526315789 std: 0.03750000000000003  \n..                                                ...  \n46                 m: 0.019 std: 0.006333333333333333  \n53  m: 0.009555555555555555 std: 0.000888888888888...  \n52  m: 0.009555555555555555 std: 0.000888888888888...  \n51                 m: 0.008444444444444444 std: 0.002  \n50  m: 0.005222222222222222 std: 0.000777777777777...  \n\n[78 rows x 8 columns]",
      "text/html": "<div>\n<style scoped>\n    .dataframe tbody tr th:only-of-type {\n        vertical-align: middle;\n    }\n\n    .dataframe tbody tr th {\n        vertical-align: top;\n    }\n\n    .dataframe thead th {\n        text-align: right;\n    }\n</style>\n<table border=\"1\" class=\"dataframe\">\n  <thead>\n    <tr style=\"text-align: right;\">\n      <th></th>\n      <th>classifier</th>\n      <th>arguments</th>\n      <th>mean_accuracy</th>\n      <th>mean_precision</th>\n      <th>mean_recall</th>\n      <th>accuracy</th>\n      <th>precision</th>\n      <th>recall</th>\n    </tr>\n  </thead>\n  <tbody>\n    <tr>\n      <th>7</th>\n      <td>KNeighborsClassifier(n_neighbors=8)</td>\n      <td>N = 8</td>\n      <td>0.670145</td>\n      <td>0.668046</td>\n      <td>0.586842</td>\n      <td>m: 0.6701451905626135 std: 0.06669691470054445</td>\n      <td>m: 0.6680459633246011 std: 0.11136580138128127</td>\n      <td>m: 0.5868421052631579 std: 0.03157894736842104</td>\n    </tr>\n    <tr>\n      <th>1</th>\n      <td>KNeighborsClassifier(n_neighbors=2)</td>\n      <td>N = 2</td>\n      <td>0.669691</td>\n      <td>0.636876</td>\n      <td>0.555263</td>\n      <td>m: 0.6696914700544465 std: 0.014519056261343033</td>\n      <td>m: 0.6368760064412238 std: 0.0390499194847021</td>\n      <td>m: 0.5552631578947369 std: 0.01578947368421052</td>\n    </tr>\n    <tr>\n      <th>6</th>\n      <td>KNeighborsClassifier(n_neighbors=7)</td>\n      <td>N = 7</td>\n      <td>0.661525</td>\n      <td>0.647057</td>\n      <td>0.592763</td>\n      <td>m: 0.661524500907441 std: 0.07531760435571688</td>\n      <td>m: 0.6470573077715935 std: 0.09528963100391669</td>\n      <td>m: 0.5927631578947368 std: 0.03881578947368419</td>\n    </tr>\n    <tr>\n      <th>8</th>\n      <td>KNeighborsClassifier(n_neighbors=9)</td>\n      <td>N = 9</td>\n      <td>0.653055</td>\n      <td>0.662153</td>\n      <td>0.586184</td>\n      <td>m: 0.6530550514216575 std: 0.1013309134906231</td>\n      <td>m: 0.6621533613445378 std: 0.1364180672268907</td>\n      <td>m: 0.5861842105263158 std: 0.058552631578947356</td>\n    </tr>\n    <tr>\n      <th>2</th>\n      <td>KNeighborsClassifier(n_neighbors=3)</td>\n      <td>N = 3</td>\n      <td>0.652601</td>\n      <td>0.602840</td>\n      <td>0.580921</td>\n      <td>m: 0.6526013309134906 std: 0.049153055051421646</td>\n      <td>m: 0.602839550454328 std: 0.05549378287900525</td>\n      <td>m: 0.5809210526315789 std: 0.03750000000000003</td>\n    </tr>\n    <tr>\n      <th>...</th>\n      <td>...</td>\n      <td>...</td>\n      <td>...</td>\n      <td>...</td>\n      <td>...</td>\n      <td>...</td>\n      <td>...</td>\n      <td>...</td>\n    </tr>\n    <tr>\n      <th>46</th>\n      <td>SVC(C=1, kernel='sigmoid')</td>\n      <td>Kernel: sigmoid</td>\n      <td>0.024000</td>\n      <td>0.003471</td>\n      <td>0.019000</td>\n      <td>m: 0.024 std: 0.008</td>\n      <td>m: 0.003471282669683687 std: 0.002594089687227...</td>\n      <td>m: 0.019 std: 0.006333333333333333</td>\n    </tr>\n    <tr>\n      <th>53</th>\n      <td>SVC(C=301, gamma='auto', kernel='sigmoid')</td>\n      <td>Kernel: sigmoid</td>\n      <td>0.012000</td>\n      <td>0.003046</td>\n      <td>0.009556</td>\n      <td>m: 0.012 std: 0.001333333333333334</td>\n      <td>m: 0.0030464919614317616 std: 0.00251030853654...</td>\n      <td>m: 0.009555555555555555 std: 0.000888888888888...</td>\n    </tr>\n    <tr>\n      <th>52</th>\n      <td>SVC(C=201, gamma='auto', kernel='sigmoid')</td>\n      <td>Kernel: sigmoid</td>\n      <td>0.012000</td>\n      <td>0.003990</td>\n      <td>0.009556</td>\n      <td>m: 0.012 std: 0.001333333333333334</td>\n      <td>m: 0.003990187892690115 std: 0.003454004467803...</td>\n      <td>m: 0.009555555555555555 std: 0.000888888888888...</td>\n    </tr>\n    <tr>\n      <th>51</th>\n      <td>SVC(C=101, gamma='auto', kernel='sigmoid')</td>\n      <td>Kernel: sigmoid</td>\n      <td>0.010667</td>\n      <td>0.001803</td>\n      <td>0.008444</td>\n      <td>m: 0.010666666666666668 std: 0.002666666666666667</td>\n      <td>m: 0.0018032835494248695 std: 0.00127234121468...</td>\n      <td>m: 0.008444444444444444 std: 0.002</td>\n    </tr>\n    <tr>\n      <th>50</th>\n      <td>SVC(C=1, gamma='auto', kernel='sigmoid')</td>\n      <td>Kernel: sigmoid</td>\n      <td>0.006667</td>\n      <td>0.000217</td>\n      <td>0.005222</td>\n      <td>m: 0.006666666666666666 std: 0.001333333333333...</td>\n      <td>m: 0.0002166802204752869 std: 5.98174753772476...</td>\n      <td>m: 0.005222222222222222 std: 0.000777777777777...</td>\n    </tr>\n  </tbody>\n</table>\n<p>78 rows × 8 columns</p>\n</div>"
     },
     "metadata": {},
     "output_type": "display_data"
    },
    {
     "data": {
      "text/plain": "classifier                   KNeighborsClassifier(n_neighbors=8)\narguments                                                  N = 8\nmean_accuracy                                           0.670145\nmean_precision                                          0.668046\nmean_recall                                             0.586842\naccuracy          m: 0.6701451905626135 std: 0.06669691470054445\nprecision         m: 0.6680459633246011 std: 0.11136580138128127\nrecall            m: 0.5868421052631579 std: 0.03157894736842104\nName: 7, dtype: object"
     },
     "metadata": {},
     "output_type": "display_data"
    }
   ],
   "source": [
    "print_results(overall_results_amazon, \"mean_accuracy\")"
   ],
   "metadata": {
    "collapsed": false,
    "pycharm": {
     "name": "#%%\n"
    }
   }
  }
 ],
 "metadata": {
  "kernelspec": {
   "display_name": "Python 3",
   "language": "python",
   "name": "python3"
  },
  "language_info": {
   "codemirror_mode": {
    "name": "ipython",
    "version": 3
   },
   "file_extension": ".py",
   "mimetype": "text/x-python",
   "name": "python",
   "nbconvert_exporter": "python",
   "pygments_lexer": "ipython3",
   "version": "3.6.5"
  }
 },
 "nbformat": 4,
 "nbformat_minor": 1
}