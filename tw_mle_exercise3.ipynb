{
 "cells": [
  {
   "cell_type": "code",
   "execution_count": 1,
   "metadata": {
    "pycharm": {
     "name": "#%%\n"
    }
   },
   "outputs": [],
   "source": [
    "# global Imports\n",
    "import pandas as pd\n",
    "import numpy as numpy\n",
    "\n",
    "#sk learn imports\n",
    "from sklearn.model_selection import train_test_split\n",
    "from sklearn import metrics\n",
    "from sklearn.model_selection import cross_validate\n",
    "from sklearn.metrics import accuracy_score\n",
    "from sklearn.metrics import precision_score\n",
    "from sklearn.metrics import recall_score\n",
    "from sklearn.metrics import make_scorer\n",
    "\n",
    "#Data reporting\n",
    "from IPython.display import display\n",
    "\n",
    "# Global definitions:\n",
    "overall_results = []\n",
    "averaging_approach = 'macro'\n",
    "zero_division_approach = 0\n",
    "number_of_folds = 5\n",
    "scoring = {'Accuracy': make_scorer(accuracy_score),\n",
    "            'Precision': make_scorer(precision_score, average=averaging_approach, zero_division=zero_division_approach),\n",
    "            'Recall': make_scorer(recall_score, average=averaging_approach, zero_division=zero_division_approach)}\n",
    "\n",
    "# Helper functions\n",
    "def parse_k_fold_results(results):\n",
    "    return \"m: \" + str(numpy.average(results)) + \" std: \" + str(numpy.std(results))\n",
    "\n",
    "def parse_argument_tuple_as_string(argumentsTuple):\n",
    "    return \"max Depth: \" + str(argumentsTuple[0])  + \\\n",
    "           \", min Samples: \" + str(argumentsTuple[1])\n",
    "\n",
    "def calculate_results_holdout(classifier_used, X_train, X_test, y_train, y_test):\n",
    "    classifier_used.fit(X_train, y_train)\n",
    "\n",
    "    # predict the test set on our trained classifier\n",
    "    y_test_predicted = classifier.predict(X_test)\n",
    "\n",
    "    acc = metrics.accuracy_score(y_test, y_test_predicted)\n",
    "    recall=metrics.recall_score(y_test, y_test_predicted)\n",
    "    precision = metrics.precision_score(y_test, y_test_predicted)\n",
    "\n",
    "    return pd.Series({\n",
    "            'arguments': parse_argument_tuple_as_string(argumentTuple),\n",
    "            'accuracy':acc,\n",
    "            'precision':precision,\n",
    "            'recall':recall\n",
    "        })\n",
    "\n",
    "def calculate_results_cross_validate(classifier_used, description_used, data, target):\n",
    "   scores = cross_validate(classifier_used, data, target,\n",
    "                                scoring = scoring,\n",
    "                                cv = number_of_folds,\n",
    "                                error_score = 0)\n",
    "\n",
    "   return pd.Series({\n",
    "            'classifier': str(classifier),\n",
    "            'arguments': description_used,\n",
    "            'mean_accuracy': numpy.average(scores.get('test_Accuracy')),\n",
    "            'mean_precision': numpy.average(scores.get('test_Precision')),\n",
    "            'mean_recall': numpy.average(scores.get('test_Recall')),\n",
    "            'accuracy': parse_k_fold_results(scores.get('test_Accuracy')),\n",
    "            'precision': parse_k_fold_results(scores.get('test_Precision')),\n",
    "            'recall':parse_k_fold_results(scores.get('test_Recall'))\n",
    "        })\n",
    "\n",
    "def print_results(array, column_for_max):\n",
    "    df = pd.DataFrame(array)\n",
    "    display('Results', df)\n",
    "\n",
    "    #best = decision_tree_results_df[decision_tree_results_df['mean_accuracy'].argmax()]\n",
    "    best = df.iloc[df[column_for_max].idxmax()]\n",
    "    display(best)"
   ]
  },
  {
   "cell_type": "markdown",
   "metadata": {},
   "source": [
    "# Congressional Voting"
   ]
  },
  {
   "cell_type": "code",
   "execution_count": 2,
   "metadata": {
    "pycharm": {
     "name": "#%% Read Data\n"
    }
   },
   "outputs": [
    {
     "data": {
      "text/plain": "'Original Data'"
     },
     "metadata": {},
     "output_type": "display_data"
    },
    {
     "data": {
      "text/plain": "      ID       class handicapped-infants water-project-cost-sharing  \\\n0    213    democrat                   n                          n   \n1     94    democrat                   y                          n   \n2    188    democrat                   y                          n   \n3     61    democrat                   y                          y   \n4    184    democrat                 NaN                        NaN   \n..   ...         ...                 ...                        ...   \n213  250    democrat                   y                          n   \n214   26    democrat                   y                          n   \n215  110    democrat                   y                        NaN   \n216   34  republican                   n                          y   \n217  314  republican                   n                          y   \n\n    adoption-of-the-budget-resolution physician-fee-freeze el-salvador-aid  \\\n0                                   y                    n               n   \n1                                   y                    n               n   \n2                                   y                    n               n   \n3                                   y                    n               n   \n4                                 NaN                  NaN             NaN   \n..                                ...                  ...             ...   \n213                                 y                    n               n   \n214                                 y                    n               n   \n215                                 y                    n               n   \n216                                 n                    y               y   \n217                                 y                    y               y   \n\n    religious-groups-in-schools anti-satellite-test-ban  \\\n0                             n                       y   \n1                             n                       y   \n2                             n                       y   \n3                           NaN                       y   \n4                           NaN                     NaN   \n..                          ...                     ...   \n213                           n                       y   \n214                           n                       y   \n215                           n                       y   \n216                           y                       n   \n217                           y                       n   \n\n    aid-to-nicaraguan-contras mx-missile immigration  \\\n0                           y          y           n   \n1                           n          y           y   \n2                           y          y           n   \n3                           y          y           y   \n4                         NaN          y         NaN   \n..                        ...        ...         ...   \n213                         y        NaN           n   \n214                         y          y           y   \n215                         y          y           n   \n216                         n          n           n   \n217                         n          n           y   \n\n    synfuels-crporation-cutback education-spending superfund-right-to-sue  \\\n0                             y                  n                      n   \n1                             y                  n                      n   \n2                             n                  n                      n   \n3                             n                  n                      n   \n4                           NaN                NaN                    NaN   \n..                          ...                ...                    ...   \n213                           y                  n                      n   \n214                           n                  n                      n   \n215                           n                  n                      n   \n216                           n                  y                      y   \n217                           n                  y                      y   \n\n    crime duty-free-exports export-administration-act-south-africa  \n0       n                 y                                      y  \n1       n                 y                                      y  \n2       n                 y                                    NaN  \n3       n                 y                                    NaN  \n4     NaN               NaN                                    NaN  \n..    ...               ...                                    ...  \n213     n                 y                                      y  \n214     n                 y                                      y  \n215     n                 y                                    NaN  \n216     y                 n                                      y  \n217     y                 n                                      y  \n\n[218 rows x 18 columns]",
      "text/html": "<div>\n<style scoped>\n    .dataframe tbody tr th:only-of-type {\n        vertical-align: middle;\n    }\n\n    .dataframe tbody tr th {\n        vertical-align: top;\n    }\n\n    .dataframe thead th {\n        text-align: right;\n    }\n</style>\n<table border=\"1\" class=\"dataframe\">\n  <thead>\n    <tr style=\"text-align: right;\">\n      <th></th>\n      <th>ID</th>\n      <th>class</th>\n      <th>handicapped-infants</th>\n      <th>water-project-cost-sharing</th>\n      <th>adoption-of-the-budget-resolution</th>\n      <th>physician-fee-freeze</th>\n      <th>el-salvador-aid</th>\n      <th>religious-groups-in-schools</th>\n      <th>anti-satellite-test-ban</th>\n      <th>aid-to-nicaraguan-contras</th>\n      <th>mx-missile</th>\n      <th>immigration</th>\n      <th>synfuels-crporation-cutback</th>\n      <th>education-spending</th>\n      <th>superfund-right-to-sue</th>\n      <th>crime</th>\n      <th>duty-free-exports</th>\n      <th>export-administration-act-south-africa</th>\n    </tr>\n  </thead>\n  <tbody>\n    <tr>\n      <th>0</th>\n      <td>213</td>\n      <td>democrat</td>\n      <td>n</td>\n      <td>n</td>\n      <td>y</td>\n      <td>n</td>\n      <td>n</td>\n      <td>n</td>\n      <td>y</td>\n      <td>y</td>\n      <td>y</td>\n      <td>n</td>\n      <td>y</td>\n      <td>n</td>\n      <td>n</td>\n      <td>n</td>\n      <td>y</td>\n      <td>y</td>\n    </tr>\n    <tr>\n      <th>1</th>\n      <td>94</td>\n      <td>democrat</td>\n      <td>y</td>\n      <td>n</td>\n      <td>y</td>\n      <td>n</td>\n      <td>n</td>\n      <td>n</td>\n      <td>y</td>\n      <td>n</td>\n      <td>y</td>\n      <td>y</td>\n      <td>y</td>\n      <td>n</td>\n      <td>n</td>\n      <td>n</td>\n      <td>y</td>\n      <td>y</td>\n    </tr>\n    <tr>\n      <th>2</th>\n      <td>188</td>\n      <td>democrat</td>\n      <td>y</td>\n      <td>n</td>\n      <td>y</td>\n      <td>n</td>\n      <td>n</td>\n      <td>n</td>\n      <td>y</td>\n      <td>y</td>\n      <td>y</td>\n      <td>n</td>\n      <td>n</td>\n      <td>n</td>\n      <td>n</td>\n      <td>n</td>\n      <td>y</td>\n      <td>NaN</td>\n    </tr>\n    <tr>\n      <th>3</th>\n      <td>61</td>\n      <td>democrat</td>\n      <td>y</td>\n      <td>y</td>\n      <td>y</td>\n      <td>n</td>\n      <td>n</td>\n      <td>NaN</td>\n      <td>y</td>\n      <td>y</td>\n      <td>y</td>\n      <td>y</td>\n      <td>n</td>\n      <td>n</td>\n      <td>n</td>\n      <td>n</td>\n      <td>y</td>\n      <td>NaN</td>\n    </tr>\n    <tr>\n      <th>4</th>\n      <td>184</td>\n      <td>democrat</td>\n      <td>NaN</td>\n      <td>NaN</td>\n      <td>NaN</td>\n      <td>NaN</td>\n      <td>NaN</td>\n      <td>NaN</td>\n      <td>NaN</td>\n      <td>NaN</td>\n      <td>y</td>\n      <td>NaN</td>\n      <td>NaN</td>\n      <td>NaN</td>\n      <td>NaN</td>\n      <td>NaN</td>\n      <td>NaN</td>\n      <td>NaN</td>\n    </tr>\n    <tr>\n      <th>...</th>\n      <td>...</td>\n      <td>...</td>\n      <td>...</td>\n      <td>...</td>\n      <td>...</td>\n      <td>...</td>\n      <td>...</td>\n      <td>...</td>\n      <td>...</td>\n      <td>...</td>\n      <td>...</td>\n      <td>...</td>\n      <td>...</td>\n      <td>...</td>\n      <td>...</td>\n      <td>...</td>\n      <td>...</td>\n      <td>...</td>\n    </tr>\n    <tr>\n      <th>213</th>\n      <td>250</td>\n      <td>democrat</td>\n      <td>y</td>\n      <td>n</td>\n      <td>y</td>\n      <td>n</td>\n      <td>n</td>\n      <td>n</td>\n      <td>y</td>\n      <td>y</td>\n      <td>NaN</td>\n      <td>n</td>\n      <td>y</td>\n      <td>n</td>\n      <td>n</td>\n      <td>n</td>\n      <td>y</td>\n      <td>y</td>\n    </tr>\n    <tr>\n      <th>214</th>\n      <td>26</td>\n      <td>democrat</td>\n      <td>y</td>\n      <td>n</td>\n      <td>y</td>\n      <td>n</td>\n      <td>n</td>\n      <td>n</td>\n      <td>y</td>\n      <td>y</td>\n      <td>y</td>\n      <td>y</td>\n      <td>n</td>\n      <td>n</td>\n      <td>n</td>\n      <td>n</td>\n      <td>y</td>\n      <td>y</td>\n    </tr>\n    <tr>\n      <th>215</th>\n      <td>110</td>\n      <td>democrat</td>\n      <td>y</td>\n      <td>NaN</td>\n      <td>y</td>\n      <td>n</td>\n      <td>n</td>\n      <td>n</td>\n      <td>y</td>\n      <td>y</td>\n      <td>y</td>\n      <td>n</td>\n      <td>n</td>\n      <td>n</td>\n      <td>n</td>\n      <td>n</td>\n      <td>y</td>\n      <td>NaN</td>\n    </tr>\n    <tr>\n      <th>216</th>\n      <td>34</td>\n      <td>republican</td>\n      <td>n</td>\n      <td>y</td>\n      <td>n</td>\n      <td>y</td>\n      <td>y</td>\n      <td>y</td>\n      <td>n</td>\n      <td>n</td>\n      <td>n</td>\n      <td>n</td>\n      <td>n</td>\n      <td>y</td>\n      <td>y</td>\n      <td>y</td>\n      <td>n</td>\n      <td>y</td>\n    </tr>\n    <tr>\n      <th>217</th>\n      <td>314</td>\n      <td>republican</td>\n      <td>n</td>\n      <td>y</td>\n      <td>y</td>\n      <td>y</td>\n      <td>y</td>\n      <td>y</td>\n      <td>n</td>\n      <td>n</td>\n      <td>n</td>\n      <td>y</td>\n      <td>n</td>\n      <td>y</td>\n      <td>y</td>\n      <td>y</td>\n      <td>n</td>\n      <td>y</td>\n    </tr>\n  </tbody>\n</table>\n<p>218 rows × 18 columns</p>\n</div>"
     },
     "metadata": {},
     "output_type": "display_data"
    },
    {
     "data": {
      "text/plain": "'Recoded Data'"
     },
     "metadata": {},
     "output_type": "display_data"
    },
    {
     "data": {
      "text/plain": "    class handicapped-infants water-project-cost-sharing  \\\n0       2                   0                          0   \n1       2                   1                          0   \n5       2                   0                          0   \n8       3                   0                          0   \n9       3                   0                          0   \n..    ...                 ...                        ...   \n207     3                   0                          0   \n212     3                   1                          1   \n214     2                   1                          0   \n216     3                   0                          1   \n217     3                   0                          1   \n\n    adoption-of-the-budget-resolution physician-fee-freeze el-salvador-aid  \\\n0                                   1                    0               0   \n1                                   1                    0               0   \n5                                   1                    0               0   \n8                                   0                    1               1   \n9                                   1                    1               1   \n..                                ...                  ...             ...   \n207                                 0                    1               1   \n212                                 1                    1               1   \n214                                 1                    0               0   \n216                                 0                    1               1   \n217                                 1                    1               1   \n\n    religious-groups-in-schools anti-satellite-test-ban  \\\n0                             0                       1   \n1                             0                       1   \n5                             0                       1   \n8                             1                       0   \n9                             1                       1   \n..                          ...                     ...   \n207                           1                       0   \n212                           1                       1   \n214                           0                       1   \n216                           1                       0   \n217                           1                       0   \n\n    aid-to-nicaraguan-contras mx-missile immigration  \\\n0                           1          1           0   \n1                           0          1           1   \n5                           1          1           1   \n8                           0          0           1   \n9                           1          0           1   \n..                        ...        ...         ...   \n207                         0          0           0   \n212                         1          0           1   \n214                         1          1           1   \n216                         0          0           0   \n217                         0          0           1   \n\n    synfuels-crporation-cutback education-spending superfund-right-to-sue  \\\n0                             1                  0                      0   \n1                             1                  0                      0   \n5                             0                  0                      1   \n8                             0                  1                      1   \n9                             0                  0                      0   \n..                          ...                ...                    ...   \n207                           0                  1                      1   \n212                           0                  0                      1   \n214                           0                  0                      0   \n216                           0                  1                      1   \n217                           0                  1                      1   \n\n    crime duty-free-exports  \n0       0                 1  \n1       0                 1  \n5       0                 1  \n8       1                 0  \n9       1                 0  \n..    ...               ...  \n207     1                 0  \n212     1                 0  \n214     0                 1  \n216     1                 0  \n217     1                 0  \n\n[115 rows x 16 columns]",
      "text/html": "<div>\n<style scoped>\n    .dataframe tbody tr th:only-of-type {\n        vertical-align: middle;\n    }\n\n    .dataframe tbody tr th {\n        vertical-align: top;\n    }\n\n    .dataframe thead th {\n        text-align: right;\n    }\n</style>\n<table border=\"1\" class=\"dataframe\">\n  <thead>\n    <tr style=\"text-align: right;\">\n      <th></th>\n      <th>class</th>\n      <th>handicapped-infants</th>\n      <th>water-project-cost-sharing</th>\n      <th>adoption-of-the-budget-resolution</th>\n      <th>physician-fee-freeze</th>\n      <th>el-salvador-aid</th>\n      <th>religious-groups-in-schools</th>\n      <th>anti-satellite-test-ban</th>\n      <th>aid-to-nicaraguan-contras</th>\n      <th>mx-missile</th>\n      <th>immigration</th>\n      <th>synfuels-crporation-cutback</th>\n      <th>education-spending</th>\n      <th>superfund-right-to-sue</th>\n      <th>crime</th>\n      <th>duty-free-exports</th>\n    </tr>\n  </thead>\n  <tbody>\n    <tr>\n      <th>0</th>\n      <td>2</td>\n      <td>0</td>\n      <td>0</td>\n      <td>1</td>\n      <td>0</td>\n      <td>0</td>\n      <td>0</td>\n      <td>1</td>\n      <td>1</td>\n      <td>1</td>\n      <td>0</td>\n      <td>1</td>\n      <td>0</td>\n      <td>0</td>\n      <td>0</td>\n      <td>1</td>\n    </tr>\n    <tr>\n      <th>1</th>\n      <td>2</td>\n      <td>1</td>\n      <td>0</td>\n      <td>1</td>\n      <td>0</td>\n      <td>0</td>\n      <td>0</td>\n      <td>1</td>\n      <td>0</td>\n      <td>1</td>\n      <td>1</td>\n      <td>1</td>\n      <td>0</td>\n      <td>0</td>\n      <td>0</td>\n      <td>1</td>\n    </tr>\n    <tr>\n      <th>5</th>\n      <td>2</td>\n      <td>0</td>\n      <td>0</td>\n      <td>1</td>\n      <td>0</td>\n      <td>0</td>\n      <td>0</td>\n      <td>1</td>\n      <td>1</td>\n      <td>1</td>\n      <td>1</td>\n      <td>0</td>\n      <td>0</td>\n      <td>1</td>\n      <td>0</td>\n      <td>1</td>\n    </tr>\n    <tr>\n      <th>8</th>\n      <td>3</td>\n      <td>0</td>\n      <td>0</td>\n      <td>0</td>\n      <td>1</td>\n      <td>1</td>\n      <td>1</td>\n      <td>0</td>\n      <td>0</td>\n      <td>0</td>\n      <td>1</td>\n      <td>0</td>\n      <td>1</td>\n      <td>1</td>\n      <td>1</td>\n      <td>0</td>\n    </tr>\n    <tr>\n      <th>9</th>\n      <td>3</td>\n      <td>0</td>\n      <td>0</td>\n      <td>1</td>\n      <td>1</td>\n      <td>1</td>\n      <td>1</td>\n      <td>1</td>\n      <td>1</td>\n      <td>0</td>\n      <td>1</td>\n      <td>0</td>\n      <td>0</td>\n      <td>0</td>\n      <td>1</td>\n      <td>0</td>\n    </tr>\n    <tr>\n      <th>...</th>\n      <td>...</td>\n      <td>...</td>\n      <td>...</td>\n      <td>...</td>\n      <td>...</td>\n      <td>...</td>\n      <td>...</td>\n      <td>...</td>\n      <td>...</td>\n      <td>...</td>\n      <td>...</td>\n      <td>...</td>\n      <td>...</td>\n      <td>...</td>\n      <td>...</td>\n      <td>...</td>\n    </tr>\n    <tr>\n      <th>207</th>\n      <td>3</td>\n      <td>0</td>\n      <td>0</td>\n      <td>0</td>\n      <td>1</td>\n      <td>1</td>\n      <td>1</td>\n      <td>0</td>\n      <td>0</td>\n      <td>0</td>\n      <td>0</td>\n      <td>0</td>\n      <td>1</td>\n      <td>1</td>\n      <td>1</td>\n      <td>0</td>\n    </tr>\n    <tr>\n      <th>212</th>\n      <td>3</td>\n      <td>1</td>\n      <td>1</td>\n      <td>1</td>\n      <td>1</td>\n      <td>1</td>\n      <td>1</td>\n      <td>1</td>\n      <td>1</td>\n      <td>0</td>\n      <td>1</td>\n      <td>0</td>\n      <td>0</td>\n      <td>1</td>\n      <td>1</td>\n      <td>0</td>\n    </tr>\n    <tr>\n      <th>214</th>\n      <td>2</td>\n      <td>1</td>\n      <td>0</td>\n      <td>1</td>\n      <td>0</td>\n      <td>0</td>\n      <td>0</td>\n      <td>1</td>\n      <td>1</td>\n      <td>1</td>\n      <td>1</td>\n      <td>0</td>\n      <td>0</td>\n      <td>0</td>\n      <td>0</td>\n      <td>1</td>\n    </tr>\n    <tr>\n      <th>216</th>\n      <td>3</td>\n      <td>0</td>\n      <td>1</td>\n      <td>0</td>\n      <td>1</td>\n      <td>1</td>\n      <td>1</td>\n      <td>0</td>\n      <td>0</td>\n      <td>0</td>\n      <td>0</td>\n      <td>0</td>\n      <td>1</td>\n      <td>1</td>\n      <td>1</td>\n      <td>0</td>\n    </tr>\n    <tr>\n      <th>217</th>\n      <td>3</td>\n      <td>0</td>\n      <td>1</td>\n      <td>1</td>\n      <td>1</td>\n      <td>1</td>\n      <td>1</td>\n      <td>0</td>\n      <td>0</td>\n      <td>0</td>\n      <td>1</td>\n      <td>0</td>\n      <td>1</td>\n      <td>1</td>\n      <td>1</td>\n      <td>0</td>\n    </tr>\n  </tbody>\n</table>\n<p>115 rows × 16 columns</p>\n</div>"
     },
     "metadata": {},
     "output_type": "display_data"
    }
   ],
   "source": [
    "votingDataLearn = pd.read_csv(\"data/voting/CongressionalVotingID.shuf.lrn.csv\", na_values='unknown')\n",
    "votingDataSolutionExample = pd.read_csv(\"data/voting/CongressionalVotingID.shuf.sol.ex.csv\", na_values='unknown')\n",
    "votingDataTest = pd.read_csv(\"data/voting/CongressionalVotingID.shuf.tes.csv\", na_values='unknown')\n",
    "display(\"Original Data\", votingDataLearn)\n",
    "\n",
    "#Recode values\n",
    "votingDataLearn = votingDataLearn.dropna()\n",
    "votingDataLearn = votingDataLearn.replace('y', 1)\\\n",
    "    .replace('n', 0)\\\n",
    "    .replace('democrat', 2)\\\n",
    "    .replace('republican', 3)\n",
    "votingDataLearn = votingDataLearn[votingDataLearn.columns[1:17]].astype('category')\n",
    "\n",
    "display(\"Recoded Data\", votingDataLearn)\n",
    "\n",
    "# Prepare a train/test set split\n",
    "X_train, X_test, y_train, y_test = train_test_split(votingDataLearn[votingDataLearn.columns[2:17]],\n",
    "                                                    votingDataLearn[votingDataLearn.columns[1]], test_size=0.33)"
   ]
  },
  {
   "cell_type": "markdown",
   "source": [
    "## Neighbours"
   ],
   "metadata": {
    "collapsed": false
   }
  },
  {
   "cell_type": "code",
   "execution_count": 3,
   "outputs": [
    {
     "data": {
      "text/plain": "'Results'"
     },
     "metadata": {},
     "output_type": "display_data"
    },
    {
     "data": {
      "text/plain": "                            classifier arguments  mean_accuracy  \\\n0  KNeighborsClassifier(n_neighbors=1)     N = 1       0.591304   \n1  KNeighborsClassifier(n_neighbors=2)     N = 2       0.678261   \n2  KNeighborsClassifier(n_neighbors=3)     N = 3       0.608696   \n3  KNeighborsClassifier(n_neighbors=4)     N = 4       0.660870   \n4               KNeighborsClassifier()     N = 5       0.660870   \n5  KNeighborsClassifier(n_neighbors=6)     N = 6       0.713043   \n6  KNeighborsClassifier(n_neighbors=7)     N = 7       0.695652   \n7  KNeighborsClassifier(n_neighbors=8)     N = 8       0.695652   \n8  KNeighborsClassifier(n_neighbors=9)     N = 9       0.686957   \n\n   mean_precision  mean_recall  \\\n0        0.540594     0.538393   \n1        0.610393     0.578274   \n2        0.547284     0.543690   \n3        0.589899     0.582440   \n4        0.603157     0.588690   \n5        0.719294     0.610357   \n6        0.678699     0.609940   \n7        0.695921     0.604107   \n8        0.655219     0.603274   \n\n                                         accuracy  \\\n0   m: 0.591304347826087 std: 0.05897678246195886   \n1  m: 0.6782608695652173 std: 0.05897678246195885   \n2   m: 0.608695652173913 std: 0.07275304578557178   \n3  m: 0.6608695652173913 std: 0.08430747578115352   \n4  m: 0.6608695652173913 std: 0.05070392952039388   \n5  m: 0.7130434782608696 std: 0.05217391304347825   \n6  m: 0.6956521739130436 std: 0.07275304578557179   \n7  m: 0.6956521739130436 std: 0.07275304578557179   \n8  m: 0.6869565217391305 std: 0.08430747578115352   \n\n                                        precision  \\\n0  m: 0.5405944055944055 std: 0.08137150458617437   \n1  m: 0.6103928939997051 std: 0.15449372546140622   \n2  m: 0.5472840802987862 std: 0.09930513533310184   \n3    m: 0.5898991965207134 std: 0.158902797566028   \n4   m: 0.603157096171802 std: 0.07833256543097623   \n5  m: 0.7192940685045949 std: 0.12556545248847883   \n6  m: 0.6786988304093567 std: 0.12866800837714396   \n7   m: 0.695921052631579 std: 0.14675595892656465   \n8   m: 0.655219298245614 std: 0.14566583838622166   \n\n                                           recall  \n0  m: 0.5383928571428572 std: 0.06301938387325104  \n1  m: 0.5782738095238095 std: 0.07604245293601514  \n2   m: 0.5436904761904763 std: 0.0816831511892668  \n3  m: 0.5824404761904762 std: 0.10085553811844443  \n4  m: 0.5886904761904763 std: 0.06293668307988201  \n5  m: 0.6103571428571429 std: 0.05861762599336061  \n6  m: 0.6099404761904762 std: 0.07653465786736936  \n7   m: 0.604107142857143 std: 0.06890954997021462  \n8  m: 0.6032738095238095 std: 0.08913837048639896  ",
      "text/html": "<div>\n<style scoped>\n    .dataframe tbody tr th:only-of-type {\n        vertical-align: middle;\n    }\n\n    .dataframe tbody tr th {\n        vertical-align: top;\n    }\n\n    .dataframe thead th {\n        text-align: right;\n    }\n</style>\n<table border=\"1\" class=\"dataframe\">\n  <thead>\n    <tr style=\"text-align: right;\">\n      <th></th>\n      <th>classifier</th>\n      <th>arguments</th>\n      <th>mean_accuracy</th>\n      <th>mean_precision</th>\n      <th>mean_recall</th>\n      <th>accuracy</th>\n      <th>precision</th>\n      <th>recall</th>\n    </tr>\n  </thead>\n  <tbody>\n    <tr>\n      <th>0</th>\n      <td>KNeighborsClassifier(n_neighbors=1)</td>\n      <td>N = 1</td>\n      <td>0.591304</td>\n      <td>0.540594</td>\n      <td>0.538393</td>\n      <td>m: 0.591304347826087 std: 0.05897678246195886</td>\n      <td>m: 0.5405944055944055 std: 0.08137150458617437</td>\n      <td>m: 0.5383928571428572 std: 0.06301938387325104</td>\n    </tr>\n    <tr>\n      <th>1</th>\n      <td>KNeighborsClassifier(n_neighbors=2)</td>\n      <td>N = 2</td>\n      <td>0.678261</td>\n      <td>0.610393</td>\n      <td>0.578274</td>\n      <td>m: 0.6782608695652173 std: 0.05897678246195885</td>\n      <td>m: 0.6103928939997051 std: 0.15449372546140622</td>\n      <td>m: 0.5782738095238095 std: 0.07604245293601514</td>\n    </tr>\n    <tr>\n      <th>2</th>\n      <td>KNeighborsClassifier(n_neighbors=3)</td>\n      <td>N = 3</td>\n      <td>0.608696</td>\n      <td>0.547284</td>\n      <td>0.543690</td>\n      <td>m: 0.608695652173913 std: 0.07275304578557178</td>\n      <td>m: 0.5472840802987862 std: 0.09930513533310184</td>\n      <td>m: 0.5436904761904763 std: 0.0816831511892668</td>\n    </tr>\n    <tr>\n      <th>3</th>\n      <td>KNeighborsClassifier(n_neighbors=4)</td>\n      <td>N = 4</td>\n      <td>0.660870</td>\n      <td>0.589899</td>\n      <td>0.582440</td>\n      <td>m: 0.6608695652173913 std: 0.08430747578115352</td>\n      <td>m: 0.5898991965207134 std: 0.158902797566028</td>\n      <td>m: 0.5824404761904762 std: 0.10085553811844443</td>\n    </tr>\n    <tr>\n      <th>4</th>\n      <td>KNeighborsClassifier()</td>\n      <td>N = 5</td>\n      <td>0.660870</td>\n      <td>0.603157</td>\n      <td>0.588690</td>\n      <td>m: 0.6608695652173913 std: 0.05070392952039388</td>\n      <td>m: 0.603157096171802 std: 0.07833256543097623</td>\n      <td>m: 0.5886904761904763 std: 0.06293668307988201</td>\n    </tr>\n    <tr>\n      <th>5</th>\n      <td>KNeighborsClassifier(n_neighbors=6)</td>\n      <td>N = 6</td>\n      <td>0.713043</td>\n      <td>0.719294</td>\n      <td>0.610357</td>\n      <td>m: 0.7130434782608696 std: 0.05217391304347825</td>\n      <td>m: 0.7192940685045949 std: 0.12556545248847883</td>\n      <td>m: 0.6103571428571429 std: 0.05861762599336061</td>\n    </tr>\n    <tr>\n      <th>6</th>\n      <td>KNeighborsClassifier(n_neighbors=7)</td>\n      <td>N = 7</td>\n      <td>0.695652</td>\n      <td>0.678699</td>\n      <td>0.609940</td>\n      <td>m: 0.6956521739130436 std: 0.07275304578557179</td>\n      <td>m: 0.6786988304093567 std: 0.12866800837714396</td>\n      <td>m: 0.6099404761904762 std: 0.07653465786736936</td>\n    </tr>\n    <tr>\n      <th>7</th>\n      <td>KNeighborsClassifier(n_neighbors=8)</td>\n      <td>N = 8</td>\n      <td>0.695652</td>\n      <td>0.695921</td>\n      <td>0.604107</td>\n      <td>m: 0.6956521739130436 std: 0.07275304578557179</td>\n      <td>m: 0.695921052631579 std: 0.14675595892656465</td>\n      <td>m: 0.604107142857143 std: 0.06890954997021462</td>\n    </tr>\n    <tr>\n      <th>8</th>\n      <td>KNeighborsClassifier(n_neighbors=9)</td>\n      <td>N = 9</td>\n      <td>0.686957</td>\n      <td>0.655219</td>\n      <td>0.603274</td>\n      <td>m: 0.6869565217391305 std: 0.08430747578115352</td>\n      <td>m: 0.655219298245614 std: 0.14566583838622166</td>\n      <td>m: 0.6032738095238095 std: 0.08913837048639896</td>\n    </tr>\n  </tbody>\n</table>\n</div>"
     },
     "metadata": {},
     "output_type": "display_data"
    },
    {
     "data": {
      "text/plain": "classifier                   KNeighborsClassifier(n_neighbors=6)\narguments                                                  N = 6\nmean_accuracy                                           0.713043\nmean_precision                                          0.719294\nmean_recall                                             0.610357\naccuracy          m: 0.7130434782608696 std: 0.05217391304347825\nprecision         m: 0.7192940685045949 std: 0.12556545248847883\nrecall            m: 0.6103571428571429 std: 0.05861762599336061\nName: 5, dtype: object"
     },
     "metadata": {},
     "output_type": "display_data"
    }
   ],
   "source": [
    "from sklearn import neighbors\n",
    "\n",
    "knn_results = []\n",
    "\n",
    "n_neighbors = range(1,10,1)\n",
    "\n",
    "for n in n_neighbors:\n",
    "    classifier = neighbors.KNeighborsClassifier(n)\n",
    "    description = \"N = \" + str(n)\n",
    "    result = calculate_results_cross_validate(classifier,\n",
    "                                              description,\n",
    "                                              votingDataLearn[votingDataLearn.columns[2:17]],\n",
    "                                              votingDataLearn[votingDataLearn.columns[1]])\n",
    "    knn_results.append(result)\n",
    "    overall_results.append(result)\n",
    "\n",
    "print_results(knn_results, \"mean_accuracy\")"
   ],
   "metadata": {
    "collapsed": false,
    "pycharm": {
     "name": "#%%\n"
    }
   }
  },
  {
   "cell_type": "markdown",
   "source": [
    "## Bayes"
   ],
   "metadata": {
    "collapsed": false
   }
  },
  {
   "cell_type": "code",
   "execution_count": 4,
   "outputs": [
    {
     "name": "stderr",
     "output_type": "stream",
     "text": [
      "f:\\informatik\\tw_mle_exercise3\\venv\\lib\\site-packages\\sklearn\\naive_bayes.py:512: UserWarning: alpha too small will result in numeric errors, setting alpha = 1.0e-10\n",
      "  'setting alpha = %.1e' % _ALPHA_MIN)\n",
      "f:\\informatik\\tw_mle_exercise3\\venv\\lib\\site-packages\\sklearn\\naive_bayes.py:512: UserWarning: alpha too small will result in numeric errors, setting alpha = 1.0e-10\n",
      "  'setting alpha = %.1e' % _ALPHA_MIN)\n",
      "f:\\informatik\\tw_mle_exercise3\\venv\\lib\\site-packages\\sklearn\\naive_bayes.py:512: UserWarning: alpha too small will result in numeric errors, setting alpha = 1.0e-10\n",
      "  'setting alpha = %.1e' % _ALPHA_MIN)\n",
      "f:\\informatik\\tw_mle_exercise3\\venv\\lib\\site-packages\\sklearn\\naive_bayes.py:512: UserWarning: alpha too small will result in numeric errors, setting alpha = 1.0e-10\n",
      "  'setting alpha = %.1e' % _ALPHA_MIN)\n",
      "f:\\informatik\\tw_mle_exercise3\\venv\\lib\\site-packages\\sklearn\\naive_bayes.py:512: UserWarning: alpha too small will result in numeric errors, setting alpha = 1.0e-10\n",
      "  'setting alpha = %.1e' % _ALPHA_MIN)\n"
     ]
    },
    {
     "data": {
      "text/plain": "'Results'"
     },
     "metadata": {},
     "output_type": "display_data"
    },
    {
     "data": {
      "text/plain": "               classifier  arguments  mean_accuracy  mean_precision  \\\n0  CategoricalNB(alpha=0)  Alpha = 0       0.669565        0.651100   \n1  CategoricalNB(alpha=1)  Alpha = 1       0.669565        0.651100   \n2  CategoricalNB(alpha=2)  Alpha = 2       0.669565        0.651100   \n3  CategoricalNB(alpha=3)  Alpha = 3       0.669565        0.651100   \n4  CategoricalNB(alpha=4)  Alpha = 4       0.669565        0.651100   \n5  CategoricalNB(alpha=5)  Alpha = 5       0.678261        0.658104   \n6  CategoricalNB(alpha=6)  Alpha = 6       0.678261        0.658104   \n7  CategoricalNB(alpha=7)  Alpha = 7       0.678261        0.658104   \n8  CategoricalNB(alpha=8)  Alpha = 8       0.678261        0.658104   \n9  CategoricalNB(alpha=9)  Alpha = 9       0.678261        0.658104   \n\n   mean_recall                                        accuracy  \\\n0     0.660298  m: 0.6695652173913043 std: 0.07064381221422576   \n1     0.660298  m: 0.6695652173913043 std: 0.07064381221422576   \n2     0.660298  m: 0.6695652173913043 std: 0.07064381221422576   \n3     0.660298  m: 0.6695652173913043 std: 0.07064381221422576   \n4     0.660298  m: 0.6695652173913043 std: 0.07064381221422576   \n5     0.666964    m: 0.6782608695652174 std: 0.085199643227241   \n6     0.666964    m: 0.6782608695652174 std: 0.085199643227241   \n7     0.666964    m: 0.6782608695652174 std: 0.085199643227241   \n8     0.666964    m: 0.6782608695652174 std: 0.085199643227241   \n9     0.666964    m: 0.6782608695652174 std: 0.085199643227241   \n\n                                        precision  \\\n0  m: 0.6510997335997335 std: 0.08349457091612156   \n1  m: 0.6510997335997335 std: 0.08349457091612156   \n2  m: 0.6510997335997335 std: 0.08349457091612156   \n3  m: 0.6510997335997335 std: 0.08349457091612156   \n4  m: 0.6510997335997335 std: 0.08349457091612156   \n5  m: 0.6581043956043956 std: 0.09447004687734278   \n6  m: 0.6581043956043956 std: 0.09447004687734278   \n7  m: 0.6581043956043956 std: 0.09447004687734278   \n8  m: 0.6581043956043956 std: 0.09447004687734278   \n9  m: 0.6581043956043956 std: 0.09447004687734278   \n\n                                           recall  \n0   m: 0.6602976190476191 std: 0.0944572903762088  \n1   m: 0.6602976190476191 std: 0.0944572903762088  \n2   m: 0.6602976190476191 std: 0.0944572903762088  \n3   m: 0.6602976190476191 std: 0.0944572903762088  \n4   m: 0.6602976190476191 std: 0.0944572903762088  \n5  m: 0.6669642857142857 std: 0.10496766859965583  \n6  m: 0.6669642857142857 std: 0.10496766859965583  \n7  m: 0.6669642857142857 std: 0.10496766859965583  \n8  m: 0.6669642857142857 std: 0.10496766859965583  \n9  m: 0.6669642857142857 std: 0.10496766859965583  ",
      "text/html": "<div>\n<style scoped>\n    .dataframe tbody tr th:only-of-type {\n        vertical-align: middle;\n    }\n\n    .dataframe tbody tr th {\n        vertical-align: top;\n    }\n\n    .dataframe thead th {\n        text-align: right;\n    }\n</style>\n<table border=\"1\" class=\"dataframe\">\n  <thead>\n    <tr style=\"text-align: right;\">\n      <th></th>\n      <th>classifier</th>\n      <th>arguments</th>\n      <th>mean_accuracy</th>\n      <th>mean_precision</th>\n      <th>mean_recall</th>\n      <th>accuracy</th>\n      <th>precision</th>\n      <th>recall</th>\n    </tr>\n  </thead>\n  <tbody>\n    <tr>\n      <th>0</th>\n      <td>CategoricalNB(alpha=0)</td>\n      <td>Alpha = 0</td>\n      <td>0.669565</td>\n      <td>0.651100</td>\n      <td>0.660298</td>\n      <td>m: 0.6695652173913043 std: 0.07064381221422576</td>\n      <td>m: 0.6510997335997335 std: 0.08349457091612156</td>\n      <td>m: 0.6602976190476191 std: 0.0944572903762088</td>\n    </tr>\n    <tr>\n      <th>1</th>\n      <td>CategoricalNB(alpha=1)</td>\n      <td>Alpha = 1</td>\n      <td>0.669565</td>\n      <td>0.651100</td>\n      <td>0.660298</td>\n      <td>m: 0.6695652173913043 std: 0.07064381221422576</td>\n      <td>m: 0.6510997335997335 std: 0.08349457091612156</td>\n      <td>m: 0.6602976190476191 std: 0.0944572903762088</td>\n    </tr>\n    <tr>\n      <th>2</th>\n      <td>CategoricalNB(alpha=2)</td>\n      <td>Alpha = 2</td>\n      <td>0.669565</td>\n      <td>0.651100</td>\n      <td>0.660298</td>\n      <td>m: 0.6695652173913043 std: 0.07064381221422576</td>\n      <td>m: 0.6510997335997335 std: 0.08349457091612156</td>\n      <td>m: 0.6602976190476191 std: 0.0944572903762088</td>\n    </tr>\n    <tr>\n      <th>3</th>\n      <td>CategoricalNB(alpha=3)</td>\n      <td>Alpha = 3</td>\n      <td>0.669565</td>\n      <td>0.651100</td>\n      <td>0.660298</td>\n      <td>m: 0.6695652173913043 std: 0.07064381221422576</td>\n      <td>m: 0.6510997335997335 std: 0.08349457091612156</td>\n      <td>m: 0.6602976190476191 std: 0.0944572903762088</td>\n    </tr>\n    <tr>\n      <th>4</th>\n      <td>CategoricalNB(alpha=4)</td>\n      <td>Alpha = 4</td>\n      <td>0.669565</td>\n      <td>0.651100</td>\n      <td>0.660298</td>\n      <td>m: 0.6695652173913043 std: 0.07064381221422576</td>\n      <td>m: 0.6510997335997335 std: 0.08349457091612156</td>\n      <td>m: 0.6602976190476191 std: 0.0944572903762088</td>\n    </tr>\n    <tr>\n      <th>5</th>\n      <td>CategoricalNB(alpha=5)</td>\n      <td>Alpha = 5</td>\n      <td>0.678261</td>\n      <td>0.658104</td>\n      <td>0.666964</td>\n      <td>m: 0.6782608695652174 std: 0.085199643227241</td>\n      <td>m: 0.6581043956043956 std: 0.09447004687734278</td>\n      <td>m: 0.6669642857142857 std: 0.10496766859965583</td>\n    </tr>\n    <tr>\n      <th>6</th>\n      <td>CategoricalNB(alpha=6)</td>\n      <td>Alpha = 6</td>\n      <td>0.678261</td>\n      <td>0.658104</td>\n      <td>0.666964</td>\n      <td>m: 0.6782608695652174 std: 0.085199643227241</td>\n      <td>m: 0.6581043956043956 std: 0.09447004687734278</td>\n      <td>m: 0.6669642857142857 std: 0.10496766859965583</td>\n    </tr>\n    <tr>\n      <th>7</th>\n      <td>CategoricalNB(alpha=7)</td>\n      <td>Alpha = 7</td>\n      <td>0.678261</td>\n      <td>0.658104</td>\n      <td>0.666964</td>\n      <td>m: 0.6782608695652174 std: 0.085199643227241</td>\n      <td>m: 0.6581043956043956 std: 0.09447004687734278</td>\n      <td>m: 0.6669642857142857 std: 0.10496766859965583</td>\n    </tr>\n    <tr>\n      <th>8</th>\n      <td>CategoricalNB(alpha=8)</td>\n      <td>Alpha = 8</td>\n      <td>0.678261</td>\n      <td>0.658104</td>\n      <td>0.666964</td>\n      <td>m: 0.6782608695652174 std: 0.085199643227241</td>\n      <td>m: 0.6581043956043956 std: 0.09447004687734278</td>\n      <td>m: 0.6669642857142857 std: 0.10496766859965583</td>\n    </tr>\n    <tr>\n      <th>9</th>\n      <td>CategoricalNB(alpha=9)</td>\n      <td>Alpha = 9</td>\n      <td>0.678261</td>\n      <td>0.658104</td>\n      <td>0.666964</td>\n      <td>m: 0.6782608695652174 std: 0.085199643227241</td>\n      <td>m: 0.6581043956043956 std: 0.09447004687734278</td>\n      <td>m: 0.6669642857142857 std: 0.10496766859965583</td>\n    </tr>\n  </tbody>\n</table>\n</div>"
     },
     "metadata": {},
     "output_type": "display_data"
    },
    {
     "data": {
      "text/plain": "classifier                                CategoricalNB(alpha=5)\narguments                                              Alpha = 5\nmean_accuracy                                           0.678261\nmean_precision                                          0.658104\nmean_recall                                             0.666964\naccuracy            m: 0.6782608695652174 std: 0.085199643227241\nprecision         m: 0.6581043956043956 std: 0.09447004687734278\nrecall            m: 0.6669642857142857 std: 0.10496766859965583\nName: 5, dtype: object"
     },
     "metadata": {},
     "output_type": "display_data"
    }
   ],
   "source": [
    "from sklearn import naive_bayes\n",
    "\n",
    "bayes_results = []\n",
    "\n",
    "alphas = range(0,10,1)\n",
    "\n",
    "for alpha in alphas:\n",
    "    classifier = naive_bayes.CategoricalNB(alpha = alpha)\n",
    "    description = \"Alpha = \" + str(alpha)\n",
    "    result = calculate_results_cross_validate(classifier,\n",
    "                                              description,\n",
    "                                              votingDataLearn[votingDataLearn.columns[2:17]],\n",
    "                                              votingDataLearn[votingDataLearn.columns[1]])\n",
    "    bayes_results.append(result)\n",
    "    overall_results.append(result)\n",
    "\n",
    "print_results(bayes_results, \"mean_accuracy\")"
   ],
   "metadata": {
    "collapsed": false,
    "pycharm": {
     "name": "#%%\n"
    }
   }
  },
  {
   "cell_type": "markdown",
   "source": [
    "## Perceptron"
   ],
   "metadata": {
    "collapsed": false
   }
  },
  {
   "cell_type": "code",
   "execution_count": 5,
   "outputs": [
    {
     "data": {
      "text/plain": "'Results'"
     },
     "metadata": {},
     "output_type": "display_data"
    },
    {
     "data": {
      "text/plain": "     classifier            arguments  mean_accuracy  mean_precision  \\\n0  Perceptron()  No additional args.       0.652174        0.605439   \n\n   mean_recall                                        accuracy  \\\n0     0.624464  m: 0.6521739130434783 std: 0.13187609467915742   \n\n                                        precision  \\\n0  m: 0.6054388422035479 std: 0.18708629019311446   \n\n                                           recall  \n0  m: 0.6244642857142857 std: 0.15862491054338837  ",
      "text/html": "<div>\n<style scoped>\n    .dataframe tbody tr th:only-of-type {\n        vertical-align: middle;\n    }\n\n    .dataframe tbody tr th {\n        vertical-align: top;\n    }\n\n    .dataframe thead th {\n        text-align: right;\n    }\n</style>\n<table border=\"1\" class=\"dataframe\">\n  <thead>\n    <tr style=\"text-align: right;\">\n      <th></th>\n      <th>classifier</th>\n      <th>arguments</th>\n      <th>mean_accuracy</th>\n      <th>mean_precision</th>\n      <th>mean_recall</th>\n      <th>accuracy</th>\n      <th>precision</th>\n      <th>recall</th>\n    </tr>\n  </thead>\n  <tbody>\n    <tr>\n      <th>0</th>\n      <td>Perceptron()</td>\n      <td>No additional args.</td>\n      <td>0.652174</td>\n      <td>0.605439</td>\n      <td>0.624464</td>\n      <td>m: 0.6521739130434783 std: 0.13187609467915742</td>\n      <td>m: 0.6054388422035479 std: 0.18708629019311446</td>\n      <td>m: 0.6244642857142857 std: 0.15862491054338837</td>\n    </tr>\n  </tbody>\n</table>\n</div>"
     },
     "metadata": {},
     "output_type": "display_data"
    },
    {
     "data": {
      "text/plain": "classifier                                          Perceptron()\narguments                                    No additional args.\nmean_accuracy                                           0.652174\nmean_precision                                          0.605439\nmean_recall                                             0.624464\naccuracy          m: 0.6521739130434783 std: 0.13187609467915742\nprecision         m: 0.6054388422035479 std: 0.18708629019311446\nrecall            m: 0.6244642857142857 std: 0.15862491054338837\nName: 0, dtype: object"
     },
     "metadata": {},
     "output_type": "display_data"
    }
   ],
   "source": [
    "from sklearn import linear_model\n",
    "\n",
    "perceptron_results = []\n",
    "\n",
    "classifier = linear_model.Perceptron()\n",
    "description = \"No additional args.\"\n",
    "result = calculate_results_cross_validate(classifier,\n",
    "                                          description,\n",
    "                                          votingDataLearn[votingDataLearn.columns[2:17]],\n",
    "                                          votingDataLearn[votingDataLearn.columns[1]])\n",
    "perceptron_results.append(result)\n",
    "overall_results.append(result)\n",
    "\n",
    "print_results(perceptron_results, \"mean_accuracy\")"
   ],
   "metadata": {
    "collapsed": false,
    "pycharm": {
     "name": "#%%\n"
    }
   }
  },
  {
   "cell_type": "markdown",
   "source": [
    "## Decision Tree"
   ],
   "metadata": {
    "collapsed": false,
    "pycharm": {
     "name": "#%% md\n"
    }
   }
  },
  {
   "cell_type": "code",
   "execution_count": 6,
   "metadata": {
    "pycharm": {
     "name": "#%%\n"
    }
   },
   "outputs": [
    {
     "data": {
      "text/plain": "'Results'"
     },
     "metadata": {},
     "output_type": "display_data"
    },
    {
     "data": {
      "text/plain": "                                           classifier  \\\n0   DecisionTreeClassifier(max_depth=1, min_sample...   \n1   DecisionTreeClassifier(max_depth=1, min_sample...   \n2   DecisionTreeClassifier(max_depth=1, min_sample...   \n3   DecisionTreeClassifier(max_depth=1, min_sample...   \n4   DecisionTreeClassifier(max_depth=3, min_sample...   \n5   DecisionTreeClassifier(max_depth=3, min_sample...   \n6   DecisionTreeClassifier(max_depth=3, min_sample...   \n7   DecisionTreeClassifier(max_depth=3, min_sample...   \n8   DecisionTreeClassifier(max_depth=5, min_sample...   \n9   DecisionTreeClassifier(max_depth=5, min_sample...   \n10  DecisionTreeClassifier(max_depth=5, min_sample...   \n11  DecisionTreeClassifier(max_depth=5, min_sample...   \n12  DecisionTreeClassifier(max_depth=7, min_sample...   \n13  DecisionTreeClassifier(max_depth=7, min_sample...   \n14  DecisionTreeClassifier(max_depth=7, min_sample...   \n15  DecisionTreeClassifier(max_depth=7, min_sample...   \n16  DecisionTreeClassifier(max_depth=9, min_sample...   \n17  DecisionTreeClassifier(max_depth=9, min_sample...   \n18  DecisionTreeClassifier(max_depth=9, min_sample...   \n19  DecisionTreeClassifier(max_depth=9, min_sample...   \n\n                         arguments  mean_accuracy  mean_precision  \\\n0     max Depth: 1, min Samples: 2       0.704348        0.678831   \n1    max Depth: 1, min Samples: 20       0.704348        0.678831   \n2    max Depth: 1, min Samples: 50       0.660870        0.330435   \n3   max Depth: 1, min Samples: 100       0.660870        0.330435   \n4     max Depth: 3, min Samples: 2       0.678261        0.620957   \n5    max Depth: 3, min Samples: 20       0.704348        0.672284   \n6    max Depth: 3, min Samples: 50       0.660870        0.330435   \n7   max Depth: 3, min Samples: 100       0.660870        0.330435   \n8     max Depth: 5, min Samples: 2       0.669565        0.632017   \n9    max Depth: 5, min Samples: 20       0.704348        0.672284   \n10   max Depth: 5, min Samples: 50       0.660870        0.330435   \n11  max Depth: 5, min Samples: 100       0.660870        0.330435   \n12    max Depth: 7, min Samples: 2       0.669565        0.629850   \n13   max Depth: 7, min Samples: 20       0.704348        0.672284   \n14   max Depth: 7, min Samples: 50       0.660870        0.330435   \n15  max Depth: 7, min Samples: 100       0.660870        0.330435   \n16    max Depth: 9, min Samples: 2       0.669565        0.629850   \n17   max Depth: 9, min Samples: 20       0.704348        0.672284   \n18   max Depth: 9, min Samples: 50       0.660870        0.330435   \n19  max Depth: 9, min Samples: 100       0.660870        0.330435   \n\n    mean_recall                                         accuracy  \\\n0      0.680298   m: 0.7043478260869565 std: 0.11135868239013649   \n1      0.680298   m: 0.7043478260869565 std: 0.11135868239013649   \n2      0.500000  m: 0.6608695652173914 std: 0.017391304347826077   \n3      0.500000  m: 0.6608695652173914 std: 0.017391304347826077   \n4      0.601012  m: 0.6782608695652174 std: 0.058976782461958845   \n5      0.674464   m: 0.7043478260869565 std: 0.11135868239013649   \n6      0.500000  m: 0.6608695652173914 std: 0.017391304347826077   \n7      0.500000  m: 0.6608695652173914 std: 0.017391304347826077   \n8      0.596190   m: 0.6695652173913043 std: 0.07064381221422576   \n9      0.674464   m: 0.7043478260869565 std: 0.11135868239013649   \n10     0.500000  m: 0.6608695652173914 std: 0.017391304347826077   \n11     0.500000  m: 0.6608695652173914 std: 0.017391304347826077   \n12     0.590357   m: 0.6695652173913043 std: 0.07064381221422576   \n13     0.674464   m: 0.7043478260869565 std: 0.11135868239013649   \n14     0.500000  m: 0.6608695652173914 std: 0.017391304347826077   \n15     0.500000  m: 0.6608695652173914 std: 0.017391304347826077   \n16     0.590357   m: 0.6695652173913043 std: 0.07064381221422576   \n17     0.674464   m: 0.7043478260869565 std: 0.11135868239013649   \n18     0.500000  m: 0.6608695652173914 std: 0.017391304347826077   \n19     0.500000  m: 0.6608695652173914 std: 0.017391304347826077   \n\n                                          precision  \\\n0    m: 0.6788311688311688 std: 0.11844489384109545   \n1    m: 0.6788311688311688 std: 0.11844489384109545   \n2   m: 0.3304347826086957 std: 0.008695652173913038   \n3   m: 0.3304347826086957 std: 0.008695652173913038   \n4    m: 0.6209571417499806 std: 0.17647325328412466   \n5    m: 0.6722835497835498 std: 0.12922232997475017   \n6   m: 0.3304347826086957 std: 0.008695652173913038   \n7   m: 0.3304347826086957 std: 0.008695652173913038   \n8    m: 0.6320168067226891 std: 0.08986614228091011   \n9    m: 0.6722835497835498 std: 0.12922232997475017   \n10  m: 0.3304347826086957 std: 0.008695652173913038   \n11  m: 0.3304347826086957 std: 0.008695652173913038   \n12   m: 0.6298496240601503 std: 0.09066826707726079   \n13   m: 0.6722835497835498 std: 0.12922232997475017   \n14  m: 0.3304347826086957 std: 0.008695652173913038   \n15  m: 0.3304347826086957 std: 0.008695652173913038   \n16   m: 0.6298496240601503 std: 0.09066826707726079   \n17   m: 0.6722835497835498 std: 0.12922232997475017   \n18  m: 0.3304347826086957 std: 0.008695652173913038   \n19  m: 0.3304347826086957 std: 0.008695652173913038   \n\n                                            recall  \n0   m: 0.6802976190476191 std: 0.13145121440560176  \n1   m: 0.6802976190476191 std: 0.13145121440560176  \n2                                  m: 0.5 std: 0.0  \n3                                  m: 0.5 std: 0.0  \n4   m: 0.6010119047619048 std: 0.06221066816519568  \n5    m: 0.6744642857142857 std: 0.1402313746469532  \n6                                  m: 0.5 std: 0.0  \n7                                  m: 0.5 std: 0.0  \n8   m: 0.5961904761904762 std: 0.07000931262964437  \n9    m: 0.6744642857142857 std: 0.1402313746469532  \n10                                 m: 0.5 std: 0.0  \n11                                 m: 0.5 std: 0.0  \n12  m: 0.5903571428571428 std: 0.07168545078937066  \n13   m: 0.6744642857142857 std: 0.1402313746469532  \n14                                 m: 0.5 std: 0.0  \n15                                 m: 0.5 std: 0.0  \n16  m: 0.5903571428571428 std: 0.07168545078937066  \n17   m: 0.6744642857142857 std: 0.1402313746469532  \n18                                 m: 0.5 std: 0.0  \n19                                 m: 0.5 std: 0.0  ",
      "text/html": "<div>\n<style scoped>\n    .dataframe tbody tr th:only-of-type {\n        vertical-align: middle;\n    }\n\n    .dataframe tbody tr th {\n        vertical-align: top;\n    }\n\n    .dataframe thead th {\n        text-align: right;\n    }\n</style>\n<table border=\"1\" class=\"dataframe\">\n  <thead>\n    <tr style=\"text-align: right;\">\n      <th></th>\n      <th>classifier</th>\n      <th>arguments</th>\n      <th>mean_accuracy</th>\n      <th>mean_precision</th>\n      <th>mean_recall</th>\n      <th>accuracy</th>\n      <th>precision</th>\n      <th>recall</th>\n    </tr>\n  </thead>\n  <tbody>\n    <tr>\n      <th>0</th>\n      <td>DecisionTreeClassifier(max_depth=1, min_sample...</td>\n      <td>max Depth: 1, min Samples: 2</td>\n      <td>0.704348</td>\n      <td>0.678831</td>\n      <td>0.680298</td>\n      <td>m: 0.7043478260869565 std: 0.11135868239013649</td>\n      <td>m: 0.6788311688311688 std: 0.11844489384109545</td>\n      <td>m: 0.6802976190476191 std: 0.13145121440560176</td>\n    </tr>\n    <tr>\n      <th>1</th>\n      <td>DecisionTreeClassifier(max_depth=1, min_sample...</td>\n      <td>max Depth: 1, min Samples: 20</td>\n      <td>0.704348</td>\n      <td>0.678831</td>\n      <td>0.680298</td>\n      <td>m: 0.7043478260869565 std: 0.11135868239013649</td>\n      <td>m: 0.6788311688311688 std: 0.11844489384109545</td>\n      <td>m: 0.6802976190476191 std: 0.13145121440560176</td>\n    </tr>\n    <tr>\n      <th>2</th>\n      <td>DecisionTreeClassifier(max_depth=1, min_sample...</td>\n      <td>max Depth: 1, min Samples: 50</td>\n      <td>0.660870</td>\n      <td>0.330435</td>\n      <td>0.500000</td>\n      <td>m: 0.6608695652173914 std: 0.017391304347826077</td>\n      <td>m: 0.3304347826086957 std: 0.008695652173913038</td>\n      <td>m: 0.5 std: 0.0</td>\n    </tr>\n    <tr>\n      <th>3</th>\n      <td>DecisionTreeClassifier(max_depth=1, min_sample...</td>\n      <td>max Depth: 1, min Samples: 100</td>\n      <td>0.660870</td>\n      <td>0.330435</td>\n      <td>0.500000</td>\n      <td>m: 0.6608695652173914 std: 0.017391304347826077</td>\n      <td>m: 0.3304347826086957 std: 0.008695652173913038</td>\n      <td>m: 0.5 std: 0.0</td>\n    </tr>\n    <tr>\n      <th>4</th>\n      <td>DecisionTreeClassifier(max_depth=3, min_sample...</td>\n      <td>max Depth: 3, min Samples: 2</td>\n      <td>0.678261</td>\n      <td>0.620957</td>\n      <td>0.601012</td>\n      <td>m: 0.6782608695652174 std: 0.058976782461958845</td>\n      <td>m: 0.6209571417499806 std: 0.17647325328412466</td>\n      <td>m: 0.6010119047619048 std: 0.06221066816519568</td>\n    </tr>\n    <tr>\n      <th>5</th>\n      <td>DecisionTreeClassifier(max_depth=3, min_sample...</td>\n      <td>max Depth: 3, min Samples: 20</td>\n      <td>0.704348</td>\n      <td>0.672284</td>\n      <td>0.674464</td>\n      <td>m: 0.7043478260869565 std: 0.11135868239013649</td>\n      <td>m: 0.6722835497835498 std: 0.12922232997475017</td>\n      <td>m: 0.6744642857142857 std: 0.1402313746469532</td>\n    </tr>\n    <tr>\n      <th>6</th>\n      <td>DecisionTreeClassifier(max_depth=3, min_sample...</td>\n      <td>max Depth: 3, min Samples: 50</td>\n      <td>0.660870</td>\n      <td>0.330435</td>\n      <td>0.500000</td>\n      <td>m: 0.6608695652173914 std: 0.017391304347826077</td>\n      <td>m: 0.3304347826086957 std: 0.008695652173913038</td>\n      <td>m: 0.5 std: 0.0</td>\n    </tr>\n    <tr>\n      <th>7</th>\n      <td>DecisionTreeClassifier(max_depth=3, min_sample...</td>\n      <td>max Depth: 3, min Samples: 100</td>\n      <td>0.660870</td>\n      <td>0.330435</td>\n      <td>0.500000</td>\n      <td>m: 0.6608695652173914 std: 0.017391304347826077</td>\n      <td>m: 0.3304347826086957 std: 0.008695652173913038</td>\n      <td>m: 0.5 std: 0.0</td>\n    </tr>\n    <tr>\n      <th>8</th>\n      <td>DecisionTreeClassifier(max_depth=5, min_sample...</td>\n      <td>max Depth: 5, min Samples: 2</td>\n      <td>0.669565</td>\n      <td>0.632017</td>\n      <td>0.596190</td>\n      <td>m: 0.6695652173913043 std: 0.07064381221422576</td>\n      <td>m: 0.6320168067226891 std: 0.08986614228091011</td>\n      <td>m: 0.5961904761904762 std: 0.07000931262964437</td>\n    </tr>\n    <tr>\n      <th>9</th>\n      <td>DecisionTreeClassifier(max_depth=5, min_sample...</td>\n      <td>max Depth: 5, min Samples: 20</td>\n      <td>0.704348</td>\n      <td>0.672284</td>\n      <td>0.674464</td>\n      <td>m: 0.7043478260869565 std: 0.11135868239013649</td>\n      <td>m: 0.6722835497835498 std: 0.12922232997475017</td>\n      <td>m: 0.6744642857142857 std: 0.1402313746469532</td>\n    </tr>\n    <tr>\n      <th>10</th>\n      <td>DecisionTreeClassifier(max_depth=5, min_sample...</td>\n      <td>max Depth: 5, min Samples: 50</td>\n      <td>0.660870</td>\n      <td>0.330435</td>\n      <td>0.500000</td>\n      <td>m: 0.6608695652173914 std: 0.017391304347826077</td>\n      <td>m: 0.3304347826086957 std: 0.008695652173913038</td>\n      <td>m: 0.5 std: 0.0</td>\n    </tr>\n    <tr>\n      <th>11</th>\n      <td>DecisionTreeClassifier(max_depth=5, min_sample...</td>\n      <td>max Depth: 5, min Samples: 100</td>\n      <td>0.660870</td>\n      <td>0.330435</td>\n      <td>0.500000</td>\n      <td>m: 0.6608695652173914 std: 0.017391304347826077</td>\n      <td>m: 0.3304347826086957 std: 0.008695652173913038</td>\n      <td>m: 0.5 std: 0.0</td>\n    </tr>\n    <tr>\n      <th>12</th>\n      <td>DecisionTreeClassifier(max_depth=7, min_sample...</td>\n      <td>max Depth: 7, min Samples: 2</td>\n      <td>0.669565</td>\n      <td>0.629850</td>\n      <td>0.590357</td>\n      <td>m: 0.6695652173913043 std: 0.07064381221422576</td>\n      <td>m: 0.6298496240601503 std: 0.09066826707726079</td>\n      <td>m: 0.5903571428571428 std: 0.07168545078937066</td>\n    </tr>\n    <tr>\n      <th>13</th>\n      <td>DecisionTreeClassifier(max_depth=7, min_sample...</td>\n      <td>max Depth: 7, min Samples: 20</td>\n      <td>0.704348</td>\n      <td>0.672284</td>\n      <td>0.674464</td>\n      <td>m: 0.7043478260869565 std: 0.11135868239013649</td>\n      <td>m: 0.6722835497835498 std: 0.12922232997475017</td>\n      <td>m: 0.6744642857142857 std: 0.1402313746469532</td>\n    </tr>\n    <tr>\n      <th>14</th>\n      <td>DecisionTreeClassifier(max_depth=7, min_sample...</td>\n      <td>max Depth: 7, min Samples: 50</td>\n      <td>0.660870</td>\n      <td>0.330435</td>\n      <td>0.500000</td>\n      <td>m: 0.6608695652173914 std: 0.017391304347826077</td>\n      <td>m: 0.3304347826086957 std: 0.008695652173913038</td>\n      <td>m: 0.5 std: 0.0</td>\n    </tr>\n    <tr>\n      <th>15</th>\n      <td>DecisionTreeClassifier(max_depth=7, min_sample...</td>\n      <td>max Depth: 7, min Samples: 100</td>\n      <td>0.660870</td>\n      <td>0.330435</td>\n      <td>0.500000</td>\n      <td>m: 0.6608695652173914 std: 0.017391304347826077</td>\n      <td>m: 0.3304347826086957 std: 0.008695652173913038</td>\n      <td>m: 0.5 std: 0.0</td>\n    </tr>\n    <tr>\n      <th>16</th>\n      <td>DecisionTreeClassifier(max_depth=9, min_sample...</td>\n      <td>max Depth: 9, min Samples: 2</td>\n      <td>0.669565</td>\n      <td>0.629850</td>\n      <td>0.590357</td>\n      <td>m: 0.6695652173913043 std: 0.07064381221422576</td>\n      <td>m: 0.6298496240601503 std: 0.09066826707726079</td>\n      <td>m: 0.5903571428571428 std: 0.07168545078937066</td>\n    </tr>\n    <tr>\n      <th>17</th>\n      <td>DecisionTreeClassifier(max_depth=9, min_sample...</td>\n      <td>max Depth: 9, min Samples: 20</td>\n      <td>0.704348</td>\n      <td>0.672284</td>\n      <td>0.674464</td>\n      <td>m: 0.7043478260869565 std: 0.11135868239013649</td>\n      <td>m: 0.6722835497835498 std: 0.12922232997475017</td>\n      <td>m: 0.6744642857142857 std: 0.1402313746469532</td>\n    </tr>\n    <tr>\n      <th>18</th>\n      <td>DecisionTreeClassifier(max_depth=9, min_sample...</td>\n      <td>max Depth: 9, min Samples: 50</td>\n      <td>0.660870</td>\n      <td>0.330435</td>\n      <td>0.500000</td>\n      <td>m: 0.6608695652173914 std: 0.017391304347826077</td>\n      <td>m: 0.3304347826086957 std: 0.008695652173913038</td>\n      <td>m: 0.5 std: 0.0</td>\n    </tr>\n    <tr>\n      <th>19</th>\n      <td>DecisionTreeClassifier(max_depth=9, min_sample...</td>\n      <td>max Depth: 9, min Samples: 100</td>\n      <td>0.660870</td>\n      <td>0.330435</td>\n      <td>0.500000</td>\n      <td>m: 0.6608695652173914 std: 0.017391304347826077</td>\n      <td>m: 0.3304347826086957 std: 0.008695652173913038</td>\n      <td>m: 0.5 std: 0.0</td>\n    </tr>\n  </tbody>\n</table>\n</div>"
     },
     "metadata": {},
     "output_type": "display_data"
    },
    {
     "data": {
      "text/plain": "classifier        DecisionTreeClassifier(max_depth=1, min_sample...\narguments                              max Depth: 1, min Samples: 2\nmean_accuracy                                              0.704348\nmean_precision                                             0.678831\nmean_recall                                                0.680298\naccuracy             m: 0.7043478260869565 std: 0.11135868239013649\nprecision            m: 0.6788311688311688 std: 0.11844489384109545\nrecall               m: 0.6802976190476191 std: 0.13145121440560176\nName: 0, dtype: object"
     },
     "metadata": {},
     "output_type": "display_data"
    }
   ],
   "source": [
    "from sklearn import tree\n",
    "import itertools\n",
    "\n",
    "# Parameters for the decision tree\n",
    "max_depth_arguments = range(1, 10, 2)#[5,10,15]\n",
    "min_samples_leaf_arguments = [2,20,50,100]\n",
    "argumentTuples = list(itertools.product(max_depth_arguments,\n",
    "                                        min_samples_leaf_arguments))\n",
    "decision_tree_results = []\n",
    "\n",
    "for argumentTuple in argumentTuples:\n",
    "    max_depth = argumentTuple[0]\n",
    "    min_samples_leaf = argumentTuple[1]\n",
    "\n",
    "    classifier = tree.DecisionTreeClassifier(criterion = 'gini',\n",
    "                                             max_depth = max_depth,\n",
    "                                             min_samples_leaf = min_samples_leaf,\n",
    "                                             splitter = 'best')\n",
    "\n",
    "    #result = calculate_results_holdout(classifier, X_train, X_test, y_train, y_test)\n",
    "    result = calculate_results_cross_validate(classifier,\n",
    "                                              parse_argument_tuple_as_string(argumentTuple),\n",
    "                                              votingDataLearn[votingDataLearn.columns[2:17]],\n",
    "                                              votingDataLearn[votingDataLearn.columns[1]])\n",
    "    decision_tree_results.append(result)\n",
    "    overall_results.append(result)\n",
    "\n",
    "print_results(decision_tree_results, \"mean_accuracy\")"
   ]
  },
  {
   "cell_type": "markdown",
   "source": [
    "## SVM"
   ],
   "metadata": {
    "collapsed": false
   }
  },
  {
   "cell_type": "code",
   "execution_count": 7,
   "outputs": [
    {
     "data": {
      "text/plain": "'Results'"
     },
     "metadata": {},
     "output_type": "display_data"
    },
    {
     "data": {
      "text/plain": "                                    classifier        arguments  \\\n0      SVC(C=1, gamma=0.001, kernel='sigmoid')  Kernel: sigmoid   \n1    SVC(C=101, gamma=0.001, kernel='sigmoid')  Kernel: sigmoid   \n2    SVC(C=201, gamma=0.001, kernel='sigmoid')  Kernel: sigmoid   \n3    SVC(C=301, gamma=0.001, kernel='sigmoid')  Kernel: sigmoid   \n4                   SVC(C=1, kernel='sigmoid')  Kernel: sigmoid   \n5                 SVC(C=101, kernel='sigmoid')  Kernel: sigmoid   \n6                 SVC(C=201, kernel='sigmoid')  Kernel: sigmoid   \n7                 SVC(C=301, kernel='sigmoid')  Kernel: sigmoid   \n8     SVC(C=1, gamma='auto', kernel='sigmoid')  Kernel: sigmoid   \n9   SVC(C=101, gamma='auto', kernel='sigmoid')  Kernel: sigmoid   \n10  SVC(C=201, gamma='auto', kernel='sigmoid')  Kernel: sigmoid   \n11  SVC(C=301, gamma='auto', kernel='sigmoid')  Kernel: sigmoid   \n12      SVC(C=1, gamma=0.001, kernel='linear')   Kernel: linear   \n13    SVC(C=101, gamma=0.001, kernel='linear')   Kernel: linear   \n14    SVC(C=201, gamma=0.001, kernel='linear')   Kernel: linear   \n15    SVC(C=301, gamma=0.001, kernel='linear')   Kernel: linear   \n16                   SVC(C=1, kernel='linear')   Kernel: linear   \n17                 SVC(C=101, kernel='linear')   Kernel: linear   \n18                 SVC(C=201, kernel='linear')   Kernel: linear   \n19                 SVC(C=301, kernel='linear')   Kernel: linear   \n20     SVC(C=1, gamma='auto', kernel='linear')   Kernel: linear   \n21   SVC(C=101, gamma='auto', kernel='linear')   Kernel: linear   \n22   SVC(C=201, gamma='auto', kernel='linear')   Kernel: linear   \n23   SVC(C=301, gamma='auto', kernel='linear')   Kernel: linear   \n24                       SVC(C=1, gamma=0.001)      Kernel: rbf   \n25                     SVC(C=101, gamma=0.001)      Kernel: rbf   \n26                     SVC(C=201, gamma=0.001)      Kernel: rbf   \n27                     SVC(C=301, gamma=0.001)      Kernel: rbf   \n28                                    SVC(C=1)      Kernel: rbf   \n29                                  SVC(C=101)      Kernel: rbf   \n30                                  SVC(C=201)      Kernel: rbf   \n31                                  SVC(C=301)      Kernel: rbf   \n32                      SVC(C=1, gamma='auto')      Kernel: rbf   \n33                    SVC(C=101, gamma='auto')      Kernel: rbf   \n34                    SVC(C=201, gamma='auto')      Kernel: rbf   \n35                    SVC(C=301, gamma='auto')      Kernel: rbf   \n36        SVC(C=1, gamma=0.001, kernel='poly')     Kernel: poly   \n37      SVC(C=101, gamma=0.001, kernel='poly')     Kernel: poly   \n38      SVC(C=201, gamma=0.001, kernel='poly')     Kernel: poly   \n39      SVC(C=301, gamma=0.001, kernel='poly')     Kernel: poly   \n40                     SVC(C=1, kernel='poly')     Kernel: poly   \n41                   SVC(C=101, kernel='poly')     Kernel: poly   \n42                   SVC(C=201, kernel='poly')     Kernel: poly   \n43                   SVC(C=301, kernel='poly')     Kernel: poly   \n44       SVC(C=1, gamma='auto', kernel='poly')     Kernel: poly   \n45     SVC(C=101, gamma='auto', kernel='poly')     Kernel: poly   \n46     SVC(C=201, gamma='auto', kernel='poly')     Kernel: poly   \n47     SVC(C=301, gamma='auto', kernel='poly')     Kernel: poly   \n\n    mean_accuracy  mean_precision  mean_recall  \\\n0        0.660870        0.330435     0.500000   \n1        0.678261        0.589693     0.606012   \n2        0.739130        0.718262     0.706964   \n3        0.721739        0.687294     0.687381   \n4        0.652174        0.602928     0.566726   \n5        0.591304        0.562271     0.545179   \n6        0.600000        0.563346     0.557679   \n7        0.600000        0.563346     0.557679   \n8        0.695652        0.633937     0.627381   \n9        0.756522        0.741915     0.706429   \n10       0.739130        0.708838     0.693512   \n11       0.773913        0.763725     0.717976   \n12       0.678261        0.606687     0.628929   \n13       0.713043        0.677206     0.679345   \n14       0.721739        0.684734     0.691845   \n15       0.713043        0.677206     0.679345   \n16       0.678261        0.606687     0.628929   \n17       0.713043        0.677206     0.679345   \n18       0.721739        0.684734     0.691845   \n19       0.713043        0.677206     0.679345   \n20       0.678261        0.606687     0.628929   \n21       0.713043        0.677206     0.679345   \n22       0.721739        0.684734     0.691845   \n23       0.713043        0.677206     0.679345   \n24       0.660870        0.330435     0.500000   \n25       0.747826        0.729896     0.713631   \n26       0.704348        0.669332     0.674048   \n27       0.704348        0.667275     0.666429   \n28       0.678261        0.597240     0.604226   \n29       0.600000        0.552946     0.552679   \n30       0.600000        0.552946     0.552679   \n31       0.600000        0.552946     0.552679   \n32       0.695652        0.695905     0.631012   \n33       0.600000        0.549621     0.552262   \n34       0.600000        0.549621     0.552262   \n35       0.600000        0.549621     0.552262   \n36       0.660870        0.330435     0.500000   \n37       0.660870        0.330435     0.500000   \n38       0.660870        0.330435     0.500000   \n39       0.660870        0.330435     0.500000   \n40       0.643478        0.599483     0.595476   \n41       0.626087        0.589063     0.584345   \n42       0.626087        0.589063     0.584345   \n43       0.626087        0.589063     0.584345   \n44       0.660870        0.330435     0.500000   \n45       0.626087        0.589976     0.590179   \n46       0.626087        0.589063     0.584345   \n47       0.626087        0.589063     0.584345   \n\n                                           accuracy  \\\n0   m: 0.6608695652173914 std: 0.017391304347826077   \n1   m: 0.6782608695652174 std: 0.034782608695652154   \n2    m: 0.7391304347826086 std: 0.07275304578557179   \n3    m: 0.7217391304347827 std: 0.07064381221422575   \n4     m: 0.6521739130434783 std: 0.0727530457855718   \n5    m: 0.5913043478260869 std: 0.13072431633367743   \n6     m: 0.5999999999999999 std: 0.1179535649239177   \n7     m: 0.5999999999999999 std: 0.1179535649239177   \n8   m: 0.6956521739130436 std: 0.047628048478710105   \n9    m: 0.7565217391304347 std: 0.11536086227323131   \n10    m: 0.7391304347826086 std: 0.1198612934964367   \n11    m: 0.773913043478261 std: 0.08430747578115354   \n12   m: 0.6782608695652175 std: 0.10506996498777889   \n13   m: 0.7130434782608697 std: 0.11203564110195761   \n14    m: 0.7217391304347827 std: 0.1217391304347826   \n15   m: 0.7130434782608697 std: 0.11203564110195761   \n16   m: 0.6782608695652175 std: 0.10506996498777889   \n17   m: 0.7130434782608697 std: 0.11203564110195761   \n18    m: 0.7217391304347827 std: 0.1217391304347826   \n19   m: 0.7130434782608697 std: 0.11203564110195761   \n20   m: 0.6782608695652175 std: 0.10506996498777889   \n21   m: 0.7130434782608697 std: 0.11203564110195761   \n22    m: 0.7217391304347827 std: 0.1217391304347826   \n23   m: 0.7130434782608697 std: 0.11203564110195761   \n24  m: 0.6608695652173914 std: 0.017391304347826077   \n25   m: 0.7478260869565216 std: 0.06389973242043073   \n26   m: 0.7043478260869566 std: 0.08867860023639625   \n27   m: 0.7043478260869567 std: 0.07480282840906631   \n28   m: 0.6782608695652174 std: 0.05897678246195885   \n29   m: 0.5999999999999999 std: 0.08430747578115352   \n30   m: 0.5999999999999999 std: 0.08430747578115352   \n31   m: 0.5999999999999999 std: 0.08430747578115352   \n32  m: 0.6956521739130433 std: 0.038888138739126756   \n33   m: 0.5999999999999999 std: 0.08867860023639625   \n34   m: 0.5999999999999999 std: 0.08867860023639625   \n35   m: 0.5999999999999999 std: 0.08867860023639625   \n36  m: 0.6608695652173914 std: 0.017391304347826077   \n37  m: 0.6608695652173914 std: 0.017391304347826077   \n38  m: 0.6608695652173914 std: 0.017391304347826077   \n39  m: 0.6608695652173914 std: 0.017391304347826077   \n40   m: 0.6434782608695653 std: 0.06956521739130433   \n41   m: 0.6260869565217391 std: 0.05897678246195884   \n42   m: 0.6260869565217391 std: 0.05897678246195884   \n43   m: 0.6260869565217391 std: 0.05897678246195884   \n44  m: 0.6608695652173914 std: 0.017391304347826077   \n45   m: 0.6260869565217391 std: 0.08064016083039745   \n46   m: 0.6260869565217391 std: 0.05897678246195884   \n47   m: 0.6260869565217391 std: 0.05897678246195884   \n\n                                          precision  \\\n0   m: 0.3304347826086957 std: 0.008695652173913038   \n1    m: 0.5896934570342836 std: 0.14172111156098502   \n2    m: 0.7182623448103325 std: 0.08439054982659913   \n3    m: 0.6872936867054513 std: 0.08378548701141678   \n4    m: 0.6029281537176274 std: 0.15030365697540057   \n5      m: 0.5622710622710623 std: 0.136185887506513   \n6    m: 0.5633455433455433 std: 0.12485848188201817   \n7    m: 0.5633455433455433 std: 0.12485848188201817   \n8    m: 0.6339369397297786 std: 0.17864363771642802   \n9    m: 0.7419148361098825 std: 0.14954586301740702   \n10   m: 0.7088377051225349 std: 0.16954556828883016   \n11   m: 0.7637254901960784 std: 0.10712595754750129   \n12    m: 0.606686507936508 std: 0.17316847882467817   \n13    m: 0.6772064210299503 std: 0.1509421632122301   \n14    m: 0.6847344322344322 std: 0.1590190765437665   \n15    m: 0.6772064210299503 std: 0.1509421632122301   \n16    m: 0.606686507936508 std: 0.17316847882467817   \n17    m: 0.6772064210299503 std: 0.1509421632122301   \n18    m: 0.6847344322344322 std: 0.1590190765437665   \n19    m: 0.6772064210299503 std: 0.1509421632122301   \n20    m: 0.606686507936508 std: 0.17316847882467817   \n21    m: 0.6772064210299503 std: 0.1509421632122301   \n22    m: 0.6847344322344322 std: 0.1590190765437665   \n23    m: 0.6772064210299503 std: 0.1509421632122301   \n24  m: 0.3304347826086957 std: 0.008695652173913038   \n25    m: 0.729896331738437 std: 0.07056821931586686   \n26   m: 0.6693315018315019 std: 0.10263663443795241   \n27   m: 0.6672747432306256 std: 0.08664796866573167   \n28   m: 0.5972404719463544 std: 0.15429389530701013   \n29   m: 0.5529456327985739 std: 0.11212156140042912   \n30   m: 0.5529456327985739 std: 0.11212156140042912   \n31   m: 0.5529456327985739 std: 0.11212156140042912   \n32   m: 0.6959046371585071 std: 0.09598029787354305   \n33   m: 0.5496212121212121 std: 0.11872337726026155   \n34   m: 0.5496212121212121 std: 0.11872337726026155   \n35   m: 0.5496212121212121 std: 0.11872337726026155   \n36  m: 0.3304347826086957 std: 0.008695652173913038   \n37  m: 0.3304347826086957 std: 0.008695652173913038   \n38  m: 0.3304347826086957 std: 0.008695652173913038   \n39  m: 0.3304347826086957 std: 0.008695652173913038   \n40   m: 0.5994826007326008 std: 0.08354522205523666   \n41    m: 0.5890625795772854 std: 0.0715004745964195   \n42    m: 0.5890625795772854 std: 0.0715004745964195   \n43    m: 0.5890625795772854 std: 0.0715004745964195   \n44  m: 0.3304347826086957 std: 0.008695652173913038   \n45    m: 0.589976445123504 std: 0.09652329802283476   \n46    m: 0.5890625795772854 std: 0.0715004745964195   \n47    m: 0.5890625795772854 std: 0.0715004745964195   \n\n                                             recall  \n0                                   m: 0.5 std: 0.0  \n1     m: 0.6060119047619048 std: 0.0681838417895262  \n2    m: 0.7069642857142858 std: 0.10141879004926399  \n3     m: 0.6873809523809524 std: 0.0994780881535011  \n4      m: 0.5667261904761904 std: 0.083044226394223  \n5      m: 0.5451785714285714 std: 0.131719129735669  \n6    m: 0.5576785714285715 std: 0.12504851666163172  \n7    m: 0.5576785714285715 std: 0.12504851666163172  \n8    m: 0.6273809523809524 std: 0.08294467188496384  \n9     m: 0.7064285714285715 std: 0.1290134597207425  \n10   m: 0.6935119047619047 std: 0.13826708314410605  \n11    m: 0.7179761904761905 std: 0.0988270208260447  \n12   m: 0.6289285714285714 std: 0.14232420433054244  \n13   m: 0.6793452380952382 std: 0.13390735281649774  \n14   m: 0.6918452380952382 std: 0.14509209093747225  \n15   m: 0.6793452380952382 std: 0.13390735281649774  \n16   m: 0.6289285714285714 std: 0.14232420433054244  \n17   m: 0.6793452380952382 std: 0.13390735281649774  \n18   m: 0.6918452380952382 std: 0.14509209093747225  \n19   m: 0.6793452380952382 std: 0.13390735281649774  \n20   m: 0.6289285714285714 std: 0.14232420433054244  \n21   m: 0.6793452380952382 std: 0.13390735281649774  \n22   m: 0.6918452380952382 std: 0.14509209093747225  \n23   m: 0.6793452380952382 std: 0.13390735281649774  \n24                                  m: 0.5 std: 0.0  \n25   m: 0.7136309523809524 std: 0.09418434907126196  \n26   m: 0.6740476190476191 std: 0.11325214679128369  \n27   m: 0.6664285714285714 std: 0.09333561100233467  \n28   m: 0.6042261904761905 std: 0.08094196361543808  \n29   m: 0.5526785714285715 std: 0.10079509591514967  \n30   m: 0.5526785714285715 std: 0.10079509591514967  \n31   m: 0.5526785714285715 std: 0.10079509591514967  \n32  m: 0.6310119047619047 std: 0.042993500009697996  \n33   m: 0.5522619047619048 std: 0.10962430689464599  \n34   m: 0.5522619047619048 std: 0.10962430689464599  \n35   m: 0.5522619047619048 std: 0.10962430689464599  \n36                                  m: 0.5 std: 0.0  \n37                                  m: 0.5 std: 0.0  \n38                                  m: 0.5 std: 0.0  \n39                                  m: 0.5 std: 0.0  \n40    m: 0.5954761904761905 std: 0.0787332388670397  \n41   m: 0.5843452380952381 std: 0.06509401451457411  \n42   m: 0.5843452380952381 std: 0.06509401451457411  \n43   m: 0.5843452380952381 std: 0.06509401451457411  \n44                                  m: 0.5 std: 0.0  \n45   m: 0.5901785714285714 std: 0.09204698469961009  \n46   m: 0.5843452380952381 std: 0.06509401451457411  \n47   m: 0.5843452380952381 std: 0.06509401451457411  ",
      "text/html": "<div>\n<style scoped>\n    .dataframe tbody tr th:only-of-type {\n        vertical-align: middle;\n    }\n\n    .dataframe tbody tr th {\n        vertical-align: top;\n    }\n\n    .dataframe thead th {\n        text-align: right;\n    }\n</style>\n<table border=\"1\" class=\"dataframe\">\n  <thead>\n    <tr style=\"text-align: right;\">\n      <th></th>\n      <th>classifier</th>\n      <th>arguments</th>\n      <th>mean_accuracy</th>\n      <th>mean_precision</th>\n      <th>mean_recall</th>\n      <th>accuracy</th>\n      <th>precision</th>\n      <th>recall</th>\n    </tr>\n  </thead>\n  <tbody>\n    <tr>\n      <th>0</th>\n      <td>SVC(C=1, gamma=0.001, kernel='sigmoid')</td>\n      <td>Kernel: sigmoid</td>\n      <td>0.660870</td>\n      <td>0.330435</td>\n      <td>0.500000</td>\n      <td>m: 0.6608695652173914 std: 0.017391304347826077</td>\n      <td>m: 0.3304347826086957 std: 0.008695652173913038</td>\n      <td>m: 0.5 std: 0.0</td>\n    </tr>\n    <tr>\n      <th>1</th>\n      <td>SVC(C=101, gamma=0.001, kernel='sigmoid')</td>\n      <td>Kernel: sigmoid</td>\n      <td>0.678261</td>\n      <td>0.589693</td>\n      <td>0.606012</td>\n      <td>m: 0.6782608695652174 std: 0.034782608695652154</td>\n      <td>m: 0.5896934570342836 std: 0.14172111156098502</td>\n      <td>m: 0.6060119047619048 std: 0.0681838417895262</td>\n    </tr>\n    <tr>\n      <th>2</th>\n      <td>SVC(C=201, gamma=0.001, kernel='sigmoid')</td>\n      <td>Kernel: sigmoid</td>\n      <td>0.739130</td>\n      <td>0.718262</td>\n      <td>0.706964</td>\n      <td>m: 0.7391304347826086 std: 0.07275304578557179</td>\n      <td>m: 0.7182623448103325 std: 0.08439054982659913</td>\n      <td>m: 0.7069642857142858 std: 0.10141879004926399</td>\n    </tr>\n    <tr>\n      <th>3</th>\n      <td>SVC(C=301, gamma=0.001, kernel='sigmoid')</td>\n      <td>Kernel: sigmoid</td>\n      <td>0.721739</td>\n      <td>0.687294</td>\n      <td>0.687381</td>\n      <td>m: 0.7217391304347827 std: 0.07064381221422575</td>\n      <td>m: 0.6872936867054513 std: 0.08378548701141678</td>\n      <td>m: 0.6873809523809524 std: 0.0994780881535011</td>\n    </tr>\n    <tr>\n      <th>4</th>\n      <td>SVC(C=1, kernel='sigmoid')</td>\n      <td>Kernel: sigmoid</td>\n      <td>0.652174</td>\n      <td>0.602928</td>\n      <td>0.566726</td>\n      <td>m: 0.6521739130434783 std: 0.0727530457855718</td>\n      <td>m: 0.6029281537176274 std: 0.15030365697540057</td>\n      <td>m: 0.5667261904761904 std: 0.083044226394223</td>\n    </tr>\n    <tr>\n      <th>5</th>\n      <td>SVC(C=101, kernel='sigmoid')</td>\n      <td>Kernel: sigmoid</td>\n      <td>0.591304</td>\n      <td>0.562271</td>\n      <td>0.545179</td>\n      <td>m: 0.5913043478260869 std: 0.13072431633367743</td>\n      <td>m: 0.5622710622710623 std: 0.136185887506513</td>\n      <td>m: 0.5451785714285714 std: 0.131719129735669</td>\n    </tr>\n    <tr>\n      <th>6</th>\n      <td>SVC(C=201, kernel='sigmoid')</td>\n      <td>Kernel: sigmoid</td>\n      <td>0.600000</td>\n      <td>0.563346</td>\n      <td>0.557679</td>\n      <td>m: 0.5999999999999999 std: 0.1179535649239177</td>\n      <td>m: 0.5633455433455433 std: 0.12485848188201817</td>\n      <td>m: 0.5576785714285715 std: 0.12504851666163172</td>\n    </tr>\n    <tr>\n      <th>7</th>\n      <td>SVC(C=301, kernel='sigmoid')</td>\n      <td>Kernel: sigmoid</td>\n      <td>0.600000</td>\n      <td>0.563346</td>\n      <td>0.557679</td>\n      <td>m: 0.5999999999999999 std: 0.1179535649239177</td>\n      <td>m: 0.5633455433455433 std: 0.12485848188201817</td>\n      <td>m: 0.5576785714285715 std: 0.12504851666163172</td>\n    </tr>\n    <tr>\n      <th>8</th>\n      <td>SVC(C=1, gamma='auto', kernel='sigmoid')</td>\n      <td>Kernel: sigmoid</td>\n      <td>0.695652</td>\n      <td>0.633937</td>\n      <td>0.627381</td>\n      <td>m: 0.6956521739130436 std: 0.047628048478710105</td>\n      <td>m: 0.6339369397297786 std: 0.17864363771642802</td>\n      <td>m: 0.6273809523809524 std: 0.08294467188496384</td>\n    </tr>\n    <tr>\n      <th>9</th>\n      <td>SVC(C=101, gamma='auto', kernel='sigmoid')</td>\n      <td>Kernel: sigmoid</td>\n      <td>0.756522</td>\n      <td>0.741915</td>\n      <td>0.706429</td>\n      <td>m: 0.7565217391304347 std: 0.11536086227323131</td>\n      <td>m: 0.7419148361098825 std: 0.14954586301740702</td>\n      <td>m: 0.7064285714285715 std: 0.1290134597207425</td>\n    </tr>\n    <tr>\n      <th>10</th>\n      <td>SVC(C=201, gamma='auto', kernel='sigmoid')</td>\n      <td>Kernel: sigmoid</td>\n      <td>0.739130</td>\n      <td>0.708838</td>\n      <td>0.693512</td>\n      <td>m: 0.7391304347826086 std: 0.1198612934964367</td>\n      <td>m: 0.7088377051225349 std: 0.16954556828883016</td>\n      <td>m: 0.6935119047619047 std: 0.13826708314410605</td>\n    </tr>\n    <tr>\n      <th>11</th>\n      <td>SVC(C=301, gamma='auto', kernel='sigmoid')</td>\n      <td>Kernel: sigmoid</td>\n      <td>0.773913</td>\n      <td>0.763725</td>\n      <td>0.717976</td>\n      <td>m: 0.773913043478261 std: 0.08430747578115354</td>\n      <td>m: 0.7637254901960784 std: 0.10712595754750129</td>\n      <td>m: 0.7179761904761905 std: 0.0988270208260447</td>\n    </tr>\n    <tr>\n      <th>12</th>\n      <td>SVC(C=1, gamma=0.001, kernel='linear')</td>\n      <td>Kernel: linear</td>\n      <td>0.678261</td>\n      <td>0.606687</td>\n      <td>0.628929</td>\n      <td>m: 0.6782608695652175 std: 0.10506996498777889</td>\n      <td>m: 0.606686507936508 std: 0.17316847882467817</td>\n      <td>m: 0.6289285714285714 std: 0.14232420433054244</td>\n    </tr>\n    <tr>\n      <th>13</th>\n      <td>SVC(C=101, gamma=0.001, kernel='linear')</td>\n      <td>Kernel: linear</td>\n      <td>0.713043</td>\n      <td>0.677206</td>\n      <td>0.679345</td>\n      <td>m: 0.7130434782608697 std: 0.11203564110195761</td>\n      <td>m: 0.6772064210299503 std: 0.1509421632122301</td>\n      <td>m: 0.6793452380952382 std: 0.13390735281649774</td>\n    </tr>\n    <tr>\n      <th>14</th>\n      <td>SVC(C=201, gamma=0.001, kernel='linear')</td>\n      <td>Kernel: linear</td>\n      <td>0.721739</td>\n      <td>0.684734</td>\n      <td>0.691845</td>\n      <td>m: 0.7217391304347827 std: 0.1217391304347826</td>\n      <td>m: 0.6847344322344322 std: 0.1590190765437665</td>\n      <td>m: 0.6918452380952382 std: 0.14509209093747225</td>\n    </tr>\n    <tr>\n      <th>15</th>\n      <td>SVC(C=301, gamma=0.001, kernel='linear')</td>\n      <td>Kernel: linear</td>\n      <td>0.713043</td>\n      <td>0.677206</td>\n      <td>0.679345</td>\n      <td>m: 0.7130434782608697 std: 0.11203564110195761</td>\n      <td>m: 0.6772064210299503 std: 0.1509421632122301</td>\n      <td>m: 0.6793452380952382 std: 0.13390735281649774</td>\n    </tr>\n    <tr>\n      <th>16</th>\n      <td>SVC(C=1, kernel='linear')</td>\n      <td>Kernel: linear</td>\n      <td>0.678261</td>\n      <td>0.606687</td>\n      <td>0.628929</td>\n      <td>m: 0.6782608695652175 std: 0.10506996498777889</td>\n      <td>m: 0.606686507936508 std: 0.17316847882467817</td>\n      <td>m: 0.6289285714285714 std: 0.14232420433054244</td>\n    </tr>\n    <tr>\n      <th>17</th>\n      <td>SVC(C=101, kernel='linear')</td>\n      <td>Kernel: linear</td>\n      <td>0.713043</td>\n      <td>0.677206</td>\n      <td>0.679345</td>\n      <td>m: 0.7130434782608697 std: 0.11203564110195761</td>\n      <td>m: 0.6772064210299503 std: 0.1509421632122301</td>\n      <td>m: 0.6793452380952382 std: 0.13390735281649774</td>\n    </tr>\n    <tr>\n      <th>18</th>\n      <td>SVC(C=201, kernel='linear')</td>\n      <td>Kernel: linear</td>\n      <td>0.721739</td>\n      <td>0.684734</td>\n      <td>0.691845</td>\n      <td>m: 0.7217391304347827 std: 0.1217391304347826</td>\n      <td>m: 0.6847344322344322 std: 0.1590190765437665</td>\n      <td>m: 0.6918452380952382 std: 0.14509209093747225</td>\n    </tr>\n    <tr>\n      <th>19</th>\n      <td>SVC(C=301, kernel='linear')</td>\n      <td>Kernel: linear</td>\n      <td>0.713043</td>\n      <td>0.677206</td>\n      <td>0.679345</td>\n      <td>m: 0.7130434782608697 std: 0.11203564110195761</td>\n      <td>m: 0.6772064210299503 std: 0.1509421632122301</td>\n      <td>m: 0.6793452380952382 std: 0.13390735281649774</td>\n    </tr>\n    <tr>\n      <th>20</th>\n      <td>SVC(C=1, gamma='auto', kernel='linear')</td>\n      <td>Kernel: linear</td>\n      <td>0.678261</td>\n      <td>0.606687</td>\n      <td>0.628929</td>\n      <td>m: 0.6782608695652175 std: 0.10506996498777889</td>\n      <td>m: 0.606686507936508 std: 0.17316847882467817</td>\n      <td>m: 0.6289285714285714 std: 0.14232420433054244</td>\n    </tr>\n    <tr>\n      <th>21</th>\n      <td>SVC(C=101, gamma='auto', kernel='linear')</td>\n      <td>Kernel: linear</td>\n      <td>0.713043</td>\n      <td>0.677206</td>\n      <td>0.679345</td>\n      <td>m: 0.7130434782608697 std: 0.11203564110195761</td>\n      <td>m: 0.6772064210299503 std: 0.1509421632122301</td>\n      <td>m: 0.6793452380952382 std: 0.13390735281649774</td>\n    </tr>\n    <tr>\n      <th>22</th>\n      <td>SVC(C=201, gamma='auto', kernel='linear')</td>\n      <td>Kernel: linear</td>\n      <td>0.721739</td>\n      <td>0.684734</td>\n      <td>0.691845</td>\n      <td>m: 0.7217391304347827 std: 0.1217391304347826</td>\n      <td>m: 0.6847344322344322 std: 0.1590190765437665</td>\n      <td>m: 0.6918452380952382 std: 0.14509209093747225</td>\n    </tr>\n    <tr>\n      <th>23</th>\n      <td>SVC(C=301, gamma='auto', kernel='linear')</td>\n      <td>Kernel: linear</td>\n      <td>0.713043</td>\n      <td>0.677206</td>\n      <td>0.679345</td>\n      <td>m: 0.7130434782608697 std: 0.11203564110195761</td>\n      <td>m: 0.6772064210299503 std: 0.1509421632122301</td>\n      <td>m: 0.6793452380952382 std: 0.13390735281649774</td>\n    </tr>\n    <tr>\n      <th>24</th>\n      <td>SVC(C=1, gamma=0.001)</td>\n      <td>Kernel: rbf</td>\n      <td>0.660870</td>\n      <td>0.330435</td>\n      <td>0.500000</td>\n      <td>m: 0.6608695652173914 std: 0.017391304347826077</td>\n      <td>m: 0.3304347826086957 std: 0.008695652173913038</td>\n      <td>m: 0.5 std: 0.0</td>\n    </tr>\n    <tr>\n      <th>25</th>\n      <td>SVC(C=101, gamma=0.001)</td>\n      <td>Kernel: rbf</td>\n      <td>0.747826</td>\n      <td>0.729896</td>\n      <td>0.713631</td>\n      <td>m: 0.7478260869565216 std: 0.06389973242043073</td>\n      <td>m: 0.729896331738437 std: 0.07056821931586686</td>\n      <td>m: 0.7136309523809524 std: 0.09418434907126196</td>\n    </tr>\n    <tr>\n      <th>26</th>\n      <td>SVC(C=201, gamma=0.001)</td>\n      <td>Kernel: rbf</td>\n      <td>0.704348</td>\n      <td>0.669332</td>\n      <td>0.674048</td>\n      <td>m: 0.7043478260869566 std: 0.08867860023639625</td>\n      <td>m: 0.6693315018315019 std: 0.10263663443795241</td>\n      <td>m: 0.6740476190476191 std: 0.11325214679128369</td>\n    </tr>\n    <tr>\n      <th>27</th>\n      <td>SVC(C=301, gamma=0.001)</td>\n      <td>Kernel: rbf</td>\n      <td>0.704348</td>\n      <td>0.667275</td>\n      <td>0.666429</td>\n      <td>m: 0.7043478260869567 std: 0.07480282840906631</td>\n      <td>m: 0.6672747432306256 std: 0.08664796866573167</td>\n      <td>m: 0.6664285714285714 std: 0.09333561100233467</td>\n    </tr>\n    <tr>\n      <th>28</th>\n      <td>SVC(C=1)</td>\n      <td>Kernel: rbf</td>\n      <td>0.678261</td>\n      <td>0.597240</td>\n      <td>0.604226</td>\n      <td>m: 0.6782608695652174 std: 0.05897678246195885</td>\n      <td>m: 0.5972404719463544 std: 0.15429389530701013</td>\n      <td>m: 0.6042261904761905 std: 0.08094196361543808</td>\n    </tr>\n    <tr>\n      <th>29</th>\n      <td>SVC(C=101)</td>\n      <td>Kernel: rbf</td>\n      <td>0.600000</td>\n      <td>0.552946</td>\n      <td>0.552679</td>\n      <td>m: 0.5999999999999999 std: 0.08430747578115352</td>\n      <td>m: 0.5529456327985739 std: 0.11212156140042912</td>\n      <td>m: 0.5526785714285715 std: 0.10079509591514967</td>\n    </tr>\n    <tr>\n      <th>30</th>\n      <td>SVC(C=201)</td>\n      <td>Kernel: rbf</td>\n      <td>0.600000</td>\n      <td>0.552946</td>\n      <td>0.552679</td>\n      <td>m: 0.5999999999999999 std: 0.08430747578115352</td>\n      <td>m: 0.5529456327985739 std: 0.11212156140042912</td>\n      <td>m: 0.5526785714285715 std: 0.10079509591514967</td>\n    </tr>\n    <tr>\n      <th>31</th>\n      <td>SVC(C=301)</td>\n      <td>Kernel: rbf</td>\n      <td>0.600000</td>\n      <td>0.552946</td>\n      <td>0.552679</td>\n      <td>m: 0.5999999999999999 std: 0.08430747578115352</td>\n      <td>m: 0.5529456327985739 std: 0.11212156140042912</td>\n      <td>m: 0.5526785714285715 std: 0.10079509591514967</td>\n    </tr>\n    <tr>\n      <th>32</th>\n      <td>SVC(C=1, gamma='auto')</td>\n      <td>Kernel: rbf</td>\n      <td>0.695652</td>\n      <td>0.695905</td>\n      <td>0.631012</td>\n      <td>m: 0.6956521739130433 std: 0.038888138739126756</td>\n      <td>m: 0.6959046371585071 std: 0.09598029787354305</td>\n      <td>m: 0.6310119047619047 std: 0.042993500009697996</td>\n    </tr>\n    <tr>\n      <th>33</th>\n      <td>SVC(C=101, gamma='auto')</td>\n      <td>Kernel: rbf</td>\n      <td>0.600000</td>\n      <td>0.549621</td>\n      <td>0.552262</td>\n      <td>m: 0.5999999999999999 std: 0.08867860023639625</td>\n      <td>m: 0.5496212121212121 std: 0.11872337726026155</td>\n      <td>m: 0.5522619047619048 std: 0.10962430689464599</td>\n    </tr>\n    <tr>\n      <th>34</th>\n      <td>SVC(C=201, gamma='auto')</td>\n      <td>Kernel: rbf</td>\n      <td>0.600000</td>\n      <td>0.549621</td>\n      <td>0.552262</td>\n      <td>m: 0.5999999999999999 std: 0.08867860023639625</td>\n      <td>m: 0.5496212121212121 std: 0.11872337726026155</td>\n      <td>m: 0.5522619047619048 std: 0.10962430689464599</td>\n    </tr>\n    <tr>\n      <th>35</th>\n      <td>SVC(C=301, gamma='auto')</td>\n      <td>Kernel: rbf</td>\n      <td>0.600000</td>\n      <td>0.549621</td>\n      <td>0.552262</td>\n      <td>m: 0.5999999999999999 std: 0.08867860023639625</td>\n      <td>m: 0.5496212121212121 std: 0.11872337726026155</td>\n      <td>m: 0.5522619047619048 std: 0.10962430689464599</td>\n    </tr>\n    <tr>\n      <th>36</th>\n      <td>SVC(C=1, gamma=0.001, kernel='poly')</td>\n      <td>Kernel: poly</td>\n      <td>0.660870</td>\n      <td>0.330435</td>\n      <td>0.500000</td>\n      <td>m: 0.6608695652173914 std: 0.017391304347826077</td>\n      <td>m: 0.3304347826086957 std: 0.008695652173913038</td>\n      <td>m: 0.5 std: 0.0</td>\n    </tr>\n    <tr>\n      <th>37</th>\n      <td>SVC(C=101, gamma=0.001, kernel='poly')</td>\n      <td>Kernel: poly</td>\n      <td>0.660870</td>\n      <td>0.330435</td>\n      <td>0.500000</td>\n      <td>m: 0.6608695652173914 std: 0.017391304347826077</td>\n      <td>m: 0.3304347826086957 std: 0.008695652173913038</td>\n      <td>m: 0.5 std: 0.0</td>\n    </tr>\n    <tr>\n      <th>38</th>\n      <td>SVC(C=201, gamma=0.001, kernel='poly')</td>\n      <td>Kernel: poly</td>\n      <td>0.660870</td>\n      <td>0.330435</td>\n      <td>0.500000</td>\n      <td>m: 0.6608695652173914 std: 0.017391304347826077</td>\n      <td>m: 0.3304347826086957 std: 0.008695652173913038</td>\n      <td>m: 0.5 std: 0.0</td>\n    </tr>\n    <tr>\n      <th>39</th>\n      <td>SVC(C=301, gamma=0.001, kernel='poly')</td>\n      <td>Kernel: poly</td>\n      <td>0.660870</td>\n      <td>0.330435</td>\n      <td>0.500000</td>\n      <td>m: 0.6608695652173914 std: 0.017391304347826077</td>\n      <td>m: 0.3304347826086957 std: 0.008695652173913038</td>\n      <td>m: 0.5 std: 0.0</td>\n    </tr>\n    <tr>\n      <th>40</th>\n      <td>SVC(C=1, kernel='poly')</td>\n      <td>Kernel: poly</td>\n      <td>0.643478</td>\n      <td>0.599483</td>\n      <td>0.595476</td>\n      <td>m: 0.6434782608695653 std: 0.06956521739130433</td>\n      <td>m: 0.5994826007326008 std: 0.08354522205523666</td>\n      <td>m: 0.5954761904761905 std: 0.0787332388670397</td>\n    </tr>\n    <tr>\n      <th>41</th>\n      <td>SVC(C=101, kernel='poly')</td>\n      <td>Kernel: poly</td>\n      <td>0.626087</td>\n      <td>0.589063</td>\n      <td>0.584345</td>\n      <td>m: 0.6260869565217391 std: 0.05897678246195884</td>\n      <td>m: 0.5890625795772854 std: 0.0715004745964195</td>\n      <td>m: 0.5843452380952381 std: 0.06509401451457411</td>\n    </tr>\n    <tr>\n      <th>42</th>\n      <td>SVC(C=201, kernel='poly')</td>\n      <td>Kernel: poly</td>\n      <td>0.626087</td>\n      <td>0.589063</td>\n      <td>0.584345</td>\n      <td>m: 0.6260869565217391 std: 0.05897678246195884</td>\n      <td>m: 0.5890625795772854 std: 0.0715004745964195</td>\n      <td>m: 0.5843452380952381 std: 0.06509401451457411</td>\n    </tr>\n    <tr>\n      <th>43</th>\n      <td>SVC(C=301, kernel='poly')</td>\n      <td>Kernel: poly</td>\n      <td>0.626087</td>\n      <td>0.589063</td>\n      <td>0.584345</td>\n      <td>m: 0.6260869565217391 std: 0.05897678246195884</td>\n      <td>m: 0.5890625795772854 std: 0.0715004745964195</td>\n      <td>m: 0.5843452380952381 std: 0.06509401451457411</td>\n    </tr>\n    <tr>\n      <th>44</th>\n      <td>SVC(C=1, gamma='auto', kernel='poly')</td>\n      <td>Kernel: poly</td>\n      <td>0.660870</td>\n      <td>0.330435</td>\n      <td>0.500000</td>\n      <td>m: 0.6608695652173914 std: 0.017391304347826077</td>\n      <td>m: 0.3304347826086957 std: 0.008695652173913038</td>\n      <td>m: 0.5 std: 0.0</td>\n    </tr>\n    <tr>\n      <th>45</th>\n      <td>SVC(C=101, gamma='auto', kernel='poly')</td>\n      <td>Kernel: poly</td>\n      <td>0.626087</td>\n      <td>0.589976</td>\n      <td>0.590179</td>\n      <td>m: 0.6260869565217391 std: 0.08064016083039745</td>\n      <td>m: 0.589976445123504 std: 0.09652329802283476</td>\n      <td>m: 0.5901785714285714 std: 0.09204698469961009</td>\n    </tr>\n    <tr>\n      <th>46</th>\n      <td>SVC(C=201, gamma='auto', kernel='poly')</td>\n      <td>Kernel: poly</td>\n      <td>0.626087</td>\n      <td>0.589063</td>\n      <td>0.584345</td>\n      <td>m: 0.6260869565217391 std: 0.05897678246195884</td>\n      <td>m: 0.5890625795772854 std: 0.0715004745964195</td>\n      <td>m: 0.5843452380952381 std: 0.06509401451457411</td>\n    </tr>\n    <tr>\n      <th>47</th>\n      <td>SVC(C=301, gamma='auto', kernel='poly')</td>\n      <td>Kernel: poly</td>\n      <td>0.626087</td>\n      <td>0.589063</td>\n      <td>0.584345</td>\n      <td>m: 0.6260869565217391 std: 0.05897678246195884</td>\n      <td>m: 0.5890625795772854 std: 0.0715004745964195</td>\n      <td>m: 0.5843452380952381 std: 0.06509401451457411</td>\n    </tr>\n  </tbody>\n</table>\n</div>"
     },
     "metadata": {},
     "output_type": "display_data"
    },
    {
     "data": {
      "text/plain": "classifier            SVC(C=301, gamma='auto', kernel='sigmoid')\narguments                                        Kernel: sigmoid\nmean_accuracy                                           0.773913\nmean_precision                                          0.763725\nmean_recall                                             0.717976\naccuracy           m: 0.773913043478261 std: 0.08430747578115354\nprecision         m: 0.7637254901960784 std: 0.10712595754750129\nrecall             m: 0.7179761904761905 std: 0.0988270208260447\nName: 11, dtype: object"
     },
     "metadata": {},
     "output_type": "display_data"
    }
   ],
   "source": [
    "from sklearn import svm\n",
    "import itertools\n",
    "\n",
    "# Parameters for the decision tree\n",
    "kernels = {\"linear\", \"poly\", \"sigmoid\", \"rbf\"}\n",
    "gamma = [0.001]#numpy.arange(0.001, 1., 0.1)\n",
    "gamma.append (\"scale\")\n",
    "gamma.append (\"auto\")\n",
    "c = range(1, 302, 100)\n",
    "argumentTuples = list(itertools.product(kernels,\n",
    "                                        gamma,\n",
    "                                        c))\n",
    "\n",
    "svc_results = []\n",
    "\n",
    "for argumentTuple in argumentTuples:\n",
    "    kernel = argumentTuple[0]\n",
    "    gamma = argumentTuple[1]\n",
    "    c = argumentTuple[2]\n",
    "\n",
    "    classifier = svm.SVC(kernel = kernel, gamma=gamma, C=c)\n",
    "\n",
    "    #result = calculate_results_holdout(classifier, X_train, X_test, y_train, y_test)\n",
    "    result = calculate_results_cross_validate(classifier,\n",
    "                                              \"Kernel: \" + kernel,\n",
    "                                              votingDataLearn[votingDataLearn.columns[2:17]],\n",
    "                                              votingDataLearn[votingDataLearn.columns[1]])\n",
    "    svc_results.append(result)\n",
    "    overall_results.append(result)\n",
    "\n",
    "print_results(svc_results, \"mean_accuracy\")"
   ],
   "metadata": {
    "collapsed": false,
    "pycharm": {
     "name": "#%%\n"
    }
   }
  },
  {
   "cell_type": "markdown",
   "source": [
    "## Overall Results"
   ],
   "metadata": {
    "collapsed": false
   }
  },
  {
   "cell_type": "code",
   "execution_count": 8,
   "outputs": [
    {
     "data": {
      "text/plain": "'Results'"
     },
     "metadata": {},
     "output_type": "display_data"
    },
    {
     "data": {
      "text/plain": "                                 classifier     arguments  mean_accuracy  \\\n0       KNeighborsClassifier(n_neighbors=1)         N = 1       0.591304   \n1       KNeighborsClassifier(n_neighbors=2)         N = 2       0.678261   \n2       KNeighborsClassifier(n_neighbors=3)         N = 3       0.608696   \n3       KNeighborsClassifier(n_neighbors=4)         N = 4       0.660870   \n4                    KNeighborsClassifier()         N = 5       0.660870   \n..                                      ...           ...            ...   \n83                SVC(C=301, kernel='poly')  Kernel: poly       0.626087   \n84    SVC(C=1, gamma='auto', kernel='poly')  Kernel: poly       0.660870   \n85  SVC(C=101, gamma='auto', kernel='poly')  Kernel: poly       0.626087   \n86  SVC(C=201, gamma='auto', kernel='poly')  Kernel: poly       0.626087   \n87  SVC(C=301, gamma='auto', kernel='poly')  Kernel: poly       0.626087   \n\n    mean_precision  mean_recall  \\\n0         0.540594     0.538393   \n1         0.610393     0.578274   \n2         0.547284     0.543690   \n3         0.589899     0.582440   \n4         0.603157     0.588690   \n..             ...          ...   \n83        0.589063     0.584345   \n84        0.330435     0.500000   \n85        0.589976     0.590179   \n86        0.589063     0.584345   \n87        0.589063     0.584345   \n\n                                           accuracy  \\\n0     m: 0.591304347826087 std: 0.05897678246195886   \n1    m: 0.6782608695652173 std: 0.05897678246195885   \n2     m: 0.608695652173913 std: 0.07275304578557178   \n3    m: 0.6608695652173913 std: 0.08430747578115352   \n4    m: 0.6608695652173913 std: 0.05070392952039388   \n..                                              ...   \n83   m: 0.6260869565217391 std: 0.05897678246195884   \n84  m: 0.6608695652173914 std: 0.017391304347826077   \n85   m: 0.6260869565217391 std: 0.08064016083039745   \n86   m: 0.6260869565217391 std: 0.05897678246195884   \n87   m: 0.6260869565217391 std: 0.05897678246195884   \n\n                                          precision  \\\n0    m: 0.5405944055944055 std: 0.08137150458617437   \n1    m: 0.6103928939997051 std: 0.15449372546140622   \n2    m: 0.5472840802987862 std: 0.09930513533310184   \n3      m: 0.5898991965207134 std: 0.158902797566028   \n4     m: 0.603157096171802 std: 0.07833256543097623   \n..                                              ...   \n83    m: 0.5890625795772854 std: 0.0715004745964195   \n84  m: 0.3304347826086957 std: 0.008695652173913038   \n85    m: 0.589976445123504 std: 0.09652329802283476   \n86    m: 0.5890625795772854 std: 0.0715004745964195   \n87    m: 0.5890625795772854 std: 0.0715004745964195   \n\n                                            recall  \n0   m: 0.5383928571428572 std: 0.06301938387325104  \n1   m: 0.5782738095238095 std: 0.07604245293601514  \n2    m: 0.5436904761904763 std: 0.0816831511892668  \n3   m: 0.5824404761904762 std: 0.10085553811844443  \n4   m: 0.5886904761904763 std: 0.06293668307988201  \n..                                             ...  \n83  m: 0.5843452380952381 std: 0.06509401451457411  \n84                                 m: 0.5 std: 0.0  \n85  m: 0.5901785714285714 std: 0.09204698469961009  \n86  m: 0.5843452380952381 std: 0.06509401451457411  \n87  m: 0.5843452380952381 std: 0.06509401451457411  \n\n[88 rows x 8 columns]",
      "text/html": "<div>\n<style scoped>\n    .dataframe tbody tr th:only-of-type {\n        vertical-align: middle;\n    }\n\n    .dataframe tbody tr th {\n        vertical-align: top;\n    }\n\n    .dataframe thead th {\n        text-align: right;\n    }\n</style>\n<table border=\"1\" class=\"dataframe\">\n  <thead>\n    <tr style=\"text-align: right;\">\n      <th></th>\n      <th>classifier</th>\n      <th>arguments</th>\n      <th>mean_accuracy</th>\n      <th>mean_precision</th>\n      <th>mean_recall</th>\n      <th>accuracy</th>\n      <th>precision</th>\n      <th>recall</th>\n    </tr>\n  </thead>\n  <tbody>\n    <tr>\n      <th>0</th>\n      <td>KNeighborsClassifier(n_neighbors=1)</td>\n      <td>N = 1</td>\n      <td>0.591304</td>\n      <td>0.540594</td>\n      <td>0.538393</td>\n      <td>m: 0.591304347826087 std: 0.05897678246195886</td>\n      <td>m: 0.5405944055944055 std: 0.08137150458617437</td>\n      <td>m: 0.5383928571428572 std: 0.06301938387325104</td>\n    </tr>\n    <tr>\n      <th>1</th>\n      <td>KNeighborsClassifier(n_neighbors=2)</td>\n      <td>N = 2</td>\n      <td>0.678261</td>\n      <td>0.610393</td>\n      <td>0.578274</td>\n      <td>m: 0.6782608695652173 std: 0.05897678246195885</td>\n      <td>m: 0.6103928939997051 std: 0.15449372546140622</td>\n      <td>m: 0.5782738095238095 std: 0.07604245293601514</td>\n    </tr>\n    <tr>\n      <th>2</th>\n      <td>KNeighborsClassifier(n_neighbors=3)</td>\n      <td>N = 3</td>\n      <td>0.608696</td>\n      <td>0.547284</td>\n      <td>0.543690</td>\n      <td>m: 0.608695652173913 std: 0.07275304578557178</td>\n      <td>m: 0.5472840802987862 std: 0.09930513533310184</td>\n      <td>m: 0.5436904761904763 std: 0.0816831511892668</td>\n    </tr>\n    <tr>\n      <th>3</th>\n      <td>KNeighborsClassifier(n_neighbors=4)</td>\n      <td>N = 4</td>\n      <td>0.660870</td>\n      <td>0.589899</td>\n      <td>0.582440</td>\n      <td>m: 0.6608695652173913 std: 0.08430747578115352</td>\n      <td>m: 0.5898991965207134 std: 0.158902797566028</td>\n      <td>m: 0.5824404761904762 std: 0.10085553811844443</td>\n    </tr>\n    <tr>\n      <th>4</th>\n      <td>KNeighborsClassifier()</td>\n      <td>N = 5</td>\n      <td>0.660870</td>\n      <td>0.603157</td>\n      <td>0.588690</td>\n      <td>m: 0.6608695652173913 std: 0.05070392952039388</td>\n      <td>m: 0.603157096171802 std: 0.07833256543097623</td>\n      <td>m: 0.5886904761904763 std: 0.06293668307988201</td>\n    </tr>\n    <tr>\n      <th>...</th>\n      <td>...</td>\n      <td>...</td>\n      <td>...</td>\n      <td>...</td>\n      <td>...</td>\n      <td>...</td>\n      <td>...</td>\n      <td>...</td>\n    </tr>\n    <tr>\n      <th>83</th>\n      <td>SVC(C=301, kernel='poly')</td>\n      <td>Kernel: poly</td>\n      <td>0.626087</td>\n      <td>0.589063</td>\n      <td>0.584345</td>\n      <td>m: 0.6260869565217391 std: 0.05897678246195884</td>\n      <td>m: 0.5890625795772854 std: 0.0715004745964195</td>\n      <td>m: 0.5843452380952381 std: 0.06509401451457411</td>\n    </tr>\n    <tr>\n      <th>84</th>\n      <td>SVC(C=1, gamma='auto', kernel='poly')</td>\n      <td>Kernel: poly</td>\n      <td>0.660870</td>\n      <td>0.330435</td>\n      <td>0.500000</td>\n      <td>m: 0.6608695652173914 std: 0.017391304347826077</td>\n      <td>m: 0.3304347826086957 std: 0.008695652173913038</td>\n      <td>m: 0.5 std: 0.0</td>\n    </tr>\n    <tr>\n      <th>85</th>\n      <td>SVC(C=101, gamma='auto', kernel='poly')</td>\n      <td>Kernel: poly</td>\n      <td>0.626087</td>\n      <td>0.589976</td>\n      <td>0.590179</td>\n      <td>m: 0.6260869565217391 std: 0.08064016083039745</td>\n      <td>m: 0.589976445123504 std: 0.09652329802283476</td>\n      <td>m: 0.5901785714285714 std: 0.09204698469961009</td>\n    </tr>\n    <tr>\n      <th>86</th>\n      <td>SVC(C=201, gamma='auto', kernel='poly')</td>\n      <td>Kernel: poly</td>\n      <td>0.626087</td>\n      <td>0.589063</td>\n      <td>0.584345</td>\n      <td>m: 0.6260869565217391 std: 0.05897678246195884</td>\n      <td>m: 0.5890625795772854 std: 0.0715004745964195</td>\n      <td>m: 0.5843452380952381 std: 0.06509401451457411</td>\n    </tr>\n    <tr>\n      <th>87</th>\n      <td>SVC(C=301, gamma='auto', kernel='poly')</td>\n      <td>Kernel: poly</td>\n      <td>0.626087</td>\n      <td>0.589063</td>\n      <td>0.584345</td>\n      <td>m: 0.6260869565217391 std: 0.05897678246195884</td>\n      <td>m: 0.5890625795772854 std: 0.0715004745964195</td>\n      <td>m: 0.5843452380952381 std: 0.06509401451457411</td>\n    </tr>\n  </tbody>\n</table>\n<p>88 rows × 8 columns</p>\n</div>"
     },
     "metadata": {},
     "output_type": "display_data"
    },
    {
     "data": {
      "text/plain": "classifier            SVC(C=301, gamma='auto', kernel='sigmoid')\narguments                                        Kernel: sigmoid\nmean_accuracy                                           0.773913\nmean_precision                                          0.763725\nmean_recall                                             0.717976\naccuracy           m: 0.773913043478261 std: 0.08430747578115354\nprecision         m: 0.7637254901960784 std: 0.10712595754750129\nrecall             m: 0.7179761904761905 std: 0.0988270208260447\nName: 51, dtype: object"
     },
     "metadata": {},
     "output_type": "display_data"
    }
   ],
   "source": [
    "print_results(overall_results, \"mean_accuracy\")"
   ],
   "metadata": {
    "collapsed": false,
    "pycharm": {
     "name": "#%%\n"
    }
   }
  },
  {
   "cell_type": "markdown",
   "metadata": {
    "collapsed": true,
    "pycharm": {
     "name": "#%% md\n"
    }
   },
   "source": [
    "# Amazon"
   ]
  },
  {
   "cell_type": "code",
   "execution_count": 9,
   "metadata": {
    "pycharm": {
     "name": "#%%\n"
    }
   },
   "outputs": [],
   "source": [
    "amazonDataLearn = pd.read_csv(\"data/amazon/amazon_review_ID.shuf.lrn.csv\")\n",
    "amazonDataSolution = pd.read_csv(\"data/amazon/amazon_review_ID.shuf.sol.ex.csv\")\n",
    "amazonDataTest = pd.read_csv(\"data/amazon/amazon_review_ID.shuf.tes.csv\")"
   ]
  }
 ],
 "metadata": {
  "kernelspec": {
   "display_name": "Python 3",
   "language": "python",
   "name": "python3"
  },
  "language_info": {
   "codemirror_mode": {
    "name": "ipython",
    "version": 3
   },
   "file_extension": ".py",
   "mimetype": "text/x-python",
   "name": "python",
   "nbconvert_exporter": "python",
   "pygments_lexer": "ipython3",
   "version": "3.6.5"
  }
 },
 "nbformat": 4,
 "nbformat_minor": 1
}